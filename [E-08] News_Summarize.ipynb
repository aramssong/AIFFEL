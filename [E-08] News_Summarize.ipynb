{
 "cells": [
  {
   "cell_type": "markdown",
   "id": "66f33748",
   "metadata": {},
   "source": [
    "# Exp8. 뉴스기사 요약해보기\n"
   ]
  },
  {
   "cell_type": "markdown",
   "id": "32b05c50",
   "metadata": {},
   "source": [
    "# 🗼 목차\n",
    "## [추상적 요약]\n",
    "Step 0. 라이브러리 불러오기  \n",
    "\n",
    "Step 1. 데이터 수집하기   \n",
    "\n",
    "Step 2. 데이터 전처리하기    \n",
    "     2.1 데이터 정리하기  \n",
    "     2.2 훈련데이터, 테스트데이터 나누기  \n",
    "     2.3 정수 인코딩  \n",
    "     \n",
    "Step 3. 모델 설계 (훈련단계 모델)  \n",
    "     3.1 인코더(encoder) 설계  \n",
    "     3.2 디코더(decoder) 설계  \n",
    "     3.3 디코더의 출력층 설계  \n",
    "     3.4 어텐션 메커니즘  \n",
    "     \n",
    "Step 4. 모델 훈련하기  \n",
    "\n",
    "Step 5. 인퍼런스 모델 구현하기 (동작 모델)  \n",
    "\n",
    "Step 6. 모델 테스트  \n",
    "     6.1 정수 시퀀스를 텍스트 시퀀스로 변환  \n",
    "     6.2 실제 요약 vs 예측된 요약  \n",
    "     6.3 결과 정리  \n",
    "     6.4 각 시도 별 예측 요약 문장    \n",
    "     \n",
    "     \n",
    "## [추출적 요약]\n",
    "Step 0. 라이브러리 불러오기  \n",
    "Step 1. 데이터 불러오기  \n",
    "Step 2. 추출적 요약하기"
   ]
  },
  {
   "cell_type": "markdown",
   "id": "cb16212a",
   "metadata": {},
   "source": [
    "---\n",
    "---\n",
    "---"
   ]
  },
  {
   "cell_type": "markdown",
   "id": "1d09ea7a",
   "metadata": {},
   "source": [
    "# [추상적 요약]"
   ]
  },
  {
   "cell_type": "markdown",
   "id": "53995b9a",
   "metadata": {},
   "source": [
    "# Step 0. 라이브러리 불러오기"
   ]
  },
  {
   "cell_type": "code",
   "execution_count": 2,
   "id": "06bf8880",
   "metadata": {},
   "outputs": [
    {
     "name": "stderr",
     "output_type": "stream",
     "text": [
      "[nltk_data] Downloading package stopwords to /aiffel/nltk_data...\n",
      "[nltk_data]   Unzipping corpora/stopwords.zip.\n"
     ]
    },
    {
     "name": "stdout",
     "output_type": "stream",
     "text": [
      "=3\n"
     ]
    }
   ],
   "source": [
    "import nltk\n",
    "nltk.download('stopwords')\n",
    "\n",
    "import numpy as np\n",
    "import pandas as pd\n",
    "import os\n",
    "import re\n",
    "import matplotlib.pyplot as plt\n",
    "from nltk.corpus import stopwords\n",
    "from bs4 import BeautifulSoup \n",
    "from tensorflow.keras.preprocessing.text import Tokenizer \n",
    "from tensorflow.keras.preprocessing.sequence import pad_sequences\n",
    "import urllib.request\n",
    "import warnings\n",
    "warnings.filterwarnings(\"ignore\", category=UserWarning, module='bs4')\n",
    "\n",
    "print('=3')"
   ]
  },
  {
   "cell_type": "markdown",
   "id": "de94eb4f",
   "metadata": {},
   "source": [
    "---"
   ]
  },
  {
   "cell_type": "markdown",
   "id": "c2f6643d",
   "metadata": {},
   "source": [
    "# Step 1. 데이터 수집하기"
   ]
  },
  {
   "cell_type": "markdown",
   "id": "961d9685",
   "metadata": {},
   "source": [
    "## 1.1 데이터 다운로드"
   ]
  },
  {
   "cell_type": "markdown",
   "id": "4ea784ed",
   "metadata": {},
   "source": [
    "* [sunnysai12345/News_Summary](https://github.com/sunnysai12345/News_Summary)에서 데이터를 가져왔다."
   ]
  },
  {
   "cell_type": "code",
   "execution_count": 3,
   "id": "33491725",
   "metadata": {},
   "outputs": [],
   "source": [
    "import pandas as pd\n",
    "import urllib.request\n",
    "\n",
    "urllib.request.urlretrieve(\"https://raw.githubusercontent.com/sunnysai12345/News_Summary/master/news_summary_more.csv\", filename=\"news_summary_more.csv\")\n",
    "data = pd.read_csv('news_summary_more.csv', encoding='iso-8859-1')"
   ]
  },
  {
   "cell_type": "markdown",
   "id": "92f4203e",
   "metadata": {},
   "source": [
    "## 1.2 데이터 확인\n",
    "* 불러온 데이터는 **text, headlines**로 구성되어 있다.\n",
    "* 추상적 요약 : text를 본문, headlines를 이미 요약된 데이터로 삼아서 모델 학습이 가능하다.\n",
    "* 추출적 요약 : 오직 text열만을 사용하여 요약한다."
   ]
  },
  {
   "cell_type": "code",
   "execution_count": 80,
   "id": "bfaa78b6",
   "metadata": {
    "scrolled": false
   },
   "outputs": [
    {
     "data": {
      "text/html": [
       "<div>\n",
       "<style scoped>\n",
       "    .dataframe tbody tr th:only-of-type {\n",
       "        vertical-align: middle;\n",
       "    }\n",
       "\n",
       "    .dataframe tbody tr th {\n",
       "        vertical-align: top;\n",
       "    }\n",
       "\n",
       "    .dataframe thead th {\n",
       "        text-align: right;\n",
       "    }\n",
       "</style>\n",
       "<table border=\"1\" class=\"dataframe\">\n",
       "  <thead>\n",
       "    <tr style=\"text-align: right;\">\n",
       "      <th></th>\n",
       "      <th>headlines</th>\n",
       "      <th>text</th>\n",
       "      <th>decoder_input</th>\n",
       "      <th>decoder_target</th>\n",
       "    </tr>\n",
       "  </thead>\n",
       "  <tbody>\n",
       "    <tr>\n",
       "      <th>0</th>\n",
       "      <td>upgrad learner switches to career in ml al wit...</td>\n",
       "      <td>saurav kant alumnus upgrad iiit pg program mac...</td>\n",
       "      <td>sostoken upgrad learner switches to career in ...</td>\n",
       "      <td>upgrad learner switches to career in ml al wit...</td>\n",
       "    </tr>\n",
       "    <tr>\n",
       "      <th>1</th>\n",
       "      <td>delhi techie wins free food from swiggy for on...</td>\n",
       "      <td>kunal shah credit card bill payment platform c...</td>\n",
       "      <td>sostoken delhi techie wins free food from swig...</td>\n",
       "      <td>delhi techie wins free food from swiggy for on...</td>\n",
       "    </tr>\n",
       "    <tr>\n",
       "      <th>2</th>\n",
       "      <td>new zealand end rohit sharma led india match w...</td>\n",
       "      <td>new zealand defeated india wickets fourth odi ...</td>\n",
       "      <td>sostoken new zealand end rohit sharma led indi...</td>\n",
       "      <td>new zealand end rohit sharma led india match w...</td>\n",
       "    </tr>\n",
       "    <tr>\n",
       "      <th>3</th>\n",
       "      <td>aegon life iterm insurance plan helps customer...</td>\n",
       "      <td>aegon life iterm insurance plan customers enjo...</td>\n",
       "      <td>sostoken aegon life iterm insurance plan helps...</td>\n",
       "      <td>aegon life iterm insurance plan helps customer...</td>\n",
       "    </tr>\n",
       "    <tr>\n",
       "      <th>4</th>\n",
       "      <td>have known hirani for yrs what if metoo claims...</td>\n",
       "      <td>speaking sexual harassment allegations rajkuma...</td>\n",
       "      <td>sostoken have known hirani for yrs what if met...</td>\n",
       "      <td>have known hirani for yrs what if metoo claims...</td>\n",
       "    </tr>\n",
       "  </tbody>\n",
       "</table>\n",
       "</div>"
      ],
      "text/plain": [
       "                                           headlines  \\\n",
       "0  upgrad learner switches to career in ml al wit...   \n",
       "1  delhi techie wins free food from swiggy for on...   \n",
       "2  new zealand end rohit sharma led india match w...   \n",
       "3  aegon life iterm insurance plan helps customer...   \n",
       "4  have known hirani for yrs what if metoo claims...   \n",
       "\n",
       "                                                text  \\\n",
       "0  saurav kant alumnus upgrad iiit pg program mac...   \n",
       "1  kunal shah credit card bill payment platform c...   \n",
       "2  new zealand defeated india wickets fourth odi ...   \n",
       "3  aegon life iterm insurance plan customers enjo...   \n",
       "4  speaking sexual harassment allegations rajkuma...   \n",
       "\n",
       "                                       decoder_input  \\\n",
       "0  sostoken upgrad learner switches to career in ...   \n",
       "1  sostoken delhi techie wins free food from swig...   \n",
       "2  sostoken new zealand end rohit sharma led indi...   \n",
       "3  sostoken aegon life iterm insurance plan helps...   \n",
       "4  sostoken have known hirani for yrs what if met...   \n",
       "\n",
       "                                      decoder_target  \n",
       "0  upgrad learner switches to career in ml al wit...  \n",
       "1  delhi techie wins free food from swiggy for on...  \n",
       "2  new zealand end rohit sharma led india match w...  \n",
       "3  aegon life iterm insurance plan helps customer...  \n",
       "4  have known hirani for yrs what if metoo claims...  "
      ]
     },
     "execution_count": 80,
     "metadata": {},
     "output_type": "execute_result"
    }
   ],
   "source": [
    "data.head()"
   ]
  },
  {
   "cell_type": "code",
   "execution_count": 5,
   "id": "72c294e3",
   "metadata": {},
   "outputs": [
    {
     "name": "stdout",
     "output_type": "stream",
     "text": [
      "text의 개수 :  98401\n",
      "headlines의 개수 :  98401\n"
     ]
    }
   ],
   "source": [
    "print('text의 개수 : ', len(data['text']))\n",
    "print('headlines의 개수 : ', len(data['headlines']))"
   ]
  },
  {
   "cell_type": "markdown",
   "id": "84812c8b",
   "metadata": {},
   "source": [
    "---"
   ]
  },
  {
   "cell_type": "markdown",
   "id": "ca81159c",
   "metadata": {},
   "source": [
    "# Step 2. 데이터 전처리하기"
   ]
  },
  {
   "cell_type": "markdown",
   "id": "11d4e9c8",
   "metadata": {},
   "source": [
    "## 2.1 데이터 정리하기"
   ]
  },
  {
   "cell_type": "markdown",
   "id": "c9ab172f",
   "metadata": {},
   "source": [
    "### 2.1.1 중복 샘플, NULL 값 제거"
   ]
  },
  {
   "cell_type": "code",
   "execution_count": 6,
   "id": "35a1a484",
   "metadata": {},
   "outputs": [
    {
     "name": "stdout",
     "output_type": "stream",
     "text": [
      "text에서 중복 제외한 샘플 수 :  98360\n",
      "headlines에서 중복 제외한 샘플 수 :  98280\n"
     ]
    }
   ],
   "source": [
    "print('text에서 중복 제외한 샘플 수 : ', data['text'].nunique())\n",
    "print('headlines에서 중복 제외한 샘플 수 : ', data['headlines'].nunique())"
   ]
  },
  {
   "cell_type": "markdown",
   "id": "886298a5",
   "metadata": {},
   "source": [
    "* **data 중 text만 중복 제거한 이유**  \n",
    "    → 짧은 단어로 요약되는 경우, 다른 text라도 동일한 headline이 나올 수 있다.  \n",
    "    → 그렇기에 headline은 중복 제거를 하지 않는다. 중복 제거를 할 수는 있지만 그럴 경우 데이터의 양이 줄어들기 때문에 headlines는 중복 제거를 하지 않았다."
   ]
  },
  {
   "cell_type": "code",
   "execution_count": 7,
   "id": "2b8ba23a",
   "metadata": {},
   "outputs": [
    {
     "name": "stdout",
     "output_type": "stream",
     "text": [
      "전체 샘플수 :  98360\n",
      "중복 제거한 text의 개수 :  98360\n"
     ]
    }
   ],
   "source": [
    "# drop_duplicates() : 중복 샘플 제거\n",
    "# inplace = True : DataFrame 타입 값을 return하지 않고 data 내부를 직접적으로 바꿈\n",
    "\n",
    "data.drop_duplicates(subset = ['text'], inplace = True)\n",
    "print('전체 샘플수 : ', (len(data)))\n",
    "print('중복 제거한 text의 개수 : ', len(data['text']))"
   ]
  },
  {
   "cell_type": "code",
   "execution_count": 8,
   "id": "d65674ce",
   "metadata": {},
   "outputs": [
    {
     "name": "stdout",
     "output_type": "stream",
     "text": [
      "headlines    0\n",
      "text         0\n",
      "dtype: int64\n"
     ]
    }
   ],
   "source": [
    "# text, headline의 null 값이 있는지 확인\n",
    "\n",
    "print(data.isnull().sum()) "
   ]
  },
  {
   "cell_type": "markdown",
   "id": "751cff2e",
   "metadata": {},
   "source": [
    "### 2.1.2 텍스트 정규화, 불용어 제거"
   ]
  },
  {
   "cell_type": "code",
   "execution_count": 9,
   "id": "0aa9c26f",
   "metadata": {},
   "outputs": [
    {
     "name": "stdout",
     "output_type": "stream",
     "text": [
      "정규화 사전의 수:  120\n"
     ]
    }
   ],
   "source": [
    "# 텍스트 정규화 (정규화 사전에서 가져옴)\n",
    "\n",
    "contractions = {\"ain't\": \"is not\", \"aren't\": \"are not\",\"can't\": \"cannot\", \"'cause\": \"because\", \"could've\": \"could have\", \"couldn't\": \"could not\",\n",
    "                           \"didn't\": \"did not\",  \"doesn't\": \"does not\", \"don't\": \"do not\", \"hadn't\": \"had not\", \"hasn't\": \"has not\", \"haven't\": \"have not\",\n",
    "                           \"he'd\": \"he would\",\"he'll\": \"he will\", \"he's\": \"he is\", \"how'd\": \"how did\", \"how'd'y\": \"how do you\", \"how'll\": \"how will\", \"how's\": \"how is\",\n",
    "                           \"I'd\": \"I would\", \"I'd've\": \"I would have\", \"I'll\": \"I will\", \"I'll've\": \"I will have\",\"I'm\": \"I am\", \"I've\": \"I have\", \"i'd\": \"i would\",\n",
    "                           \"i'd've\": \"i would have\", \"i'll\": \"i will\",  \"i'll've\": \"i will have\",\"i'm\": \"i am\", \"i've\": \"i have\", \"isn't\": \"is not\", \"it'd\": \"it would\",\n",
    "                           \"it'd've\": \"it would have\", \"it'll\": \"it will\", \"it'll've\": \"it will have\",\"it's\": \"it is\", \"let's\": \"let us\", \"ma'am\": \"madam\",\n",
    "                           \"mayn't\": \"may not\", \"might've\": \"might have\",\"mightn't\": \"might not\",\"mightn't've\": \"might not have\", \"must've\": \"must have\",\n",
    "                           \"mustn't\": \"must not\", \"mustn't've\": \"must not have\", \"needn't\": \"need not\", \"needn't've\": \"need not have\",\"o'clock\": \"of the clock\",\n",
    "                           \"oughtn't\": \"ought not\", \"oughtn't've\": \"ought not have\", \"shan't\": \"shall not\", \"sha'n't\": \"shall not\", \"shan't've\": \"shall not have\",\n",
    "                           \"she'd\": \"she would\", \"she'd've\": \"she would have\", \"she'll\": \"she will\", \"she'll've\": \"she will have\", \"she's\": \"she is\",\n",
    "                           \"should've\": \"should have\", \"shouldn't\": \"should not\", \"shouldn't've\": \"should not have\", \"so've\": \"so have\",\"so's\": \"so as\",\n",
    "                           \"this's\": \"this is\",\"that'd\": \"that would\", \"that'd've\": \"that would have\", \"that's\": \"that is\", \"there'd\": \"there would\",\n",
    "                           \"there'd've\": \"there would have\", \"there's\": \"there is\", \"here's\": \"here is\",\"they'd\": \"they would\", \"they'd've\": \"they would have\",\n",
    "                           \"they'll\": \"they will\", \"they'll've\": \"they will have\", \"they're\": \"they are\", \"they've\": \"they have\", \"to've\": \"to have\",\n",
    "                           \"wasn't\": \"was not\", \"we'd\": \"we would\", \"we'd've\": \"we would have\", \"we'll\": \"we will\", \"we'll've\": \"we will have\", \"we're\": \"we are\",\n",
    "                           \"we've\": \"we have\", \"weren't\": \"were not\", \"what'll\": \"what will\", \"what'll've\": \"what will have\", \"what're\": \"what are\",\n",
    "                           \"what's\": \"what is\", \"what've\": \"what have\", \"when's\": \"when is\", \"when've\": \"when have\", \"where'd\": \"where did\", \"where's\": \"where is\",\n",
    "                           \"where've\": \"where have\", \"who'll\": \"who will\", \"who'll've\": \"who will have\", \"who's\": \"who is\", \"who've\": \"who have\",\n",
    "                           \"why's\": \"why is\", \"why've\": \"why have\", \"will've\": \"will have\", \"won't\": \"will not\", \"won't've\": \"will not have\",\n",
    "                           \"would've\": \"would have\", \"wouldn't\": \"would not\", \"wouldn't've\": \"would not have\", \"y'all\": \"you all\",\n",
    "                           \"y'all'd\": \"you all would\",\"y'all'd've\": \"you all would have\",\"y'all're\": \"you all are\",\"y'all've\": \"you all have\",\n",
    "                           \"you'd\": \"you would\", \"you'd've\": \"you would have\", \"you'll\": \"you will\", \"you'll've\": \"you will have\",\n",
    "                           \"you're\": \"you are\", \"you've\": \"you have\"}\n",
    "\n",
    "print(\"정규화 사전의 수: \", len(contractions))"
   ]
  },
  {
   "cell_type": "code",
   "execution_count": 10,
   "id": "fd0949ea",
   "metadata": {},
   "outputs": [
    {
     "name": "stdout",
     "output_type": "stream",
     "text": [
      "불용어 개수 :  179\n",
      "['i', 'me', 'my', 'myself', 'we', 'our', 'ours', 'ourselves', 'you', \"you're\", \"you've\", \"you'll\", \"you'd\", 'your', 'yours', 'yourself', 'yourselves', 'he', 'him', 'his', 'himself', 'she', \"she's\", 'her', 'hers', 'herself', 'it', \"it's\", 'its', 'itself', 'they', 'them', 'their', 'theirs', 'themselves', 'what', 'which', 'who', 'whom', 'this', 'that', \"that'll\", 'these', 'those', 'am', 'is', 'are', 'was', 'were', 'be', 'been', 'being', 'have', 'has', 'had', 'having', 'do', 'does', 'did', 'doing', 'a', 'an', 'the', 'and', 'but', 'if', 'or', 'because', 'as', 'until', 'while', 'of', 'at', 'by', 'for', 'with', 'about', 'against', 'between', 'into', 'through', 'during', 'before', 'after', 'above', 'below', 'to', 'from', 'up', 'down', 'in', 'out', 'on', 'off', 'over', 'under', 'again', 'further', 'then', 'once', 'here', 'there', 'when', 'where', 'why', 'how', 'all', 'any', 'both', 'each', 'few', 'more', 'most', 'other', 'some', 'such', 'no', 'nor', 'not', 'only', 'own', 'same', 'so', 'than', 'too', 'very', 's', 't', 'can', 'will', 'just', 'don', \"don't\", 'should', \"should've\", 'now', 'd', 'll', 'm', 'o', 're', 've', 'y', 'ain', 'aren', \"aren't\", 'couldn', \"couldn't\", 'didn', \"didn't\", 'doesn', \"doesn't\", 'hadn', \"hadn't\", 'hasn', \"hasn't\", 'haven', \"haven't\", 'isn', \"isn't\", 'ma', 'mightn', \"mightn't\", 'mustn', \"mustn't\", 'needn', \"needn't\", 'shan', \"shan't\", 'shouldn', \"shouldn't\", 'wasn', \"wasn't\", 'weren', \"weren't\", 'won', \"won't\", 'wouldn', \"wouldn't\"]\n"
     ]
    }
   ],
   "source": [
    "# NLTK에서 제공하는 불용어 리스트\n",
    "\n",
    "print('불용어 개수 : ', len(stopwords.words('english')))\n",
    "print(stopwords.words('english'))"
   ]
  },
  {
   "cell_type": "code",
   "execution_count": 11,
   "id": "5341ed80",
   "metadata": {},
   "outputs": [
    {
     "name": "stdout",
     "output_type": "stream",
     "text": [
      "=3\n"
     ]
    }
   ],
   "source": [
    "def preprocess_sentence(sentence, remove_stopwords=True):\n",
    "    sentence = sentence.lower() # 텍스트 소문자화\n",
    "    sentence = BeautifulSoup(sentence, \"lxml\").text # <br />, <a href = ...> 등의 html 태그 제거\n",
    "    sentence = re.sub(r'\\([^)]*\\)', '', sentence) # 괄호로 닫힌 문자열 (...) 제거 \n",
    "    sentence = re.sub('\"','', sentence) # 쌍따옴표 \" 제거\n",
    "    sentence = ' '.join([contractions[t] if t in contractions else t for t in sentence.split(\" \")]) # 약어 정규화\n",
    "    sentence = re.sub(r\"'s\\b\",\"\", sentence) # 소유격 제거\n",
    "    sentence = re.sub(\"[^a-zA-Z]\", \" \", sentence) # 영어 외 문자(숫자, 특수문자 등) 공백으로 변환\n",
    "    sentence = re.sub('[m]{2,}', 'mm', sentence) # m이 3개 이상이면 2개로 변경\n",
    "    \n",
    "    # 불용어 제거 (text)\n",
    "    if remove_stopwords:\n",
    "        tokens = ' '.join(word for word in sentence.split() if not word in stopwords.words('english') if len(word) > 1)\n",
    "    # 불용어 미제거 (headlinse)\n",
    "    else:\n",
    "        tokens = ' '.join(word for word in sentence.split() if len(word) > 1)\n",
    "    return tokens\n",
    "print('=3')"
   ]
  },
  {
   "cell_type": "markdown",
   "id": "fb093963",
   "metadata": {},
   "source": [
    "### 2.1.3 전체 text 데이터에 대한 전처리\n",
    "* text 데이터는 불용어 제거를 한다."
   ]
  },
  {
   "cell_type": "code",
   "execution_count": 12,
   "id": "b4ac4429",
   "metadata": {},
   "outputs": [
    {
     "name": "stdout",
     "output_type": "stream",
     "text": [
      "text 전처리 후 결과 :  ['saurav kant alumnus upgrad iiit pg program machine learning artificial intelligence sr systems engineer infosys almost years work experience program upgrad degree career support helped transition data scientist tech mahindra salary hike upgrad online power learning powered lakh careers', 'kunal shah credit card bill payment platform cred gave users chance win free food swiggy one year pranav kaushik delhi techie bagged reward spending cred coins users get one cred coin per rupee bill paid used avail rewards brands like ixigo bookmyshow ubereats cult fit', 'new zealand defeated india wickets fourth odi hamilton thursday win first match five match odi series india lost international match rohit sharma captaincy consecutive victories dating back march match witnessed india getting seventh lowest total odi cricket history', 'aegon life iterm insurance plan customers enjoy tax benefits premiums paid save taxes plan provides life cover age years also customers options insure critical illnesses disability accidental death benefit rider life cover age years', 'speaking sexual harassment allegations rajkumar hirani sonam kapoor said known hirani many years true metoo movement get derailed metoo movement always believe woman case need reserve judgment added hirani accused assistant worked sanju']\n"
     ]
    }
   ],
   "source": [
    "clean_text = []\n",
    "\n",
    "for s in data['text']:\n",
    "    clean_text.append(preprocess_sentence(s))\n",
    "    \n",
    "print('text 전처리 후 결과 : ', clean_text[:5])"
   ]
  },
  {
   "cell_type": "markdown",
   "id": "c493ce00",
   "metadata": {},
   "source": [
    "### 2.1.4 headlines 데이터에 대한 전처리\n",
    "* headlines 데이터는 불용어 제거를 하지 않는다. (요약된 문장으로 따로 불용어 처리를 하지 않아도 된다고 생각된다.)"
   ]
  },
  {
   "cell_type": "code",
   "execution_count": 13,
   "id": "e9b2c690",
   "metadata": {},
   "outputs": [
    {
     "name": "stdout",
     "output_type": "stream",
     "text": [
      "headlines 전처리 후 결과:  ['upgrad learner switches to career in ml al with salary hike', 'delhi techie wins free food from swiggy for one year on cred', 'new zealand end rohit sharma led india match winning streak', 'aegon life iterm insurance plan helps customers save tax', 'have known hirani for yrs what if metoo claims are not true sonam']\n"
     ]
    }
   ],
   "source": [
    "clean_headlines = []\n",
    "\n",
    "for s in data['headlines']:\n",
    "    clean_headlines.append(preprocess_sentence(s, False))   # 불용어 제거를 수행하지 않는다는 의미에서 False 추가\n",
    "\n",
    "print(\"headlines 전처리 후 결과: \", clean_headlines[:5])"
   ]
  },
  {
   "cell_type": "markdown",
   "id": "9627fcc6",
   "metadata": {},
   "source": [
    "### 2.1.5 전처리 후 빈 샘플 확인\n",
    "\n",
    "* 텍스트 정제의 과정을 거치다보면 빈 샘플이 생길 수도 있기에 확인하고 제거해줄 필요가 있다."
   ]
  },
  {
   "cell_type": "code",
   "execution_count": 14,
   "id": "833c3ec4",
   "metadata": {},
   "outputs": [
    {
     "name": "stdout",
     "output_type": "stream",
     "text": [
      "=3\n"
     ]
    }
   ],
   "source": [
    "data['text'] = clean_text\n",
    "data['headlines'] = clean_headlines\n",
    "\n",
    "data.replace('', np.nan, inplace = True)   # 빈 값을 Null 값으로 변환\n",
    "print('=3')"
   ]
  },
  {
   "cell_type": "code",
   "execution_count": 15,
   "id": "a3748d63",
   "metadata": {},
   "outputs": [
    {
     "data": {
      "text/plain": [
       "headlines    0\n",
       "text         0\n",
       "dtype: int64"
      ]
     },
     "execution_count": 15,
     "metadata": {},
     "output_type": "execute_result"
    }
   ],
   "source": [
    "data.isnull().sum()      # Null 값이 생겼는지 확인 → 다행히 없음!"
   ]
  },
  {
   "cell_type": "markdown",
   "id": "a8e7d7a9",
   "metadata": {},
   "source": [
    "## 2.2 훈련데이터, 테스트데이터 나누기"
   ]
  },
  {
   "cell_type": "markdown",
   "id": "f25656bc",
   "metadata": {},
   "source": [
    "### 2.2.1 샘플 최대 길이 정하기\n",
    "* 샘플의 최대 길이를 정하기 위해서는 text, headlines에 있는 샘플들의 길이를 알아야 한다."
   ]
  },
  {
   "cell_type": "code",
   "execution_count": 16,
   "id": "86d2ccd6",
   "metadata": {},
   "outputs": [
    {
     "name": "stdout",
     "output_type": "stream",
     "text": [
      "텍스트의 최소 길이 : 1\n",
      "텍스트의 최대 길이 : 60\n",
      "텍스트의 평균 길이 : 35.09968483123221\n",
      "-----------------------\n",
      "헤드라인의 최소 길이 : 1\n",
      "헤드라인의 최대 길이 : 16\n",
      "헤드라인의 평균 길이 : 9.299532330215534\n"
     ]
    },
    {
     "data": {
      "image/png": "[encoded data removed]",
      "text/plain": [
       "<Figure size 432x288 with 2 Axes>"
      ]
     },
     "metadata": {
      "needs_background": "light"
     },
     "output_type": "display_data"
    },
    {
     "data": {
      "image/png": "[encoded data removed]",
      "text/plain": [
       "<Figure size 432x288 with 1 Axes>"
      ]
     },
     "metadata": {
      "needs_background": "light"
     },
     "output_type": "display_data"
    },
    {
     "data": {
      "image/png": "[encoded data removed]",
      "text/plain": [
       "<Figure size 432x288 with 1 Axes>"
      ]
     },
     "metadata": {
      "needs_background": "light"
     },
     "output_type": "display_data"
    }
   ],
   "source": [
    "import matplotlib.pyplot as plt\n",
    "\n",
    "text_len = [len(s.split()) for s in data['text']]\n",
    "headlines_len = [len(s.split()) for s in data['headlines']]\n",
    "\n",
    "print('텍스트의 최소 길이 : {}'.format(np.min(text_len)))\n",
    "print('텍스트의 최대 길이 : {}'.format(np.max(text_len)))\n",
    "print('텍스트의 평균 길이 : {}'.format(np.mean(text_len)))\n",
    "\n",
    "print('-----------------------')\n",
    "\n",
    "print('헤드라인의 최소 길이 : {}'.format(np.min(headlines_len)))\n",
    "print('헤드라인의 최대 길이 : {}'.format(np.max(headlines_len)))\n",
    "print('헤드라인의 평균 길이 : {}'.format(np.mean(headlines_len)))\n",
    "\n",
    "plt.subplot(1,2,1)\n",
    "plt.boxplot(text_len)\n",
    "plt.title('text')\n",
    "\n",
    "plt.subplot(1,2,2)\n",
    "plt.boxplot(headlines_len)\n",
    "plt.title('headlines')\n",
    "plt.tight_layout()\n",
    "plt.show()\n",
    "\n",
    "plt.title('text')\n",
    "plt.hist(text_len, bins = 40)\n",
    "plt.xlabel('length of samples')\n",
    "plt.ylabel('number of samples')\n",
    "plt.show()\n",
    "\n",
    "plt.title('headlines')\n",
    "plt.hist(headlines_len, bins = 40)\n",
    "plt.xlabel('length of samples')\n",
    "plt.ylabel('number of samples')\n",
    "plt.show()"
   ]
  },
  {
   "cell_type": "markdown",
   "id": "67baeaa5",
   "metadata": {},
   "source": [
    "* bloxplot을 통해 이상치로 표현되는 부분만 제거해보았다."
   ]
  },
  {
   "cell_type": "code",
   "execution_count": 17,
   "id": "50ab3fa7",
   "metadata": {},
   "outputs": [
    {
     "name": "stdout",
     "output_type": "stream",
     "text": [
      "=3\n"
     ]
    }
   ],
   "source": [
    "# Text 최대 길이, headlines의 최대 길이 임의로 정하기\n",
    "\n",
    "text_max_len = 45\n",
    "headlines_max_len = 13\n",
    "print('=3')"
   ]
  },
  {
   "cell_type": "markdown",
   "id": "9fdc47bb",
   "metadata": {},
   "source": [
    "* 위에서 설정한 text, headlines의 최대 길이 안에 데이터 샘플이 각 데이터의 몇 %가 들어오는지 확인을 해본다."
   ]
  },
  {
   "cell_type": "code",
   "execution_count": 18,
   "id": "00d53e06",
   "metadata": {},
   "outputs": [
    {
     "name": "stdout",
     "output_type": "stream",
     "text": [
      "=3\n"
     ]
    }
   ],
   "source": [
    "# below_threshold_len : 데이터의 몇 %가 최대 길이 안에 들어오는지 계산하는 함수\n",
    "\n",
    "def below_threshold_len(max_len, nested_list):\n",
    "    cnt = 0\n",
    "    for s in nested_list:\n",
    "        if(len(s.split()) <= max_len):\n",
    "            cnt = cnt + 1\n",
    "    print('전체 샘플 중 길이가 %s 이하인 샘플의 비율: %s'%(max_len, (cnt / len(nested_list))))\n",
    "print('=3')"
   ]
  },
  {
   "cell_type": "markdown",
   "id": "7d8f01eb",
   "metadata": {},
   "source": [
    "* text, headlines의 샘플들의 99% 이상이 최대 길이(text = 45, headlines = 13)안에 들어간다."
   ]
  },
  {
   "cell_type": "code",
   "execution_count": 19,
   "id": "40d46ba0",
   "metadata": {},
   "outputs": [
    {
     "name": "stdout",
     "output_type": "stream",
     "text": [
      "전체 샘플 중 길이가 45 이하인 샘플의 비율: 0.9967771451809678\n",
      "전체 샘플 중 길이가 13 이하인 샘플의 비율: 0.9981699877999186\n"
     ]
    }
   ],
   "source": [
    "below_threshold_len(text_max_len, data['text'])\n",
    "below_threshold_len(headlines_max_len,  data['headlines'])"
   ]
  },
  {
   "cell_type": "code",
   "execution_count": 20,
   "id": "43d54db0",
   "metadata": {},
   "outputs": [
    {
     "name": "stdout",
     "output_type": "stream",
     "text": [
      "전체 샘플수 : 97863\n"
     ]
    }
   ],
   "source": [
    "# 정해진 길이에 맞춰 자르지 않고\n",
    "# 정해진 길이보다 길면 제외하는 방법으로 데이터 정제\n",
    "\n",
    "data = data[data['text'].apply(lambda x: len(x.split()) <= text_max_len)] # 43보다 길면 제외\n",
    "data = data[data['headlines'].apply(lambda x: len(x.split()) <= headlines_max_len)]  # 12보다 길면 제외\n",
    "print('전체 샘플수 :', (len(data)))"
   ]
  },
  {
   "cell_type": "markdown",
   "id": "7b9eb9fd",
   "metadata": {},
   "source": [
    "* 이전 샘플수 : 98360\n",
    "* 현재 샘플수 : 95935\n",
    "* 제거된 샘플수 : 2435"
   ]
  },
  {
   "cell_type": "markdown",
   "id": "d0cf2539",
   "metadata": {},
   "source": [
    "### 2.2.2 시작토큰, 종료토큰 추가\n",
    "* 디코더는 시작 토큰(sostoken)을 입력받아야 문장을 생성하기 시작하고 종료 토큰(eostoken)을 예측한 순간에 문장 생성을 멈춘다.\n",
    "* seq2seq 훈련을 위해서는 디코더의 입력과 레이블에 시작 토큰과 종료 토큰을 추가해야 한다."
   ]
  },
  {
   "attachments": {
    "image.png": {
     "image/png": "[encoded data removed]"
    }
   },
   "cell_type": "markdown",
   "id": "82cf0514",
   "metadata": {},
   "source": [
    "![image.png](attachment:image.png)"
   ]
  },
  {
   "cell_type": "markdown",
   "id": "00a40f9a",
   "metadata": {},
   "source": [
    "* headlines 데이터에만 시작토큰(sostoken ), 종료토큰( eostoken)을 추가한다."
   ]
  },
  {
   "cell_type": "code",
   "execution_count": 21,
   "id": "e6e80bc4",
   "metadata": {},
   "outputs": [
    {
     "data": {
      "text/html": [
       "<div>\n",
       "<style scoped>\n",
       "    .dataframe tbody tr th:only-of-type {\n",
       "        vertical-align: middle;\n",
       "    }\n",
       "\n",
       "    .dataframe tbody tr th {\n",
       "        vertical-align: top;\n",
       "    }\n",
       "\n",
       "    .dataframe thead th {\n",
       "        text-align: right;\n",
       "    }\n",
       "</style>\n",
       "<table border=\"1\" class=\"dataframe\">\n",
       "  <thead>\n",
       "    <tr style=\"text-align: right;\">\n",
       "      <th></th>\n",
       "      <th>headlines</th>\n",
       "      <th>text</th>\n",
       "      <th>decoder_input</th>\n",
       "      <th>decoder_target</th>\n",
       "    </tr>\n",
       "  </thead>\n",
       "  <tbody>\n",
       "    <tr>\n",
       "      <th>0</th>\n",
       "      <td>upgrad learner switches to career in ml al wit...</td>\n",
       "      <td>saurav kant alumnus upgrad iiit pg program mac...</td>\n",
       "      <td>sostoken upgrad learner switches to career in ...</td>\n",
       "      <td>upgrad learner switches to career in ml al wit...</td>\n",
       "    </tr>\n",
       "    <tr>\n",
       "      <th>1</th>\n",
       "      <td>delhi techie wins free food from swiggy for on...</td>\n",
       "      <td>kunal shah credit card bill payment platform c...</td>\n",
       "      <td>sostoken delhi techie wins free food from swig...</td>\n",
       "      <td>delhi techie wins free food from swiggy for on...</td>\n",
       "    </tr>\n",
       "    <tr>\n",
       "      <th>2</th>\n",
       "      <td>new zealand end rohit sharma led india match w...</td>\n",
       "      <td>new zealand defeated india wickets fourth odi ...</td>\n",
       "      <td>sostoken new zealand end rohit sharma led indi...</td>\n",
       "      <td>new zealand end rohit sharma led india match w...</td>\n",
       "    </tr>\n",
       "    <tr>\n",
       "      <th>3</th>\n",
       "      <td>aegon life iterm insurance plan helps customer...</td>\n",
       "      <td>aegon life iterm insurance plan customers enjo...</td>\n",
       "      <td>sostoken aegon life iterm insurance plan helps...</td>\n",
       "      <td>aegon life iterm insurance plan helps customer...</td>\n",
       "    </tr>\n",
       "    <tr>\n",
       "      <th>4</th>\n",
       "      <td>have known hirani for yrs what if metoo claims...</td>\n",
       "      <td>speaking sexual harassment allegations rajkuma...</td>\n",
       "      <td>sostoken have known hirani for yrs what if met...</td>\n",
       "      <td>have known hirani for yrs what if metoo claims...</td>\n",
       "    </tr>\n",
       "  </tbody>\n",
       "</table>\n",
       "</div>"
      ],
      "text/plain": [
       "                                           headlines  \\\n",
       "0  upgrad learner switches to career in ml al wit...   \n",
       "1  delhi techie wins free food from swiggy for on...   \n",
       "2  new zealand end rohit sharma led india match w...   \n",
       "3  aegon life iterm insurance plan helps customer...   \n",
       "4  have known hirani for yrs what if metoo claims...   \n",
       "\n",
       "                                                text  \\\n",
       "0  saurav kant alumnus upgrad iiit pg program mac...   \n",
       "1  kunal shah credit card bill payment platform c...   \n",
       "2  new zealand defeated india wickets fourth odi ...   \n",
       "3  aegon life iterm insurance plan customers enjo...   \n",
       "4  speaking sexual harassment allegations rajkuma...   \n",
       "\n",
       "                                       decoder_input  \\\n",
       "0  sostoken upgrad learner switches to career in ...   \n",
       "1  sostoken delhi techie wins free food from swig...   \n",
       "2  sostoken new zealand end rohit sharma led indi...   \n",
       "3  sostoken aegon life iterm insurance plan helps...   \n",
       "4  sostoken have known hirani for yrs what if met...   \n",
       "\n",
       "                                      decoder_target  \n",
       "0  upgrad learner switches to career in ml al wit...  \n",
       "1  delhi techie wins free food from swiggy for on...  \n",
       "2  new zealand end rohit sharma led india match w...  \n",
       "3  aegon life iterm insurance plan helps customer...  \n",
       "4  have known hirani for yrs what if metoo claims...  "
      ]
     },
     "execution_count": 21,
     "metadata": {},
     "output_type": "execute_result"
    }
   ],
   "source": [
    "data['decoder_input'] = data['headlines'].apply(lambda x:'sostoken ' + x)  \n",
    "data['decoder_target'] = data['headlines'].apply(lambda x: x + ' eostoken')\n",
    "\n",
    "data.head()"
   ]
  },
  {
   "cell_type": "markdown",
   "id": "26e9d9eb",
   "metadata": {},
   "source": [
    "* encoder_input, decoder_input, decoder_target을 다시 numpy 타입으로 저장한다."
   ]
  },
  {
   "cell_type": "code",
   "execution_count": 22,
   "id": "5572b02c",
   "metadata": {},
   "outputs": [
    {
     "name": "stdout",
     "output_type": "stream",
     "text": [
      "=3\n"
     ]
    }
   ],
   "source": [
    "encoder_input = np.array(data['text'])\n",
    "decoder_input = np.array(data['decoder_input']) \n",
    "decoder_target = np.array(data['decoder_target'])\n",
    "print('=3')"
   ]
  },
  {
   "cell_type": "markdown",
   "id": "54cb8a79",
   "metadata": {},
   "source": [
    "### 2.2.3 훈련데이터, 테스트데이터 분리\n",
    "* 분리 패키지를 사용하지 않고 직접 코딩하여 훈련데이터, 테스트데이터 분리한다."
   ]
  },
  {
   "cell_type": "markdown",
   "id": "d85af00d",
   "metadata": {},
   "source": [
    "* encoder_input과 크기와 형태가 같으며 순서가 섞인 정수 시퀀스를 만든다."
   ]
  },
  {
   "cell_type": "code",
   "execution_count": 23,
   "id": "c695e30f",
   "metadata": {
    "scrolled": true
   },
   "outputs": [
    {
     "name": "stdout",
     "output_type": "stream",
     "text": [
      "[89800 96937 71513 ... 41753  9036 34080]\n"
     ]
    }
   ],
   "source": [
    "indices = np.arange(encoder_input.shape[0])\n",
    "np.random.shuffle(indices)\n",
    "print(indices)"
   ]
  },
  {
   "cell_type": "markdown",
   "id": "eecffa48",
   "metadata": {},
   "source": [
    "* 위에서 만든 정수 시퀀스를 통해 `encoder_input`, `decoder_input`, `decoder_target`의 샘플 순서를 정의한다."
   ]
  },
  {
   "cell_type": "code",
   "execution_count": 24,
   "id": "7f1d3832",
   "metadata": {},
   "outputs": [
    {
     "name": "stdout",
     "output_type": "stream",
     "text": [
      "=3\n"
     ]
    }
   ],
   "source": [
    "# 정수 시퀀스를 이용해 다시 데이터의 샘플 순서를 정의 → 잘 섞인 샘플이 됨\n",
    "encoder_input = encoder_input[indices]\n",
    "decoder_input = decoder_input[indices]\n",
    "decoder_target = decoder_target[indices]\n",
    "print('=3')"
   ]
  },
  {
   "cell_type": "markdown",
   "id": "47137605",
   "metadata": {},
   "source": [
    "* 훈련데이터와 테스트데이터를 8:2로 분리한다."
   ]
  },
  {
   "cell_type": "code",
   "execution_count": 25,
   "id": "e23b6e48",
   "metadata": {},
   "outputs": [
    {
     "name": "stdout",
     "output_type": "stream",
     "text": [
      "테스트 데이터의 수 :  19572\n"
     ]
    }
   ],
   "source": [
    "n_of_val = int(len(encoder_input) * 0.2)\n",
    "\n",
    "print('테스트 데이터의 수 : ', n_of_val)"
   ]
  },
  {
   "cell_type": "code",
   "execution_count": 26,
   "id": "16e2372b",
   "metadata": {},
   "outputs": [
    {
     "name": "stdout",
     "output_type": "stream",
     "text": [
      "훈련 데이터의 개수 : 78291\n",
      "훈련 레이블의 개수 : 78291\n",
      "--------------\n",
      "테스트 데이터의 개수 : 19572\n",
      "테스트 레이블의 개수 : 19572\n"
     ]
    }
   ],
   "source": [
    "encoder_input_train = encoder_input[:-n_of_val]     # 훈련 데이터\n",
    "decoder_input_train = decoder_input[:-n_of_val]     # 훈련 레이블\n",
    "decoder_target_train = decoder_target[:-n_of_val]   \n",
    "\n",
    "encoder_input_test = encoder_input[-n_of_val:]     # 테스트 데이터\n",
    "decoder_input_test = decoder_input[-n_of_val:]     # 테스트 레이블\n",
    "decoder_target_test = decoder_target[-n_of_val:]\n",
    "\n",
    "print('훈련 데이터의 개수 :', len(encoder_input_train))\n",
    "print('훈련 레이블의 개수 :', len(decoder_input_train))\n",
    "\n",
    "print('--------------')\n",
    "\n",
    "print('테스트 데이터의 개수 :', len(encoder_input_test))\n",
    "print('테스트 레이블의 개수 :', len(decoder_input_test))"
   ]
  },
  {
   "cell_type": "markdown",
   "id": "cc481868",
   "metadata": {},
   "source": [
    "## 2.3 정수 인코딩\n",
    "* 컴퓨터는 텍스트보다 숫자를 잘 처리하기에 텍스트를 숫자로 바꾸는 작업이 정수 인코딩이다.\n",
    "* 단어에 정수를 부여하는 방법에는 여러가지가 있다.\n",
    "* 해당 프로젝트에서는 단어를 빈도수 순으로 정렬한 단어집합을 만들고 빈도수가 높은 순서대로 정수를 부여하는 방법을 사용한다."
   ]
  },
  {
   "cell_type": "markdown",
   "id": "7ec15fbe",
   "metadata": {},
   "source": [
    "### 2.3.1 데이터 인코딩"
   ]
  },
  {
   "cell_type": "markdown",
   "id": "c4efb8fa",
   "metadata": {},
   "source": [
    "#### 2.3.1.1 단어집합(vocabulay) 만들기"
   ]
  },
  {
   "cell_type": "markdown",
   "id": "ee8e5e4d",
   "metadata": {},
   "source": [
    "* 현재 생성된 단어 집합은 `src_tokenizer.word_index`에 저장한다.\n",
    "* `src_tokenizer.word_counts.items()`에는 단어와 각 단어의 등장 빈도수가 저장되어있다."
   ]
  },
  {
   "cell_type": "code",
   "execution_count": 27,
   "id": "f77760ed",
   "metadata": {},
   "outputs": [
    {
     "name": "stdout",
     "output_type": "stream",
     "text": [
      "데이터 단어 집합의 크기 :  69158\n"
     ]
    }
   ],
   "source": [
    "src_tokenizer = Tokenizer() # 토크나이저 정의\n",
    "src_tokenizer.fit_on_texts(encoder_input_train) # 입력된 데이터로부터 단어 집합 생성\n",
    "src_word_index = src_tokenizer.word_index\n",
    "\n",
    "print('데이터 단어 집합의 크기 : ', len(src_tokenizer.word_index))"
   ]
  },
  {
   "cell_type": "markdown",
   "id": "b1652375",
   "metadata": {},
   "source": [
    "* 등장 빈도수가 **'7회'** 미만인 단어들이 차지하는 비중 확인을 해본다."
   ]
  },
  {
   "cell_type": "code",
   "execution_count": 28,
   "id": "1fb62392",
   "metadata": {},
   "outputs": [
    {
     "name": "stdout",
     "output_type": "stream",
     "text": [
      "단어 집합(vocabulary)의 크기 : 69158\n",
      "-------------\n",
      "등장 빈도가 6번 이하인 희귀 단어의 수: 47119\n",
      "단어 집합에서 희귀 단어를 제외한 단어 집합의 크기 22039\n",
      "-------------\n",
      "단어 집합에서 희귀 단어의 비율: 68.13239249255328\n",
      "전체 등장 빈도에서 희귀 단어 등장 빈도 비율: 3.482999799978358\n"
     ]
    }
   ],
   "source": [
    "threshold = 7    # 등장 빈도수\n",
    "\n",
    "total_cnt = len(src_tokenizer.word_index) # 단어의 수\n",
    "rare_cnt = 0 # 등장 빈도수가 threshold(7)보다 작은 단어의 개수를 카운트\n",
    "\n",
    "total_freq = 0 # 훈련 데이터의 전체 단어 빈도수 총 합\n",
    "rare_freq = 0 # 등장 빈도수가 threshold보다 작은 단어의 등장 빈도수의 총 합\n",
    "\n",
    "# 단어와 빈도수의 쌍(pair)을 key와 value로 받는다.\n",
    "for key, value in src_tokenizer.word_counts.items():\n",
    "    total_freq = total_freq + value\n",
    "\n",
    "    # 단어의 등장 빈도수가 threshold(7)보다 작으면\n",
    "    if(value < threshold):\n",
    "        rare_cnt = rare_cnt + 1\n",
    "        rare_freq = rare_freq + value\n",
    "\n",
    "print('단어 집합(vocabulary)의 크기 :', total_cnt)\n",
    "print('-------------')\n",
    "print('등장 빈도가 %s번 이하인 희귀 단어의 수: %s'%(threshold - 1, rare_cnt))\n",
    "print('단어 집합에서 희귀 단어를 제외한 단어 집합의 크기 %s'%(total_cnt - rare_cnt))\n",
    "print('-------------')\n",
    "print(\"단어 집합에서 희귀 단어의 비율:\", (rare_cnt / total_cnt)*100)\n",
    "print(\"전체 등장 빈도에서 희귀 단어 등장 빈도 비율:\", (rare_freq / total_freq)*100)"
   ]
  },
  {
   "cell_type": "markdown",
   "id": "338b0b22",
   "metadata": {},
   "source": [
    "▶▶ 희귀 단어가 등장하는 빈도의 비율이 **3.48%** 이다.\n",
    "* 정수 인코딩 과정에서 제외하기\n",
    "* 훈련 데이터에서 제거하기  \n",
    "→ 희귀단어를 제외한 단어 집합의 크기는 21,870이므로 단어 집합의 크기를 22,000으로 제한한다. (희귀단어를 조금 포함했다.)"
   ]
  },
  {
   "cell_type": "code",
   "execution_count": 29,
   "id": "2bfb9747",
   "metadata": {},
   "outputs": [
    {
     "name": "stdout",
     "output_type": "stream",
     "text": [
      "슝\n"
     ]
    }
   ],
   "source": [
    "src_vocab = 22000\n",
    "\n",
    "src_tokenizer = Tokenizer(num_words=src_vocab) # 단어 집합의 크기를 22,000으로 제한\n",
    "src_tokenizer.fit_on_texts(encoder_input_train) # 단어 집합 재생성\n",
    "print('슝')"
   ]
  },
  {
   "cell_type": "markdown",
   "id": "a5671769",
   "metadata": {},
   "source": [
    "#### 2.3.1.2 정수 인코딩 진행\n",
    "\n",
    "* `texts_to_sequences()`는 생성된 단어 집합에 기반하여 입력으로 주어진 텍스트 데이터의 단어들을 모두 정수로 변환하는 정수 인코딩 수행한다.\n",
    "* 단어 집합의 크기를 22,000으로 제한하였다.  \n",
    "    → 22,000이 넘는 숫자들은 정수 인코딩 후에는 데이터가 존재하지 않는다."
   ]
  },
  {
   "cell_type": "code",
   "execution_count": 30,
   "id": "c9e93cdf",
   "metadata": {},
   "outputs": [
    {
     "name": "stdout",
     "output_type": "stream",
     "text": [
      "[[943, 13737, 4598, 6779, 8510, 2668, 94, 520, 978, 12, 1999, 389, 2766, 1764, 262, 6937, 1105, 4856, 574, 44, 421, 2854, 262, 494, 155, 6845, 1223, 25, 803, 8510, 523, 262, 232, 1065, 4527, 198, 12902, 7755], [2810, 5377, 1, 162, 589, 272, 17425, 153, 109, 420, 2502, 665, 366, 285, 8238, 4, 6, 2595, 139, 816, 1628, 589, 1040, 221, 153, 109, 17425, 782, 490, 7, 393], [38, 6601, 224, 16, 2977, 48, 4968, 22, 296, 677, 58, 289, 166, 62, 7037, 113, 179, 677, 454, 9, 9, 690, 5915, 8239, 642, 57, 265, 113, 6, 3119, 5568, 3959, 532, 5915]]\n"
     ]
    }
   ],
   "source": [
    "# 텍스트 시퀀스를 정수 시퀀스로 변환\n",
    "encoder_input_train = src_tokenizer.texts_to_sequences(encoder_input_train)   # 훈련 데이터\n",
    "encoder_input_test = src_tokenizer.texts_to_sequences(encoder_input_test)     # 테스트 데이터\n",
    "\n",
    "# 잘 진행되었는지 샘플 출력\n",
    "print(encoder_input_train[:3])"
   ]
  },
  {
   "cell_type": "markdown",
   "id": "5a9e7905",
   "metadata": {},
   "source": [
    "### 2.3.2 decoder_input_train (훈련 레이블)"
   ]
  },
  {
   "cell_type": "markdown",
   "id": "0502db68",
   "metadata": {},
   "source": [
    "* 현재 생성된 단어 집합은 `tar_tokenizer.word_index`에 저장한다.\n",
    "* `tar_tokenizer.word_counts.items()`에는 단어와 각 단어의 등장 빈도수가 저장되어있다."
   ]
  },
  {
   "cell_type": "code",
   "execution_count": 31,
   "id": "cfff8378",
   "metadata": {},
   "outputs": [
    {
     "name": "stdout",
     "output_type": "stream",
     "text": [
      "레이블 단어 집합의 크기 :  29929\n"
     ]
    }
   ],
   "source": [
    "tar_tokenizer = Tokenizer()\n",
    "tar_tokenizer.fit_on_texts(decoder_input_train)\n",
    "tar_word_index = tar_tokenizer.word_index\n",
    "\n",
    "print('레이블 단어 집합의 크기 : ', len(tar_tokenizer.word_index))"
   ]
  },
  {
   "cell_type": "markdown",
   "id": "d05f9bdd",
   "metadata": {},
   "source": [
    "#### 2.3.2.1 단어집합(vocabulay) 만들기\n",
    "* 등장 빈도수가 **'6회'** 미만인 단어들이 차지하는 비중 확인을 해본다."
   ]
  },
  {
   "cell_type": "code",
   "execution_count": 32,
   "id": "85649a69",
   "metadata": {},
   "outputs": [
    {
     "name": "stdout",
     "output_type": "stream",
     "text": [
      "단어 집합(vocabulary)의 크기 : 29929\n",
      "-------------\n",
      "등장 빈도가 5번 이하인 희귀 단어의 수: 19516\n",
      "단어 집합에서 희귀 단어를 제외시킬 경우의 단어 집합의 크기 10413\n",
      "-------------\n",
      "단어 집합에서 희귀 단어의 비율: 65.20765812422734\n",
      "전체 등장 빈도에서 희귀 단어 등장 빈도 비율: 4.638468137300544\n"
     ]
    }
   ],
   "source": [
    "threshold = 6\n",
    "total_cnt = len(tar_tokenizer.word_index) # 단어의 수\n",
    "rare_cnt = 0 # 등장 빈도수가 threshold보다 작은 단어의 개수를 카운트\n",
    "total_freq = 0 # 훈련 데이터의 전체 단어 빈도수 총 합\n",
    "rare_freq = 0 # 등장 빈도수가 threshold보다 작은 단어의 등장 빈도수의 총 합\n",
    "\n",
    "# 단어와 빈도수의 쌍(pair)을 key와 value로 받는다.\n",
    "for key, value in tar_tokenizer.word_counts.items():\n",
    "    total_freq = total_freq + value\n",
    "\n",
    "    # 단어의 등장 빈도수가 threshold보다 작으면\n",
    "    if(value < threshold):\n",
    "        rare_cnt = rare_cnt + 1\n",
    "        rare_freq = rare_freq + value\n",
    "\n",
    "print('단어 집합(vocabulary)의 크기 :', total_cnt)\n",
    "print('-------------')\n",
    "print('등장 빈도가 %s번 이하인 희귀 단어의 수: %s'%(threshold - 1, rare_cnt))\n",
    "print('단어 집합에서 희귀 단어를 제외시킬 경우의 단어 집합의 크기 %s'%(total_cnt - rare_cnt))\n",
    "print('-------------')\n",
    "print(\"단어 집합에서 희귀 단어의 비율:\", (rare_cnt / total_cnt)*100)\n",
    "print(\"전체 등장 빈도에서 희귀 단어 등장 빈도 비율:\", (rare_freq / total_freq)*100)"
   ]
  },
  {
   "cell_type": "markdown",
   "id": "67c50cb7",
   "metadata": {},
   "source": [
    "▶▶ 희귀 단어가 등장하는 빈도의 비율이 **4.65%** 이다.\n",
    "\n",
    "* 정수 인코딩 과정에서 제외하기\n",
    "* 훈련 데이터에서 제거하기\n",
    "* 희귀단어를 제외한 단어 집합의 크기는 10,410이므로 단어 집합의 크기를 10,000으로 제한한다. (깔끔하게 10,000으로 단어 집합의 크기를 조정하였다.)"
   ]
  },
  {
   "cell_type": "code",
   "execution_count": 33,
   "id": "2d620aef",
   "metadata": {},
   "outputs": [
    {
     "name": "stdout",
     "output_type": "stream",
     "text": [
      "슝\n"
     ]
    }
   ],
   "source": [
    "tar_vocab = 10000\n",
    "\n",
    "tar_tokenizer = Tokenizer(num_words=tar_vocab)   # 단어 집합의 크기를 11,450으로 제한\n",
    "tar_tokenizer.fit_on_texts(decoder_input_train)  # 단어 집합 재생성 (훈련 레이블 입력)\n",
    "tar_tokenizer.fit_on_texts(decoder_target_train) # 단어 집합 재생성 (훈련 레이블 출력)\n",
    "\n",
    "print('슝')"
   ]
  },
  {
   "cell_type": "markdown",
   "id": "1b2d886a",
   "metadata": {},
   "source": [
    "#### 2.3.2.2 정수 인코딩 진행\n",
    "\n",
    "* `texts_to_sequences()`는 생성된 단어 집합에 기반하여 입력으로 주어진 텍스트 데이터의 단어들을 모두 정수로 변환하는 정수 인코딩 수행한다.\n",
    "* 단어 집합의 크기를 10,000으로 제한하였다.  \n",
    "    → 10,0000이 넘는 숫자들은 정수 인코딩 후에는 데이터 존재하지 않는다."
   ]
  },
  {
   "cell_type": "code",
   "execution_count": 34,
   "id": "b7aed62e",
   "metadata": {},
   "outputs": [
    {
     "name": "stdout",
     "output_type": "stream",
     "text": [
      "input\n",
      "input  [[1, 7216, 3, 539, 4693, 266, 1916, 3223, 9, 139], [1, 63, 10, 124, 155, 16, 2531, 19, 913, 733, 2000], [1, 1416, 465, 32, 2787, 186, 391, 323], [1, 272, 432, 6, 2788, 48, 8173, 4, 118, 51], [1, 32, 720, 3224, 112, 1501, 41, 4694, 3, 9517]]\n",
      "-------------\n",
      "target\n",
      "target  [[7216, 3, 539, 4693, 266, 1916, 3223, 9, 139, 2], [63, 10, 124, 155, 16, 2531, 19, 913, 733, 2000, 2], [1416, 465, 32, 2787, 186, 391, 323, 2], [272, 432, 6, 2788, 48, 8173, 4, 118, 51, 2], [32, 720, 3224, 112, 1501, 41, 4694, 3, 9517, 2]]\n"
     ]
    }
   ],
   "source": [
    "# 텍스트 시퀀스를 정수 시퀀스로 변환\n",
    "decoder_input_train = tar_tokenizer.texts_to_sequences(decoder_input_train)    # 훈련 레이블\n",
    "decoder_target_train = tar_tokenizer.texts_to_sequences(decoder_target_train)\n",
    "\n",
    "decoder_input_test = tar_tokenizer.texts_to_sequences(decoder_input_test)    #  테스트 레이블\n",
    "decoder_target_test = tar_tokenizer.texts_to_sequences(decoder_target_test)\n",
    "\n",
    "# 잘 변환되었는지 확인\n",
    "print('input')\n",
    "print('input ',decoder_input_train[:5])\n",
    "print('-------------')\n",
    "print('target')\n",
    "print('target ',decoder_target_train[:5])"
   ]
  },
  {
   "cell_type": "markdown",
   "id": "01af9d79",
   "metadata": {},
   "source": [
    "### 2.3.3 빈 샘플 확인\n",
    "\n",
    "* 전체 데이터에서 빈도수가 낮은 단어가 삭제하였다.  \n",
    "    → 빈도수가 낮은 단어만으로 구성된 샘플은 빈 샘플이 되었을 가능성이 있다.\n",
    "* text는 길이가 길었기에 큰 문제는 없으나\n",
    "* headlines는 평균 길이가 9로 다소 짧기에 문제가 될 수 있다."
   ]
  },
  {
   "cell_type": "markdown",
   "id": "799a07cb",
   "metadata": {},
   "source": [
    "**🔥 주의할 점 🔥**\n",
    "\n",
    "* decoder_input에는 sostoken, decoder_target에는 eostoken이 추가되어 있다. \n",
    "* 그렇기에 길이가 0이 된 요약문의 실제 길이는 1로 나올 것! (sostoken, eostoken때문에)"
   ]
  },
  {
   "cell_type": "code",
   "execution_count": 35,
   "id": "dfbab2a1",
   "metadata": {},
   "outputs": [
    {
     "name": "stdout",
     "output_type": "stream",
     "text": [
      "삭제할 훈련 데이터의 개수 : 0\n",
      "삭제할 테스트 데이터의 개수 : 0\n",
      "--------------\n",
      "빈 샘플 삭제한 훈련 데이터의 개수 : 78291\n",
      "빈 샘플 삭제한 훈련 레이블의 개수 : 78291\n",
      "--------------\n",
      "빈 샘플 삭제한 테스트 데이터의 개수 : 19572\n",
      "빈 샘플 삭제한 테스트 레이블의 개수 : 19572\n"
     ]
    }
   ],
   "source": [
    "drop_train = [index for index, sentence in enumerate(decoder_input_train) if len(sentence) == 1]\n",
    "drop_test = [index for index, sentence in enumerate(decoder_input_test) if len(sentence) == 1]\n",
    "\n",
    "print('삭제할 훈련 데이터의 개수 :', len(drop_train))\n",
    "print('삭제할 테스트 데이터의 개수 :', len(drop_test))\n",
    "\n",
    "encoder_input_train = [sentence for index, sentence in enumerate(encoder_input_train) if index not in drop_train]\n",
    "decoder_input_train = [sentence for index, sentence in enumerate(decoder_input_train) if index not in drop_train]\n",
    "decoder_target_train = [sentence for index, sentence in enumerate(decoder_target_train) if index not in drop_train]\n",
    "\n",
    "encoder_input_test = [sentence for index, sentence in enumerate(encoder_input_test) if index not in drop_test]\n",
    "decoder_input_test = [sentence for index, sentence in enumerate(decoder_input_test) if index not in drop_test]\n",
    "decoder_target_test = [sentence for index, sentence in enumerate(decoder_target_test) if index not in drop_test]\n",
    "\n",
    "print('--------------')\n",
    "\n",
    "print('빈 샘플 삭제한 훈련 데이터의 개수 :', len(encoder_input_train))\n",
    "print('빈 샘플 삭제한 훈련 레이블의 개수 :', len(decoder_input_train))\n",
    "\n",
    "print('--------------')\n",
    "\n",
    "print('빈 샘플 삭제한 테스트 데이터의 개수 :', len(encoder_input_test))\n",
    "print('빈 샘플 삭제한 테스트 레이블의 개수 :', len(decoder_input_test))"
   ]
  },
  {
   "cell_type": "markdown",
   "id": "13224e4a",
   "metadata": {},
   "source": [
    "### 2.3.4 패딩하기\n",
    "* 서로 다른 길이의 샘플을 같은 길이로 맞춰주는 패딩 작업을 한다.\n",
    "* 위에서 정했던 최대 길이(text = 45, headlines = 13)로 패딩 작업을 할 예정이다.\n",
    "* 문장의 뒤에 숫자 0을 추가한다."
   ]
  },
  {
   "cell_type": "code",
   "execution_count": 36,
   "id": "764e6722",
   "metadata": {},
   "outputs": [
    {
     "name": "stdout",
     "output_type": "stream",
     "text": [
      "=3\n"
     ]
    }
   ],
   "source": [
    "# text 데이터(train, test 데이터)\n",
    "encoder_input_train = pad_sequences(encoder_input_train, maxlen=text_max_len, padding='post')\n",
    "encoder_input_test = pad_sequences(encoder_input_test, maxlen=text_max_len, padding='post')\n",
    "# headlines 데이터(train 데이터)\n",
    "decoder_input_train = pad_sequences(decoder_input_train, maxlen=headlines_max_len, padding='post')\n",
    "decoder_target_train = pad_sequences(decoder_target_train, maxlen=headlines_max_len, padding='post')\n",
    "# headlines 데이터(test 데이터)\n",
    "decoder_input_test = pad_sequences(decoder_input_test, maxlen=headlines_max_len, padding='post')\n",
    "decoder_target_test = pad_sequences(decoder_target_test, maxlen=headlines_max_len, padding='post')\n",
    "print('=3')"
   ]
  },
  {
   "cell_type": "markdown",
   "id": "1cfb7e84",
   "metadata": {},
   "source": [
    "---"
   ]
  },
  {
   "cell_type": "markdown",
   "id": "8e1542e8",
   "metadata": {},
   "source": [
    "# Step 3. 모델 설계 (훈련단계 모델)"
   ]
  },
  {
   "attachments": {
    "image.png": {
     "image/png": "[encoded data removed]"
    }
   },
   "cell_type": "markdown",
   "id": "c180a1eb",
   "metadata": {},
   "source": [
    "#### LSTM(Long-Short Term Memory models)\n",
    "* RNN(Recurrent Neural Network)의 hidden state에 memory cell state를 추가하여 기존 RNN의 gradient vanishing problem을 해결한 모델\n",
    "* gradient vanishing problem : input되는 학습 데이터의 길이가 길어질수록 back-propagation 단계에서 gradient가 줄어들어 W와 bias가 유의미하게 변하지 못하는 문제\n",
    "* LSTM은 `cell state`를 추가하여 과거의 정보를 얼마나 읹을지, `time stamp`에서 input된 정보를 얼마나 기억할지를 결정함\n",
    "  \n",
    "  \n",
    "#### dropout, recurrent dropout\n",
    "* dropout : 레이어의 weight를 랜덤으로 생략하여 모델의 과적합을 해결해줌\n",
    "* recurrent dropout : 레이어가 아닌 time step마다 dropout을 해주어 이것 또한 과적합을 해결해줌\n",
    "\n",
    "#### Variational Dropout\n",
    "dropout과 recurrent dropout 모두 사용한 것\n",
    "![image.png](attachment:image.png)  \n",
    "  \n",
    "* [LSTM 참고자료](https://dgkim5360.tistory.com/entry/understanding-long-short-term-memory-lstm-kr)\n",
    "* [LSTM + dropout 참고자료](https://medium.com/curg/deep-rnn-%EC%A0%95%EA%B7%9C%ED%99%94%EA%B0%80-%EA%B6%81%EA%B8%88%ED%95%B4-7d69f3bbc171)"
   ]
  },
  {
   "cell_type": "markdown",
   "id": "d7fce593",
   "metadata": {},
   "source": [
    "## 3.1 인코더(encoder) 설계"
   ]
  },
  {
   "cell_type": "code",
   "execution_count": 37,
   "id": "0fb0a068",
   "metadata": {},
   "outputs": [
    {
     "name": "stdout",
     "output_type": "stream",
     "text": [
      "WARNING:tensorflow:Layer lstm will not use cuDNN kernels since it doesn't meet the criteria. It will use a generic GPU kernel as fallback when running on GPU.\n",
      "WARNING:tensorflow:Layer lstm_1 will not use cuDNN kernels since it doesn't meet the criteria. It will use a generic GPU kernel as fallback when running on GPU.\n",
      "WARNING:tensorflow:Layer lstm_2 will not use cuDNN kernels since it doesn't meet the criteria. It will use a generic GPU kernel as fallback when running on GPU.\n"
     ]
    }
   ],
   "source": [
    "from tensorflow.keras.layers import Input, LSTM, Embedding, Dense, Concatenate, TimeDistributed\n",
    "from tensorflow.keras.models import Model\n",
    "from tensorflow.keras.callbacks import EarlyStopping, ModelCheckpoint\n",
    "\n",
    "\n",
    "# 인코더 설계 시작\n",
    "embedding_dim = 128   # 임베딩 벡터의 차원\n",
    "hidden_size = 256     # hidden state의 크기 (LSTM에서 얼만큼의 수용력을 가질지를 정하는 파라미터, LSTM의 용량크기, 뉴런 개수로 생각하면 됨)\n",
    "\n",
    "# 인코더\n",
    "encoder_inputs = Input(shape=(text_max_len,))\n",
    "\n",
    "# 인코더의 임베딩 층\n",
    "enc_emb = Embedding(src_vocab, embedding_dim)(encoder_inputs)\n",
    "\n",
    "# 인코더의 LSTM 1\n",
    "encoder_lstm1 = LSTM(hidden_size, return_sequences=True, return_state=True ,dropout = 0.4, recurrent_dropout = 0.4)\n",
    "encoder_output1, state_h1, state_c1 = encoder_lstm1(enc_emb)\n",
    "\n",
    "# 인코더의 LSTM 2\n",
    "encoder_lstm2 = LSTM(hidden_size, return_sequences=True, return_state=True, dropout=0.4, recurrent_dropout=0.4)\n",
    "encoder_output2, state_h2, state_c2 = encoder_lstm2(encoder_output1)\n",
    "\n",
    "# 인코더의 LSTM 3\n",
    "encoder_lstm3 = LSTM(hidden_size, return_state=True, return_sequences=True, dropout=0.4, recurrent_dropout=0.4)\n",
    "encoder_outputs, state_h, state_c= encoder_lstm3(encoder_output2)"
   ]
  },
  {
   "cell_type": "markdown",
   "id": "6e33f613",
   "metadata": {},
   "source": [
    "## 3.2 디코더(decoder) 설계\n",
    "* 인코더(encoder)와 거의 동일하다.\n",
    "* LSTM 입력을 정의할 때, initial_state의 인자값으로 **인코더의 hidden state와 cell state의 값**을 넣어줘야 한다."
   ]
  },
  {
   "cell_type": "code",
   "execution_count": 38,
   "id": "a9266483",
   "metadata": {},
   "outputs": [
    {
     "name": "stdout",
     "output_type": "stream",
     "text": [
      "WARNING:tensorflow:Layer lstm_3 will not use cuDNN kernels since it doesn't meet the criteria. It will use a generic GPU kernel as fallback when running on GPU.\n"
     ]
    }
   ],
   "source": [
    "# 디코더 설계\n",
    "decoder_inputs = Input(shape=(None,))\n",
    "\n",
    "# 디코더의 임베딩 층\n",
    "dec_emb_layer = Embedding(tar_vocab, embedding_dim)\n",
    "dec_emb = dec_emb_layer(decoder_inputs)\n",
    "\n",
    "# 디코더의 LSTM\n",
    "decoder_lstm = LSTM(hidden_size, return_sequences=True, return_state=True, dropout=0.4, recurrent_dropout=0.2)\n",
    "decoder_outputs, _, _ = decoder_lstm(dec_emb, initial_state=[state_h, state_c])"
   ]
  },
  {
   "cell_type": "markdown",
   "id": "85c86e52",
   "metadata": {},
   "source": [
    "## 3.3 디코더의 출력층 설계\n",
    "* 디코더의 출력층에서 headlines의 단어장인 `tar_vocab`의 수많은 선택지 중 하나의 단어를 선택하는 다중 클래스 분류 문제를 풀어야 한다.  \n",
    "    → 그렇기에 Dense 인자로 `tar_vocab`을 주고, 활성화 함수로 `softmax` 함수 사용한다.  \n",
    "    → 하지만 나는 활성화 함수로 가장 많이 쓰인다는 `relu` 함수를 사용해보았다.\n",
    "* 가장 기본적인 seq2seq을 설계한다.\n",
    "* [활성화 함수 참고 자료](https://pgnv.tistory.com/17)"
   ]
  },
  {
   "cell_type": "code",
   "execution_count": 39,
   "id": "859cb711",
   "metadata": {
    "scrolled": false
   },
   "outputs": [
    {
     "name": "stdout",
     "output_type": "stream",
     "text": [
      "Model: \"model\"\n",
      "__________________________________________________________________________________________________\n",
      "Layer (type)                    Output Shape         Param #     Connected to                     \n",
      "==================================================================================================\n",
      "input_1 (InputLayer)            [(None, 45)]         0                                            \n",
      "__________________________________________________________________________________________________\n",
      "embedding (Embedding)           (None, 45, 128)      2816000     input_1[0][0]                    \n",
      "__________________________________________________________________________________________________\n",
      "lstm (LSTM)                     [(None, 45, 256), (N 394240      embedding[0][0]                  \n",
      "__________________________________________________________________________________________________\n",
      "input_2 (InputLayer)            [(None, None)]       0                                            \n",
      "__________________________________________________________________________________________________\n",
      "lstm_1 (LSTM)                   [(None, 45, 256), (N 525312      lstm[0][0]                       \n",
      "__________________________________________________________________________________________________\n",
      "embedding_1 (Embedding)         (None, None, 128)    1280000     input_2[0][0]                    \n",
      "__________________________________________________________________________________________________\n",
      "lstm_2 (LSTM)                   [(None, 45, 256), (N 525312      lstm_1[0][0]                     \n",
      "__________________________________________________________________________________________________\n",
      "lstm_3 (LSTM)                   [(None, None, 256),  394240      embedding_1[0][0]                \n",
      "                                                                 lstm_2[0][1]                     \n",
      "                                                                 lstm_2[0][2]                     \n",
      "__________________________________________________________________________________________________\n",
      "dense (Dense)                   (None, None, 10000)  2570000     lstm_3[0][0]                     \n",
      "==================================================================================================\n",
      "Total params: 8,505,104\n",
      "Trainable params: 8,505,104\n",
      "Non-trainable params: 0\n",
      "__________________________________________________________________________________________________\n"
     ]
    }
   ],
   "source": [
    "# 디코더의 출력층\n",
    "decoder_softmax_layer = Dense(tar_vocab, activation='relu')  \n",
    "decoder_softmax_outputs = decoder_softmax_layer(decoder_outputs) \n",
    "\n",
    "# 모델 정의\n",
    "model = Model([encoder_inputs, decoder_inputs], decoder_softmax_outputs)\n",
    "model.summary()"
   ]
  },
  {
   "cell_type": "markdown",
   "id": "5f8e249d",
   "metadata": {},
   "source": [
    "## 3.4 어텐션 메커니즘\n",
    "* 어텐션 메커니즘 : 디코더에서 출력 결과를 예측할 때,인코더의 Hidden State들을 다시 한 번 참고해주는 방법\n",
    "* 인코더의 hidden state들과 디코더의 hidden state들을 어텐션 함수의 입력으로 사용한다.\n",
    "* 어텐션 함수가 리턴한 값을 예측 시에 디코더의 hidden state와 함께 활용하는 형태로 작동한다."
   ]
  },
  {
   "cell_type": "code",
   "execution_count": 40,
   "id": "73bd0ce9",
   "metadata": {},
   "outputs": [
    {
     "name": "stdout",
     "output_type": "stream",
     "text": [
      "Model: \"model_1\"\n",
      "__________________________________________________________________________________________________\n",
      "Layer (type)                    Output Shape         Param #     Connected to                     \n",
      "==================================================================================================\n",
      "input_1 (InputLayer)            [(None, 45)]         0                                            \n",
      "__________________________________________________________________________________________________\n",
      "embedding (Embedding)           (None, 45, 128)      2816000     input_1[0][0]                    \n",
      "__________________________________________________________________________________________________\n",
      "lstm (LSTM)                     [(None, 45, 256), (N 394240      embedding[0][0]                  \n",
      "__________________________________________________________________________________________________\n",
      "input_2 (InputLayer)            [(None, None)]       0                                            \n",
      "__________________________________________________________________________________________________\n",
      "lstm_1 (LSTM)                   [(None, 45, 256), (N 525312      lstm[0][0]                       \n",
      "__________________________________________________________________________________________________\n",
      "embedding_1 (Embedding)         (None, None, 128)    1280000     input_2[0][0]                    \n",
      "__________________________________________________________________________________________________\n",
      "lstm_2 (LSTM)                   [(None, 45, 256), (N 525312      lstm_1[0][0]                     \n",
      "__________________________________________________________________________________________________\n",
      "lstm_3 (LSTM)                   [(None, None, 256),  394240      embedding_1[0][0]                \n",
      "                                                                 lstm_2[0][1]                     \n",
      "                                                                 lstm_2[0][2]                     \n",
      "__________________________________________________________________________________________________\n",
      "attention_layer (AdditiveAttent (None, None, 256)    256         lstm_3[0][0]                     \n",
      "                                                                 lstm_2[0][0]                     \n",
      "__________________________________________________________________________________________________\n",
      "concat_layer (Concatenate)      (None, None, 512)    0           lstm_3[0][0]                     \n",
      "                                                                 attention_layer[0][0]            \n",
      "__________________________________________________________________________________________________\n",
      "dense_1 (Dense)                 (None, None, 10000)  5130000     concat_layer[0][0]               \n",
      "==================================================================================================\n",
      "Total params: 11,065,360\n",
      "Trainable params: 11,065,360\n",
      "Non-trainable params: 0\n",
      "__________________________________________________________________________________________________\n"
     ]
    }
   ],
   "source": [
    "from tensorflow.keras.layers import AdditiveAttention\n",
    "\n",
    "# 어텐션 층(어텐션 함수)\n",
    "attn_layer = AdditiveAttention(name='attention_layer')\n",
    "\n",
    "# 인코더와 디코더의 모든 time step의 hidden state를 어텐션 층에 전달하고 결과를 리턴\n",
    "attn_out = attn_layer([decoder_outputs, encoder_outputs])\n",
    "\n",
    "\n",
    "# 어텐션의 결과와 디코더의 hidden state들을 연결\n",
    "decoder_concat_input = Concatenate(axis=-1, name='concat_layer')([decoder_outputs, attn_out])\n",
    "\n",
    "# 디코더의 출력층\n",
    "decoder_softmax_layer = Dense(tar_vocab, activation='softmax')\n",
    "decoder_softmax_outputs = decoder_softmax_layer(decoder_concat_input)\n",
    "\n",
    "# 모델 정의\n",
    "model = Model([encoder_inputs, decoder_inputs], decoder_softmax_outputs)\n",
    "model.summary()"
   ]
  },
  {
   "cell_type": "markdown",
   "id": "bd606329",
   "metadata": {},
   "source": [
    "---"
   ]
  },
  {
   "cell_type": "markdown",
   "id": "c4dea1bb",
   "metadata": {},
   "source": [
    "# Step 4. 모델 훈련하기"
   ]
  },
  {
   "cell_type": "markdown",
   "id": "329eef13",
   "metadata": {},
   "source": [
    "* batch_size를 256, 528, 1024로 하였을 때 loss 값이 큰 차이가 없어서 빠르게 에포크가 작동되는 1024로 설정하였다.\n",
    "* optimizer도 기존의 `rmsprop`으로 진행하였다가 `adam`으로도 변경을 해보았지만, 최종 프로젝트에서는 `rmsprop`로 진행하고자 한다.\n",
    "* [Optimizer 참고자료](https://onevision.tistory.com/entry/Optimizer-%EC%9D%98-%EC%A2%85%EB%A5%98%EC%99%80-%ED%8A%B9%EC%84%B1-Momentum-RMSProp-Adam)"
   ]
  },
  {
   "cell_type": "code",
   "execution_count": 41,
   "id": "6b35ce20",
   "metadata": {
    "scrolled": true
   },
   "outputs": [
    {
     "name": "stdout",
     "output_type": "stream",
     "text": [
      "Epoch 1/50\n",
      "77/77 [==============================] - 70s 793ms/step - loss: 5.6475 - val_loss: 5.2418\n",
      "Epoch 2/50\n",
      "77/77 [==============================] - 60s 785ms/step - loss: 5.1553 - val_loss: 4.9821\n",
      "Epoch 3/50\n",
      "77/77 [==============================] - 61s 790ms/step - loss: 4.9366 - val_loss: 4.8188\n",
      "Epoch 4/50\n",
      "77/77 [==============================] - 61s 791ms/step - loss: 4.7455 - val_loss: 4.6188\n",
      "Epoch 5/50\n",
      "77/77 [==============================] - 61s 798ms/step - loss: 4.5572 - val_loss: 4.4665\n",
      "Epoch 6/50\n",
      "77/77 [==============================] - 62s 802ms/step - loss: 4.3981 - val_loss: 4.3556\n",
      "Epoch 7/50\n",
      "77/77 [==============================] - 61s 798ms/step - loss: 4.2493 - val_loss: 4.2114\n",
      "Epoch 8/50\n",
      "77/77 [==============================] - 61s 795ms/step - loss: 4.1115 - val_loss: 4.1222\n",
      "Epoch 9/50\n",
      "77/77 [==============================] - 62s 800ms/step - loss: 3.9862 - val_loss: 4.0294\n",
      "Epoch 10/50\n",
      "77/77 [==============================] - 62s 800ms/step - loss: 3.8746 - val_loss: 3.9575\n",
      "Epoch 11/50\n",
      "77/77 [==============================] - 62s 800ms/step - loss: 3.7716 - val_loss: 3.8892\n",
      "Epoch 12/50\n",
      "77/77 [==============================] - 61s 798ms/step - loss: 3.6773 - val_loss: 3.8240\n",
      "Epoch 13/50\n",
      "77/77 [==============================] - 61s 797ms/step - loss: 3.5888 - val_loss: 3.7783\n",
      "Epoch 14/50\n",
      "77/77 [==============================] - 62s 800ms/step - loss: 3.5074 - val_loss: 3.7356\n",
      "Epoch 15/50\n",
      "77/77 [==============================] - 62s 800ms/step - loss: 3.4304 - val_loss: 3.6904\n",
      "Epoch 16/50\n",
      "77/77 [==============================] - 62s 802ms/step - loss: 3.3586 - val_loss: 3.6559\n",
      "Epoch 17/50\n",
      "77/77 [==============================] - 61s 797ms/step - loss: 3.2913 - val_loss: 3.6253\n",
      "Epoch 18/50\n",
      "77/77 [==============================] - 61s 799ms/step - loss: 3.2300 - val_loss: 3.5957\n",
      "Epoch 19/50\n",
      "77/77 [==============================] - 61s 798ms/step - loss: 3.1695 - val_loss: 3.5710\n",
      "Epoch 20/50\n",
      "77/77 [==============================] - 61s 799ms/step - loss: 3.1133 - val_loss: 3.5564\n",
      "Epoch 21/50\n",
      "77/77 [==============================] - 62s 799ms/step - loss: 3.0595 - val_loss: 3.5286\n",
      "Epoch 22/50\n",
      "77/77 [==============================] - 61s 797ms/step - loss: 3.0088 - val_loss: 3.5248\n",
      "Epoch 23/50\n",
      "77/77 [==============================] - 61s 797ms/step - loss: 2.9600 - val_loss: 3.4952\n",
      "Epoch 24/50\n",
      "77/77 [==============================] - 61s 799ms/step - loss: 2.9130 - val_loss: 3.4935\n",
      "Epoch 25/50\n",
      "77/77 [==============================] - 61s 796ms/step - loss: 2.8678 - val_loss: 3.4829\n",
      "Epoch 26/50\n",
      "77/77 [==============================] - 61s 798ms/step - loss: 2.8253 - val_loss: 3.4707\n",
      "Epoch 27/50\n",
      "77/77 [==============================] - 61s 799ms/step - loss: 2.7840 - val_loss: 3.4555\n",
      "Epoch 28/50\n",
      "77/77 [==============================] - 62s 799ms/step - loss: 2.7444 - val_loss: 3.4476\n",
      "Epoch 29/50\n",
      "77/77 [==============================] - 61s 799ms/step - loss: 2.7061 - val_loss: 3.4363\n",
      "Epoch 30/50\n",
      "77/77 [==============================] - 61s 799ms/step - loss: 2.6698 - val_loss: 3.4352\n",
      "Epoch 31/50\n",
      "77/77 [==============================] - 62s 802ms/step - loss: 2.6346 - val_loss: 3.4321\n",
      "Epoch 32/50\n",
      "77/77 [==============================] - 62s 800ms/step - loss: 2.5998 - val_loss: 3.4268\n",
      "Epoch 33/50\n",
      "77/77 [==============================] - 61s 795ms/step - loss: 2.5679 - val_loss: 3.4191\n",
      "Epoch 34/50\n",
      "77/77 [==============================] - 62s 799ms/step - loss: 2.5355 - val_loss: 3.4240\n",
      "Epoch 35/50\n",
      "77/77 [==============================] - 61s 799ms/step - loss: 2.5048 - val_loss: 3.4223\n",
      "Epoch 00035: early stopping\n"
     ]
    }
   ],
   "source": [
    "model.compile(optimizer='rmsprop', loss='sparse_categorical_crossentropy')\n",
    "es = EarlyStopping(monitor='val_loss', patience=2, verbose=1)   # val_loss가 증가하는 현상이 2회 이상 관측되면 학습 중지\n",
    "history = model.fit(x=[encoder_input_train, decoder_input_train], y=decoder_target_train, \\\n",
    "          validation_data=([encoder_input_test, decoder_input_test], decoder_target_test), \\\n",
    "          batch_size=1024, callbacks=[es], epochs=50)"
   ]
  },
  {
   "cell_type": "code",
   "execution_count": 42,
   "id": "03cd688d",
   "metadata": {},
   "outputs": [
    {
     "data": {
      "image/png": "[encoded data removed]",
      "text/plain": [
       "<Figure size 432x288 with 1 Axes>"
      ]
     },
     "metadata": {
      "needs_background": "light"
     },
     "output_type": "display_data"
    }
   ],
   "source": [
    "# 훈련데이터의 손실과 검증 데이터의 손실이 줄어드는 과정을 시각화\n",
    "plt.plot(history.history['loss'], label='train')\n",
    "plt.plot(history.history['val_loss'], label='test')\n",
    "plt.legend()\n",
    "plt.show()"
   ]
  },
  {
   "cell_type": "markdown",
   "id": "6ebce59d",
   "metadata": {},
   "source": [
    "---"
   ]
  },
  {
   "cell_type": "markdown",
   "id": "5286604d",
   "metadata": {},
   "source": [
    "# Step 5. 인퍼런스 모델 구현하기 (동작 모델)\n",
    "* 테스트 단계에서 '정수 인덱스 행렬'로 존재하던 텍스트 데이터를 실제 데이터로 복원하는 작업이다."
   ]
  },
  {
   "cell_type": "markdown",
   "id": "b499311c",
   "metadata": {},
   "source": [
    "## 5.1 사전 3개 준비"
   ]
  },
  {
   "cell_type": "code",
   "execution_count": 43,
   "id": "bae1a30f",
   "metadata": {},
   "outputs": [
    {
     "name": "stdout",
     "output_type": "stream",
     "text": [
      "=3\n"
     ]
    }
   ],
   "source": [
    "src_index_to_word = src_tokenizer.index_word # 원문 단어 집합에서 정수 -> 단어를 얻음\n",
    "tar_word_to_index = tar_tokenizer.word_index # 요약 단어 집합에서 단어 -> 정수를 얻음\n",
    "tar_index_to_word = tar_tokenizer.index_word # 요약 단어 집합에서 정수 -> 단어를 얻음\n",
    "\n",
    "print('=3')"
   ]
  },
  {
   "cell_type": "markdown",
   "id": "c0d7d7cc",
   "metadata": {},
   "source": [
    "## 5.2 인퍼런스를 위한 모델 설계\n",
    "* 정답 문장이 없는 인퍼런스 단계(실제로 동작하는 단계)에서는 만들어야 할 문장의 길이만큼 디코더가 반복 구조로 동작해야 한다.  \n",
    "    → 인퍼런스를 위한 모델 설계를 별도로 해주어야 하며 이 때, 인코더와 디코더 모델을 분리해서 설계한다."
   ]
  },
  {
   "cell_type": "markdown",
   "id": "92fb6754",
   "metadata": {},
   "source": [
    "### 5.2.1 인코더 모델 설계\n",
    "* 문장의 다음 단어를 예측하기 위해서 초기 상태(initial_state)를 이전 시점의 상태로 사용한다. 이는 뒤의 함수 `decode_sequence()`에 구현한다.\n",
    "* 훈련 과정에서와 달리 LSTM의 리턴하는 은닉 상태와 셀 상태인 `state_h`와 `state_c`를 버리지 않는다."
   ]
  },
  {
   "cell_type": "code",
   "execution_count": 44,
   "id": "b5a7c0a1",
   "metadata": {},
   "outputs": [
    {
     "name": "stdout",
     "output_type": "stream",
     "text": [
      "=3\n"
     ]
    }
   ],
   "source": [
    "# 인코더 설계\n",
    "encoder_model = Model(inputs=encoder_inputs, outputs=[encoder_outputs, state_h, state_c])\n",
    "\n",
    "# 이전 시점의 상태들을 저장하는 텐서\n",
    "decoder_state_input_h = Input(shape=(hidden_size,))\n",
    "decoder_state_input_c = Input(shape=(hidden_size,))\n",
    "\n",
    "dec_emb2 = dec_emb_layer(decoder_inputs)\n",
    "\n",
    "decoder_outputs2, state_h2, state_c2 = decoder_lstm(dec_emb2, initial_state=[decoder_state_input_h, decoder_state_input_c])\n",
    "\n",
    "print('=3')"
   ]
  },
  {
   "cell_type": "markdown",
   "id": "176e9a20",
   "metadata": {},
   "source": [
    "### 5.2.2 디코더 모델 설계 (어텐션 메커니즘 사용)"
   ]
  },
  {
   "cell_type": "code",
   "execution_count": 45,
   "id": "7e14c157",
   "metadata": {},
   "outputs": [
    {
     "name": "stdout",
     "output_type": "stream",
     "text": [
      "=3\n"
     ]
    }
   ],
   "source": [
    "# 어텐션 함수\n",
    "decoder_hidden_state_input = Input(shape=(text_max_len, hidden_size))\n",
    "attn_out_inf = attn_layer([decoder_outputs2, decoder_hidden_state_input])\n",
    "decoder_inf_concat = Concatenate(axis=-1, name='concat')([decoder_outputs2, attn_out_inf])\n",
    "\n",
    "# 디코더의 출력층\n",
    "decoder_outputs2 = decoder_softmax_layer(decoder_inf_concat) \n",
    "\n",
    "# 최종 디코더 모델\n",
    "decoder_model = Model(\n",
    "    [decoder_inputs] + [decoder_hidden_state_input,decoder_state_input_h, decoder_state_input_c],\n",
    "    [decoder_outputs2] + [state_h2, state_c2])\n",
    "\n",
    "print('=3')"
   ]
  },
  {
   "cell_type": "markdown",
   "id": "187f702b",
   "metadata": {},
   "source": [
    "### 5.2.3 단어 시퀀스를 완성하는 함수"
   ]
  },
  {
   "cell_type": "code",
   "execution_count": 46,
   "id": "38904e5e",
   "metadata": {},
   "outputs": [
    {
     "name": "stdout",
     "output_type": "stream",
     "text": [
      "=3\n"
     ]
    }
   ],
   "source": [
    "def decode_sequence(input_seq):\n",
    "    # 입력으로부터 인코더의 상태를 얻음\n",
    "    e_out, e_h, e_c = encoder_model.predict(input_seq)\n",
    "\n",
    "     # <SOS>에 해당하는 토큰 생성\n",
    "    target_seq = np.zeros((1,1))\n",
    "    target_seq[0, 0] = tar_word_to_index['sostoken']\n",
    "\n",
    "    stop_condition = False\n",
    "    decoded_sentence = ''\n",
    "    while not stop_condition: # stop_condition이 True가 될 때까지 루프 반복\n",
    "\n",
    "        output_tokens, h, c = decoder_model.predict([target_seq] + [e_out, e_h, e_c])\n",
    "        sampled_token_index = np.argmax(output_tokens[0, -1, :])\n",
    "        sampled_token = tar_index_to_word[sampled_token_index]\n",
    "\n",
    "        if (sampled_token!='eostoken'):\n",
    "            decoded_sentence += ' '+sampled_token\n",
    "\n",
    "        #  <eos>에 도달하거나 최대 길이를 넘으면 중단.\n",
    "        if (sampled_token == 'eostoken'  or len(decoded_sentence.split()) >= (headlines_max_len-1)):\n",
    "            stop_condition = True\n",
    "\n",
    "        # 길이가 1인 타겟 시퀀스를 업데이트\n",
    "        target_seq = np.zeros((1,1))\n",
    "        target_seq[0, 0] = sampled_token_index\n",
    "\n",
    "        # 상태를 업데이트 합니다.\n",
    "        e_h, e_c = h, c\n",
    "\n",
    "    return decoded_sentence\n",
    "print('=3')"
   ]
  },
  {
   "cell_type": "markdown",
   "id": "d1c5dace",
   "metadata": {},
   "source": [
    "---"
   ]
  },
  {
   "cell_type": "markdown",
   "id": "7d5d8e96",
   "metadata": {},
   "source": [
    "# Step 6. 모델 테스트"
   ]
  },
  {
   "cell_type": "markdown",
   "id": "c685fbe8",
   "metadata": {},
   "source": [
    "## 6.1 정수 시퀀스를 텍스트 시퀀스로 변환\n",
    "* text의 정수 시퀀스 : 숫자 0 제외(패딩)\n",
    "* headlines의 정수 시퀀스 : 숫자 0(패딩), 시작 토큰의 인덱스, 종료 토큰의 인덱스 제외"
   ]
  },
  {
   "cell_type": "code",
   "execution_count": 47,
   "id": "993308b3",
   "metadata": {},
   "outputs": [
    {
     "name": "stdout",
     "output_type": "stream",
     "text": [
      "=3\n"
     ]
    }
   ],
   "source": [
    "# text의 정수 시퀀스를 텍스트 시퀀스로 변환\n",
    "def seq2text(input_seq):\n",
    "    temp=''\n",
    "    for i in input_seq:\n",
    "        if (i!=0):        # 숫자 0을 제외    \n",
    "            temp = temp + src_index_to_word[i]+' '\n",
    "    return temp\n",
    "\n",
    "# headlines의 정수 시퀀스를 텍스트 시퀀스로 변환\n",
    "def seq2headlines(input_seq):\n",
    "    temp=''\n",
    "    for i in input_seq:    # 숫자 0, 시작 토큰, 종료 토큰의 인덱스 제외\n",
    "        if ((i!=0 and i!=tar_word_to_index['sostoken']) and i!=tar_word_to_index['eostoken']):\n",
    "            temp = temp + tar_index_to_word[i] + ' '\n",
    "    return temp\n",
    "\n",
    "print('=3')"
   ]
  },
  {
   "cell_type": "markdown",
   "id": "f3a10b8d",
   "metadata": {},
   "source": [
    "## 6.2 실제 요약 vs 예측된 요약"
   ]
  },
  {
   "cell_type": "code",
   "execution_count": 81,
   "id": "c908daa3",
   "metadata": {
    "scrolled": true
   },
   "outputs": [
    {
     "name": "stdout",
     "output_type": "stream",
     "text": [
      "50\n",
      "원문 : least one person died seven others wounded amusement park ride malfunctioned opening day ohio state fair united states fire department said fire ball ride malfunctioned throwing riders air governor john ordered rides closed additional safety inspections completed \n",
      "실제 요약 : one dead as ride throws riders into air \n",
      "예측 요약 :  killed injured as car falls into building in us\n",
      "\n",
      "\n",
      "51\n",
      "원문 : maharashtra cm devendra fadnavis monday said doubts regarding killing tigress avni suspected killed least people probed speaking union minister maneka gandhi criticism avni murder fadnavis said used harsh words adding sentiments understood animal lovers sentiments harsh regarding incident \n",
      "실제 요약 : maneka used harsh words will probe tigress death maha cm \n",
      "예측 요약 :  maha cm calls maha cm over tigress killed in maha\n",
      "\n",
      "\n",
      "52\n",
      "원문 : facing casting couch film industry swara bhasker revealed man claiming manager big producer tried kiss ear meeting said love baby kind away added swara said kind stuff happens part casting couch \n",
      "실제 요약 : producer manager tried to kiss me said love you baby swara \n",
      "예측 요약 :  pooja slams media for calling woman who shared her\n",
      "\n",
      "\n",
      "53\n",
      "원문 : uttarakhand saturday banned begging making one twenty states two union territories banned practice following high court order state issued notification gives police right arrest people begging streets notably begging ban earlier applicable temple town haridwar \n",
      "실제 요약 : uttarakhand becomes th state to ban begging \n",
      "예측 요약 :  police to allow police to stop attacks on day\n",
      "\n",
      "\n",
      "54\n",
      "원문 : usa failed qualify fifa world cup final stage first time since losing must win match wednesday qualifiers team managed three wins matches group mexico costa rica panama advanced fifa world cup russia \n",
      "실제 요약 : usa fail to reach the fifa world cup for st time since \n",
      "예측 요약 :  england beat england to win fifa world cup final\n",
      "\n",
      "\n",
      "55\n",
      "원문 : delhi daredevils captain gautam gambhir said one year ban australian cricketer steve smith ball tampering scandal harsh adding smith look cheat gambhir said see desperate leader trying win test team yes indeed methods questionable let label corrupt \n",
      "실제 요약 : steve smith does not look to me cheat gautam gambhir \n",
      "예측 요약 :  do not think what is not matter warner on aus pacer\n",
      "\n",
      "\n",
      "56\n",
      "원문 : study researchers university france suggests opening closing shells electrodes used track degree opening every seconds astronomical data assess moon also noted experiment results revealed open lowered levels \n",
      "실제 요약 : opening closing of study \n",
      "예측 요약 :  scientists make new field to make sun\n",
      "\n",
      "\n",
      "57\n",
      "원문 : study conducted researchers university indiana us revealed amount money person needs happy study revealed earning annually truly happy life making yearly little less happy emotional well added \n",
      "실제 요약 : study finds money can buy happiness for \n",
      "예측 요약 :  aliens are the word of the sun study\n",
      "\n",
      "\n",
      "58\n",
      "원문 : talking data scandal facebook coo sheryl sandberg said would say certainly past week spoke slowly could live past week would definitely mark speaking earlier earlier sandberg admitted regrets facebook enough deal issue \n",
      "실제 요약 : we spoke too about data scandal facebook coo \n",
      "예측 요약 :  facebook is an news of fb fb coo sheryl sandberg\n",
      "\n",
      "\n",
      "59\n",
      "원문 : ahead telangana assembly elections trs leader former assembly speaker seen shaving beard giving haircut potential voters another trs candidate spotted giving bath man party workers applauded gesture trs candidate station played role vegetable vendor recently \n",
      "실제 요약 : leaders give bath haircut to men ahead of telangana elections \n",
      "예측 요약 :  cong candidate wears shoes at telangana assembly polls\n",
      "\n",
      "\n",
      "60\n",
      "원문 : bishop roman catholic diocese jalandhar accused raping kerala nun tuesday said step found guilty found guilty must initiate action leave post stage people say admitted guilt bishop said \n",
      "실제 요약 : won step down until found guilty accused bishop \n",
      "예측 요약 :  bishop accused of rape accused bishop nun acquitted\n",
      "\n",
      "\n",
      "61\n",
      "원문 : mocking us president donald trump recently referring non existent african country venezuelan president nicolas maduro said trump know venezuela give map cannot find venezuela calling us criminal empire history mankind maduro urged venezuelan forces ready missiles tanks us \n",
      "실제 요약 : trump does not know where venezuela is on map venezuela prez \n",
      "예측 요약 :  trump calls trump campaign for us president\n",
      "\n",
      "\n",
      "62\n",
      "원문 : former gujarat cm shankersinh vaghela demanded pre release screening padmavati hindu kshatriya community leaders check whether facts distorted film also warned violent protests makers failed apologise cinema owners advance people take law hands said vaghela \n",
      "실제 요약 : former gujarat cm demands padmavati pre release screening \n",
      "예측 요약 :  padmavati not releasing padmavati in karnataka cm\n",
      "\n",
      "\n",
      "63\n",
      "원문 : national security adviser ajit doval hold formal negotiations boundary issue chinese counterpart yang thursday doval expected discuss ways maintain peace along km long border comes almost four months day long military stand india china doklam \n",
      "실제 요약 : national security adviser to hold border talks with china \n",
      "예측 요약 :  indian army to build pak in military drill\n",
      "\n",
      "\n",
      "64\n",
      "원문 : brazilian football legend ronaldo shaved hair leaving semi circular hair front fifa world cup nigeria west painted green white colours country flag edition entire romanian squad dyed hair world cup \n",
      "실제 요약 : which are the most talked about in wc history \n",
      "예측 요약 :  maradona to play fifa wc final in fifa world cup\n",
      "\n",
      "\n",
      "65\n",
      "원문 : children football match spain descended violence parents boys rival teams began fighting stands footage incident taken spectator shows parents involved punching kicking brawl reportedly began bad foul one players \n",
      "실제 요약 : fight in the stands at under football match in spain \n",
      "예측 요약 :  football court fined for brawl with football match\n",
      "\n",
      "\n",
      "66\n",
      "원문 : billionaire elon musk friday announced com domain name year old startup recently purchased live visiting website shows character claims fixed day musk revealed plans use domain name estimated worth close crore \n",
      "실제 요약 : elon musk launches website which has just letter \n",
      "예측 요약 :  elon musk shares video of his first startup\n",
      "\n",
      "\n",
      "67\n",
      "원문 : attempt ensure smooth integration freecharge axis bank employees payments platform given six month retention bonus according reports freecharge sold private sector lender axis bank discount crore reports suggest retention bonuses handed basis employees seniority \n",
      "실제 요약 : freecharge staff to get bonus by axis bank report \n",
      "예측 요약 :  paytm ceo kunal bank to get crore\n",
      "\n",
      "\n",
      "68\n",
      "원문 : apple co founder steve wozniak said sunday leaving facebook following recent data scandal users provide every detail life facebook facebook makes lot advertising money said apple makes money good products added emphasised facebook product \n",
      "실제 요약 : apple co founder steve wozniak says he is leaving facebook \n",
      "예측 요약 :  apple denies apple privacy privacy officer\n",
      "\n",
      "\n",
      "69\n",
      "원문 : baahubali given nc certification singapore means film suitable viewership age movie deemed violent reference indian censor board chief pahlaj nihalani stated war scenes especially soldiers beheaded taken censor board \n",
      "실제 요약 : baahubali not for under singapore censor board \n",
      "예측 요약 :  cbfc chief changes changes in the film on emergency\n",
      "\n",
      "\n",
      "70\n",
      "원문 : kamal haasan hosts bigg boss tamil threatened quit show task wherein contestants asked dress behave like mentally challenged people actually angry added haasan said true host decides every thing happens show \n",
      "실제 요약 : haasan threatens to quit bigg boss over task \n",
      "예측 요약 :  do not want to do anything with my name tanushree on tanushree\n",
      "\n",
      "\n",
      "71\n",
      "원문 : oil minister dharmendra pradhan monday said fuel prices may come diwali falls next month said prices refinery oil went production oil dropped us due floods asked bringing oil gst pradhan said extend enormous benefit customers \n",
      "실제 요약 : fuel prices may come down by diwali oil minister \n",
      "예측 요약 :  govt to fuel fuel price to fuel oil oil minister\n",
      "\n",
      "\n",
      "72\n",
      "원문 : haryana government organise digital haryana summit gurugram september discuss issues like digital governance smart living cities villages citizen partnership entrepreneurship among others summit aims bring together different stakeholders develop singular agenda digital transformation haryana line digital india initiative \n",
      "실제 요약 : digital haryana summit to be held in gurugram \n",
      "예측 요약 :  maha govt to launch new year for green cities\n",
      "\n",
      "\n",
      "73\n",
      "원문 : bengaluru police arrested year old woman relatives allegedly faked death extort lakh year old businessman lover two relatives disguised policemen took lakh close case daughter sought lakh man approached bengaluru police fake policemen demanded lakh \n",
      "실제 요약 : woman fakes own death to extort lakh from businessman lover \n",
      "예측 요약 :  delhi police arrest held for killing yr old girl\n",
      "\n",
      "\n",
      "74\n",
      "원문 : artificial intelligence create million jobs eliminating million according american research company gartner jobs industry education see continuous growing job demand report said one five workers engaged mostly non routine tasks rely ai job report added \n",
      "실제 요약 : ai will create more jobs than it by report \n",
      "예측 요약 :  ai to hire ai for startups in india report\n",
      "\n",
      "\n",
      "75\n",
      "원문 : congress claimed rjd tried tested ally unlike bihar cm nitish kumar exited grand alliance join nda comes rjd leader tejashwi yadav said congress leaders may soft corner nitish congress president rahul gandhi views matter questions alliances congress mlc pc mishra said \n",
      "실제 요약 : rjd tried and tested ally bihar cm nitish congress \n",
      "예측 요약 :  nitish kumar to be nitish kumar of bihar bjp\n",
      "\n",
      "\n",
      "76\n",
      "원문 : trailer ayushmann khurrana sanya malhotra starrer badhaai ho released directed amit sharma film also stars neena gupta rao talking film ayushmann earlier said story amit tells typically indian quirky humour film scheduled release october \n",
      "실제 요약 : trailer of ayushmann sanya malhotra badhaai ho released \n",
      "예측 요약 :  teaser of ayushmann ayushmann starrer andhadhun released\n",
      "\n",
      "\n",
      "77\n",
      "원문 : gurugram based pharmacy startup mg raising million valuation around million per regulatory filing round led new investor holding ag switzerland based family office existing investors sequoia capital india omidyar network swiss healthcare focused investment firm healthcare investments also participating round \n",
      "실제 요약 : pharmacy startup to raise mn at mn valuation \n",
      "예측 요약 :  raises mn in funding funding\n",
      "\n",
      "\n",
      "78\n",
      "원문 : first european space agency led team built fired electric atmospheric air used allowing satellites fly low orbits several years air breathing electric could also used missions around outer planets like mars drawing carbon dioxide said esa \n",
      "실제 요약 : electric which uses air as fuel fired up first time \n",
      "예측 요약 :  japan to launch st ever space station for st time\n",
      "\n",
      "\n",
      "79\n",
      "원문 : protesting arrest mumbai fire brigade officer connection kamala mills compound fire incident nearly fire officers across mumbai threatened collectively submit resignations officer arrested issuing objection certificate two restaurants involved case despite finding loopholes fire safety norms \n",
      "실제 요약 : fire officers threaten to quit over kamala mills fire arrest \n",
      "예측 요약 :  illegal vigilantes found in shelter shelter home shelter fire\n",
      "\n",
      "\n",
      "80\n",
      "원문 : tribal couple allegedly abducted thrashed made drink urine woman family marrying wishes district madhya pradesh couple said expected treatment husband father already paid bride price two people arrested search several others underway \n",
      "실제 요약 : mp tribal couple forced to drink urine by woman family \n",
      "예측 요약 :  woman arrested for molesting woman in mp\n",
      "\n",
      "\n",
      "81\n",
      "원문 : china either shut reduce operations several steel plants next five months reduce pollution beijing report non governmental environmental organisation greenpeace stated move aims cut particulate pollution cuts badly needed pm levels across several provinces reaching unhealthy levels report said \n",
      "실제 요약 : china to shut steel plants for months to curb pollution \n",
      "예측 요약 :  china bans sale of diesel by india amid shortage\n",
      "\n",
      "\n",
      "82\n",
      "원문 : treasurer scott morrison elected new prime minister australia winning internal vote former home affairs minister peter morrison take charge pm malcolm turnbull morrison election comes turnbull lost support majority party mps \n",
      "실제 요약 : to replace as australia prime minister \n",
      "예측 요약 :  uk pm modi resigns as prime minister\n",
      "\n",
      "\n",
      "83\n",
      "원문 : facebook announced million community leadership program award users building interactive groups platform million awarded five community leaders specific community initiatives comes facebook faced criticism allowing groups use platform propagate hate speech harmful content \n",
      "실제 요약 : fb to award mn to users for building groups \n",
      "예측 요약 :  facebook to launch new year for data in india\n",
      "\n",
      "\n",
      "84\n",
      "원문 : us air force wednesday denied existence santa claus official twitter account statement santa real air force later clarified tweet said north american aerospace defence command would tracking santa christmas eve progress \n",
      "실제 요약 : us air force tweets santa is not real on claim \n",
      "예측 요약 :  air india denies racist video of chinese air\n",
      "\n",
      "\n",
      "85\n",
      "원문 : maharashtra agriculture minister pandurang topped list cabinet meetings missing meetings held july may according rti response clarified missed two meetings personal reasons either attending state functions foreign tour rest meetings \n",
      "실제 요약 : maha agri minister took most leaves from cabinet meetings \n",
      "예측 요약 :  ministers to be included in rajasthan cm\n",
      "\n",
      "\n",
      "86\n",
      "원문 : hyderabad born wicketkeeper batsman ibrahim khaleel included usa squad icc division three world cricket league tournament held uganda may khaleel left hyderabad moved us stay wife doctor settled country \n",
      "실제 요약 : hyderabad based wicketkeeper included in usa cricket squad \n",
      "예측 요약 :  ex pacer once awarded lakh in world cup match\n",
      "\n",
      "\n",
      "87\n",
      "원문 : many six different indian players scored indian men hockey team thrashed japan asian champions trophy match sunday india first three matches tournament top points table six team tournament india next face malaysia tuesday \n",
      "실제 요약 : players score as india beat japan in asian champions trophy \n",
      "예측 요약 :  indian women hockey team wins world cup final\n",
      "\n",
      "\n",
      "88\n",
      "원문 : temple kerala thiruvananthapuram issued public notice asking devotees donate blood temple ritual part annual festival stating event scheduled march temple authorities notice reportedly mentioned government approved doctors supervise blood donation \n",
      "실제 요약 : kerala temple asks devotees to donate blood for ritual \n",
      "예측 요약 :  kerala temple vandalised in temple for days\n",
      "\n",
      "\n",
      "89\n",
      "원문 : stating various letter pm narendra modi wrote newly elected pakistani counterpart imran khan congress spokesperson manish tewari said pm modi make letter public clarification comes pakistan minister claimed pm modi offered open talks letter imran khan later claim \n",
      "실제 요약 : congress asks pm modi to make letter to new pak pm public \n",
      "예측 요약 :  pm modi has not even pm modi on pm modi hug\n",
      "\n",
      "\n",
      "90\n",
      "원문 : spanish engineer santos creator sex robot samantha claimed robot fitted dummy mode allow say unwanted human touch robot sensors skin detect touching becomes aggressive disrespectful priced samantha expected go mass production soon \n",
      "실제 요약 : sex robot can say no to unwanted human touch says creator \n",
      "예측 요약 :  chinese man caught stealing pizza using camera\n",
      "\n",
      "\n",
      "91\n",
      "원문 : university chicago led team observed first interactions particles called neutrinos atom nucleus using world smallest detector measuring inch inch predicted nucleus interactions imagined balls striking bowling ball said physicist study would help look dark matter makes universe mass \n",
      "실제 요약 : world smallest detector confirms yr old theory \n",
      "예측 요약 :  oxford scientists explain new universe\n",
      "\n",
      "\n",
      "92\n",
      "원문 : spacex announced japanese billionaire yusaku maezawa first ever paying passenger fly around moon ceo elon musk said far going sure maybe would join trip musk added yusaku person choose dangerous mission assured spacex would perform several test flights launching humans \n",
      "실제 요약 : may join japanese billionaire on dangerous trip to moon elon musk \n",
      "예측 요약 :  spacex to launch first ever rocket in india reports\n",
      "\n",
      "\n",
      "93\n",
      "원문 : indian railways allotted lakh upgradation premium trains like shatabdi rajdhani express scheme scheme trains get facilities like bio toilets varied meal options seats par luxury trains railway ministry identified areas including interiors improvement \n",
      "실제 요약 : railways allots lakh each to upgrade trains \n",
      "예측 요약 :  railways to get free trains on railway tracks\n",
      "\n",
      "\n",
      "94\n",
      "원문 : maharashtra real estate regulatory authority ordered properties private limited refund crore along interest homebuyers mumbai action taken homebuyers complaint receiving letter builder stating project santacruz could completed due delay various approvals \n",
      "실제 요약 : builder ordered to refund crore to mumbai homebuyers \n",
      "예측 요약 :  mumbai civic body to refund crore property for overcharging\n",
      "\n",
      "\n",
      "95\n",
      "원문 : madhya pradesh chief minister bjp leader shivraj singh chouhan brother law sanjay singh joined opposition party congress saturday sanjay singh joined party presence madhya pradesh congress chief kamal nath jyotiraditya scindia development comes day bjp released first list candidates madhya pradesh assembly election \n",
      "실제 요약 : madhya pradesh cm shivraj singh brother in law joins congress \n",
      "예측 요약 :  bjp mp cm chouhan joins bjp mp for not corrupt bjp mp\n",
      "\n",
      "\n",
      "96\n",
      "원문 : group activists wednesday launched website allows people across country report medical negligence malpractices activists aim patient rights violations present currently people complaints either approach consumer forums state medical reportedly cases since pending \n",
      "실제 요약 : activists launch website to report medical negligence \n",
      "예측 요약 :  hiv in india may have hiv hiv hiv hiv hiv hiv aids\n",
      "\n",
      "\n",
      "97\n",
      "원문 : india become world second largest mobile phone producer china per information shared indian cellular association according data annual production mobile phones india increased million units million units india replaced vietnam become second largest producer mobile phones \n",
      "실제 요약 : india becomes world second largest mobile phone producer \n",
      "예측 요약 :  india to launch india first indian startups in india report\n",
      "\n",
      "\n",
      "98\n",
      "원문 : indian officials set raise appeal commonwealth games federation two indian athletes rakesh babu kt irfan sent home violating game needle policy notably athletes blood urine samples taken tested cwg authorities showed signs doping \n",
      "실제 요약 : india to appeal of athletes over no needle policy \n",
      "예측 요약 :  indian women team to undergo check in india\n",
      "\n",
      "\n",
      "99\n",
      "원문 : every day million viruses deposited per square metre atmosphere according study scientists canada spain us majority bacteria viruses swept air sea spray onto lighter organic particles get deposited back earth via rain saharan dust said researchers \n",
      "실제 요약 : huge number of deposit back on earth each day study \n",
      "예측 요약 :  earth could be hit by antarctica study\n",
      "\n",
      "\n"
     ]
    }
   ],
   "source": [
    "for i in range(50, 100):\n",
    "    print(i)\n",
    "    print(\"원문 :\", seq2text(encoder_input_test[i]))\n",
    "    print(\"실제 요약 :\", seq2headlines(decoder_input_test[i]))\n",
    "    print(\"예측 요약 :\", decode_sequence(encoder_input_test[i].reshape(1, text_max_len)))\n",
    "    print(\"\\n\")"
   ]
  },
  {
   "cell_type": "markdown",
   "id": "055afb24",
   "metadata": {},
   "source": [
    "## 6.3 결과 정리"
   ]
  },
  {
   "cell_type": "code",
   "execution_count": 49,
   "id": "f0bbbb28",
   "metadata": {
    "scrolled": true
   },
   "outputs": [
    {
     "data": {
      "text/html": [
       "<div>\n",
       "<style scoped>\n",
       "    .dataframe tbody tr th:only-of-type {\n",
       "        vertical-align: middle;\n",
       "    }\n",
       "\n",
       "    .dataframe tbody tr th {\n",
       "        vertical-align: top;\n",
       "    }\n",
       "\n",
       "    .dataframe thead th {\n",
       "        text-align: right;\n",
       "    }\n",
       "</style>\n",
       "<table border=\"1\" class=\"dataframe\">\n",
       "  <thead>\n",
       "    <tr style=\"text-align: right;\">\n",
       "      <th></th>\n",
       "      <th>text 최대길이</th>\n",
       "      <th>headlines 최대길이</th>\n",
       "      <th>text 등장빈도수</th>\n",
       "      <th>headlines 등장빈도수</th>\n",
       "      <th>활성화함수</th>\n",
       "      <th>optimizer</th>\n",
       "      <th>batch size</th>\n",
       "      <th>loss</th>\n",
       "      <th>val_loss</th>\n",
       "    </tr>\n",
       "  </thead>\n",
       "  <tbody>\n",
       "    <tr>\n",
       "      <th>0</th>\n",
       "      <td>45</td>\n",
       "      <td>13</td>\n",
       "      <td>7</td>\n",
       "      <td>6</td>\n",
       "      <td>softmax</td>\n",
       "      <td>rmsprop</td>\n",
       "      <td>256</td>\n",
       "      <td>2.4922</td>\n",
       "      <td>3.3288</td>\n",
       "    </tr>\n",
       "    <tr>\n",
       "      <th>1</th>\n",
       "      <td>42</td>\n",
       "      <td>11</td>\n",
       "      <td>7</td>\n",
       "      <td>6</td>\n",
       "      <td>softmax</td>\n",
       "      <td>rmsprop</td>\n",
       "      <td>528</td>\n",
       "      <td>2.9316</td>\n",
       "      <td>4.2006</td>\n",
       "    </tr>\n",
       "    <tr>\n",
       "      <th>2</th>\n",
       "      <td>45</td>\n",
       "      <td>13</td>\n",
       "      <td>6</td>\n",
       "      <td>4</td>\n",
       "      <td>softmax</td>\n",
       "      <td>rmsprop</td>\n",
       "      <td>528</td>\n",
       "      <td>2.6033</td>\n",
       "      <td>3.5155</td>\n",
       "    </tr>\n",
       "    <tr>\n",
       "      <th>3</th>\n",
       "      <td>45</td>\n",
       "      <td>13</td>\n",
       "      <td>7</td>\n",
       "      <td>6</td>\n",
       "      <td>softmax</td>\n",
       "      <td>rmsprop</td>\n",
       "      <td>528</td>\n",
       "      <td>2.4288</td>\n",
       "      <td>3.3883</td>\n",
       "    </tr>\n",
       "    <tr>\n",
       "      <th>4</th>\n",
       "      <td>45</td>\n",
       "      <td>13</td>\n",
       "      <td>7</td>\n",
       "      <td>6</td>\n",
       "      <td>softmax</td>\n",
       "      <td>rmsprop</td>\n",
       "      <td>1024</td>\n",
       "      <td>2.4459</td>\n",
       "      <td>3.4213</td>\n",
       "    </tr>\n",
       "    <tr>\n",
       "      <th>5</th>\n",
       "      <td>45</td>\n",
       "      <td>13</td>\n",
       "      <td>7</td>\n",
       "      <td>6</td>\n",
       "      <td>relu</td>\n",
       "      <td>rmsprop</td>\n",
       "      <td>1024</td>\n",
       "      <td>2.4157</td>\n",
       "      <td>3.4117</td>\n",
       "    </tr>\n",
       "    <tr>\n",
       "      <th>6</th>\n",
       "      <td>45</td>\n",
       "      <td>13</td>\n",
       "      <td>7</td>\n",
       "      <td>6</td>\n",
       "      <td>relu</td>\n",
       "      <td>adam</td>\n",
       "      <td>1024</td>\n",
       "      <td>2.3237</td>\n",
       "      <td>3.3899</td>\n",
       "    </tr>\n",
       "  </tbody>\n",
       "</table>\n",
       "</div>"
      ],
      "text/plain": [
       "   text 최대길이  headlines 최대길이  text 등장빈도수  headlines 등장빈도수    활성화함수 optimizer  \\\n",
       "0         45              13           7                6  softmax   rmsprop   \n",
       "1         42              11           7                6  softmax   rmsprop   \n",
       "2         45              13           6                4  softmax   rmsprop   \n",
       "3         45              13           7                6  softmax   rmsprop   \n",
       "4         45              13           7                6  softmax   rmsprop   \n",
       "5         45              13           7                6     relu   rmsprop   \n",
       "6         45              13           7                6     relu      adam   \n",
       "\n",
       "   batch size    loss  val_loss  \n",
       "0         256  2.4922    3.3288  \n",
       "1         528  2.9316    4.2006  \n",
       "2         528  2.6033    3.5155  \n",
       "3         528  2.4288    3.3883  \n",
       "4        1024  2.4459    3.4213  \n",
       "5        1024  2.4157    3.4117  \n",
       "6        1024  2.3237    3.3899  "
      ]
     },
     "execution_count": 49,
     "metadata": {},
     "output_type": "execute_result"
    }
   ],
   "source": [
    "results = {'text 최대길이' : [45, 42, 45, 45, 45, 45, 45],\n",
    "           'headlines 최대길이' : [13, 11, 13, 13, 13, 13, 13],\n",
    "           'text 등장빈도수' : [7, 7, 6, 7, 7, 7, 7],\n",
    "           'headlines 등장빈도수' : [6, 6, 4, 6, 6, 6, 6],\n",
    "           '활성화함수' : ['softmax', 'softmax', 'softmax', 'softmax', 'softmax', 'relu', 'relu'],\n",
    "           'optimizer' : ['rmsprop', 'rmsprop', 'rmsprop', 'rmsprop', 'rmsprop', 'rmsprop', 'adam'],\n",
    "           'batch size' : [256, 528, 528, 528, 1024, 1024, 1024],\n",
    "          'loss' : [2.4922, 2.9316, 2.6033, 2.4288, 2.4459, 2.4157, 2.3237],\n",
    "          'val_loss' : [3.3288, 4.2006, 3.5155, 3.3883, 3.4213, 3.4117, 3.3899]}\n",
    "\n",
    "pd_results = pd.DataFrame(results)\n",
    "pd_results"
   ]
  },
  {
   "cell_type": "markdown",
   "id": "c06210fb",
   "metadata": {},
   "source": [
    "## 6.4 각 시도 별 예측 요약 문장"
   ]
  },
  {
   "cell_type": "markdown",
   "id": "42ef23f9",
   "metadata": {},
   "source": [
    "### <1번 시도>\n",
    "* 원문 : nawazuddin siddiqui said revealing details relationships ex girlfriends niharika singh sunita biography ordinary life memoir biggest mistake life taken names biography added niharika sunita accused nawazuddin making false claims relationships publicity  \n",
    "나와즈딘 시디키는 전 여자친구인 니하리카 싱 수니타 전기에서 가장 큰 실수를 한 자서전인 니하리카 수니타가 거짓 주장 관계를 홍보하고 있다고 덧붙였다.  \n",
    "  \n",
    "* 실제 요약 : biggest mistake of my life nawazuddin on his biography  \n",
    "그의 전기에 대한 내 인생의 가장 큰 실수  \n",
    "  \n",
    "* 예측 요약 :  nawazuddin nawazuddin was not nawazuddin on biography  \n",
    "나와주딘 나와주딘은 전기에 나와주딘이 아니었다.  \n",
    "  \n",
    "▶ nawazuddin이라는 단어가 예측 요약 문장에 총 3번이 들어간 것을 확인할 수 있다.val_loss가 가장 낮았음에도 요약이 잘 되지 않은 것을 확인할 수 있다."
   ]
  },
  {
   "cell_type": "markdown",
   "id": "47dd5bc1",
   "metadata": {},
   "source": [
    "### <2번 시도 / 3번 시도>  \n",
    "* 원문 : serbian football club red star open top bus caught fire team celebrating th league title victory parade serbian capital according reports blaze started player carrying accidentally set fire oil leaked bus club statement confirmed players hurt incident  \n",
    "세르비아 축구 클럽 레드 스타 오픈 탑 버스가 리그 우승 퍼레이드 세르비아 수도를 축하하던 중 화재가 발생, 선수들이 부상을 입은 것으로 확인됐다.\n",
    "* 실제 요약 : football team open top bus catches fire during celebration  \n",
    "축구팀 오픈 탑 버스가 축하하는 동안 불이 붙다.\n",
    "* 예측 요약 :  injured as bus bus catches fire in kerala  \n",
    "케랄라에서 버스에 불이 나서 부상당함  \n",
    "  \n",
    "▶ 'kerala'가 갑자기 어디에서 나왔는지는 모르겠지만, 그것만 제외하면 나름 요약이 잘되었다.   \n",
    "▶ 신기하게도 2번 시도와 3번시도는 최대 길이 등 다르게 설정한 것이 많고 val_loss가 꽤 차이가 남에도 불구하고 동일하게 나온 것들이 꽤나 있었다. 이 부분은 굉장히 의아하다."
   ]
  },
  {
   "cell_type": "markdown",
   "id": "928716eb",
   "metadata": {},
   "source": [
    "### <4번 시도>\n",
    "* 원문 : serbian football club red star open top bus caught fire team celebrating th league title victory parade serbian capital according reports blaze started player carrying accidentally set fire oil leaked bus club statement confirmed players hurt incident  \n",
    "세르비아 축구 클럽 레드 스타 오픈 탑 버스가 리그 우승 퍼레이드 세르비아 수도를 축하하던 중 화재가 발생, 선수들이 부상을 입은 것으로 확인됐다.\n",
    "* 실제 요약 : football team open top bus catches fire during celebration  \n",
    "축구팀 오픈 탑 버스가 축하하는 동안 불이 붙다.\n",
    "* 예측 요약 :  wins real madrid win in th game of game in russia  \n",
    "러시아 게임에서 레알 마드리드가 이기다.  \n",
    "  \n",
    "▶ 2,3번 시도와 동일한 원문인데 전혀 다른 문장이 출력되었다. val_loss가 낮아서 잘 요약되지 않았을까 기대를 하였지만 훨씬 좋지 않은 요약이다."
   ]
  },
  {
   "cell_type": "markdown",
   "id": "51eef179",
   "metadata": {},
   "source": [
    "### <5번 시도>\n",
    "* 원문 : us president donald trump administration scrapped obama era guidance investigating campus sexual assault allowing universities decide standards evidence used investigations us education secretary said rules unfairly accused students rights groups claimed new laws discourage students reporting cases  \n",
    "미국 대통령 도널드 트럼프는 대학들이 조사를 이용한 표준 증거를 결정하도록 허용하면서 캠퍼스 성폭력을 조사하는 오바마 시대의 지침을 폐기했다.\n",
    "* 실제 요약 : trump govt scraps obama era campus sexual assault  \n",
    "트럼프 정부, 오바마 시대 캠퍼스 성폭행 폐기\n",
    "* 예측 요약 :  trump slams un for sexual assault awareness  \n",
    "트럼프, 성폭행 인식에 대해 맹비난하다\n",
    "\n",
    "---\n",
    "\n",
    "* 원문 : india seema punia bagged fourth successive medal commonwealth games winning silver women discus throw final throw gold coast thursday year old three silver medals one bronze games another indian athlete dhillon bronze event  \n",
    "인도 푸니아는 코먼웰스 게임에서 4연속 메달을 획득했다. 여자 원반던지기 결승골드코스트에서 3개의 은메달이 나왔다.\n",
    "* 실제 요약 : wins th straight cwg medal  \n",
    "연속 CWG 메달을 획득하다\n",
    "* 예측 요약 :  india win india st medal at asiad  \n",
    "인도가 아시아드에서 메달을 따다\n",
    "  \n",
    "▶ 5번 시도에서 요약이 잘 된 것으로 보인다. 원문에는 없는 단어가 출력되긴 하지만 그래도 그것을 제외하면 나름 잘 요약이 되었다."
   ]
  },
  {
   "cell_type": "markdown",
   "id": "35f949c4",
   "metadata": {},
   "source": [
    "### <6번 시도>\n",
    "* 원문 : ride hailing startup uber planning launch cheapest cab service express pool india uber executive singh said company feature india part expanding lowest cost offering express pool allows users walk spot rather drivers arriving reduces ride fares much  \n",
    "스타트업 우버 기획 런칭 택시 서비스 인도 우버 익스프레스 풀 이그제큐티브 싱은 \"회사 특징인 인도 우버 익스프레스 풀은 도착하는 운전자가 탑승 요금을 크게 줄이는 대신 사용자가 스팟을 걸을 수 있도록 해준다\"고 말했다.\n",
    "* 실제 요약 : uber cheapest cab service express pool to launch in india  \n",
    "인도에서 가장 저렴한 택시 서비스 익스프레스 풀 출시\n",
    "* 예측 요약 :  uber to launch new york taxi service in india  \n",
    "우버, 인도에서 뉴욕 택시 서비스를 시작하다\n",
    "\n",
    "---\n",
    "\n",
    "* 원문 : indian origin man second prize crore lottery abu dhabi man bought ticket worth four friends would sharing lottery prize recently indian man lottery nearly crore uae\n",
    "복권 당첨자 2등 크로어 복권 아부다비 남자가 친구 4명분의 복권을 샀는데 최근에는 크로어 복권 당첨자들도 복권 당첨자 2등 크로어 복권 당첨자는 거의 크로어 아랍에미리트이다.\n",
    "* 실제 요약 : indian man wins lottery of over crore in abu dhabi\n",
    "아부다비에서 인도 남자가 크로어 이상의 복권에 당첨되다.\n",
    "* 예측 요약 :  indian origin man wins crore lottery lottery  \n",
    "인도 출신 남성이 크로어 복권에 당첨되다.\n",
    "\n",
    "▶ 6번 시도도 5번 시도와 같이 원문에는 없는 단어가 출력되긴 하지만 그래도 요약이 나름 잘 된 것으로 보인다."
   ]
  },
  {
   "cell_type": "markdown",
   "id": "3d94c12e",
   "metadata": {},
   "source": [
    "### <7번 시도>\n",
    "* 원문 : china thursday opened first highway built wireless charging systems electric vehicles country province one kilometre long road contains panels convert sunlight electricity china become world second country construct highway france introduced road fitted solar panels  \n",
    "중국이 27일(현지시간) 1km 길이의 고속도로를 개통했다. 이 도로는 태양광 전기를 변환하는 패널을 포함하고 있다.\n",
    "* 실제 요약 : china opens its st highway with wireless charging systems  \n",
    "중국은 무선 충전 시스템으로 고속도로를 개방한다.\n",
    "* 예측 요약 :  china launches its first electric truck in china  \n",
    "중국은 중국에서 첫 전기 트럭을 출시한다.\n",
    "  \n",
    "▶ 7번 시도의 경우, 5, 6번에 비해 요약이 잘 되지 않은 것을 확인할 수 있다."
   ]
  },
  {
   "cell_type": "markdown",
   "id": "5058905e",
   "metadata": {},
   "source": [
    "---\n",
    "---\n",
    "---"
   ]
  },
  {
   "cell_type": "markdown",
   "id": "939a819a",
   "metadata": {},
   "source": [
    "# [추출적 요약]\n",
    "* 추출적 요약 : 본문에 존재하는 단어구, 문장을 뽑아서 요약\n",
    "* 패키지 ` Summa`에서 추출적 요약을 위한 모듈인 `summarize`를 제공"
   ]
  },
  {
   "cell_type": "markdown",
   "id": "c6ed97d5",
   "metadata": {},
   "source": [
    "# Step 0. 라이브러리 불러오기"
   ]
  },
  {
   "cell_type": "code",
   "execution_count": 50,
   "id": "8516f90e",
   "metadata": {},
   "outputs": [],
   "source": [
    "import requests\n",
    "from summa.summarizer import summarize"
   ]
  },
  {
   "cell_type": "markdown",
   "id": "3a7eee1a",
   "metadata": {},
   "source": [
    "# Step 1. 데이터 확인하기"
   ]
  },
  {
   "cell_type": "code",
   "execution_count": 68,
   "id": "73f0cea8",
   "metadata": {},
   "outputs": [],
   "source": [
    "data_summa = pd.read_csv('news_summary_more.csv', encoding='iso-8859-1')"
   ]
  },
  {
   "cell_type": "code",
   "execution_count": 70,
   "id": "f2f87887",
   "metadata": {},
   "outputs": [
    {
     "data": {
      "text/plain": [
       "0    Saurav Kant, an alumnus of upGrad and IIIT-B's...\n",
       "1    Kunal Shah's credit card bill payment platform...\n",
       "2    New Zealand defeated India by 8 wickets in the...\n",
       "3    With Aegon Life iTerm Insurance plan, customer...\n",
       "4    Speaking about the sexual harassment allegatio...\n",
       "Name: text, dtype: object"
      ]
     },
     "execution_count": 70,
     "metadata": {},
     "output_type": "execute_result"
    }
   ],
   "source": [
    "text_summa = data_summa['text']\n",
    "text_summa.head()"
   ]
  },
  {
   "cell_type": "code",
   "execution_count": 71,
   "id": "75a11638",
   "metadata": {},
   "outputs": [
    {
     "data": {
      "text/plain": [
       "0    upGrad learner switches to career in ML & Al w...\n",
       "1    Delhi techie wins free food from Swiggy for on...\n",
       "2    New Zealand end Rohit Sharma-led India's 12-ma...\n",
       "3    Aegon life iTerm insurance plan helps customer...\n",
       "4    Have known Hirani for yrs, what if MeToo claim...\n",
       "Name: headlines, dtype: object"
      ]
     },
     "execution_count": 71,
     "metadata": {},
     "output_type": "execute_result"
    }
   ],
   "source": [
    "headlines_summa = data_summa['headlines']\n",
    "headlines_summa.head()"
   ]
  },
  {
   "cell_type": "markdown",
   "id": "d200d463",
   "metadata": {},
   "source": [
    "# Step 2. 추출적 요약하기\n",
    "* text_summa (str) : 요약할 텍스트\n",
    "* ratio (float, optional) – 요약문에서 원본에서 선택되는 문장 비율. 0~1 사이값\n",
    "* words (int or None, optional) – 출력에 포함할 단어 수.  \n",
    "    (만약, ratio와 함께 두 파라미터가 모두 제공되는 경우 ratio는 무시한다.)\n",
    "* split (bool, optional) – True면 문장 list / False는 조인(join)된 문자열을 반환"
   ]
  },
  {
   "cell_type": "markdown",
   "id": "17b5013c",
   "metadata": {},
   "source": [
    "* ratio(요약문에서 원본이 선택되는 문장 비율)을 0.4로 설정하였다. 비율을 0.5, 0.6으로 하였을 때와 동일한 요약 결과가 나왔다.\n",
    "* 0.7로 하였을 땐 요약 문장이 너무나 길어 0.4로 설정하여 진행하였다."
   ]
  },
  {
   "cell_type": "code",
   "execution_count": 90,
   "id": "0f2b1c6b",
   "metadata": {
    "scrolled": true
   },
   "outputs": [
    {
     "name": "stdout",
     "output_type": "stream",
     "text": [
      "headlines_summa : \n",
      "upGrad's Online Power Learning has powered 3 lakh+ careers.\n"
     ]
    }
   ],
   "source": [
    "print('headlines_summa : ')\n",
    "print(summarize(text_summa.apply(str).iloc[0], ratio = 0.4))"
   ]
  },
  {
   "cell_type": "markdown",
   "id": "40d37b5d",
   "metadata": {},
   "source": [
    "* 리스트로 출력 결과를 받기 위해서는 `split = True`로 해주면 된다."
   ]
  },
  {
   "cell_type": "code",
   "execution_count": 84,
   "id": "c5e42b6d",
   "metadata": {},
   "outputs": [
    {
     "name": "stdout",
     "output_type": "stream",
     "text": [
      "headlines_summa : \n",
      "[\"upGrad's Online Power Learning has powered 3 lakh+ careers.\"]\n"
     ]
    }
   ],
   "source": [
    "print('headlines_summa : ')\n",
    "print(summarize(text_summa.apply(str).iloc[0], ratio = 0.4, split = True))"
   ]
  },
  {
   "cell_type": "markdown",
   "id": "de25e310",
   "metadata": {},
   "source": [
    "* 비율이 아닌 단어 수로 지정하였는데 비율 0.4는 단어 15개와 동일한 결과가 나온다는 것을 알 수 있다.\n",
    "* 단어 수 또한 비율과 마찬가지로 15개 ~ 19개까지는 동일한 결과가 나왔으며 20개부터는 더욱 긴 문장이 나왔으나 너무 길어 15개로 설정하여 진행하였다."
   ]
  },
  {
   "cell_type": "code",
   "execution_count": 95,
   "id": "63286b28",
   "metadata": {},
   "outputs": [
    {
     "name": "stdout",
     "output_type": "stream",
     "text": [
      "headlines_summa : \n",
      "upGrad's Online Power Learning has powered 3 lakh+ careers.\n"
     ]
    }
   ],
   "source": [
    "print('headlines_summa : ')\n",
    "print(summarize(text_summa.apply(str).iloc[0], words = 15))"
   ]
  },
  {
   "cell_type": "markdown",
   "id": "e2b8d9f3",
   "metadata": {},
   "source": [
    "* 단어수 15개로 지정하여 원문(text), 실제요약(headlines), 예측요약을 확인해보았다.\n",
    "* 예측 요약으로 나온 문장은 다름이 아니라 원문의 가장 마지막 줄이었다...."
   ]
  },
  {
   "cell_type": "code",
   "execution_count": 83,
   "id": "7dd42362",
   "metadata": {
    "scrolled": false
   },
   "outputs": [
    {
     "name": "stdout",
     "output_type": "stream",
     "text": [
      "원문 : \n",
      "Saurav Kant, an alumnus of upGrad and IIIT-B's PG Program in Machine learning and Artificial Intelligence, was a Sr Systems Engineer at Infosys with almost 5 years of work experience. The program and upGrad's 360-degree career support helped him transition to a Data Scientist at Tech Mahindra with 90% salary hike. upGrad's Online Power Learning has powered 3 lakh+ careers.\n",
      "실제요약 : \n",
      "upGrad learner switches to career in ML & Al with 90% salary hike\n",
      "예측요약 : \n",
      "upGrad's Online Power Learning has powered 3 lakh+ careers.\n"
     ]
    }
   ],
   "source": [
    "print('원문 : ')\n",
    "print(text_summa.iloc[0])\n",
    "\n",
    "print('실제요약 : ')\n",
    "print(headlines_summa.iloc[0])\n",
    "\n",
    "print('예측요약 : ')\n",
    "print(summarize(text_summa.apply(str).iloc[0], words = 15))"
   ]
  },
  {
   "cell_type": "code",
   "execution_count": 96,
   "id": "8b8b02a1",
   "metadata": {},
   "outputs": [
    {
     "name": "stdout",
     "output_type": "stream",
     "text": [
      "원문 : \n",
      "New Zealand defeated India by 8 wickets in the fourth ODI at Hamilton on Thursday to win their first match of the five-match ODI series. India lost an international match under Rohit Sharma's captaincy after 12 consecutive victories dating back to March 2018. The match witnessed India getting all out for 92, their seventh lowest total in ODI cricket history.\n",
      "실제요약 : \n",
      "New Zealand end Rohit Sharma-led India's 12-match winning streak\n",
      "예측요약 : \n",
      "The match witnessed India getting all out for 92, their seventh lowest total in ODI cricket history.\n"
     ]
    }
   ],
   "source": [
    "print('원문 : ')\n",
    "print(text_summa.iloc[2])\n",
    "\n",
    "print('실제요약 : ')\n",
    "print(headlines_summa.iloc[2])\n",
    "\n",
    "print('예측요약 : ')\n",
    "print(summarize(text_summa.apply(str).iloc[2], words = 15))"
   ]
  },
  {
   "cell_type": "markdown",
   "id": "94111826",
   "metadata": {},
   "source": [
    "---\n",
    "---\n",
    "---"
   ]
  },
  {
   "cell_type": "markdown",
   "id": "cb3b0196",
   "metadata": {},
   "source": [
    "# 회고"
   ]
  },
  {
   "cell_type": "markdown",
   "id": "97cdbce4",
   "metadata": {},
   "source": [
    "## 1. 추상적 요약\n",
    "* text, headlines의 최대길이와 등장빈도수를 조절하여 빈도수가 낮은 단어를 제외하는 것들에 대해 다양하게 설정해보았다.\n",
    "* 최대 길이는 이상치만 제거하는 방향으로 진행하였다. 혹시나 그 이상으로 제거하였을 때는 어떨까해서 해보았지만 val_loss가 높게 나왔다. 그래서 이상치만 제거하여 데이터의 수를 최대한으로 가져가는 방향으로 진행하였다.\n",
    "* 등장빈도수를 낮게 잡아 단어를 많이 제거하지 않는 시도를 해보았으나 큰 차이가 없어서 기존과 그대로 등장 빈도수를 설정하여 진행하였다.\n",
    "* 다중 클래스 분류 문제를 푸는데 사용되는 활성화 함수인 `softmax` 함수로 프로젝트 진행하다가 `relu` 함수로 변경하여 진행하였다. 활성화함수 중에서 가장 많이 사용하는 함수라고 해서 사용을 하였고, 예측 결과가 나쁘지 않아서 `relu`함수로 계속 진행하였다.  \n",
    "    하지만 이번 프로젝트에서 정확하게 `softmax`함수가 아닌 `relu`함수를 사용해야 하는 이유를 알지 못한 채로 사용한거라 활성화함수를 더 공부해야 겠다는 생각이 들었다.\n",
    "* 모델 훈련 시 optimizer를  기존의 `rmsprop`으로 진행하였다가 `adam`으로 변경하였다. `adam`은 `rmsprop` + `momentum`을 섞어놓은 옵티마이저라고 하여 더 효율이 좋을 거란 판단으로 실행하였다. loss와 val_loss가 가장 낮게 나오긴 했으나 제대로 예측을 하지 못하는 것 같아 다시 `rmsprop`으로 진행하였다.\n",
    "* batch_size를 256, 518, 1024로 늘려서 해보았는데, 큰 영향을 미치지 않은 것 같아서 시간 절약을 위해 1024로 진행하였다."
   ]
  },
  {
   "cell_type": "markdown",
   "id": "24111f75",
   "metadata": {},
   "source": [
    "## 2. 추출적 요약"
   ]
  },
  {
   "cell_type": "markdown",
   "id": "26980bef",
   "metadata": {},
   "source": [
    "* 추출적 요약에서 가장 충격적인 결과는 예측 요약 문장이 원문의 가장 마지막 문장이라는 것이었다. 혹시나 해서 다른 원문으로도 확인해보았는데, 그 결과는 동일하였다.\n",
    "* 그래서 추출적 요약보다는 추상적 요약이 훨씬 예측을 잘한다는 것을 알 수 있었다.\n",
    "* 추가로 동일한 원문을 추상적 요약과 추출적 요약을 비교해보고 싶었으나, 나의 한계로 인해 하지 못하였다... 다른 분들이 하기엔 쉬울 것 같은데 나는 하지 못해서 너무나 아쉬웠다.....ㅠㅠ..."
   ]
  },
  {
   "cell_type": "markdown",
   "id": "0ddf0ab5",
   "metadata": {},
   "source": [
    "## 3. 정리\n",
    "* 이번 익스가 시간적 여유가 있어서 그런지 더 상세하게 공부를 했던 것 같다. 사용되는 개념을 더 꼼꼼히 보고 정리할 수 있었다.\n",
    "* 추상적 요약을 다양하게 시도를 하면서 '활성화함수'와 '옵티마이저', 'LSTM' 등 상세히 공부할 수 있었다. 다음 익스도 이렇게 공부하면서 해봐야겠다,,,!\n",
    "* 자연어 처리는 명확한 결과가 나오지 않아서 프로젝트를 마무리하는데도 뭔가 찝찝하다.\n",
    "* 이것이 잘된 처리인지, 잘 되지 않은 처리인지 내가 이렇게 판단을 해도 되는 건가 싶기도 하다.\n",
    "* 그리고 loss 값과 결과값이 생각보다 매치가 잘 안되는 것 같은데, 이런 결론을 내도 되는지는 잘 모르겠다."
   ]
  }
 ],
 "metadata": {
  "kernelspec": {
   "display_name": "Python 3 (ipykernel)",
   "language": "python",
   "name": "python3"
  },
  "language_info": {
   "codemirror_mode": {
    "name": "ipython",
    "version": 3
   },
   "file_extension": ".py",
   "mimetype": "text/x-python",
   "name": "python",
   "nbconvert_exporter": "python",
   "pygments_lexer": "ipython3",
   "version": "3.9.7"
  }
 },
 "nbformat": 4,
 "nbformat_minor": 5
}
