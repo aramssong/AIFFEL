{
 "cells": [
  {
   "cell_type": "markdown",
   "id": "67bc11eb",
   "metadata": {},
   "source": [
    "# Exp8. 뉴스기사 요약해보기\n"
   ]
  },
  {
   "cell_type": "markdown",
   "id": "a71ecc74",
   "metadata": {},
   "source": [
    "# 🗼 목차\n",
    "## [추상적 요약]\n",
    "Step 0. 라이브러리 불러오기  \n",
    "\n",
    "Step 1. 데이터 수집하기   \n",
    "\n",
    "Step 2. 데이터 전처리하기    \n",
    "     2.1 데이터 정리하기  \n",
    "     2.2 훈련데이터, 테스트데이터 나누기  \n",
    "     2.3 정수 인코딩  \n",
    "     \n",
    "Step 3. 모델 설계 (훈련단계 모델)  \n",
    "     3.1 인코더(encoder) 설계  \n",
    "     3.2 디코더(decoder) 설계  \n",
    "     3.3 디코더의 출력층 설계  \n",
    "     3.4 어텐션 메커니즘  \n",
    "     \n",
    "Step 4. 모델 훈련하기  \n",
    "\n",
    "Step 5. 인퍼런스 모델 구현하기 (동작 모델)  \n",
    "\n",
    "Step 6. 모델 테스트  \n",
    "     6.1 정수 시퀀스를 텍스트 시퀀스로 변환  \n",
    "     6.2 실제 요약 vs 예측된 요약  \n",
    "     6.3 결과 정리  \n",
    "     6.4 각 시도 별 예측 요약 문장    \n",
    "     \n",
    "     \n",
    "## [추출적 요약]\n",
    "Step 0. 라이브러리 불러오기  \n",
    "Step 1. 데이터 불러오기  \n",
    "Step 2. 추출적 요약하기"
   ]
  },
  {
   "cell_type": "markdown",
   "id": "0b5da553",
   "metadata": {},
   "source": [
    "---\n",
    "---\n",
    "---"
   ]
  },
  {
   "cell_type": "markdown",
   "id": "d79567f8",
   "metadata": {},
   "source": [
    "# [추상적 요약]"
   ]
  },
  {
   "cell_type": "markdown",
   "id": "0c757b58",
   "metadata": {},
   "source": [
    "# Step 0. 라이브러리 불러오기"
   ]
  },
  {
   "cell_type": "code",
   "execution_count": 1,
   "id": "c2eab099",
   "metadata": {},
   "outputs": [
    {
     "name": "stderr",
     "output_type": "stream",
     "text": [
      "[nltk_data] Downloading package stopwords to /aiffel/nltk_data...\n",
      "[nltk_data]   Unzipping corpora/stopwords.zip.\n"
     ]
    },
    {
     "name": "stdout",
     "output_type": "stream",
     "text": [
      "=3\n"
     ]
    }
   ],
   "source": [
    "import nltk\n",
    "nltk.download('stopwords')\n",
    "\n",
    "import numpy as np\n",
    "import pandas as pd\n",
    "import os\n",
    "import re\n",
    "import matplotlib.pyplot as plt\n",
    "from nltk.corpus import stopwords\n",
    "from bs4 import BeautifulSoup \n",
    "from tensorflow.keras.preprocessing.text import Tokenizer \n",
    "from tensorflow.keras.preprocessing.sequence import pad_sequences\n",
    "import urllib.request\n",
    "import warnings\n",
    "warnings.filterwarnings(\"ignore\", category=UserWarning, module='bs4')\n",
    "\n",
    "print('=3')"
   ]
  },
  {
   "cell_type": "markdown",
   "id": "cca1bfbe",
   "metadata": {},
   "source": [
    "---"
   ]
  },
  {
   "cell_type": "markdown",
   "id": "b97c677f",
   "metadata": {},
   "source": [
    "# Step 1. 데이터 수집하기"
   ]
  },
  {
   "cell_type": "markdown",
   "id": "b07f6eea",
   "metadata": {},
   "source": [
    "## 1.1 데이터 다운로드"
   ]
  },
  {
   "cell_type": "markdown",
   "id": "3104c358",
   "metadata": {},
   "source": [
    "* [sunnysai12345/News_Summary](https://github.com/sunnysai12345/News_Summary)에서 데이터를 가져왔다."
   ]
  },
  {
   "cell_type": "code",
   "execution_count": 2,
   "id": "c7fab208",
   "metadata": {},
   "outputs": [],
   "source": [
    "import pandas as pd\n",
    "import urllib.request\n",
    "\n",
    "urllib.request.urlretrieve(\"https://raw.githubusercontent.com/sunnysai12345/News_Summary/master/news_summary_more.csv\", filename=\"news_summary_more.csv\")\n",
    "data = pd.read_csv('news_summary_more.csv', encoding='iso-8859-1')"
   ]
  },
  {
   "cell_type": "markdown",
   "id": "b5d77372",
   "metadata": {},
   "source": [
    "## 1.2 데이터 확인\n",
    "* 불러온 데이터는 **text, headlines**로 구성되어 있다.\n",
    "* 추상적 요약 : text를 본문, headlines를 이미 요약된 데이터로 삼아서 모델 학습이 가능하다.\n",
    "* 추출적 요약 : 오직 text열만을 사용하여 요약한다."
   ]
  },
  {
   "cell_type": "code",
   "execution_count": 3,
   "id": "9e64c49e",
   "metadata": {
    "scrolled": false
   },
   "outputs": [
    {
     "data": {
      "text/html": [
       "<div>\n",
       "<style scoped>\n",
       "    .dataframe tbody tr th:only-of-type {\n",
       "        vertical-align: middle;\n",
       "    }\n",
       "\n",
       "    .dataframe tbody tr th {\n",
       "        vertical-align: top;\n",
       "    }\n",
       "\n",
       "    .dataframe thead th {\n",
       "        text-align: right;\n",
       "    }\n",
       "</style>\n",
       "<table border=\"1\" class=\"dataframe\">\n",
       "  <thead>\n",
       "    <tr style=\"text-align: right;\">\n",
       "      <th></th>\n",
       "      <th>headlines</th>\n",
       "      <th>text</th>\n",
       "    </tr>\n",
       "  </thead>\n",
       "  <tbody>\n",
       "    <tr>\n",
       "      <th>0</th>\n",
       "      <td>upGrad learner switches to career in ML &amp; Al w...</td>\n",
       "      <td>Saurav Kant, an alumnus of upGrad and IIIT-B's...</td>\n",
       "    </tr>\n",
       "    <tr>\n",
       "      <th>1</th>\n",
       "      <td>Delhi techie wins free food from Swiggy for on...</td>\n",
       "      <td>Kunal Shah's credit card bill payment platform...</td>\n",
       "    </tr>\n",
       "    <tr>\n",
       "      <th>2</th>\n",
       "      <td>New Zealand end Rohit Sharma-led India's 12-ma...</td>\n",
       "      <td>New Zealand defeated India by 8 wickets in the...</td>\n",
       "    </tr>\n",
       "    <tr>\n",
       "      <th>3</th>\n",
       "      <td>Aegon life iTerm insurance plan helps customer...</td>\n",
       "      <td>With Aegon Life iTerm Insurance plan, customer...</td>\n",
       "    </tr>\n",
       "    <tr>\n",
       "      <th>4</th>\n",
       "      <td>Have known Hirani for yrs, what if MeToo claim...</td>\n",
       "      <td>Speaking about the sexual harassment allegatio...</td>\n",
       "    </tr>\n",
       "  </tbody>\n",
       "</table>\n",
       "</div>"
      ],
      "text/plain": [
       "                                           headlines  \\\n",
       "0  upGrad learner switches to career in ML & Al w...   \n",
       "1  Delhi techie wins free food from Swiggy for on...   \n",
       "2  New Zealand end Rohit Sharma-led India's 12-ma...   \n",
       "3  Aegon life iTerm insurance plan helps customer...   \n",
       "4  Have known Hirani for yrs, what if MeToo claim...   \n",
       "\n",
       "                                                text  \n",
       "0  Saurav Kant, an alumnus of upGrad and IIIT-B's...  \n",
       "1  Kunal Shah's credit card bill payment platform...  \n",
       "2  New Zealand defeated India by 8 wickets in the...  \n",
       "3  With Aegon Life iTerm Insurance plan, customer...  \n",
       "4  Speaking about the sexual harassment allegatio...  "
      ]
     },
     "execution_count": 3,
     "metadata": {},
     "output_type": "execute_result"
    }
   ],
   "source": [
    "data.head()"
   ]
  },
  {
   "cell_type": "code",
   "execution_count": 4,
   "id": "a95f19e2",
   "metadata": {},
   "outputs": [
    {
     "name": "stdout",
     "output_type": "stream",
     "text": [
      "text의 개수 :  98401\n",
      "headlines의 개수 :  98401\n"
     ]
    }
   ],
   "source": [
    "print('text의 개수 : ', len(data['text']))\n",
    "print('headlines의 개수 : ', len(data['headlines']))"
   ]
  },
  {
   "cell_type": "markdown",
   "id": "972384f1",
   "metadata": {},
   "source": [
    "---"
   ]
  },
  {
   "cell_type": "markdown",
   "id": "240bfa14",
   "metadata": {},
   "source": [
    "# Step 2. 데이터 전처리하기"
   ]
  },
  {
   "cell_type": "markdown",
   "id": "9baea301",
   "metadata": {},
   "source": [
    "## 2.1 데이터 정리하기"
   ]
  },
  {
   "cell_type": "markdown",
   "id": "4498425b",
   "metadata": {},
   "source": [
    "### 2.1.1 중복 샘플, NULL 값 제거"
   ]
  },
  {
   "cell_type": "code",
   "execution_count": 5,
   "id": "b453a49d",
   "metadata": {},
   "outputs": [
    {
     "name": "stdout",
     "output_type": "stream",
     "text": [
      "text에서 중복 제외한 샘플 수 :  98360\n",
      "headlines에서 중복 제외한 샘플 수 :  98280\n"
     ]
    }
   ],
   "source": [
    "print('text에서 중복 제외한 샘플 수 : ', data['text'].nunique())\n",
    "print('headlines에서 중복 제외한 샘플 수 : ', data['headlines'].nunique())"
   ]
  },
  {
   "cell_type": "markdown",
   "id": "45f040a5",
   "metadata": {},
   "source": [
    "* **data 중 text만 중복 제거한 이유**  \n",
    "    → 짧은 단어로 요약되는 경우, 다른 text라도 동일한 headline이 나올 수 있다.  \n",
    "    → 그렇기에 headline은 중복 제거를 하지 않는다. 중복 제거를 할 수는 있지만 그럴 경우 데이터의 양이 줄어들기 때문에 headlines는 중복 제거를 하지 않았다."
   ]
  },
  {
   "cell_type": "code",
   "execution_count": 6,
   "id": "b1c255bd",
   "metadata": {},
   "outputs": [
    {
     "name": "stdout",
     "output_type": "stream",
     "text": [
      "전체 샘플수 :  98360\n",
      "중복 제거한 text의 개수 :  98360\n"
     ]
    }
   ],
   "source": [
    "# drop_duplicates() : 중복 샘플 제거\n",
    "# inplace = True : DataFrame 타입 값을 return하지 않고 data 내부를 직접적으로 바꿈\n",
    "\n",
    "data.drop_duplicates(subset = ['text'], inplace = True)\n",
    "print('전체 샘플수 : ', (len(data)))\n",
    "print('중복 제거한 text의 개수 : ', len(data['text']))"
   ]
  },
  {
   "cell_type": "code",
   "execution_count": 7,
   "id": "503f02dd",
   "metadata": {},
   "outputs": [
    {
     "name": "stdout",
     "output_type": "stream",
     "text": [
      "headlines    0\n",
      "text         0\n",
      "dtype: int64\n"
     ]
    }
   ],
   "source": [
    "# text, headline의 null 값이 있는지 확인\n",
    "\n",
    "print(data.isnull().sum()) "
   ]
  },
  {
   "cell_type": "markdown",
   "id": "0021ea03",
   "metadata": {},
   "source": [
    "### 2.1.2 텍스트 정규화, 불용어 제거"
   ]
  },
  {
   "cell_type": "code",
   "execution_count": 8,
   "id": "3a3f27b4",
   "metadata": {},
   "outputs": [
    {
     "name": "stdout",
     "output_type": "stream",
     "text": [
      "정규화 사전의 수:  120\n"
     ]
    }
   ],
   "source": [
    "# 텍스트 정규화 (정규화 사전에서 가져옴)\n",
    "\n",
    "contractions = {\"ain't\": \"is not\", \"aren't\": \"are not\",\"can't\": \"cannot\", \"'cause\": \"because\", \"could've\": \"could have\", \"couldn't\": \"could not\",\n",
    "                           \"didn't\": \"did not\",  \"doesn't\": \"does not\", \"don't\": \"do not\", \"hadn't\": \"had not\", \"hasn't\": \"has not\", \"haven't\": \"have not\",\n",
    "                           \"he'd\": \"he would\",\"he'll\": \"he will\", \"he's\": \"he is\", \"how'd\": \"how did\", \"how'd'y\": \"how do you\", \"how'll\": \"how will\", \"how's\": \"how is\",\n",
    "                           \"I'd\": \"I would\", \"I'd've\": \"I would have\", \"I'll\": \"I will\", \"I'll've\": \"I will have\",\"I'm\": \"I am\", \"I've\": \"I have\", \"i'd\": \"i would\",\n",
    "                           \"i'd've\": \"i would have\", \"i'll\": \"i will\",  \"i'll've\": \"i will have\",\"i'm\": \"i am\", \"i've\": \"i have\", \"isn't\": \"is not\", \"it'd\": \"it would\",\n",
    "                           \"it'd've\": \"it would have\", \"it'll\": \"it will\", \"it'll've\": \"it will have\",\"it's\": \"it is\", \"let's\": \"let us\", \"ma'am\": \"madam\",\n",
    "                           \"mayn't\": \"may not\", \"might've\": \"might have\",\"mightn't\": \"might not\",\"mightn't've\": \"might not have\", \"must've\": \"must have\",\n",
    "                           \"mustn't\": \"must not\", \"mustn't've\": \"must not have\", \"needn't\": \"need not\", \"needn't've\": \"need not have\",\"o'clock\": \"of the clock\",\n",
    "                           \"oughtn't\": \"ought not\", \"oughtn't've\": \"ought not have\", \"shan't\": \"shall not\", \"sha'n't\": \"shall not\", \"shan't've\": \"shall not have\",\n",
    "                           \"she'd\": \"she would\", \"she'd've\": \"she would have\", \"she'll\": \"she will\", \"she'll've\": \"she will have\", \"she's\": \"she is\",\n",
    "                           \"should've\": \"should have\", \"shouldn't\": \"should not\", \"shouldn't've\": \"should not have\", \"so've\": \"so have\",\"so's\": \"so as\",\n",
    "                           \"this's\": \"this is\",\"that'd\": \"that would\", \"that'd've\": \"that would have\", \"that's\": \"that is\", \"there'd\": \"there would\",\n",
    "                           \"there'd've\": \"there would have\", \"there's\": \"there is\", \"here's\": \"here is\",\"they'd\": \"they would\", \"they'd've\": \"they would have\",\n",
    "                           \"they'll\": \"they will\", \"they'll've\": \"they will have\", \"they're\": \"they are\", \"they've\": \"they have\", \"to've\": \"to have\",\n",
    "                           \"wasn't\": \"was not\", \"we'd\": \"we would\", \"we'd've\": \"we would have\", \"we'll\": \"we will\", \"we'll've\": \"we will have\", \"we're\": \"we are\",\n",
    "                           \"we've\": \"we have\", \"weren't\": \"were not\", \"what'll\": \"what will\", \"what'll've\": \"what will have\", \"what're\": \"what are\",\n",
    "                           \"what's\": \"what is\", \"what've\": \"what have\", \"when's\": \"when is\", \"when've\": \"when have\", \"where'd\": \"where did\", \"where's\": \"where is\",\n",
    "                           \"where've\": \"where have\", \"who'll\": \"who will\", \"who'll've\": \"who will have\", \"who's\": \"who is\", \"who've\": \"who have\",\n",
    "                           \"why's\": \"why is\", \"why've\": \"why have\", \"will've\": \"will have\", \"won't\": \"will not\", \"won't've\": \"will not have\",\n",
    "                           \"would've\": \"would have\", \"wouldn't\": \"would not\", \"wouldn't've\": \"would not have\", \"y'all\": \"you all\",\n",
    "                           \"y'all'd\": \"you all would\",\"y'all'd've\": \"you all would have\",\"y'all're\": \"you all are\",\"y'all've\": \"you all have\",\n",
    "                           \"you'd\": \"you would\", \"you'd've\": \"you would have\", \"you'll\": \"you will\", \"you'll've\": \"you will have\",\n",
    "                           \"you're\": \"you are\", \"you've\": \"you have\"}\n",
    "\n",
    "print(\"정규화 사전의 수: \", len(contractions))"
   ]
  },
  {
   "cell_type": "code",
   "execution_count": 9,
   "id": "d619c7c4",
   "metadata": {},
   "outputs": [
    {
     "name": "stdout",
     "output_type": "stream",
     "text": [
      "불용어 개수 :  179\n",
      "['i', 'me', 'my', 'myself', 'we', 'our', 'ours', 'ourselves', 'you', \"you're\", \"you've\", \"you'll\", \"you'd\", 'your', 'yours', 'yourself', 'yourselves', 'he', 'him', 'his', 'himself', 'she', \"she's\", 'her', 'hers', 'herself', 'it', \"it's\", 'its', 'itself', 'they', 'them', 'their', 'theirs', 'themselves', 'what', 'which', 'who', 'whom', 'this', 'that', \"that'll\", 'these', 'those', 'am', 'is', 'are', 'was', 'were', 'be', 'been', 'being', 'have', 'has', 'had', 'having', 'do', 'does', 'did', 'doing', 'a', 'an', 'the', 'and', 'but', 'if', 'or', 'because', 'as', 'until', 'while', 'of', 'at', 'by', 'for', 'with', 'about', 'against', 'between', 'into', 'through', 'during', 'before', 'after', 'above', 'below', 'to', 'from', 'up', 'down', 'in', 'out', 'on', 'off', 'over', 'under', 'again', 'further', 'then', 'once', 'here', 'there', 'when', 'where', 'why', 'how', 'all', 'any', 'both', 'each', 'few', 'more', 'most', 'other', 'some', 'such', 'no', 'nor', 'not', 'only', 'own', 'same', 'so', 'than', 'too', 'very', 's', 't', 'can', 'will', 'just', 'don', \"don't\", 'should', \"should've\", 'now', 'd', 'll', 'm', 'o', 're', 've', 'y', 'ain', 'aren', \"aren't\", 'couldn', \"couldn't\", 'didn', \"didn't\", 'doesn', \"doesn't\", 'hadn', \"hadn't\", 'hasn', \"hasn't\", 'haven', \"haven't\", 'isn', \"isn't\", 'ma', 'mightn', \"mightn't\", 'mustn', \"mustn't\", 'needn', \"needn't\", 'shan', \"shan't\", 'shouldn', \"shouldn't\", 'wasn', \"wasn't\", 'weren', \"weren't\", 'won', \"won't\", 'wouldn', \"wouldn't\"]\n"
     ]
    }
   ],
   "source": [
    "# NLTK에서 제공하는 불용어 리스트\n",
    "\n",
    "print('불용어 개수 : ', len(stopwords.words('english')))\n",
    "print(stopwords.words('english'))"
   ]
  },
  {
   "cell_type": "code",
   "execution_count": 10,
   "id": "18a944d2",
   "metadata": {},
   "outputs": [
    {
     "name": "stdout",
     "output_type": "stream",
     "text": [
      "=3\n"
     ]
    }
   ],
   "source": [
    "def preprocess_sentence(sentence, remove_stopwords=True):\n",
    "    sentence = sentence.lower() # 텍스트 소문자화\n",
    "    sentence = BeautifulSoup(sentence, \"lxml\").text # <br />, <a href = ...> 등의 html 태그 제거\n",
    "    sentence = re.sub(r'\\([^)]*\\)', '', sentence) # 괄호로 닫힌 문자열 (...) 제거 \n",
    "    sentence = re.sub('\"','', sentence) # 쌍따옴표 \" 제거\n",
    "    sentence = ' '.join([contractions[t] if t in contractions else t for t in sentence.split(\" \")]) # 약어 정규화\n",
    "    sentence = re.sub(r\"'s\\b\",\"\", sentence) # 소유격 제거\n",
    "    sentence = re.sub(\"[^a-zA-Z]\", \" \", sentence) # 영어 외 문자(숫자, 특수문자 등) 공백으로 변환\n",
    "    sentence = re.sub('[m]{2,}', 'mm', sentence) # m이 3개 이상이면 2개로 변경\n",
    "    \n",
    "    # 불용어 제거 (text)\n",
    "    if remove_stopwords:\n",
    "        tokens = ' '.join(word for word in sentence.split() if not word in stopwords.words('english') if len(word) > 1)\n",
    "    # 불용어 미제거 (headlinse)\n",
    "    else:\n",
    "        tokens = ' '.join(word for word in sentence.split() if len(word) > 1)\n",
    "    return tokens\n",
    "print('=3')"
   ]
  },
  {
   "cell_type": "markdown",
   "id": "7dda5719",
   "metadata": {},
   "source": [
    "### 2.1.3 전체 text 데이터에 대한 전처리\n",
    "* text 데이터는 불용어 제거를 한다."
   ]
  },
  {
   "cell_type": "code",
   "execution_count": 11,
   "id": "c992b53f",
   "metadata": {},
   "outputs": [
    {
     "name": "stdout",
     "output_type": "stream",
     "text": [
      "text 전처리 후 결과 :  ['saurav kant alumnus upgrad iiit pg program machine learning artificial intelligence sr systems engineer infosys almost years work experience program upgrad degree career support helped transition data scientist tech mahindra salary hike upgrad online power learning powered lakh careers', 'kunal shah credit card bill payment platform cred gave users chance win free food swiggy one year pranav kaushik delhi techie bagged reward spending cred coins users get one cred coin per rupee bill paid used avail rewards brands like ixigo bookmyshow ubereats cult fit', 'new zealand defeated india wickets fourth odi hamilton thursday win first match five match odi series india lost international match rohit sharma captaincy consecutive victories dating back march match witnessed india getting seventh lowest total odi cricket history', 'aegon life iterm insurance plan customers enjoy tax benefits premiums paid save taxes plan provides life cover age years also customers options insure critical illnesses disability accidental death benefit rider life cover age years', 'speaking sexual harassment allegations rajkumar hirani sonam kapoor said known hirani many years true metoo movement get derailed metoo movement always believe woman case need reserve judgment added hirani accused assistant worked sanju']\n"
     ]
    }
   ],
   "source": [
    "clean_text = []\n",
    "\n",
    "for s in data['text']:\n",
    "    clean_text.append(preprocess_sentence(s))\n",
    "    \n",
    "print('text 전처리 후 결과 : ', clean_text[:5])"
   ]
  },
  {
   "cell_type": "markdown",
   "id": "ddbdd618",
   "metadata": {},
   "source": [
    "### 2.1.4 headlines 데이터에 대한 전처리\n",
    "* headlines 데이터는 불용어 제거를 하지 않는다. (요약된 문장으로 따로 불용어 처리를 하지 않아도 된다고 생각된다.)"
   ]
  },
  {
   "cell_type": "code",
   "execution_count": 12,
   "id": "393a1ddf",
   "metadata": {},
   "outputs": [
    {
     "name": "stdout",
     "output_type": "stream",
     "text": [
      "headlines 전처리 후 결과:  ['upgrad learner switches to career in ml al with salary hike', 'delhi techie wins free food from swiggy for one year on cred', 'new zealand end rohit sharma led india match winning streak', 'aegon life iterm insurance plan helps customers save tax', 'have known hirani for yrs what if metoo claims are not true sonam']\n"
     ]
    }
   ],
   "source": [
    "clean_headlines = []\n",
    "\n",
    "for s in data['headlines']:\n",
    "    clean_headlines.append(preprocess_sentence(s, False))   # 불용어 제거를 수행하지 않는다는 의미에서 False 추가\n",
    "\n",
    "print(\"headlines 전처리 후 결과: \", clean_headlines[:5])"
   ]
  },
  {
   "cell_type": "markdown",
   "id": "13febbc6",
   "metadata": {},
   "source": [
    "### 2.1.5 전처리 후 빈 샘플 확인\n",
    "\n",
    "* 텍스트 정제의 과정을 거치다보면 빈 샘플이 생길 수도 있기에 확인하고 제거해줄 필요가 있다."
   ]
  },
  {
   "cell_type": "code",
   "execution_count": 13,
   "id": "f0eaab64",
   "metadata": {},
   "outputs": [
    {
     "name": "stdout",
     "output_type": "stream",
     "text": [
      "=3\n"
     ]
    }
   ],
   "source": [
    "data['text'] = clean_text\n",
    "data['headlines'] = clean_headlines\n",
    "\n",
    "data.replace('', np.nan, inplace = True)   # 빈 값을 Null 값으로 변환\n",
    "print('=3')"
   ]
  },
  {
   "cell_type": "code",
   "execution_count": 14,
   "id": "78b3c598",
   "metadata": {},
   "outputs": [
    {
     "data": {
      "text/plain": [
       "headlines    0\n",
       "text         0\n",
       "dtype: int64"
      ]
     },
     "execution_count": 14,
     "metadata": {},
     "output_type": "execute_result"
    }
   ],
   "source": [
    "data.isnull().sum()      # Null 값이 생겼는지 확인 → 다행히 없음!"
   ]
  },
  {
   "cell_type": "markdown",
   "id": "deb5a8b9",
   "metadata": {},
   "source": [
    "## 2.2 훈련데이터, 테스트데이터 나누기"
   ]
  },
  {
   "cell_type": "markdown",
   "id": "8a410f40",
   "metadata": {},
   "source": [
    "### 2.2.1 샘플 최대 길이 정하기\n",
    "* 샘플의 최대 길이를 정하기 위해서는 text, headlines에 있는 샘플들의 길이를 알아야 한다."
   ]
  },
  {
   "cell_type": "code",
   "execution_count": 15,
   "id": "32cbdea8",
   "metadata": {},
   "outputs": [
    {
     "name": "stdout",
     "output_type": "stream",
     "text": [
      "텍스트의 최소 길이 : 1\n",
      "텍스트의 최대 길이 : 60\n",
      "텍스트의 평균 길이 : 35.09968483123221\n",
      "-----------------------\n",
      "헤드라인의 최소 길이 : 1\n",
      "헤드라인의 최대 길이 : 16\n",
      "헤드라인의 평균 길이 : 9.299532330215534\n"
     ]
    },
    {
     "data": {
      "image/png": "[encoded data removed]",
      "text/plain": [
       "<Figure size 432x288 with 2 Axes>"
      ]
     },
     "metadata": {
      "needs_background": "light"
     },
     "output_type": "display_data"
    },
    {
     "data": {
      "image/png": "[encoded data removed]",
      "text/plain": [
       "<Figure size 432x288 with 1 Axes>"
      ]
     },
     "metadata": {
      "needs_background": "light"
     },
     "output_type": "display_data"
    },
    {
     "data": {
      "image/png": "[encoded data removed]",
      "text/plain": [
       "<Figure size 432x288 with 1 Axes>"
      ]
     },
     "metadata": {
      "needs_background": "light"
     },
     "output_type": "display_data"
    }
   ],
   "source": [
    "import matplotlib.pyplot as plt\n",
    "\n",
    "text_len = [len(s.split()) for s in data['text']]\n",
    "headlines_len = [len(s.split()) for s in data['headlines']]\n",
    "\n",
    "print('텍스트의 최소 길이 : {}'.format(np.min(text_len)))\n",
    "print('텍스트의 최대 길이 : {}'.format(np.max(text_len)))\n",
    "print('텍스트의 평균 길이 : {}'.format(np.mean(text_len)))\n",
    "\n",
    "print('-----------------------')\n",
    "\n",
    "print('헤드라인의 최소 길이 : {}'.format(np.min(headlines_len)))\n",
    "print('헤드라인의 최대 길이 : {}'.format(np.max(headlines_len)))\n",
    "print('헤드라인의 평균 길이 : {}'.format(np.mean(headlines_len)))\n",
    "\n",
    "plt.subplot(1,2,1)\n",
    "plt.boxplot(text_len)\n",
    "plt.title('text')\n",
    "\n",
    "plt.subplot(1,2,2)\n",
    "plt.boxplot(headlines_len)\n",
    "plt.title('headlines')\n",
    "plt.tight_layout()\n",
    "plt.show()\n",
    "\n",
    "plt.title('text')\n",
    "plt.hist(text_len, bins = 40)\n",
    "plt.xlabel('length of samples')\n",
    "plt.ylabel('number of samples')\n",
    "plt.show()\n",
    "\n",
    "plt.title('headlines')\n",
    "plt.hist(headlines_len, bins = 40)\n",
    "plt.xlabel('length of samples')\n",
    "plt.ylabel('number of samples')\n",
    "plt.show()"
   ]
  },
  {
   "cell_type": "markdown",
   "id": "0816417d",
   "metadata": {},
   "source": [
    "* bloxplot을 통해 이상치로 표현되는 부분만 제거해보았다."
   ]
  },
  {
   "cell_type": "code",
   "execution_count": 16,
   "id": "b1f31dba",
   "metadata": {},
   "outputs": [
    {
     "name": "stdout",
     "output_type": "stream",
     "text": [
      "=3\n"
     ]
    }
   ],
   "source": [
    "# Text 최대 길이, headlines의 최대 길이 임의로 정하기\n",
    "\n",
    "text_max_len = 45\n",
    "headlines_max_len = 13\n",
    "print('=3')"
   ]
  },
  {
   "cell_type": "markdown",
   "id": "8225e179",
   "metadata": {},
   "source": [
    "* 위에서 설정한 text, headlines의 최대 길이 안에 데이터 샘플이 각 데이터의 몇 %가 들어오는지 확인을 해본다."
   ]
  },
  {
   "cell_type": "code",
   "execution_count": 17,
   "id": "8a34f4a9",
   "metadata": {},
   "outputs": [
    {
     "name": "stdout",
     "output_type": "stream",
     "text": [
      "=3\n"
     ]
    }
   ],
   "source": [
    "# below_threshold_len : 데이터의 몇 %가 최대 길이 안에 들어오는지 계산하는 함수\n",
    "\n",
    "def below_threshold_len(max_len, nested_list):\n",
    "    cnt = 0\n",
    "    for s in nested_list:\n",
    "        if(len(s.split()) <= max_len):\n",
    "            cnt = cnt + 1\n",
    "    print('전체 샘플 중 길이가 %s 이하인 샘플의 비율: %s'%(max_len, (cnt / len(nested_list))))\n",
    "print('=3')"
   ]
  },
  {
   "cell_type": "markdown",
   "id": "456cdef7",
   "metadata": {},
   "source": [
    "* text, headlines의 샘플들의 99% 이상이 최대 길이(text = 45, headlines = 13)안에 들어간다."
   ]
  },
  {
   "cell_type": "code",
   "execution_count": 18,
   "id": "6f69b5e2",
   "metadata": {},
   "outputs": [
    {
     "name": "stdout",
     "output_type": "stream",
     "text": [
      "전체 샘플 중 길이가 45 이하인 샘플의 비율: 0.9967771451809678\n",
      "전체 샘플 중 길이가 13 이하인 샘플의 비율: 0.9981699877999186\n"
     ]
    }
   ],
   "source": [
    "below_threshold_len(text_max_len, data['text'])\n",
    "below_threshold_len(headlines_max_len,  data['headlines'])"
   ]
  },
  {
   "cell_type": "code",
   "execution_count": 19,
   "id": "e5a85e71",
   "metadata": {},
   "outputs": [
    {
     "name": "stdout",
     "output_type": "stream",
     "text": [
      "전체 샘플수 : 97863\n"
     ]
    }
   ],
   "source": [
    "# 정해진 길이에 맞춰 자르지 않고\n",
    "# 정해진 길이보다 길면 제외하는 방법으로 데이터 정제\n",
    "\n",
    "data = data[data['text'].apply(lambda x: len(x.split()) <= text_max_len)] # 43보다 길면 제외\n",
    "data = data[data['headlines'].apply(lambda x: len(x.split()) <= headlines_max_len)]  # 12보다 길면 제외\n",
    "print('전체 샘플수 :', (len(data)))"
   ]
  },
  {
   "cell_type": "markdown",
   "id": "c4e4593e",
   "metadata": {},
   "source": [
    "* 이전 샘플수 : 98360\n",
    "* 현재 샘플수 : 95935\n",
    "* 제거된 샘플수 : 2435"
   ]
  },
  {
   "cell_type": "markdown",
   "id": "7f8ad940",
   "metadata": {},
   "source": [
    "### 2.2.2 시작토큰, 종료토큰 추가\n",
    "* 디코더는 시작 토큰(sostoken)을 입력받아야 문장을 생성하기 시작하고 종료 토큰(eostoken)을 예측한 순간에 문장 생성을 멈춘다.\n",
    "* seq2seq 훈련을 위해서는 디코더의 입력과 레이블에 시작 토큰과 종료 토큰을 추가해야 한다."
   ]
  },
  {
   "attachments": {
    "image.png": {
     "image/png": "[encoded data removed]"
    }
   },
   "cell_type": "markdown",
   "id": "2919560f",
   "metadata": {},
   "source": [
    "![image.png](attachment:image.png)"
   ]
  },
  {
   "cell_type": "markdown",
   "id": "c9bdec5c",
   "metadata": {},
   "source": [
    "* headlines 데이터에만 시작토큰(sostoken ), 종료토큰( eostoken)을 추가한다."
   ]
  },
  {
   "cell_type": "code",
   "execution_count": 20,
   "id": "c31f1fdc",
   "metadata": {},
   "outputs": [
    {
     "data": {
      "text/html": [
       "<div>\n",
       "<style scoped>\n",
       "    .dataframe tbody tr th:only-of-type {\n",
       "        vertical-align: middle;\n",
       "    }\n",
       "\n",
       "    .dataframe tbody tr th {\n",
       "        vertical-align: top;\n",
       "    }\n",
       "\n",
       "    .dataframe thead th {\n",
       "        text-align: right;\n",
       "    }\n",
       "</style>\n",
       "<table border=\"1\" class=\"dataframe\">\n",
       "  <thead>\n",
       "    <tr style=\"text-align: right;\">\n",
       "      <th></th>\n",
       "      <th>headlines</th>\n",
       "      <th>text</th>\n",
       "      <th>decoder_input</th>\n",
       "      <th>decoder_target</th>\n",
       "    </tr>\n",
       "  </thead>\n",
       "  <tbody>\n",
       "    <tr>\n",
       "      <th>0</th>\n",
       "      <td>upgrad learner switches to career in ml al wit...</td>\n",
       "      <td>saurav kant alumnus upgrad iiit pg program mac...</td>\n",
       "      <td>sostoken upgrad learner switches to career in ...</td>\n",
       "      <td>upgrad learner switches to career in ml al wit...</td>\n",
       "    </tr>\n",
       "    <tr>\n",
       "      <th>1</th>\n",
       "      <td>delhi techie wins free food from swiggy for on...</td>\n",
       "      <td>kunal shah credit card bill payment platform c...</td>\n",
       "      <td>sostoken delhi techie wins free food from swig...</td>\n",
       "      <td>delhi techie wins free food from swiggy for on...</td>\n",
       "    </tr>\n",
       "    <tr>\n",
       "      <th>2</th>\n",
       "      <td>new zealand end rohit sharma led india match w...</td>\n",
       "      <td>new zealand defeated india wickets fourth odi ...</td>\n",
       "      <td>sostoken new zealand end rohit sharma led indi...</td>\n",
       "      <td>new zealand end rohit sharma led india match w...</td>\n",
       "    </tr>\n",
       "    <tr>\n",
       "      <th>3</th>\n",
       "      <td>aegon life iterm insurance plan helps customer...</td>\n",
       "      <td>aegon life iterm insurance plan customers enjo...</td>\n",
       "      <td>sostoken aegon life iterm insurance plan helps...</td>\n",
       "      <td>aegon life iterm insurance plan helps customer...</td>\n",
       "    </tr>\n",
       "    <tr>\n",
       "      <th>4</th>\n",
       "      <td>have known hirani for yrs what if metoo claims...</td>\n",
       "      <td>speaking sexual harassment allegations rajkuma...</td>\n",
       "      <td>sostoken have known hirani for yrs what if met...</td>\n",
       "      <td>have known hirani for yrs what if metoo claims...</td>\n",
       "    </tr>\n",
       "  </tbody>\n",
       "</table>\n",
       "</div>"
      ],
      "text/plain": [
       "                                           headlines  \\\n",
       "0  upgrad learner switches to career in ml al wit...   \n",
       "1  delhi techie wins free food from swiggy for on...   \n",
       "2  new zealand end rohit sharma led india match w...   \n",
       "3  aegon life iterm insurance plan helps customer...   \n",
       "4  have known hirani for yrs what if metoo claims...   \n",
       "\n",
       "                                                text  \\\n",
       "0  saurav kant alumnus upgrad iiit pg program mac...   \n",
       "1  kunal shah credit card bill payment platform c...   \n",
       "2  new zealand defeated india wickets fourth odi ...   \n",
       "3  aegon life iterm insurance plan customers enjo...   \n",
       "4  speaking sexual harassment allegations rajkuma...   \n",
       "\n",
       "                                       decoder_input  \\\n",
       "0  sostoken upgrad learner switches to career in ...   \n",
       "1  sostoken delhi techie wins free food from swig...   \n",
       "2  sostoken new zealand end rohit sharma led indi...   \n",
       "3  sostoken aegon life iterm insurance plan helps...   \n",
       "4  sostoken have known hirani for yrs what if met...   \n",
       "\n",
       "                                      decoder_target  \n",
       "0  upgrad learner switches to career in ml al wit...  \n",
       "1  delhi techie wins free food from swiggy for on...  \n",
       "2  new zealand end rohit sharma led india match w...  \n",
       "3  aegon life iterm insurance plan helps customer...  \n",
       "4  have known hirani for yrs what if metoo claims...  "
      ]
     },
     "execution_count": 20,
     "metadata": {},
     "output_type": "execute_result"
    }
   ],
   "source": [
    "data['decoder_input'] = data['headlines'].apply(lambda x:'sostoken ' + x)  \n",
    "data['decoder_target'] = data['headlines'].apply(lambda x: x + ' eostoken')\n",
    "\n",
    "data.head()"
   ]
  },
  {
   "cell_type": "markdown",
   "id": "5da4c877",
   "metadata": {},
   "source": [
    "* encoder_input, decoder_input, decoder_target을 다시 numpy 타입으로 저장한다."
   ]
  },
  {
   "cell_type": "code",
   "execution_count": 21,
   "id": "00cfd54a",
   "metadata": {},
   "outputs": [
    {
     "name": "stdout",
     "output_type": "stream",
     "text": [
      "=3\n"
     ]
    }
   ],
   "source": [
    "encoder_input = np.array(data['text'])\n",
    "decoder_input = np.array(data['decoder_input']) \n",
    "decoder_target = np.array(data['decoder_target'])\n",
    "print('=3')"
   ]
  },
  {
   "cell_type": "markdown",
   "id": "8011b7c9",
   "metadata": {},
   "source": [
    "### 2.2.3 훈련데이터, 테스트데이터 분리\n",
    "* 분리 패키지를 사용하지 않고 직접 코딩하여 훈련데이터, 테스트데이터 분리한다."
   ]
  },
  {
   "cell_type": "markdown",
   "id": "47752c03",
   "metadata": {},
   "source": [
    "* encoder_input과 크기와 형태가 같으며 순서가 섞인 정수 시퀀스를 만든다."
   ]
  },
  {
   "cell_type": "code",
   "execution_count": 22,
   "id": "e947f272",
   "metadata": {
    "scrolled": true
   },
   "outputs": [
    {
     "name": "stdout",
     "output_type": "stream",
     "text": [
      "[51602 10665 65336 ...  2852 84898 36233]\n"
     ]
    }
   ],
   "source": [
    "indices = np.arange(encoder_input.shape[0])\n",
    "np.random.shuffle(indices)\n",
    "print(indices)"
   ]
  },
  {
   "cell_type": "markdown",
   "id": "83e5e471",
   "metadata": {},
   "source": [
    "* 위에서 만든 정수 시퀀스를 통해 `encoder_input`, `decoder_input`, `decoder_target`의 샘플 순서를 정의한다."
   ]
  },
  {
   "cell_type": "code",
   "execution_count": 23,
   "id": "5364a3d6",
   "metadata": {},
   "outputs": [
    {
     "name": "stdout",
     "output_type": "stream",
     "text": [
      "=3\n"
     ]
    }
   ],
   "source": [
    "# 정수 시퀀스를 이용해 다시 데이터의 샘플 순서를 정의 → 잘 섞인 샘플이 됨\n",
    "encoder_input = encoder_input[indices]\n",
    "decoder_input = decoder_input[indices]\n",
    "decoder_target = decoder_target[indices]\n",
    "print('=3')"
   ]
  },
  {
   "cell_type": "markdown",
   "id": "11bb8f98",
   "metadata": {},
   "source": [
    "* 훈련데이터와 테스트데이터를 8:2로 분리한다."
   ]
  },
  {
   "cell_type": "code",
   "execution_count": 24,
   "id": "ba534cf0",
   "metadata": {},
   "outputs": [
    {
     "name": "stdout",
     "output_type": "stream",
     "text": [
      "테스트 데이터의 수 :  19572\n"
     ]
    }
   ],
   "source": [
    "n_of_val = int(len(encoder_input) * 0.2)\n",
    "\n",
    "print('테스트 데이터의 수 : ', n_of_val)"
   ]
  },
  {
   "cell_type": "code",
   "execution_count": 25,
   "id": "735d7080",
   "metadata": {},
   "outputs": [
    {
     "name": "stdout",
     "output_type": "stream",
     "text": [
      "훈련 데이터의 개수 : 78291\n",
      "훈련 레이블의 개수 : 78291\n",
      "--------------\n",
      "테스트 데이터의 개수 : 19572\n",
      "테스트 레이블의 개수 : 19572\n"
     ]
    }
   ],
   "source": [
    "encoder_input_train = encoder_input[:-n_of_val]     # 훈련 데이터\n",
    "decoder_input_train = decoder_input[:-n_of_val]     # 훈련 레이블\n",
    "decoder_target_train = decoder_target[:-n_of_val]   \n",
    "\n",
    "encoder_input_test = encoder_input[-n_of_val:]     # 테스트 데이터\n",
    "decoder_input_test = decoder_input[-n_of_val:]     # 테스트 레이블\n",
    "decoder_target_test = decoder_target[-n_of_val:]\n",
    "\n",
    "print('훈련 데이터의 개수 :', len(encoder_input_train))\n",
    "print('훈련 레이블의 개수 :', len(decoder_input_train))\n",
    "\n",
    "print('--------------')\n",
    "\n",
    "print('테스트 데이터의 개수 :', len(encoder_input_test))\n",
    "print('테스트 레이블의 개수 :', len(decoder_input_test))"
   ]
  },
  {
   "cell_type": "markdown",
   "id": "06490bc0",
   "metadata": {},
   "source": [
    "## 2.3 정수 인코딩\n",
    "* 컴퓨터는 텍스트보다 숫자를 잘 처리하기에 텍스트를 숫자로 바꾸는 작업이 정수 인코딩이다.\n",
    "* 단어에 정수를 부여하는 방법에는 여러가지가 있다.\n",
    "* 해당 프로젝트에서는 단어를 빈도수 순으로 정렬한 단어집합을 만들고 빈도수가 높은 순서대로 정수를 부여하는 방법을 사용한다."
   ]
  },
  {
   "cell_type": "markdown",
   "id": "85888f8a",
   "metadata": {},
   "source": [
    "### 2.3.1 데이터 인코딩"
   ]
  },
  {
   "cell_type": "markdown",
   "id": "ec2ffa32",
   "metadata": {},
   "source": [
    "#### 2.3.1.1 단어집합(vocabulay) 만들기"
   ]
  },
  {
   "cell_type": "markdown",
   "id": "a764cf69",
   "metadata": {},
   "source": [
    "* 현재 생성된 단어 집합은 `src_tokenizer.word_index`에 저장한다.\n",
    "* `src_tokenizer.word_counts.items()`에는 단어와 각 단어의 등장 빈도수가 저장되어있다."
   ]
  },
  {
   "cell_type": "code",
   "execution_count": 26,
   "id": "09677b59",
   "metadata": {},
   "outputs": [
    {
     "name": "stdout",
     "output_type": "stream",
     "text": [
      "데이터 단어 집합의 크기 :  69409\n"
     ]
    }
   ],
   "source": [
    "src_tokenizer = Tokenizer() # 토크나이저 정의\n",
    "src_tokenizer.fit_on_texts(encoder_input_train) # 입력된 데이터로부터 단어 집합 생성\n",
    "src_word_index = src_tokenizer.word_index\n",
    "\n",
    "print('데이터 단어 집합의 크기 : ', len(src_tokenizer.word_index))"
   ]
  },
  {
   "cell_type": "markdown",
   "id": "5c2b26c6",
   "metadata": {},
   "source": [
    "* 등장 빈도수가 **'7회'** 미만인 단어들이 차지하는 비중 확인을 해본다."
   ]
  },
  {
   "cell_type": "code",
   "execution_count": 27,
   "id": "fbe2d105",
   "metadata": {},
   "outputs": [
    {
     "name": "stdout",
     "output_type": "stream",
     "text": [
      "단어 집합(vocabulary)의 크기 : 69409\n",
      "-------------\n",
      "등장 빈도가 6번 이하인 희귀 단어의 수: 47280\n",
      "단어 집합에서 희귀 단어를 제외한 단어 집합의 크기 22129\n",
      "-------------\n",
      "단어 집합에서 희귀 단어의 비율: 68.11796741056635\n",
      "전체 등장 빈도에서 희귀 단어 등장 빈도 비율: 3.4969936667356443\n"
     ]
    }
   ],
   "source": [
    "threshold = 7    # 등장 빈도수\n",
    "\n",
    "total_cnt = len(src_tokenizer.word_index) # 단어의 수\n",
    "rare_cnt = 0 # 등장 빈도수가 threshold(7)보다 작은 단어의 개수를 카운트\n",
    "\n",
    "total_freq = 0 # 훈련 데이터의 전체 단어 빈도수 총 합\n",
    "rare_freq = 0 # 등장 빈도수가 threshold보다 작은 단어의 등장 빈도수의 총 합\n",
    "\n",
    "# 단어와 빈도수의 쌍(pair)을 key와 value로 받는다.\n",
    "for key, value in src_tokenizer.word_counts.items():\n",
    "    total_freq = total_freq + value\n",
    "\n",
    "    # 단어의 등장 빈도수가 threshold(7)보다 작으면\n",
    "    if(value < threshold):\n",
    "        rare_cnt = rare_cnt + 1\n",
    "        rare_freq = rare_freq + value\n",
    "\n",
    "print('단어 집합(vocabulary)의 크기 :', total_cnt)\n",
    "print('-------------')\n",
    "print('등장 빈도가 %s번 이하인 희귀 단어의 수: %s'%(threshold - 1, rare_cnt))\n",
    "print('단어 집합에서 희귀 단어를 제외한 단어 집합의 크기 %s'%(total_cnt - rare_cnt))\n",
    "print('-------------')\n",
    "print(\"단어 집합에서 희귀 단어의 비율:\", (rare_cnt / total_cnt)*100)\n",
    "print(\"전체 등장 빈도에서 희귀 단어 등장 빈도 비율:\", (rare_freq / total_freq)*100)"
   ]
  },
  {
   "cell_type": "markdown",
   "id": "d80f0858",
   "metadata": {},
   "source": [
    "▶▶ 희귀 단어가 등장하는 빈도의 비율이 **3.48%** 이다.\n",
    "* 정수 인코딩 과정에서 제외하기\n",
    "* 훈련 데이터에서 제거하기  \n",
    "→ 희귀단어를 제외한 단어 집합의 크기는 21,870이므로 단어 집합의 크기를 22,000으로 제한한다. (희귀단어를 조금 포함했다.)"
   ]
  },
  {
   "cell_type": "code",
   "execution_count": 28,
   "id": "9a8dddcd",
   "metadata": {},
   "outputs": [
    {
     "name": "stdout",
     "output_type": "stream",
     "text": [
      "슝\n"
     ]
    }
   ],
   "source": [
    "src_vocab = 22000\n",
    "\n",
    "src_tokenizer = Tokenizer(num_words=src_vocab) # 단어 집합의 크기를 22,000으로 제한\n",
    "src_tokenizer.fit_on_texts(encoder_input_train) # 단어 집합 재생성\n",
    "print('슝')"
   ]
  },
  {
   "cell_type": "markdown",
   "id": "e6d1bfc2",
   "metadata": {},
   "source": [
    "#### 2.3.1.2 정수 인코딩 진행\n",
    "\n",
    "* `texts_to_sequences()`는 생성된 단어 집합에 기반하여 입력으로 주어진 텍스트 데이터의 단어들을 모두 정수로 변환하는 정수 인코딩 수행한다.\n",
    "* 단어 집합의 크기를 22,000으로 제한하였다.  \n",
    "    → 22,000이 넘는 숫자들은 정수 인코딩 후에는 데이터가 존재하지 않는다."
   ]
  },
  {
   "cell_type": "code",
   "execution_count": 29,
   "id": "15cf7fd5",
   "metadata": {},
   "outputs": [
    {
     "name": "stdout",
     "output_type": "stream",
     "text": [
      "[[9, 63, 1, 509, 62, 345, 743, 419, 2757, 3997, 345, 36, 185, 62, 345, 20578, 62, 2106, 2980, 5190, 66, 367, 186, 79, 32, 236, 1823, 7862, 20578, 345, 9, 4], [575, 33, 1250, 176, 727, 790, 94, 607, 1286, 9634, 4199, 3014, 208, 746, 890, 392, 3029, 1, 1286, 1072, 189, 598, 117, 5155, 1931, 61, 172, 150, 3665, 208, 2804, 3301, 167, 88, 22], [67, 441, 438, 279, 5468, 3704, 1989, 9297, 1588, 1214, 204, 203, 8967, 586, 15304, 224, 968, 215, 438, 943, 1588, 11186, 1611, 906, 1612, 6162, 2001, 1, 24, 7979, 438, 561]]\n"
     ]
    }
   ],
   "source": [
    "# 텍스트 시퀀스를 정수 시퀀스로 변환\n",
    "encoder_input_train = src_tokenizer.texts_to_sequences(encoder_input_train)   # 훈련 데이터\n",
    "encoder_input_test = src_tokenizer.texts_to_sequences(encoder_input_test)     # 테스트 데이터\n",
    "\n",
    "# 잘 진행되었는지 샘플 출력\n",
    "print(encoder_input_train[:3])"
   ]
  },
  {
   "cell_type": "markdown",
   "id": "dd2ebb13",
   "metadata": {},
   "source": [
    "### 2.3.2 decoder_input_train (훈련 레이블)"
   ]
  },
  {
   "cell_type": "markdown",
   "id": "4388093b",
   "metadata": {},
   "source": [
    "* 현재 생성된 단어 집합은 `tar_tokenizer.word_index`에 저장한다.\n",
    "* `tar_tokenizer.word_counts.items()`에는 단어와 각 단어의 등장 빈도수가 저장되어있다."
   ]
  },
  {
   "cell_type": "code",
   "execution_count": 30,
   "id": "c01c6609",
   "metadata": {},
   "outputs": [
    {
     "name": "stdout",
     "output_type": "stream",
     "text": [
      "레이블 단어 집합의 크기 :  30076\n"
     ]
    }
   ],
   "source": [
    "tar_tokenizer = Tokenizer()\n",
    "tar_tokenizer.fit_on_texts(decoder_input_train)\n",
    "tar_word_index = tar_tokenizer.word_index\n",
    "\n",
    "print('레이블 단어 집합의 크기 : ', len(tar_tokenizer.word_index))"
   ]
  },
  {
   "cell_type": "markdown",
   "id": "79c2bb97",
   "metadata": {},
   "source": [
    "#### 2.3.2.1 단어집합(vocabulay) 만들기\n",
    "* 등장 빈도수가 **'6회'** 미만인 단어들이 차지하는 비중 확인을 해본다."
   ]
  },
  {
   "cell_type": "code",
   "execution_count": 31,
   "id": "7e483e78",
   "metadata": {},
   "outputs": [
    {
     "name": "stdout",
     "output_type": "stream",
     "text": [
      "단어 집합(vocabulary)의 크기 : 30076\n",
      "-------------\n",
      "등장 빈도가 5번 이하인 희귀 단어의 수: 19716\n",
      "단어 집합에서 희귀 단어를 제외시킬 경우의 단어 집합의 크기 10360\n",
      "-------------\n",
      "단어 집합에서 희귀 단어의 비율: 65.55393004388883\n",
      "전체 등장 빈도에서 희귀 단어 등장 빈도 비율: 4.676921854278321\n"
     ]
    }
   ],
   "source": [
    "threshold = 6\n",
    "total_cnt = len(tar_tokenizer.word_index) # 단어의 수\n",
    "rare_cnt = 0 # 등장 빈도수가 threshold보다 작은 단어의 개수를 카운트\n",
    "total_freq = 0 # 훈련 데이터의 전체 단어 빈도수 총 합\n",
    "rare_freq = 0 # 등장 빈도수가 threshold보다 작은 단어의 등장 빈도수의 총 합\n",
    "\n",
    "# 단어와 빈도수의 쌍(pair)을 key와 value로 받는다.\n",
    "for key, value in tar_tokenizer.word_counts.items():\n",
    "    total_freq = total_freq + value\n",
    "\n",
    "    # 단어의 등장 빈도수가 threshold보다 작으면\n",
    "    if(value < threshold):\n",
    "        rare_cnt = rare_cnt + 1\n",
    "        rare_freq = rare_freq + value\n",
    "\n",
    "print('단어 집합(vocabulary)의 크기 :', total_cnt)\n",
    "print('-------------')\n",
    "print('등장 빈도가 %s번 이하인 희귀 단어의 수: %s'%(threshold - 1, rare_cnt))\n",
    "print('단어 집합에서 희귀 단어를 제외시킬 경우의 단어 집합의 크기 %s'%(total_cnt - rare_cnt))\n",
    "print('-------------')\n",
    "print(\"단어 집합에서 희귀 단어의 비율:\", (rare_cnt / total_cnt)*100)\n",
    "print(\"전체 등장 빈도에서 희귀 단어 등장 빈도 비율:\", (rare_freq / total_freq)*100)"
   ]
  },
  {
   "cell_type": "markdown",
   "id": "ea807959",
   "metadata": {},
   "source": [
    "▶▶ 희귀 단어가 등장하는 빈도의 비율이 **4.65%** 이다.\n",
    "\n",
    "* 정수 인코딩 과정에서 제외하기\n",
    "* 훈련 데이터에서 제거하기\n",
    "* 희귀단어를 제외한 단어 집합의 크기는 10,410이므로 단어 집합의 크기를 10,000으로 제한한다. (깔끔하게 10,000으로 단어 집합의 크기를 조정하였다.)"
   ]
  },
  {
   "cell_type": "code",
   "execution_count": 32,
   "id": "f10d58bf",
   "metadata": {},
   "outputs": [
    {
     "name": "stdout",
     "output_type": "stream",
     "text": [
      "슝\n"
     ]
    }
   ],
   "source": [
    "tar_vocab = 10000\n",
    "\n",
    "tar_tokenizer = Tokenizer(num_words=tar_vocab)   # 단어 집합의 크기를 11,450으로 제한\n",
    "tar_tokenizer.fit_on_texts(decoder_input_train)  # 단어 집합 재생성 (훈련 레이블 입력)\n",
    "tar_tokenizer.fit_on_texts(decoder_target_train) # 단어 집합 재생성 (훈련 레이블 출력)\n",
    "\n",
    "print('슝')"
   ]
  },
  {
   "cell_type": "markdown",
   "id": "de77ff17",
   "metadata": {},
   "source": [
    "#### 2.3.2.2 정수 인코딩 진행\n",
    "\n",
    "* `texts_to_sequences()`는 생성된 단어 집합에 기반하여 입력으로 주어진 텍스트 데이터의 단어들을 모두 정수로 변환하는 정수 인코딩 수행한다.\n",
    "* 단어 집합의 크기를 10,000으로 제한하였다.  \n",
    "    → 10,0000이 넘는 숫자들은 정수 인코딩 후에는 데이터 존재하지 않는다."
   ]
  },
  {
   "cell_type": "code",
   "execution_count": 33,
   "id": "4abfe590",
   "metadata": {},
   "outputs": [
    {
     "name": "stdout",
     "output_type": "stream",
     "text": [
      "input\n",
      "input  [[1, 23, 3, 137, 474, 4, 3561, 158, 3765], [1, 64, 1091, 1354, 5, 9507, 4824, 3, 3106, 4126, 87, 1421], [1, 75, 339, 311, 605, 974, 11, 2509, 868, 1555], [1, 1443, 108, 2424, 890, 4011, 333, 9, 92], [1, 2902, 68, 5183, 2461, 177, 4]]\n",
      "-------------\n",
      "target\n",
      "target  [[23, 3, 137, 474, 4, 3561, 158, 3765, 2], [64, 1091, 1354, 5, 9507, 4824, 3, 3106, 4126, 87, 1421, 2], [75, 339, 311, 605, 974, 11, 2509, 868, 1555, 2], [1443, 108, 2424, 890, 4011, 333, 9, 92, 2], [2902, 68, 5183, 2461, 177, 4, 2]]\n"
     ]
    }
   ],
   "source": [
    "# 텍스트 시퀀스를 정수 시퀀스로 변환\n",
    "decoder_input_train = tar_tokenizer.texts_to_sequences(decoder_input_train)    # 훈련 레이블\n",
    "decoder_target_train = tar_tokenizer.texts_to_sequences(decoder_target_train)\n",
    "\n",
    "decoder_input_test = tar_tokenizer.texts_to_sequences(decoder_input_test)    #  테스트 레이블\n",
    "decoder_target_test = tar_tokenizer.texts_to_sequences(decoder_target_test)\n",
    "\n",
    "# 잘 변환되었는지 확인\n",
    "print('input')\n",
    "print('input ',decoder_input_train[:5])\n",
    "print('-------------')\n",
    "print('target')\n",
    "print('target ',decoder_target_train[:5])"
   ]
  },
  {
   "cell_type": "markdown",
   "id": "db4d46ac",
   "metadata": {},
   "source": [
    "### 2.3.3 빈 샘플 확인\n",
    "\n",
    "* 전체 데이터에서 빈도수가 낮은 단어가 삭제하였다.  \n",
    "    → 빈도수가 낮은 단어만으로 구성된 샘플은 빈 샘플이 되었을 가능성이 있다.\n",
    "* text는 길이가 길었기에 큰 문제는 없으나\n",
    "* headlines는 평균 길이가 9로 다소 짧기에 문제가 될 수 있다."
   ]
  },
  {
   "cell_type": "markdown",
   "id": "32454ed0",
   "metadata": {},
   "source": [
    "**🔥 주의할 점 🔥**\n",
    "\n",
    "* decoder_input에는 sostoken, decoder_target에는 eostoken이 추가되어 있다. \n",
    "* 그렇기에 길이가 0이 된 요약문의 실제 길이는 1로 나올 것! (sostoken, eostoken때문에)"
   ]
  },
  {
   "cell_type": "code",
   "execution_count": 34,
   "id": "7009193f",
   "metadata": {},
   "outputs": [
    {
     "name": "stdout",
     "output_type": "stream",
     "text": [
      "삭제할 훈련 데이터의 개수 : 1\n",
      "삭제할 테스트 데이터의 개수 : 0\n",
      "--------------\n",
      "빈 샘플 삭제한 훈련 데이터의 개수 : 78290\n",
      "빈 샘플 삭제한 훈련 레이블의 개수 : 78290\n",
      "--------------\n",
      "빈 샘플 삭제한 테스트 데이터의 개수 : 19572\n",
      "빈 샘플 삭제한 테스트 레이블의 개수 : 19572\n"
     ]
    }
   ],
   "source": [
    "drop_train = [index for index, sentence in enumerate(decoder_input_train) if len(sentence) == 1]\n",
    "drop_test = [index for index, sentence in enumerate(decoder_input_test) if len(sentence) == 1]\n",
    "\n",
    "print('삭제할 훈련 데이터의 개수 :', len(drop_train))\n",
    "print('삭제할 테스트 데이터의 개수 :', len(drop_test))\n",
    "\n",
    "encoder_input_train = [sentence for index, sentence in enumerate(encoder_input_train) if index not in drop_train]\n",
    "decoder_input_train = [sentence for index, sentence in enumerate(decoder_input_train) if index not in drop_train]\n",
    "decoder_target_train = [sentence for index, sentence in enumerate(decoder_target_train) if index not in drop_train]\n",
    "\n",
    "encoder_input_test = [sentence for index, sentence in enumerate(encoder_input_test) if index not in drop_test]\n",
    "decoder_input_test = [sentence for index, sentence in enumerate(decoder_input_test) if index not in drop_test]\n",
    "decoder_target_test = [sentence for index, sentence in enumerate(decoder_target_test) if index not in drop_test]\n",
    "\n",
    "print('--------------')\n",
    "\n",
    "print('빈 샘플 삭제한 훈련 데이터의 개수 :', len(encoder_input_train))\n",
    "print('빈 샘플 삭제한 훈련 레이블의 개수 :', len(decoder_input_train))\n",
    "\n",
    "print('--------------')\n",
    "\n",
    "print('빈 샘플 삭제한 테스트 데이터의 개수 :', len(encoder_input_test))\n",
    "print('빈 샘플 삭제한 테스트 레이블의 개수 :', len(decoder_input_test))"
   ]
  },
  {
   "cell_type": "markdown",
   "id": "22af6657",
   "metadata": {},
   "source": [
    "### 2.3.4 패딩하기\n",
    "* 서로 다른 길이의 샘플을 같은 길이로 맞춰주는 패딩 작업을 한다.\n",
    "* 위에서 정했던 최대 길이(text = 45, headlines = 13)로 패딩 작업을 할 예정이다.\n",
    "* 문장의 뒤에 숫자 0을 추가한다."
   ]
  },
  {
   "cell_type": "code",
   "execution_count": 35,
   "id": "e1b42cff",
   "metadata": {},
   "outputs": [
    {
     "name": "stdout",
     "output_type": "stream",
     "text": [
      "=3\n"
     ]
    }
   ],
   "source": [
    "# text 데이터(train, test 데이터)\n",
    "encoder_input_train = pad_sequences(encoder_input_train, maxlen=text_max_len, padding='post')\n",
    "encoder_input_test = pad_sequences(encoder_input_test, maxlen=text_max_len, padding='post')\n",
    "# headlines 데이터(train 데이터)\n",
    "decoder_input_train = pad_sequences(decoder_input_train, maxlen=headlines_max_len, padding='post')\n",
    "decoder_target_train = pad_sequences(decoder_target_train, maxlen=headlines_max_len, padding='post')\n",
    "# headlines 데이터(test 데이터)\n",
    "decoder_input_test = pad_sequences(decoder_input_test, maxlen=headlines_max_len, padding='post')\n",
    "decoder_target_test = pad_sequences(decoder_target_test, maxlen=headlines_max_len, padding='post')\n",
    "print('=3')"
   ]
  },
  {
   "cell_type": "markdown",
   "id": "9e4ef86d",
   "metadata": {},
   "source": [
    "---"
   ]
  },
  {
   "cell_type": "markdown",
   "id": "a7ff6802",
   "metadata": {},
   "source": [
    "# Step 3. 모델 설계 (훈련단계 모델)"
   ]
  },
  {
   "attachments": {
    "image.png": {
     "image/png": "[encoded data removed]"
    }
   },
   "cell_type": "markdown",
   "id": "ea36d5fb",
   "metadata": {},
   "source": [
    "#### LSTM(Long-Short Term Memory models)\n",
    "* RNN(Recurrent Neural Network)의 hidden state에 memory cell state를 추가하여 기존 RNN의 gradient vanishing problem을 해결한 모델\n",
    "* gradient vanishing problem : input되는 학습 데이터의 길이가 길어질수록 back-propagation 단계에서 gradient가 줄어들어 W와 bias가 유의미하게 변하지 못하는 문제\n",
    "* LSTM은 `cell state`를 추가하여 과거의 정보를 얼마나 읹을지, `time stamp`에서 input된 정보를 얼마나 기억할지를 결정함\n",
    "  \n",
    "  \n",
    "#### dropout, recurrent dropout\n",
    "* dropout : 레이어의 weight를 랜덤으로 생략하여 모델의 과적합을 해결해줌\n",
    "* recurrent dropout : 레이어가 아닌 time step마다 dropout을 해주어 이것 또한 과적합을 해결해줌\n",
    "\n",
    "#### Variational Dropout\n",
    "dropout과 recurrent dropout 모두 사용한 것\n",
    "![image.png](attachment:image.png)  \n",
    "  \n",
    "* [LSTM 참고자료](https://dgkim5360.tistory.com/entry/understanding-long-short-term-memory-lstm-kr)\n",
    "* [LSTM + dropout 참고자료](https://medium.com/curg/deep-rnn-%EC%A0%95%EA%B7%9C%ED%99%94%EA%B0%80-%EA%B6%81%EA%B8%88%ED%95%B4-7d69f3bbc171)"
   ]
  },
  {
   "cell_type": "markdown",
   "id": "27307c63",
   "metadata": {},
   "source": [
    "## 3.1 인코더(encoder) 설계"
   ]
  },
  {
   "cell_type": "code",
   "execution_count": 36,
   "id": "8042e8fa",
   "metadata": {},
   "outputs": [
    {
     "name": "stdout",
     "output_type": "stream",
     "text": [
      "WARNING:tensorflow:Layer lstm will not use cuDNN kernels since it doesn't meet the criteria. It will use a generic GPU kernel as fallback when running on GPU.\n",
      "WARNING:tensorflow:Layer lstm_1 will not use cuDNN kernels since it doesn't meet the criteria. It will use a generic GPU kernel as fallback when running on GPU.\n",
      "WARNING:tensorflow:Layer lstm_2 will not use cuDNN kernels since it doesn't meet the criteria. It will use a generic GPU kernel as fallback when running on GPU.\n"
     ]
    }
   ],
   "source": [
    "from tensorflow.keras.layers import Input, LSTM, Embedding, Dense, Concatenate, TimeDistributed\n",
    "from tensorflow.keras.models import Model\n",
    "from tensorflow.keras.callbacks import EarlyStopping, ModelCheckpoint\n",
    "\n",
    "\n",
    "# 인코더 설계 시작\n",
    "embedding_dim = 128   # 임베딩 벡터의 차원\n",
    "hidden_size = 256     # hidden state의 크기 (LSTM에서 얼만큼의 수용력을 가질지를 정하는 파라미터, LSTM의 용량크기, 뉴런 개수로 생각하면 됨)\n",
    "\n",
    "# 인코더\n",
    "encoder_inputs = Input(shape=(text_max_len,))\n",
    "\n",
    "# 인코더의 임베딩 층\n",
    "enc_emb = Embedding(src_vocab, embedding_dim)(encoder_inputs)\n",
    "\n",
    "# 인코더의 LSTM 1\n",
    "encoder_lstm1 = LSTM(hidden_size, return_sequences=True, return_state=True ,dropout = 0.4, recurrent_dropout = 0.4)\n",
    "encoder_output1, state_h1, state_c1 = encoder_lstm1(enc_emb)\n",
    "\n",
    "# 인코더의 LSTM 2\n",
    "encoder_lstm2 = LSTM(hidden_size, return_sequences=True, return_state=True, dropout=0.4, recurrent_dropout=0.4)\n",
    "encoder_output2, state_h2, state_c2 = encoder_lstm2(encoder_output1)\n",
    "\n",
    "# 인코더의 LSTM 3\n",
    "encoder_lstm3 = LSTM(hidden_size, return_state=True, return_sequences=True, dropout=0.4, recurrent_dropout=0.4)\n",
    "encoder_outputs, state_h, state_c= encoder_lstm3(encoder_output2)"
   ]
  },
  {
   "cell_type": "markdown",
   "id": "c47519ed",
   "metadata": {},
   "source": [
    "## 3.2 디코더(decoder) 설계\n",
    "* 인코더(encoder)와 거의 동일하다.\n",
    "* LSTM 입력을 정의할 때, initial_state의 인자값으로 **인코더의 hidden state와 cell state의 값**을 넣어줘야 한다."
   ]
  },
  {
   "cell_type": "code",
   "execution_count": 37,
   "id": "4ed27982",
   "metadata": {},
   "outputs": [
    {
     "name": "stdout",
     "output_type": "stream",
     "text": [
      "WARNING:tensorflow:Layer lstm_3 will not use cuDNN kernels since it doesn't meet the criteria. It will use a generic GPU kernel as fallback when running on GPU.\n"
     ]
    }
   ],
   "source": [
    "# 디코더 설계\n",
    "decoder_inputs = Input(shape=(None,))\n",
    "\n",
    "# 디코더의 임베딩 층\n",
    "dec_emb_layer = Embedding(tar_vocab, embedding_dim)\n",
    "dec_emb = dec_emb_layer(decoder_inputs)\n",
    "\n",
    "# 디코더의 LSTM\n",
    "decoder_lstm = LSTM(hidden_size, return_sequences=True, return_state=True, dropout=0.4, recurrent_dropout=0.2)\n",
    "decoder_outputs, _, _ = decoder_lstm(dec_emb, initial_state=[state_h, state_c])"
   ]
  },
  {
   "cell_type": "markdown",
   "id": "f0fdafb3",
   "metadata": {},
   "source": [
    "## 3.3 디코더의 출력층 설계\n",
    "* 디코더의 출력층에서 headlines의 단어장인 `tar_vocab`의 수많은 선택지 중 하나의 단어를 선택하는 다중 클래스 분류 문제를 풀어야 한다.  \n",
    "    → 그렇기에 Dense 인자로 `tar_vocab`을 주고, 활성화 함수로 `softmax` 함수 사용한다.  \n",
    "    → 하지만 나는 활성화 함수로 가장 많이 쓰인다는 `relu` 함수를 사용해보았다.\n",
    "* 가장 기본적인 seq2seq을 설계한다.\n",
    "* [활성화 함수 참고 자료](https://pgnv.tistory.com/17)"
   ]
  },
  {
   "cell_type": "code",
   "execution_count": 38,
   "id": "8ce1fb76",
   "metadata": {
    "scrolled": false
   },
   "outputs": [
    {
     "name": "stdout",
     "output_type": "stream",
     "text": [
      "Model: \"model\"\n",
      "__________________________________________________________________________________________________\n",
      "Layer (type)                    Output Shape         Param #     Connected to                     \n",
      "==================================================================================================\n",
      "input_1 (InputLayer)            [(None, 45)]         0                                            \n",
      "__________________________________________________________________________________________________\n",
      "embedding (Embedding)           (None, 45, 128)      2816000     input_1[0][0]                    \n",
      "__________________________________________________________________________________________________\n",
      "lstm (LSTM)                     [(None, 45, 256), (N 394240      embedding[0][0]                  \n",
      "__________________________________________________________________________________________________\n",
      "input_2 (InputLayer)            [(None, None)]       0                                            \n",
      "__________________________________________________________________________________________________\n",
      "lstm_1 (LSTM)                   [(None, 45, 256), (N 525312      lstm[0][0]                       \n",
      "__________________________________________________________________________________________________\n",
      "embedding_1 (Embedding)         (None, None, 128)    1280000     input_2[0][0]                    \n",
      "__________________________________________________________________________________________________\n",
      "lstm_2 (LSTM)                   [(None, 45, 256), (N 525312      lstm_1[0][0]                     \n",
      "__________________________________________________________________________________________________\n",
      "lstm_3 (LSTM)                   [(None, None, 256),  394240      embedding_1[0][0]                \n",
      "                                                                 lstm_2[0][1]                     \n",
      "                                                                 lstm_2[0][2]                     \n",
      "__________________________________________________________________________________________________\n",
      "dense (Dense)                   (None, None, 10000)  2570000     lstm_3[0][0]                     \n",
      "==================================================================================================\n",
      "Total params: 8,505,104\n",
      "Trainable params: 8,505,104\n",
      "Non-trainable params: 0\n",
      "__________________________________________________________________________________________________\n"
     ]
    }
   ],
   "source": [
    "# 디코더의 출력층\n",
    "decoder_softmax_layer = Dense(tar_vocab, activation='relu')  \n",
    "decoder_softmax_outputs = decoder_softmax_layer(decoder_outputs) \n",
    "\n",
    "# 모델 정의\n",
    "model = Model([encoder_inputs, decoder_inputs], decoder_softmax_outputs)\n",
    "model.summary()"
   ]
  },
  {
   "cell_type": "markdown",
   "id": "71acc9e8",
   "metadata": {},
   "source": [
    "## 3.4 어텐션 메커니즘\n",
    "* 어텐션 메커니즘 : 디코더에서 출력 결과를 예측할 때,인코더의 Hidden State들을 다시 한 번 참고해주는 방법\n",
    "* 인코더의 hidden state들과 디코더의 hidden state들을 어텐션 함수의 입력으로 사용한다.\n",
    "* 어텐션 함수가 리턴한 값을 예측 시에 디코더의 hidden state와 함께 활용하는 형태로 작동한다."
   ]
  },
  {
   "cell_type": "code",
   "execution_count": 39,
   "id": "485346be",
   "metadata": {},
   "outputs": [
    {
     "name": "stdout",
     "output_type": "stream",
     "text": [
      "Model: \"model_1\"\n",
      "__________________________________________________________________________________________________\n",
      "Layer (type)                    Output Shape         Param #     Connected to                     \n",
      "==================================================================================================\n",
      "input_1 (InputLayer)            [(None, 45)]         0                                            \n",
      "__________________________________________________________________________________________________\n",
      "embedding (Embedding)           (None, 45, 128)      2816000     input_1[0][0]                    \n",
      "__________________________________________________________________________________________________\n",
      "lstm (LSTM)                     [(None, 45, 256), (N 394240      embedding[0][0]                  \n",
      "__________________________________________________________________________________________________\n",
      "input_2 (InputLayer)            [(None, None)]       0                                            \n",
      "__________________________________________________________________________________________________\n",
      "lstm_1 (LSTM)                   [(None, 45, 256), (N 525312      lstm[0][0]                       \n",
      "__________________________________________________________________________________________________\n",
      "embedding_1 (Embedding)         (None, None, 128)    1280000     input_2[0][0]                    \n",
      "__________________________________________________________________________________________________\n",
      "lstm_2 (LSTM)                   [(None, 45, 256), (N 525312      lstm_1[0][0]                     \n",
      "__________________________________________________________________________________________________\n",
      "lstm_3 (LSTM)                   [(None, None, 256),  394240      embedding_1[0][0]                \n",
      "                                                                 lstm_2[0][1]                     \n",
      "                                                                 lstm_2[0][2]                     \n",
      "__________________________________________________________________________________________________\n",
      "attention_layer (AdditiveAttent (None, None, 256)    256         lstm_3[0][0]                     \n",
      "                                                                 lstm_2[0][0]                     \n",
      "__________________________________________________________________________________________________\n",
      "concat_layer (Concatenate)      (None, None, 512)    0           lstm_3[0][0]                     \n",
      "                                                                 attention_layer[0][0]            \n",
      "__________________________________________________________________________________________________\n",
      "dense_1 (Dense)                 (None, None, 10000)  5130000     concat_layer[0][0]               \n",
      "==================================================================================================\n",
      "Total params: 11,065,360\n",
      "Trainable params: 11,065,360\n",
      "Non-trainable params: 0\n",
      "__________________________________________________________________________________________________\n"
     ]
    }
   ],
   "source": [
    "from tensorflow.keras.layers import AdditiveAttention\n",
    "\n",
    "# 어텐션 층(어텐션 함수)\n",
    "attn_layer = AdditiveAttention(name='attention_layer')\n",
    "\n",
    "# 인코더와 디코더의 모든 time step의 hidden state를 어텐션 층에 전달하고 결과를 리턴\n",
    "attn_out = attn_layer([decoder_outputs, encoder_outputs])\n",
    "\n",
    "\n",
    "# 어텐션의 결과와 디코더의 hidden state들을 연결\n",
    "decoder_concat_input = Concatenate(axis=-1, name='concat_layer')([decoder_outputs, attn_out])\n",
    "\n",
    "# 디코더의 출력층\n",
    "decoder_softmax_layer = Dense(tar_vocab, activation='softmax')\n",
    "decoder_softmax_outputs = decoder_softmax_layer(decoder_concat_input)\n",
    "\n",
    "# 모델 정의\n",
    "model = Model([encoder_inputs, decoder_inputs], decoder_softmax_outputs)\n",
    "model.summary()"
   ]
  },
  {
   "cell_type": "markdown",
   "id": "444a7cbc",
   "metadata": {},
   "source": [
    "---"
   ]
  },
  {
   "cell_type": "markdown",
   "id": "98fef5da",
   "metadata": {},
   "source": [
    "# Step 4. 모델 훈련하기"
   ]
  },
  {
   "cell_type": "markdown",
   "id": "e8d20b0e",
   "metadata": {},
   "source": [
    "* batch_size를 256, 528, 1024로 하였을 때 loss 값이 큰 차이가 없어서 빠르게 에포크가 작동되는 1024로 설정하였다.\n",
    "* optimizer도 기존의 `rmsprop`으로 진행하였다가 `adam`으로도 변경을 해보았지만, 최종 프로젝트에서는 `rmsprop`로 진행하고자 한다.\n",
    "* [Optimizer 참고자료](https://onevision.tistory.com/entry/Optimizer-%EC%9D%98-%EC%A2%85%EB%A5%98%EC%99%80-%ED%8A%B9%EC%84%B1-Momentum-RMSProp-Adam)"
   ]
  },
  {
   "cell_type": "code",
   "execution_count": 40,
   "id": "34399599",
   "metadata": {
    "scrolled": true
   },
   "outputs": [
    {
     "name": "stdout",
     "output_type": "stream",
     "text": [
      "Epoch 1/50\n",
      "77/77 [==============================] - 71s 803ms/step - loss: 5.6480 - val_loss: 5.2082\n",
      "Epoch 2/50\n",
      "77/77 [==============================] - 62s 809ms/step - loss: 5.1459 - val_loss: 4.9852\n",
      "Epoch 3/50\n",
      "77/77 [==============================] - 63s 814ms/step - loss: 4.9261 - val_loss: 4.8133\n",
      "Epoch 4/50\n",
      "77/77 [==============================] - 63s 813ms/step - loss: 4.7597 - val_loss: 4.6505\n",
      "Epoch 5/50\n",
      "77/77 [==============================] - 63s 819ms/step - loss: 4.5897 - val_loss: 4.5242\n",
      "Epoch 6/50\n",
      "77/77 [==============================] - 62s 810ms/step - loss: 4.4236 - val_loss: 4.3717\n",
      "Epoch 7/50\n",
      "77/77 [==============================] - 62s 808ms/step - loss: 4.2699 - val_loss: 4.2652\n",
      "Epoch 8/50\n",
      "77/77 [==============================] - 62s 808ms/step - loss: 4.1298 - val_loss: 4.1565\n",
      "Epoch 9/50\n",
      "77/77 [==============================] - 62s 808ms/step - loss: 4.0059 - val_loss: 4.0559\n",
      "Epoch 10/50\n",
      "77/77 [==============================] - 62s 809ms/step - loss: 3.8918 - val_loss: 3.9886\n",
      "Epoch 11/50\n",
      "77/77 [==============================] - 62s 809ms/step - loss: 3.7837 - val_loss: 3.9061\n",
      "Epoch 12/50\n",
      "77/77 [==============================] - 62s 807ms/step - loss: 3.6844 - val_loss: 3.8399\n",
      "Epoch 13/50\n",
      "77/77 [==============================] - 62s 806ms/step - loss: 3.5931 - val_loss: 3.7843\n",
      "Epoch 14/50\n",
      "77/77 [==============================] - 62s 807ms/step - loss: 3.5095 - val_loss: 3.7369\n",
      "Epoch 15/50\n",
      "77/77 [==============================] - 62s 810ms/step - loss: 3.4316 - val_loss: 3.7002\n",
      "Epoch 16/50\n",
      "77/77 [==============================] - 62s 806ms/step - loss: 3.3597 - val_loss: 3.6660\n",
      "Epoch 17/50\n",
      "77/77 [==============================] - 62s 809ms/step - loss: 3.2914 - val_loss: 3.6304\n",
      "Epoch 18/50\n",
      "77/77 [==============================] - 62s 806ms/step - loss: 3.2284 - val_loss: 3.6007\n",
      "Epoch 19/50\n",
      "77/77 [==============================] - 62s 805ms/step - loss: 3.1682 - val_loss: 3.5862\n",
      "Epoch 20/50\n",
      "77/77 [==============================] - 62s 807ms/step - loss: 3.1111 - val_loss: 3.5530\n",
      "Epoch 21/50\n",
      "77/77 [==============================] - 62s 806ms/step - loss: 3.0576 - val_loss: 3.5517\n",
      "Epoch 22/50\n",
      "77/77 [==============================] - 62s 804ms/step - loss: 3.0073 - val_loss: 3.5204\n",
      "Epoch 23/50\n",
      "77/77 [==============================] - 62s 805ms/step - loss: 2.9587 - val_loss: 3.5038\n",
      "Epoch 24/50\n",
      "77/77 [==============================] - 62s 801ms/step - loss: 2.9124 - val_loss: 3.4900\n",
      "Epoch 25/50\n",
      "77/77 [==============================] - 62s 805ms/step - loss: 2.8669 - val_loss: 3.4956\n",
      "Epoch 26/50\n",
      "77/77 [==============================] - 62s 800ms/step - loss: 2.8248 - val_loss: 3.4696\n",
      "Epoch 27/50\n",
      "77/77 [==============================] - 62s 803ms/step - loss: 2.7846 - val_loss: 3.4757\n",
      "Epoch 28/50\n",
      "77/77 [==============================] - 62s 806ms/step - loss: 2.7445 - val_loss: 3.4539\n",
      "Epoch 29/50\n",
      "77/77 [==============================] - 62s 804ms/step - loss: 2.7073 - val_loss: 3.4473\n",
      "Epoch 30/50\n",
      "77/77 [==============================] - 62s 807ms/step - loss: 2.6707 - val_loss: 3.4435\n",
      "Epoch 31/50\n",
      "77/77 [==============================] - 62s 804ms/step - loss: 2.6351 - val_loss: 3.4453\n",
      "Epoch 32/50\n",
      "77/77 [==============================] - 62s 806ms/step - loss: 2.6016 - val_loss: 3.4348\n",
      "Epoch 33/50\n",
      "77/77 [==============================] - 62s 804ms/step - loss: 2.5690 - val_loss: 3.4346\n",
      "Epoch 34/50\n",
      "77/77 [==============================] - 62s 807ms/step - loss: 2.5370 - val_loss: 3.4309\n",
      "Epoch 35/50\n",
      "77/77 [==============================] - 62s 803ms/step - loss: 2.5068 - val_loss: 3.4277\n",
      "Epoch 36/50\n",
      "77/77 [==============================] - 62s 803ms/step - loss: 2.4774 - val_loss: 3.4285\n",
      "Epoch 37/50\n",
      "77/77 [==============================] - 62s 806ms/step - loss: 2.4475 - val_loss: 3.4277\n",
      "Epoch 38/50\n",
      "77/77 [==============================] - 62s 806ms/step - loss: 2.4211 - val_loss: 3.4344\n",
      "Epoch 39/50\n",
      "77/77 [==============================] - 62s 804ms/step - loss: 2.3949 - val_loss: 3.4259\n",
      "Epoch 40/50\n",
      "77/77 [==============================] - 62s 806ms/step - loss: 2.3686 - val_loss: 3.4312\n",
      "Epoch 41/50\n",
      "77/77 [==============================] - 62s 806ms/step - loss: 2.3431 - val_loss: 3.4307\n",
      "Epoch 00041: early stopping\n"
     ]
    }
   ],
   "source": [
    "model.compile(optimizer='rmsprop', loss='sparse_categorical_crossentropy')\n",
    "es = EarlyStopping(monitor='val_loss', patience=2, verbose=1)   # val_loss가 증가하는 현상이 2회 이상 관측되면 학습 중지\n",
    "history = model.fit(x=[encoder_input_train, decoder_input_train], y=decoder_target_train, \\\n",
    "          validation_data=([encoder_input_test, decoder_input_test], decoder_target_test), \\\n",
    "          batch_size=1024, callbacks=[es], epochs=50)"
   ]
  },
  {
   "cell_type": "code",
   "execution_count": 41,
   "id": "db5e16b4",
   "metadata": {},
   "outputs": [
    {
     "data": {
      "image/png": "[encoded data removed]",
      "text/plain": [
       "<Figure size 432x288 with 1 Axes>"
      ]
     },
     "metadata": {
      "needs_background": "light"
     },
     "output_type": "display_data"
    }
   ],
   "source": [
    "# 훈련데이터의 손실과 검증 데이터의 손실이 줄어드는 과정을 시각화\n",
    "plt.plot(history.history['loss'], label='train')\n",
    "plt.plot(history.history['val_loss'], label='test')\n",
    "plt.legend()\n",
    "plt.show()"
   ]
  },
  {
   "cell_type": "markdown",
   "id": "d6b904d0",
   "metadata": {},
   "source": [
    "---"
   ]
  },
  {
   "cell_type": "markdown",
   "id": "8d875edc",
   "metadata": {},
   "source": [
    "# Step 5. 인퍼런스 모델 구현하기 (동작 모델)\n",
    "* 테스트 단계에서 '정수 인덱스 행렬'로 존재하던 텍스트 데이터를 실제 데이터로 복원하는 작업이다."
   ]
  },
  {
   "cell_type": "markdown",
   "id": "54947fa3",
   "metadata": {},
   "source": [
    "## 5.1 사전 3개 준비"
   ]
  },
  {
   "cell_type": "code",
   "execution_count": 42,
   "id": "4b454357",
   "metadata": {},
   "outputs": [
    {
     "name": "stdout",
     "output_type": "stream",
     "text": [
      "=3\n"
     ]
    }
   ],
   "source": [
    "src_index_to_word = src_tokenizer.index_word # 원문 단어 집합에서 정수 -> 단어를 얻음\n",
    "tar_word_to_index = tar_tokenizer.word_index # 요약 단어 집합에서 단어 -> 정수를 얻음\n",
    "tar_index_to_word = tar_tokenizer.index_word # 요약 단어 집합에서 정수 -> 단어를 얻음\n",
    "\n",
    "print('=3')"
   ]
  },
  {
   "cell_type": "markdown",
   "id": "50fe89fe",
   "metadata": {},
   "source": [
    "## 5.2 인퍼런스를 위한 모델 설계\n",
    "* 정답 문장이 없는 인퍼런스 단계(실제로 동작하는 단계)에서는 만들어야 할 문장의 길이만큼 디코더가 반복 구조로 동작해야 한다.  \n",
    "    → 인퍼런스를 위한 모델 설계를 별도로 해주어야 하며 이 때, 인코더와 디코더 모델을 분리해서 설계한다."
   ]
  },
  {
   "cell_type": "markdown",
   "id": "b41fd09e",
   "metadata": {},
   "source": [
    "### 5.2.1 인코더 모델 설계\n",
    "* 문장의 다음 단어를 예측하기 위해서 초기 상태(initial_state)를 이전 시점의 상태로 사용한다. 이는 뒤의 함수 `decode_sequence()`에 구현한다.\n",
    "* 훈련 과정에서와 달리 LSTM의 리턴하는 은닉 상태와 셀 상태인 `state_h`와 `state_c`를 버리지 않는다."
   ]
  },
  {
   "cell_type": "code",
   "execution_count": 43,
   "id": "b2aa711a",
   "metadata": {},
   "outputs": [
    {
     "name": "stdout",
     "output_type": "stream",
     "text": [
      "=3\n"
     ]
    }
   ],
   "source": [
    "# 인코더 설계\n",
    "encoder_model = Model(inputs=encoder_inputs, outputs=[encoder_outputs, state_h, state_c])\n",
    "\n",
    "# 이전 시점의 상태들을 저장하는 텐서\n",
    "decoder_state_input_h = Input(shape=(hidden_size,))\n",
    "decoder_state_input_c = Input(shape=(hidden_size,))\n",
    "\n",
    "dec_emb2 = dec_emb_layer(decoder_inputs)\n",
    "\n",
    "decoder_outputs2, state_h2, state_c2 = decoder_lstm(dec_emb2, initial_state=[decoder_state_input_h, decoder_state_input_c])\n",
    "\n",
    "print('=3')"
   ]
  },
  {
   "cell_type": "markdown",
   "id": "10446fdf",
   "metadata": {},
   "source": [
    "### 5.2.2 디코더 모델 설계 (어텐션 메커니즘 사용)"
   ]
  },
  {
   "cell_type": "code",
   "execution_count": 44,
   "id": "58baea8c",
   "metadata": {},
   "outputs": [
    {
     "name": "stdout",
     "output_type": "stream",
     "text": [
      "=3\n"
     ]
    }
   ],
   "source": [
    "# 어텐션 함수\n",
    "decoder_hidden_state_input = Input(shape=(text_max_len, hidden_size))\n",
    "attn_out_inf = attn_layer([decoder_outputs2, decoder_hidden_state_input])\n",
    "decoder_inf_concat = Concatenate(axis=-1, name='concat')([decoder_outputs2, attn_out_inf])\n",
    "\n",
    "# 디코더의 출력층\n",
    "decoder_outputs2 = decoder_softmax_layer(decoder_inf_concat) \n",
    "\n",
    "# 최종 디코더 모델\n",
    "decoder_model = Model(\n",
    "    [decoder_inputs] + [decoder_hidden_state_input,decoder_state_input_h, decoder_state_input_c],\n",
    "    [decoder_outputs2] + [state_h2, state_c2])\n",
    "\n",
    "print('=3')"
   ]
  },
  {
   "cell_type": "markdown",
   "id": "e592760a",
   "metadata": {},
   "source": [
    "### 5.2.3 단어 시퀀스를 완성하는 함수"
   ]
  },
  {
   "cell_type": "code",
   "execution_count": 45,
   "id": "413f3102",
   "metadata": {},
   "outputs": [
    {
     "name": "stdout",
     "output_type": "stream",
     "text": [
      "=3\n"
     ]
    }
   ],
   "source": [
    "def decode_sequence(input_seq):\n",
    "    # 입력으로부터 인코더의 상태를 얻음\n",
    "    e_out, e_h, e_c = encoder_model.predict(input_seq)\n",
    "\n",
    "     # <SOS>에 해당하는 토큰 생성\n",
    "    target_seq = np.zeros((1,1))\n",
    "    target_seq[0, 0] = tar_word_to_index['sostoken']\n",
    "\n",
    "    stop_condition = False\n",
    "    decoded_sentence = ''\n",
    "    while not stop_condition: # stop_condition이 True가 될 때까지 루프 반복\n",
    "\n",
    "        output_tokens, h, c = decoder_model.predict([target_seq] + [e_out, e_h, e_c])\n",
    "        sampled_token_index = np.argmax(output_tokens[0, -1, :])\n",
    "        sampled_token = tar_index_to_word[sampled_token_index]\n",
    "\n",
    "        if (sampled_token!='eostoken'):\n",
    "            decoded_sentence += ' '+sampled_token\n",
    "\n",
    "        #  <eos>에 도달하거나 최대 길이를 넘으면 중단.\n",
    "        if (sampled_token == 'eostoken'  or len(decoded_sentence.split()) >= (headlines_max_len-1)):\n",
    "            stop_condition = True\n",
    "\n",
    "        # 길이가 1인 타겟 시퀀스를 업데이트\n",
    "        target_seq = np.zeros((1,1))\n",
    "        target_seq[0, 0] = sampled_token_index\n",
    "\n",
    "        # 상태를 업데이트 합니다.\n",
    "        e_h, e_c = h, c\n",
    "\n",
    "    return decoded_sentence\n",
    "print('=3')"
   ]
  },
  {
   "cell_type": "markdown",
   "id": "8bda161a",
   "metadata": {},
   "source": [
    "---"
   ]
  },
  {
   "cell_type": "markdown",
   "id": "04652b82",
   "metadata": {},
   "source": [
    "# Step 6. 모델 테스트"
   ]
  },
  {
   "cell_type": "markdown",
   "id": "ef7e514b",
   "metadata": {},
   "source": [
    "## 6.1 정수 시퀀스를 텍스트 시퀀스로 변환\n",
    "* text의 정수 시퀀스 : 숫자 0 제외(패딩)\n",
    "* headlines의 정수 시퀀스 : 숫자 0(패딩), 시작 토큰의 인덱스, 종료 토큰의 인덱스 제외"
   ]
  },
  {
   "cell_type": "code",
   "execution_count": 46,
   "id": "fa86e575",
   "metadata": {},
   "outputs": [
    {
     "name": "stdout",
     "output_type": "stream",
     "text": [
      "=3\n"
     ]
    }
   ],
   "source": [
    "# text의 정수 시퀀스를 텍스트 시퀀스로 변환\n",
    "def seq2text(input_seq):\n",
    "    temp=''\n",
    "    for i in input_seq:\n",
    "        if (i!=0):        # 숫자 0을 제외    \n",
    "            temp = temp + src_index_to_word[i]+' '\n",
    "    return temp\n",
    "\n",
    "# headlines의 정수 시퀀스를 텍스트 시퀀스로 변환\n",
    "def seq2headlines(input_seq):\n",
    "    temp=''\n",
    "    for i in input_seq:    # 숫자 0, 시작 토큰, 종료 토큰의 인덱스 제외\n",
    "        if ((i!=0 and i!=tar_word_to_index['sostoken']) and i!=tar_word_to_index['eostoken']):\n",
    "            temp = temp + tar_index_to_word[i] + ' '\n",
    "    return temp\n",
    "\n",
    "print('=3')"
   ]
  },
  {
   "cell_type": "markdown",
   "id": "b484553c",
   "metadata": {},
   "source": [
    "## 6.2 실제 요약 vs 예측된 요약"
   ]
  },
  {
   "cell_type": "code",
   "execution_count": 47,
   "id": "cf775954",
   "metadata": {
    "scrolled": true
   },
   "outputs": [
    {
     "name": "stdout",
     "output_type": "stream",
     "text": [
      "50\n",
      "원문 : pm narendra modi saturday met european council president donald tusk european commission president jean claude juncker sidelines summit argentina discussions focused strengthening relations india european union including joint efforts counter terrorism forms external affairs ministry said \n",
      "실제 요약 : pm eu leaders discuss ways to fight terrorism at meet \n",
      "예측 요약 :  pm modi to enhance summit on prez in paris deal\n",
      "\n",
      "\n",
      "51\n",
      "원문 : august us experience first coast coast total solar eclipse years eclipse would pass oregon west coast crossing towards south carolina east coast total eclipse last minutes seconds people canada central america even upper part south america would witness partial eclipse \n",
      "실제 요약 : solar eclipse to cover us entire st time in yrs \n",
      "예측 요약 :  solar eclipse moon moon moon could be flown to moon lunar eclipse\n",
      "\n",
      "\n",
      "52\n",
      "원문 : presenting first budget since us restored sanctions iran president hassan rouhani said america goal bring iran islamic system knees us fail sanctions doubt affect people lives country development economic growth added rouhani presented trillion rial budget worth billion unofficial exchange rate \n",
      "실제 요약 : us goal is to bring our islamic system to its knees iran prez \n",
      "예측 요약 :  iran threatens to iran nuclear deal with iran\n",
      "\n",
      "\n",
      "53\n",
      "원문 : lahore high court wednesday restrained pakistani government arresting mumbai terror attack mastermind hafiz saeed till order saeed sought protection court ahead visit united nations security council sanctions monitoring team team arrive pakistan thursday assess country compliance un sanctions regime nnn \n",
      "실제 요약 : pak high court blocks govt from mastermind \n",
      "예측 요약 :  pak court rejects pak request for hafiz saeed\n",
      "\n",
      "\n",
      "54\n",
      "원문 : technology giant apple co founder steve wozniak launched online tech education platform provide digital skills tech industry also offers access tech companies interested using tools resources provided recruit train employees mobile app offering courses available app store ios devices \n",
      "실제 요약 : apple co founder launches online tech education platform \n",
      "예측 요약 :  apple co founder steve old launches iphone technology\n",
      "\n",
      "\n",
      "55\n",
      "원문 : tesla billionaire co founder elon musk net worth dropped billion last seven days tesla stock fell week year old entrepreneur currently worth billion according forbes musk two thirds fortune tesla shares currently nd richest person world \n",
      "실제 요약 : elon musk net worth drops by billion in days \n",
      "예측 요약 :  tesla loses billion in tesla after years\n",
      "\n",
      "\n",
      "56\n",
      "원문 : ahmedabad man filed divorce claiming wife beard voice said woman tricked covering face could see marriage tradition woman defended saying facial hair due hormonal imbalance could treated \n",
      "실제 요약 : wife has beard voice ahmedabad man in divorce plea \n",
      "예측 요약 :  man divorces husband for not getting divorce from his wife\n",
      "\n",
      "\n",
      "57\n",
      "원문 : national green tribunal friday fined nine government private hospitals delhi failure manage bio medical waste government hospitals told pay private ones fined lakh tribunal also directed government hospitals take strict action officials responsible violation environmental laws \n",
      "실제 요약 : delhi hospitals fined for failing to manage waste \n",
      "예측 요약 :  ngt fines delhi govt for violating fee on day\n",
      "\n",
      "\n",
      "58\n",
      "원문 : model former bigg boss contestant accused author seth sexually harassing kissing forcefully years ago shoved tongue mouth immediately bit tongue might anger said also grabbed balls squeezed hard refused let go added \n",
      "실제 요약 : bit tongue balls as he forcibly kissed \n",
      "예측 요약 :  sofia denies rumours of her husband\n",
      "\n",
      "\n",
      "59\n",
      "원문 : mumbai indians pandya brothers hardik krunal involved dismissals kolkata knight riders batsmen yusuf pathan robin uthappa ipl match sunday kkr batsmen hit shots caught hardik krunal bowling notably krunal ended figures four overs \n",
      "실제 요약 : both pandya brothers involved in uthappa pathan dismissals \n",
      "예측 요약 :  pandya who scored runs in ipl final to dismiss mi\n",
      "\n",
      "\n",
      "60\n",
      "원문 : hp enterprise ceo meg whitman richest self made women technology space us net worth billion according forbes whitman followed facebook coo sheryl sandberg shi international ceo thai lee net worth billion yahoo ceo marissa mayer net worth million \n",
      "실제 요약 : who are the richest self made women in tech in the us \n",
      "예측 요약 :  who are the biggest ipo in the world richest facebook\n",
      "\n",
      "\n",
      "61\n",
      "원문 : bengaluru court awarded life sentence three robbers murdering year old army soldier railway station robbers police custody past seven years stabbed jawan death tried rescue constable attacks fine also imposed \n",
      "실제 요약 : robbers get life sentence for killing army jawan in luru \n",
      "예측 요약 :  sentenced to death for killing yr old in punjab\n",
      "\n",
      "\n",
      "62\n",
      "원문 : south korean electronics company lg unveiled hospitality robot ces designed deliver food drinks travellers hotels airport lounges serving robot part range concept robots called built sliding tray serving also features touchscreen users tap receiving order \n",
      "실제 요약 : lg unveils robot to deliver meals in hotels airports \n",
      "예측 요약 :  lg unveils its first virtual virtual virtual flight\n",
      "\n",
      "\n",
      "63\n",
      "원문 : markets regulator sebi disposed case pertaining alleged fraudulent trading indiabulls securities known indiabulls ventures nothing record indicates indiabulls colluded clients executing non genuine transactions sebi said regulator carried investigation dealings took place february march \n",
      "실제 요약 : sebi of trading case against \n",
      "예측 요약 :  sebi files lawsuit against bitcoin for defrauding bitcoin\n",
      "\n",
      "\n",
      "64\n",
      "원문 : indian cricketer mohammad shami wife hasin jahan said wants meet west bengal chief minister mamata banerjee share pain adding fight truth jahan said tortured appeal keep eye fight meet judge needs done \n",
      "실제 요약 : want to meet cm mamata and share my pain shami wife \n",
      "예측 요약 :  will not be able to be able to be mamata banerjee\n",
      "\n",
      "\n",
      "65\n",
      "원문 : year old pakistani model saturday found dead husband residence lahore body found hanging ceiling fan mother revealed mental stress scheduled meet therapist cannot confirm stage whether committed suicide murdered said police \n",
      "실제 요약 : year old pakistani model found dead at her residence \n",
      "예측 요약 :  pak man kills self after killing of his son\n",
      "\n",
      "\n",
      "66\n",
      "원문 : indian opener rohit sharma pacer jasprit bumrah named icc odi team year led virat kohli rohit scored third odi double century recently included team last year bumrah named first time south africa ab de villiers featured seventh time \n",
      "실제 요약 : rohit bumrah in odi team of the year with kohli as captain \n",
      "예측 요약 :  kohli fastest odi scorers scorer to score in odis\n",
      "\n",
      "\n",
      "67\n",
      "원문 : india largest telecom major airtel lay several telenor india employees merger said people telenor india find meaningful roles within airtel offered five months salary asked resignation letter telenor employee said airtel completed acquisition indian arm telenor communications monday \n",
      "실제 요약 : airtel to lay off several employees post merger \n",
      "예측 요약 :  airtel to shut down operations after years of branches\n",
      "\n",
      "\n",
      "68\n",
      "원문 : contest held facebook live participants kiss car longest time attempt win contest started participants monday people stopped kissing car eliminated case one contestant left end hours lucky draw decide winner \n",
      "실제 요약 : people compete to kiss car for longest time to win it \n",
      "예측 요약 :  facebook posts video of his head during race\n",
      "\n",
      "\n",
      "69\n",
      "원문 : least people killed others injured forest fire central portugal saturday prime minister antonio costa confirmed people died due smoke burned death trapped inside cars caught fire road around firefighters vehicles sent tackle blaze \n",
      "실제 요약 : forest fire kills people in central portugal \n",
      "예측 요약 :  killed injured in explosion at firecracker factory in china\n",
      "\n",
      "\n",
      "70\n",
      "원문 : national investigation agency court tuesday granted bail sudhakar chaturvedi sudhakar dwivedi accused malegaon blasts killed seven people injured around people chaturvedi dwivedi filed bail applications grounds parity earlier august supreme court granted interim bail main accused lt colonel shrikant purohit \n",
      "실제 요약 : two persons accused in the malegaon blasts granted bail \n",
      "예측 요약 :  judge accused of killing woman in ishrat jahan case\n",
      "\n",
      "\n",
      "71\n",
      "원문 : police saturday arrested three kashmiri students hyderabad standing national anthem cinema hall police said management hall registered complaint following three booked relevant sections prevention insults national honour act however granted bail hours detention \n",
      "실제 요약 : kashmiris held for not standing during national anthem \n",
      "예측 요약 :  kashmiri principal arrested for taking in\n",
      "\n",
      "\n",
      "72\n",
      "원문 : indian boxer mary kom gold medal kg category asian games set skip edition championship mary said focus securing gold next world championships kg category category feature edition asian games \n",
      "실제 요약 : asian games gold winner mary kom to skip asian games \n",
      "예측 요약 :  mary kom wins bronze at world championships\n",
      "\n",
      "\n",
      "73\n",
      "원문 : telugu actor pawan kalyan slammed bjp leader tarun vijay racism remark south indians saying vijay statement reflects north india bias south india tweeted persons feelings parties national level pawan said insult forgotten apology \n",
      "실제 요약 : pawan kalyan slams bjp leader for remark on south indians \n",
      "예측 요약 :  mallya has become first indian citizen to vijay mallya\n",
      "\n",
      "\n",
      "74\n",
      "원문 : filmmaker boney kapoor said daughter janhvi kapoor trying like mother sridevi added trying good iconic figure daughter janhvi ape said daughter individuality \n",
      "실제 요약 : janhvi is not trying to be like her mother sridevi boney \n",
      "예측 요약 :  wanted to be part of janhvi kapoor janhvi kapoor\n",
      "\n",
      "\n",
      "75\n",
      "원문 : historic meeting us president donald trump north korean leader kim jong un held june take place hotel singapore island area around hotel marked special security zone summit first ever sitting us president north korean leader \n",
      "실제 요약 : singapore hotel named trump kim summit venue \n",
      "예측 요약 :  trump kim jong un to visit korea for first time in korea\n",
      "\n",
      "\n",
      "76\n",
      "원문 : egyptian man arrested tuesday allegedly trying smuggle kg gold worth crore delhi indira gandhi international airport one largest seizures gold airport recent times accused arrived dubai concealed gold bars specially designed pockets customs official said \n",
      "실제 요약 : egyptian held with gold worth over crore at delhi airport \n",
      "예측 요약 :  man held for smuggling gold worth lakh gold in rectum\n",
      "\n",
      "\n",
      "77\n",
      "원문 : cricketer umar akmal recently given central contract pakistan cricket board trolled posted picture twitter posing alongside bentley showing rest players getting free cars posted user another tweet read work hard get job cab driver \n",
      "실제 요약 : pakistan umar akmal trolled for posing alongside \n",
      "예측 요약 :  sl captain trolls sri lankan players for wearing\n",
      "\n",
      "\n",
      "78\n",
      "원문 : many inmates recaptured far around prisoners escaped mass overcrowded prison indonesia island friday according officials inmates told police escaped due inhumane conditions prison notably jail capacity housing nearly inmates \n",
      "실제 요약 : indonesia inmates who broke out of prison \n",
      "예측 요약 :  inmates escape from prison in prison\n",
      "\n",
      "\n",
      "79\n",
      "원문 : thousands australians saturday protested indian mining giant adani enterprises proposed coal mine environmental groups say would contribute global warming damage great barrier reef comes adani announced would start work project would country largest coal mine october using funds \n",
      "실제 요약 : protest against adani coal mine project \n",
      "예측 요약 :  global population to be global global survey\n",
      "\n",
      "\n",
      "80\n",
      "원문 : rajkummar rao talking film newton said people like character newton kumar needed society system bring free fair elections conflict ridden areas added newton super hero real super hero rajkummar said really nice movie creating impact people \n",
      "실제 요약 : we need people like newton in our society system rajkummar \n",
      "예측 요약 :  rajkummar newton chosen as newton hits the theatres\n",
      "\n",
      "\n",
      "81\n",
      "원문 : bob dylan accused numerous authors copying parts nobel lecture online study guide references dylan lecture bear similarities novel dick notably dylan june deliver lecture order receive crore part prize \n",
      "실제 요약 : bob accused of copying nobel lecture from \n",
      "예측 요약 :  vatican wins nobel prize for the first time\n",
      "\n",
      "\n",
      "82\n",
      "원문 : us consumer products company colgate stopped operating plant venezuela due shortage cardboard needed packaging employee union leader said plant produced liquid detergent fabric soap second five production plants colgate close country experiencing worst economic crisis \n",
      "실제 요약 : shuts down venezuela plant due to cardboard shortage \n",
      "예측 요약 :  us firm bans electronic meat from risk of its monkeys\n",
      "\n",
      "\n",
      "83\n",
      "원문 : total four ministers state inducted prime minister narendra modi union cabinet rashtrapati bhavan sunday promoted ministers piyush goyal nirmala sitharaman mukhtar abbas naqvi dharmendra pradhan total nine new mos took oath taking total strength council ministers \n",
      "실제 요약 : ministers of state promoted to the union cabinet \n",
      "예측 요약 :  cabinet approves pm modi visit to visit cabinet\n",
      "\n",
      "\n",
      "84\n",
      "원문 : prime minister narendra modi sunday said opposition wants build empire want empower people addressing booth level bjp workers five parliamentary constituencies tamil nadu pm added bjp politics divide rule building vote bank pm said serve country every way \n",
      "실제 요약 : opp wants their own empire we want to people pm \n",
      "예측 요약 :  pm modi meets people in the of ambedkar\n",
      "\n",
      "\n",
      "85\n",
      "원문 : us president donald trump friday ordered fbi probe sexual assault allegations supreme court nominee brett kavanaugh judiciary committee voted advance nomination full senate trump ordered investigation limited scope completed less one week previously denying requests fbi probe \n",
      "실제 요약 : fbi to probe sexual assault allegations against \n",
      "예측 요약 :  trump denies reports of sexual misconduct allegations\n",
      "\n",
      "\n",
      "86\n",
      "원문 : police pakistan dera khan area arrested man accused wife refused give gold earrings victim family alleged couple often fought unable conceive children case registered accused police searching accomplice \n",
      "실제 요약 : pak man wife for not giving \n",
      "예측 요약 :  army jawan arrested for molesting wife in punjab\n",
      "\n",
      "\n",
      "87\n",
      "원문 : independent senator island state australia announced resignation tuesday issue dual citizenship became eighth mp resign issue said recently learned british nationality per australia constitution dual citizens allowed run federal office \n",
      "실제 요약 : australian mp resigns amid dual citizenship crisis \n",
      "예측 요약 :  german chancellor merkel resigns from parliament\n",
      "\n",
      "\n",
      "88\n",
      "원문 : actor rishi kapoor tweeting death anniversary grandfather prithviraj kapoor wrote died th may remembering wikipedia got year death wrong earlier shown year prithviraj kapoor death wikipedia prithviraj kapoor known contribution indian theatre hindi film industry \n",
      "실제 요약 : wikipedia got kapoor year of death wrong rishi \n",
      "예측 요약 :  rishi kapoor shares pic of his upcoming film dhadak\n",
      "\n",
      "\n",
      "89\n",
      "원문 : actor shahid kapoor th birthday february tweeted want sincerely thank wishes today day remember wrote remember brilliance magic brought lives love wishes must today may rest peace \n",
      "실제 요약 : today is to remember sridevi shahid on his th birthday \n",
      "예측 요약 :  wish you have to be the mother of the year old shahid\n",
      "\n",
      "\n",
      "90\n",
      "원문 : shankar patra year old tea stall owner kolkata painted entire building argentina national team colours told travel agent savings enough watch argentina world cup smoke drink one addiction lionel messi argentina patra said \n",
      "실제 요약 : messi fan tea stall owner paints house in argentina colours \n",
      "예측 요약 :  indian athlete finds indian athlete from swimming pool\n",
      "\n",
      "\n",
      "91\n",
      "원문 : video french teenager shouting teacher mark present school register pointing fake gun surfaced online year old charged aggravated violence reportedly said joke adding aware filmed \n",
      "실제 요약 : french teen threatens teacher with fake gun over attendance \n",
      "예측 요약 :  video shows man thrashed with classmate in noida\n",
      "\n",
      "\n",
      "92\n",
      "원문 : woman head recently got stuck closing train doors new york united states video footage showed woman head bag stuck doors authorities later stated unfortunate incident passenger able get safely assistance train operator \n",
      "실제 요약 : woman head gets stuck between closing train doors in us \n",
      "예측 요약 :  woman throws train to train on train train goes viral\n",
      "\n",
      "\n",
      "93\n",
      "원문 : sri lanka rated corrupt cricketing nation icc country sports minister fernando said monday fernando added shown confidential report matter dubai meeting told problem limited bookies even local game links underworld fernando said \n",
      "실제 요약 : sri lanka cricket rated most corrupt by icc sl sports minister \n",
      "예측 요약 :  sri lanka asks icc to ban on icc\n",
      "\n",
      "\n",
      "94\n",
      "원문 : congress president rahul gandhi pilgrimage kailash shared pictures lake man goes kailash calls waters lake mansarovar gentle calm give everything lose nothing hatred rahul wrote also posted sanskrit shloka alongside pictures \n",
      "실제 요약 : man goes to kailash when it calls him rahul shares yatra pics \n",
      "예측 요약 :  rahul gandhi tweets user on fire in mumbai\n",
      "\n",
      "\n",
      "95\n",
      "원문 : unidentified dead bodies spotted floating almost daily river near recently isis liberated iraqi city mosul according reports bodies evidence extrajudicial executions isis militants iraqi security forces non governmental organisation human rights watch alleged soldiers shifted corpses morgue city general hospital \n",
      "실제 요약 : corpses seen floating in river near isis city \n",
      "예측 요약 :  killed in syria in deadliest of isis in syria\n",
      "\n",
      "\n",
      "96\n",
      "원문 : ex arsenal footballer sanchez shown red card referee mistook player name dissent match england tuesday dean asked name going show yellow card repeatedly replied thought said showed red card instead \n",
      "실제 요약 : player named shown red as confuses name with what \n",
      "예측 요약 :  footballer who texted player who asked to wear shirt\n",
      "\n",
      "\n",
      "97\n",
      "원문 : virgin group founder billionaire richard branson said undergoing training become astronaut going fitness training training body hopefully cope well go space added branson said exciting times ahead first trip space would months away years away \n",
      "실제 요약 : training to become astronaut billionaire branson \n",
      "예측 요약 :  branson branson branson branson branson on space branson\n",
      "\n",
      "\n",
      "98\n",
      "원문 : addressing commandos elite counter terror force national security guard union home minister rajnath singh said lone wolf kind terror attacks major challenge us security agencies stated security forces great job handling terrorists adding need constantly update tactics \n",
      "실제 요약 : do it yourself terrorists are major challenge rajnath \n",
      "예측 요약 :  army foils infiltration terror attack in pak\n",
      "\n",
      "\n",
      "99\n",
      "원문 : maker augmented reality game pok mon go niantic announced making harry potter based ar game harry potter unite game allow players learn fight legendary beasts team others beat enemies niantic said partnered warner bros interactive games game \n",
      "실제 요약 : pok go maker announces harry potter ar game \n",
      "예측 요약 :  what were the white moments of white match\n",
      "\n",
      "\n"
     ]
    }
   ],
   "source": [
    "for i in range(50, 100):\n",
    "    print(i)\n",
    "    print(\"원문 :\", seq2text(encoder_input_test[i]))\n",
    "    print(\"실제 요약 :\", seq2headlines(decoder_input_test[i]))\n",
    "    print(\"예측 요약 :\", decode_sequence(encoder_input_test[i].reshape(1, text_max_len)))\n",
    "    print(\"\\n\")"
   ]
  },
  {
   "cell_type": "markdown",
   "id": "2eaedfb0",
   "metadata": {},
   "source": [
    "## 6.3 결과 정리"
   ]
  },
  {
   "cell_type": "code",
   "execution_count": 48,
   "id": "e68beb2d",
   "metadata": {
    "scrolled": true
   },
   "outputs": [
    {
     "data": {
      "text/html": [
       "<div>\n",
       "<style scoped>\n",
       "    .dataframe tbody tr th:only-of-type {\n",
       "        vertical-align: middle;\n",
       "    }\n",
       "\n",
       "    .dataframe tbody tr th {\n",
       "        vertical-align: top;\n",
       "    }\n",
       "\n",
       "    .dataframe thead th {\n",
       "        text-align: right;\n",
       "    }\n",
       "</style>\n",
       "<table border=\"1\" class=\"dataframe\">\n",
       "  <thead>\n",
       "    <tr style=\"text-align: right;\">\n",
       "      <th></th>\n",
       "      <th>text 최대길이</th>\n",
       "      <th>headlines 최대길이</th>\n",
       "      <th>text 등장빈도수</th>\n",
       "      <th>headlines 등장빈도수</th>\n",
       "      <th>활성화함수</th>\n",
       "      <th>optimizer</th>\n",
       "      <th>batch size</th>\n",
       "      <th>loss</th>\n",
       "      <th>val_loss</th>\n",
       "    </tr>\n",
       "  </thead>\n",
       "  <tbody>\n",
       "    <tr>\n",
       "      <th>0</th>\n",
       "      <td>45</td>\n",
       "      <td>13</td>\n",
       "      <td>7</td>\n",
       "      <td>6</td>\n",
       "      <td>softmax</td>\n",
       "      <td>rmsprop</td>\n",
       "      <td>256</td>\n",
       "      <td>2.4922</td>\n",
       "      <td>3.3288</td>\n",
       "    </tr>\n",
       "    <tr>\n",
       "      <th>1</th>\n",
       "      <td>42</td>\n",
       "      <td>11</td>\n",
       "      <td>7</td>\n",
       "      <td>6</td>\n",
       "      <td>softmax</td>\n",
       "      <td>rmsprop</td>\n",
       "      <td>528</td>\n",
       "      <td>2.9316</td>\n",
       "      <td>4.2006</td>\n",
       "    </tr>\n",
       "    <tr>\n",
       "      <th>2</th>\n",
       "      <td>45</td>\n",
       "      <td>13</td>\n",
       "      <td>6</td>\n",
       "      <td>4</td>\n",
       "      <td>softmax</td>\n",
       "      <td>rmsprop</td>\n",
       "      <td>528</td>\n",
       "      <td>2.6033</td>\n",
       "      <td>3.5155</td>\n",
       "    </tr>\n",
       "    <tr>\n",
       "      <th>3</th>\n",
       "      <td>45</td>\n",
       "      <td>13</td>\n",
       "      <td>7</td>\n",
       "      <td>6</td>\n",
       "      <td>softmax</td>\n",
       "      <td>rmsprop</td>\n",
       "      <td>528</td>\n",
       "      <td>2.4288</td>\n",
       "      <td>3.3883</td>\n",
       "    </tr>\n",
       "    <tr>\n",
       "      <th>4</th>\n",
       "      <td>45</td>\n",
       "      <td>13</td>\n",
       "      <td>7</td>\n",
       "      <td>6</td>\n",
       "      <td>softmax</td>\n",
       "      <td>rmsprop</td>\n",
       "      <td>1024</td>\n",
       "      <td>2.4459</td>\n",
       "      <td>3.4213</td>\n",
       "    </tr>\n",
       "    <tr>\n",
       "      <th>5</th>\n",
       "      <td>45</td>\n",
       "      <td>13</td>\n",
       "      <td>7</td>\n",
       "      <td>6</td>\n",
       "      <td>relu</td>\n",
       "      <td>rmsprop</td>\n",
       "      <td>1024</td>\n",
       "      <td>2.4157</td>\n",
       "      <td>3.4117</td>\n",
       "    </tr>\n",
       "    <tr>\n",
       "      <th>6</th>\n",
       "      <td>45</td>\n",
       "      <td>13</td>\n",
       "      <td>7</td>\n",
       "      <td>6</td>\n",
       "      <td>relu</td>\n",
       "      <td>adam</td>\n",
       "      <td>1024</td>\n",
       "      <td>2.3237</td>\n",
       "      <td>3.3899</td>\n",
       "    </tr>\n",
       "  </tbody>\n",
       "</table>\n",
       "</div>"
      ],
      "text/plain": [
       "   text 최대길이  headlines 최대길이  text 등장빈도수  headlines 등장빈도수    활성화함수 optimizer  \\\n",
       "0         45              13           7                6  softmax   rmsprop   \n",
       "1         42              11           7                6  softmax   rmsprop   \n",
       "2         45              13           6                4  softmax   rmsprop   \n",
       "3         45              13           7                6  softmax   rmsprop   \n",
       "4         45              13           7                6  softmax   rmsprop   \n",
       "5         45              13           7                6     relu   rmsprop   \n",
       "6         45              13           7                6     relu      adam   \n",
       "\n",
       "   batch size    loss  val_loss  \n",
       "0         256  2.4922    3.3288  \n",
       "1         528  2.9316    4.2006  \n",
       "2         528  2.6033    3.5155  \n",
       "3         528  2.4288    3.3883  \n",
       "4        1024  2.4459    3.4213  \n",
       "5        1024  2.4157    3.4117  \n",
       "6        1024  2.3237    3.3899  "
      ]
     },
     "execution_count": 48,
     "metadata": {},
     "output_type": "execute_result"
    }
   ],
   "source": [
    "results = {'text 최대길이' : [45, 42, 45, 45, 45, 45, 45],\n",
    "           'headlines 최대길이' : [13, 11, 13, 13, 13, 13, 13],\n",
    "           'text 등장빈도수' : [7, 7, 6, 7, 7, 7, 7],\n",
    "           'headlines 등장빈도수' : [6, 6, 4, 6, 6, 6, 6],\n",
    "           '활성화함수' : ['softmax', 'softmax', 'softmax', 'softmax', 'softmax', 'relu', 'relu'],\n",
    "           'optimizer' : ['rmsprop', 'rmsprop', 'rmsprop', 'rmsprop', 'rmsprop', 'rmsprop', 'adam'],\n",
    "           'batch size' : [256, 528, 528, 528, 1024, 1024, 1024],\n",
    "          'loss' : [2.4922, 2.9316, 2.6033, 2.4288, 2.4459, 2.4157, 2.3237],\n",
    "          'val_loss' : [3.3288, 4.2006, 3.5155, 3.3883, 3.4213, 3.4117, 3.3899]}\n",
    "\n",
    "pd_results = pd.DataFrame(results)\n",
    "pd_results"
   ]
  },
  {
   "cell_type": "markdown",
   "id": "884322a7",
   "metadata": {},
   "source": [
    "## 6.4 각 시도 별 예측 요약 문장"
   ]
  },
  {
   "cell_type": "markdown",
   "id": "8659153f",
   "metadata": {},
   "source": [
    "### <1번 시도>\n",
    "* 원문 : nawazuddin siddiqui said revealing details relationships ex girlfriends niharika singh sunita biography ordinary life memoir biggest mistake life taken names biography added niharika sunita accused nawazuddin making false claims relationships publicity  \n",
    "나와즈딘 시디키는 전 여자친구인 니하리카 싱 수니타 전기에서 가장 큰 실수를 한 자서전인 니하리카 수니타가 거짓 주장 관계를 홍보하고 있다고 덧붙였다.  \n",
    "  \n",
    "* 실제 요약 : biggest mistake of my life nawazuddin on his biography  \n",
    "그의 전기에 대한 내 인생의 가장 큰 실수  \n",
    "  \n",
    "* 예측 요약 :  nawazuddin nawazuddin was not nawazuddin on biography  \n",
    "나와주딘 나와주딘은 전기에 나와주딘이 아니었다.  \n",
    "  \n",
    "▶ nawazuddin이라는 단어가 예측 요약 문장에 총 3번이 들어간 것을 확인할 수 있다.val_loss가 가장 낮았음에도 요약이 잘 되지 않은 것을 확인할 수 있다."
   ]
  },
  {
   "cell_type": "markdown",
   "id": "82a626e0",
   "metadata": {},
   "source": [
    "### <2번 시도 / 3번 시도>  \n",
    "* 원문 : serbian football club red star open top bus caught fire team celebrating th league title victory parade serbian capital according reports blaze started player carrying accidentally set fire oil leaked bus club statement confirmed players hurt incident  \n",
    "세르비아 축구 클럽 레드 스타 오픈 탑 버스가 리그 우승 퍼레이드 세르비아 수도를 축하하던 중 화재가 발생, 선수들이 부상을 입은 것으로 확인됐다.\n",
    "* 실제 요약 : football team open top bus catches fire during celebration  \n",
    "축구팀 오픈 탑 버스가 축하하는 동안 불이 붙다.\n",
    "* 예측 요약 :  injured as bus bus catches fire in kerala  \n",
    "케랄라에서 버스에 불이 나서 부상당함  \n",
    "  \n",
    "▶ 'kerala'가 갑자기 어디에서 나왔는지는 모르겠지만, 그것만 제외하면 나름 요약이 잘되었다.   \n",
    "▶ 신기하게도 2번 시도와 3번시도는 최대 길이 등 다르게 설정한 것이 많고 val_loss가 꽤 차이가 남에도 불구하고 동일하게 나온 것들이 꽤나 있었다. 이 부분은 굉장히 의아하다."
   ]
  },
  {
   "cell_type": "markdown",
   "id": "0fd676d5",
   "metadata": {},
   "source": [
    "### <4번 시도>\n",
    "* 원문 : serbian football club red star open top bus caught fire team celebrating th league title victory parade serbian capital according reports blaze started player carrying accidentally set fire oil leaked bus club statement confirmed players hurt incident  \n",
    "세르비아 축구 클럽 레드 스타 오픈 탑 버스가 리그 우승 퍼레이드 세르비아 수도를 축하하던 중 화재가 발생, 선수들이 부상을 입은 것으로 확인됐다.\n",
    "* 실제 요약 : football team open top bus catches fire during celebration  \n",
    "축구팀 오픈 탑 버스가 축하하는 동안 불이 붙다.\n",
    "* 예측 요약 :  wins real madrid win in th game of game in russia  \n",
    "러시아 게임에서 레알 마드리드가 이기다.  \n",
    "  \n",
    "▶ 2,3번 시도와 동일한 원문인데 전혀 다른 문장이 출력되었다. val_loss가 낮아서 잘 요약되지 않았을까 기대를 하였지만 훨씬 좋지 않은 요약이다."
   ]
  },
  {
   "cell_type": "markdown",
   "id": "3651fa78",
   "metadata": {},
   "source": [
    "### <5번 시도>\n",
    "* 원문 : us president donald trump administration scrapped obama era guidance investigating campus sexual assault allowing universities decide standards evidence used investigations us education secretary said rules unfairly accused students rights groups claimed new laws discourage students reporting cases  \n",
    "미국 대통령 도널드 트럼프는 대학들이 조사를 이용한 표준 증거를 결정하도록 허용하면서 캠퍼스 성폭력을 조사하는 오바마 시대의 지침을 폐기했다.\n",
    "* 실제 요약 : trump govt scraps obama era campus sexual assault  \n",
    "트럼프 정부, 오바마 시대 캠퍼스 성폭행 폐기\n",
    "* 예측 요약 :  trump slams un for sexual assault awareness  \n",
    "트럼프, 성폭행 인식에 대해 맹비난하다\n",
    "\n",
    "---\n",
    "\n",
    "* 원문 : india seema punia bagged fourth successive medal commonwealth games winning silver women discus throw final throw gold coast thursday year old three silver medals one bronze games another indian athlete dhillon bronze event  \n",
    "인도 푸니아는 코먼웰스 게임에서 4연속 메달을 획득했다. 여자 원반던지기 결승골드코스트에서 3개의 은메달이 나왔다.\n",
    "* 실제 요약 : wins th straight cwg medal  \n",
    "연속 CWG 메달을 획득하다\n",
    "* 예측 요약 :  india win india st medal at asiad  \n",
    "인도가 아시아드에서 메달을 따다\n",
    "  \n",
    "▶ 5번 시도에서 요약이 잘 된 것으로 보인다. 원문에는 없는 단어가 출력되긴 하지만 그래도 그것을 제외하면 나름 잘 요약이 되었다."
   ]
  },
  {
   "cell_type": "markdown",
   "id": "aa8a0df2",
   "metadata": {},
   "source": [
    "### <6번 시도>\n",
    "* 원문 : ride hailing startup uber planning launch cheapest cab service express pool india uber executive singh said company feature india part expanding lowest cost offering express pool allows users walk spot rather drivers arriving reduces ride fares much  \n",
    "스타트업 우버 기획 런칭 택시 서비스 인도 우버 익스프레스 풀 이그제큐티브 싱은 \"회사 특징인 인도 우버 익스프레스 풀은 도착하는 운전자가 탑승 요금을 크게 줄이는 대신 사용자가 스팟을 걸을 수 있도록 해준다\"고 말했다.\n",
    "* 실제 요약 : uber cheapest cab service express pool to launch in india  \n",
    "인도에서 가장 저렴한 택시 서비스 익스프레스 풀 출시\n",
    "* 예측 요약 :  uber to launch new york taxi service in india  \n",
    "우버, 인도에서 뉴욕 택시 서비스를 시작하다\n",
    "\n",
    "---\n",
    "\n",
    "* 원문 : indian origin man second prize crore lottery abu dhabi man bought ticket worth four friends would sharing lottery prize recently indian man lottery nearly crore uae\n",
    "복권 당첨자 2등 크로어 복권 아부다비 남자가 친구 4명분의 복권을 샀는데 최근에는 크로어 복권 당첨자들도 복권 당첨자 2등 크로어 복권 당첨자는 거의 크로어 아랍에미리트이다.\n",
    "* 실제 요약 : indian man wins lottery of over crore in abu dhabi\n",
    "아부다비에서 인도 남자가 크로어 이상의 복권에 당첨되다.\n",
    "* 예측 요약 :  indian origin man wins crore lottery lottery  \n",
    "인도 출신 남성이 크로어 복권에 당첨되다.\n",
    "\n",
    "▶ 6번 시도도 5번 시도와 같이 원문에는 없는 단어가 출력되긴 하지만 그래도 요약이 나름 잘 된 것으로 보인다."
   ]
  },
  {
   "cell_type": "markdown",
   "id": "1b094b06",
   "metadata": {},
   "source": [
    "### <7번 시도>\n",
    "* 원문 : china thursday opened first highway built wireless charging systems electric vehicles country province one kilometre long road contains panels convert sunlight electricity china become world second country construct highway france introduced road fitted solar panels  \n",
    "중국이 27일(현지시간) 1km 길이의 고속도로를 개통했다. 이 도로는 태양광 전기를 변환하는 패널을 포함하고 있다.\n",
    "* 실제 요약 : china opens its st highway with wireless charging systems  \n",
    "중국은 무선 충전 시스템으로 고속도로를 개방한다.\n",
    "* 예측 요약 :  china launches its first electric truck in china  \n",
    "중국은 중국에서 첫 전기 트럭을 출시한다.\n",
    "  \n",
    "▶ 7번 시도의 경우, 5, 6번에 비해 요약이 잘 되지 않은 것을 확인할 수 있다."
   ]
  },
  {
   "cell_type": "markdown",
   "id": "98f71b26",
   "metadata": {},
   "source": [
    "---\n",
    "---\n",
    "---"
   ]
  },
  {
   "cell_type": "markdown",
   "id": "be7a5997",
   "metadata": {},
   "source": [
    "# [추출적 요약]\n",
    "* 추출적 요약 : 본문에 존재하는 단어구, 문장을 뽑아서 요약\n",
    "* 패키지 ` Summa`에서 추출적 요약을 위한 모듈인 `summarize`를 제공"
   ]
  },
  {
   "cell_type": "markdown",
   "id": "48397a32",
   "metadata": {},
   "source": [
    "# Step 0. 라이브러리 불러오기"
   ]
  },
  {
   "cell_type": "code",
   "execution_count": 49,
   "id": "33c5cc26",
   "metadata": {},
   "outputs": [],
   "source": [
    "import requests\n",
    "from summa.summarizer import summarize"
   ]
  },
  {
   "cell_type": "markdown",
   "id": "1e01f446",
   "metadata": {},
   "source": [
    "# Step 1. 데이터 확인하기"
   ]
  },
  {
   "cell_type": "code",
   "execution_count": 50,
   "id": "9ef21229",
   "metadata": {},
   "outputs": [],
   "source": [
    "data_summa = pd.read_csv('news_summary_more.csv', encoding='iso-8859-1')"
   ]
  },
  {
   "cell_type": "code",
   "execution_count": 51,
   "id": "7028dc40",
   "metadata": {},
   "outputs": [
    {
     "data": {
      "text/plain": [
       "0    Saurav Kant, an alumnus of upGrad and IIIT-B's...\n",
       "1    Kunal Shah's credit card bill payment platform...\n",
       "2    New Zealand defeated India by 8 wickets in the...\n",
       "3    With Aegon Life iTerm Insurance plan, customer...\n",
       "4    Speaking about the sexual harassment allegatio...\n",
       "Name: text, dtype: object"
      ]
     },
     "execution_count": 51,
     "metadata": {},
     "output_type": "execute_result"
    }
   ],
   "source": [
    "text_summa = data_summa['text']\n",
    "text_summa.head()"
   ]
  },
  {
   "cell_type": "code",
   "execution_count": 52,
   "id": "7a94f79c",
   "metadata": {},
   "outputs": [
    {
     "data": {
      "text/plain": [
       "0    upGrad learner switches to career in ML & Al w...\n",
       "1    Delhi techie wins free food from Swiggy for on...\n",
       "2    New Zealand end Rohit Sharma-led India's 12-ma...\n",
       "3    Aegon life iTerm insurance plan helps customer...\n",
       "4    Have known Hirani for yrs, what if MeToo claim...\n",
       "Name: headlines, dtype: object"
      ]
     },
     "execution_count": 52,
     "metadata": {},
     "output_type": "execute_result"
    }
   ],
   "source": [
    "headlines_summa = data_summa['headlines']\n",
    "headlines_summa.head()"
   ]
  },
  {
   "cell_type": "markdown",
   "id": "173267c1",
   "metadata": {},
   "source": [
    "# Step 2. 추출적 요약하기\n",
    "* text_summa (str) : 요약할 텍스트\n",
    "* ratio (float, optional) – 요약문에서 원본에서 선택되는 문장 비율. 0~1 사이값\n",
    "* words (int or None, optional) – 출력에 포함할 단어 수.  \n",
    "    (만약, ratio와 함께 두 파라미터가 모두 제공되는 경우 ratio는 무시한다.)\n",
    "* split (bool, optional) – True면 문장 list / False는 조인(join)된 문자열을 반환"
   ]
  },
  {
   "cell_type": "markdown",
   "id": "e504f7a4",
   "metadata": {},
   "source": [
    "* ratio(요약문에서 원본이 선택되는 문장 비율)을 0.4로 설정하였다. 비율을 0.5, 0.6으로 하였을 때와 동일한 요약 결과가 나왔다.\n",
    "* 0.7로 하였을 땐 요약 문장이 너무나 길어 0.4로 설정하여 진행하였다."
   ]
  },
  {
   "cell_type": "code",
   "execution_count": 53,
   "id": "0eff9442",
   "metadata": {
    "scrolled": true
   },
   "outputs": [
    {
     "name": "stdout",
     "output_type": "stream",
     "text": [
      "headlines_summa : \n",
      "upGrad's Online Power Learning has powered 3 lakh+ careers.\n"
     ]
    }
   ],
   "source": [
    "print('headlines_summa : ')\n",
    "print(summarize(text_summa.apply(str).iloc[0], ratio = 0.4))"
   ]
  },
  {
   "cell_type": "markdown",
   "id": "7224bf2e",
   "metadata": {},
   "source": [
    "* 리스트로 출력 결과를 받기 위해서는 `split = True`로 해주면 된다."
   ]
  },
  {
   "cell_type": "code",
   "execution_count": 54,
   "id": "b883924f",
   "metadata": {},
   "outputs": [
    {
     "name": "stdout",
     "output_type": "stream",
     "text": [
      "headlines_summa : \n",
      "[\"upGrad's Online Power Learning has powered 3 lakh+ careers.\"]\n"
     ]
    }
   ],
   "source": [
    "print('headlines_summa : ')\n",
    "print(summarize(text_summa.apply(str).iloc[0], ratio = 0.4, split = True))"
   ]
  },
  {
   "cell_type": "markdown",
   "id": "32e94890",
   "metadata": {},
   "source": [
    "* 비율이 아닌 단어 수로 지정하였는데 비율 0.4는 단어 15개와 동일한 결과가 나온다는 것을 알 수 있다.\n",
    "* 단어 수 또한 비율과 마찬가지로 15개 ~ 19개까지는 동일한 결과가 나왔으며 20개부터는 더욱 긴 문장이 나왔으나 너무 길어 15개로 설정하여 진행하였다."
   ]
  },
  {
   "cell_type": "code",
   "execution_count": 55,
   "id": "80123343",
   "metadata": {},
   "outputs": [
    {
     "name": "stdout",
     "output_type": "stream",
     "text": [
      "headlines_summa : \n",
      "upGrad's Online Power Learning has powered 3 lakh+ careers.\n"
     ]
    }
   ],
   "source": [
    "print('headlines_summa : ')\n",
    "print(summarize(text_summa.apply(str).iloc[0], words = 15))"
   ]
  },
  {
   "cell_type": "markdown",
   "id": "121fa91a",
   "metadata": {},
   "source": [
    "* 단어수 15개로 지정하여 원문(text), 실제요약(headlines), 예측요약을 확인해보았다.\n",
    "* 예측 요약으로 나온 문장은 다름이 아니라 원문의 가장 마지막 줄이었다...."
   ]
  },
  {
   "cell_type": "code",
   "execution_count": 56,
   "id": "95fe5ac9",
   "metadata": {
    "scrolled": false
   },
   "outputs": [
    {
     "name": "stdout",
     "output_type": "stream",
     "text": [
      "원문 : \n",
      "Saurav Kant, an alumnus of upGrad and IIIT-B's PG Program in Machine learning and Artificial Intelligence, was a Sr Systems Engineer at Infosys with almost 5 years of work experience. The program and upGrad's 360-degree career support helped him transition to a Data Scientist at Tech Mahindra with 90% salary hike. upGrad's Online Power Learning has powered 3 lakh+ careers.\n",
      "실제요약 : \n",
      "upGrad learner switches to career in ML & Al with 90% salary hike\n",
      "예측요약 : \n",
      "upGrad's Online Power Learning has powered 3 lakh+ careers.\n"
     ]
    }
   ],
   "source": [
    "print('원문 : ')\n",
    "print(text_summa.iloc[0])\n",
    "\n",
    "print('실제요약 : ')\n",
    "print(headlines_summa.iloc[0])\n",
    "\n",
    "print('예측요약 : ')\n",
    "print(summarize(text_summa.apply(str).iloc[0], words = 15))"
   ]
  },
  {
   "cell_type": "code",
   "execution_count": 57,
   "id": "5d5233d0",
   "metadata": {},
   "outputs": [
    {
     "name": "stdout",
     "output_type": "stream",
     "text": [
      "원문 : \n",
      "New Zealand defeated India by 8 wickets in the fourth ODI at Hamilton on Thursday to win their first match of the five-match ODI series. India lost an international match under Rohit Sharma's captaincy after 12 consecutive victories dating back to March 2018. The match witnessed India getting all out for 92, their seventh lowest total in ODI cricket history.\n",
      "실제요약 : \n",
      "New Zealand end Rohit Sharma-led India's 12-match winning streak\n",
      "예측요약 : \n",
      "The match witnessed India getting all out for 92, their seventh lowest total in ODI cricket history.\n"
     ]
    }
   ],
   "source": [
    "print('원문 : ')\n",
    "print(text_summa.iloc[2])\n",
    "\n",
    "print('실제요약 : ')\n",
    "print(headlines_summa.iloc[2])\n",
    "\n",
    "print('예측요약 : ')\n",
    "print(summarize(text_summa.apply(str).iloc[2], words = 15))"
   ]
  },
  {
   "cell_type": "markdown",
   "id": "23645ee2",
   "metadata": {},
   "source": [
    "---\n",
    "---\n",
    "---"
   ]
  },
  {
   "cell_type": "markdown",
   "id": "cfa3ed53",
   "metadata": {},
   "source": [
    "# 회고"
   ]
  },
  {
   "cell_type": "markdown",
   "id": "de025da5",
   "metadata": {},
   "source": [
    "## 1. 추상적 요약\n",
    "* text, headlines의 최대길이와 등장빈도수를 조절하여 빈도수가 낮은 단어를 제외하는 것들에 대해 다양하게 설정해보았다.\n",
    "* 최대 길이는 이상치만 제거하는 방향으로 진행하였다. 혹시나 그 이상으로 제거하였을 때는 어떨까해서 해보았지만 val_loss가 높게 나왔다. 그래서 이상치만 제거하여 데이터의 수를 최대한으로 가져가는 방향으로 진행하였다.\n",
    "* 등장빈도수를 낮게 잡아 단어를 많이 제거하지 않는 시도를 해보았으나 큰 차이가 없어서 기존과 그대로 등장 빈도수를 설정하여 진행하였다.\n",
    "* 다중 클래스 분류 문제를 푸는데 사용되는 활성화 함수인 `softmax` 함수로 프로젝트 진행하다가 `relu` 함수로 변경하여 진행하였다. 활성화함수 중에서 가장 많이 사용하는 함수라고 해서 사용을 하였고, 예측 결과가 나쁘지 않아서 `relu`함수로 계속 진행하였다.  \n",
    "    하지만 이번 프로젝트에서 정확하게 `softmax`함수가 아닌 `relu`함수를 사용해야 하는 이유를 알지 못한 채로 사용한거라 활성화함수를 더 공부해야 겠다는 생각이 들었다.\n",
    "* 모델 훈련 시 optimizer를  기존의 `rmsprop`으로 진행하였다가 `adam`으로 변경하였다. `adam`은 `rmsprop` + `momentum`을 섞어놓은 옵티마이저라고 하여 더 효율이 좋을 거란 판단으로 실행하였다. loss와 val_loss가 가장 낮게 나오긴 했으나 제대로 예측을 하지 못하는 것 같아 다시 `rmsprop`으로 진행하였다.\n",
    "* batch_size를 256, 518, 1024로 늘려서 해보았는데, 큰 영향을 미치지 않은 것 같아서 시간 절약을 위해 1024로 진행하였다."
   ]
  },
  {
   "cell_type": "markdown",
   "id": "7fb21433",
   "metadata": {},
   "source": [
    "## 2. 추출적 요약"
   ]
  },
  {
   "cell_type": "markdown",
   "id": "3d1f341e",
   "metadata": {},
   "source": [
    "* 추출적 요약에서 가장 충격적인 결과는 예측 요약 문장이 원문의 가장 마지막 문장이라는 것이었다. 혹시나 해서 다른 원문으로도 확인해보았는데, 그 결과는 동일하였다.\n",
    "* 그래서 추출적 요약보다는 추상적 요약이 훨씬 예측을 잘한다는 것을 알 수 있었다.\n",
    "* 추가로 동일한 원문을 추상적 요약과 추출적 요약을 비교해보고 싶었으나, 나의 한계로 인해 하지 못하였다... 다른 분들이 하기엔 쉬울 것 같은데 나는 하지 못해서 너무나 아쉬웠다.....ㅠㅠ..."
   ]
  },
  {
   "cell_type": "markdown",
   "id": "26ee8209",
   "metadata": {},
   "source": [
    "## 3. 정리\n",
    "* 이번 익스가 시간적 여유가 있어서 그런지 더 상세하게 공부를 했던 것 같다. 사용되는 개념을 더 꼼꼼히 보고 정리할 수 있었다.\n",
    "* 추상적 요약을 다양하게 시도를 하면서 '활성화함수'와 '옵티마이저', 'LSTM' 등 상세히 공부할 수 있었다. 다음 익스도 이렇게 공부하면서 해봐야겠다,,,!\n",
    "* 자연어 처리는 명확한 결과가 나오지 않아서 프로젝트를 마무리하는데도 뭔가 찝찝하다.\n",
    "* 이것이 잘된 처리인지, 잘 되지 않은 처리인지 내가 이렇게 판단을 해도 되는 건가 싶기도 하다.\n",
    "* 그리고 loss 값과 결과값이 생각보다 매치가 잘 안되는 것 같은데, 이런 결론을 내도 되는지는 잘 모르겠다."
   ]
  }
 ],
 "metadata": {
  "kernelspec": {
   "display_name": "Python 3 (ipykernel)",
   "language": "python",
   "name": "python3"
  },
  "language_info": {
   "codemirror_mode": {
    "name": "ipython",
    "version": 3
   },
   "file_extension": ".py",
   "mimetype": "text/x-python",
   "name": "python",
   "nbconvert_exporter": "python",
   "pygments_lexer": "ipython3",
   "version": "3.9.7"
  }
 },
 "nbformat": 4,
 "nbformat_minor": 5
}
