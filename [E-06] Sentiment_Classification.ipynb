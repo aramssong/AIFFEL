{
 "cells": [
  {
   "cell_type": "markdown",
   "id": "c5784e81",
   "metadata": {},
   "source": [
    "# Exp6. 네이버 영화리뷰 감성분석"
   ]
  },
  {
   "cell_type": "markdown",
   "id": "f3ff538d",
   "metadata": {},
   "source": [
    "# 1. 데이터 불러오기"
   ]
  },
  {
   "cell_type": "code",
   "execution_count": 48,
   "id": "1348dc97",
   "metadata": {},
   "outputs": [
    {
     "data": {
      "text/html": [
       "<div>\n",
       "<style scoped>\n",
       "    .dataframe tbody tr th:only-of-type {\n",
       "        vertical-align: middle;\n",
       "    }\n",
       "\n",
       "    .dataframe tbody tr th {\n",
       "        vertical-align: top;\n",
       "    }\n",
       "\n",
       "    .dataframe thead th {\n",
       "        text-align: right;\n",
       "    }\n",
       "</style>\n",
       "<table border=\"1\" class=\"dataframe\">\n",
       "  <thead>\n",
       "    <tr style=\"text-align: right;\">\n",
       "      <th></th>\n",
       "      <th>id</th>\n",
       "      <th>document</th>\n",
       "      <th>label</th>\n",
       "    </tr>\n",
       "  </thead>\n",
       "  <tbody>\n",
       "    <tr>\n",
       "      <th>0</th>\n",
       "      <td>9976970</td>\n",
       "      <td>아 더빙.. 진짜 짜증나네요 목소리</td>\n",
       "      <td>0</td>\n",
       "    </tr>\n",
       "    <tr>\n",
       "      <th>1</th>\n",
       "      <td>3819312</td>\n",
       "      <td>흠...포스터보고 초딩영화줄....오버연기조차 가볍지 않구나</td>\n",
       "      <td>1</td>\n",
       "    </tr>\n",
       "    <tr>\n",
       "      <th>2</th>\n",
       "      <td>10265843</td>\n",
       "      <td>너무재밓었다그래서보는것을추천한다</td>\n",
       "      <td>0</td>\n",
       "    </tr>\n",
       "    <tr>\n",
       "      <th>3</th>\n",
       "      <td>9045019</td>\n",
       "      <td>교도소 이야기구먼 ..솔직히 재미는 없다..평점 조정</td>\n",
       "      <td>0</td>\n",
       "    </tr>\n",
       "    <tr>\n",
       "      <th>4</th>\n",
       "      <td>6483659</td>\n",
       "      <td>사이몬페그의 익살스런 연기가 돋보였던 영화!스파이더맨에서 늙어보이기만 했던 커스틴 ...</td>\n",
       "      <td>1</td>\n",
       "    </tr>\n",
       "  </tbody>\n",
       "</table>\n",
       "</div>"
      ],
      "text/plain": [
       "         id                                           document  label\n",
       "0   9976970                                아 더빙.. 진짜 짜증나네요 목소리      0\n",
       "1   3819312                  흠...포스터보고 초딩영화줄....오버연기조차 가볍지 않구나      1\n",
       "2  10265843                                  너무재밓었다그래서보는것을추천한다      0\n",
       "3   9045019                      교도소 이야기구먼 ..솔직히 재미는 없다..평점 조정      0\n",
       "4   6483659  사이몬페그의 익살스런 연기가 돋보였던 영화!스파이더맨에서 늙어보이기만 했던 커스틴 ...      1"
      ]
     },
     "execution_count": 48,
     "metadata": {},
     "output_type": "execute_result"
    }
   ],
   "source": [
    "import warnings\n",
    "warnings.filterwarnings(\"ignore\")\n",
    "\n",
    "import pandas as pd\n",
    " \n",
    "train_data = pd.read_table('~/aiffel/sentiment_classification/data/ratings_train.txt')\n",
    "test_data = pd.read_table('~/aiffel/sentiment_classification/data/ratings_test.txt')\n",
    "\n",
    "train_data.head()"
   ]
  },
  {
   "cell_type": "markdown",
   "id": "5a32d17e",
   "metadata": {},
   "source": [
    "# 2. 데이터 로더 구성"
   ]
  },
  {
   "cell_type": "markdown",
   "id": "5270b7dc",
   "metadata": {},
   "source": [
    "1. 데이터의 중복 제거\n",
    "2. NaN 결측치 제거\n",
    "3. 한국어 토크나이저로 토큰화\n",
    "4. 불용어(Stopwords) 제거\n",
    "5. 사전word_to_index 구성\n",
    "6. 텍스트 스트링을 사전 인덱스 스트링으로 변환\n",
    "7. X_train, y_train, X_test, y_test, word_to_index 리턴"
   ]
  },
  {
   "cell_type": "markdown",
   "id": "53f3d3c9",
   "metadata": {},
   "source": [
    "## 2-1. 데이터 전처리"
   ]
  },
  {
   "cell_type": "code",
   "execution_count": 49,
   "id": "363c5759",
   "metadata": {},
   "outputs": [],
   "source": [
    "from konlpy.tag import Mecab\n",
    "import numpy as np\n",
    "from collections import Counter"
   ]
  },
  {
   "cell_type": "code",
   "execution_count": 50,
   "id": "45460b81",
   "metadata": {},
   "outputs": [],
   "source": [
    "tokenizer = Mecab()\n",
    "stopwords = ['의','가','이','은','들','는','좀','잘','걍','과','도','를','으로','자','에','와','한','하다']\n",
    "\n",
    "def load_data(train_data, test_data, num_words = 10000):\n",
    "    train_data.drop_duplicates(subset = ['document'], inplace = True) # 중복값 제거 (1)\n",
    "    train_data = train_data.dropna(how = 'any')  # 결측치 제거 (2)\n",
    "    \n",
    "    test_data.drop_duplicates(subset = ['document'], inplace = True) # 중복값 제거 (1)\n",
    "    test_data = test_data.dropna(how = 'any')  # 결측치 제거 (2)\n",
    "    \n",
    "    X_train = []\n",
    "    for sentence in train_data['document']:\n",
    "        temp_X = tokenizer.morphs(sentence)  # 토큰화 (3)\n",
    "        temp_X = [word for word in temp_X if not word in stopwords] # 불용어 제거 (4)\n",
    "        X_train.append(temp_X)\n",
    "        \n",
    "    X_test = []\n",
    "    for sentence in test_data['document']:\n",
    "        temp_X = tokenizer.morphs(sentence)   # 토큰화 (3)\n",
    "        temp_X = [word for word in temp_X if not word in stopwords]  # 불용어 제거 (4)\n",
    "        X_test.append(temp_X)\n",
    "        \n",
    "    words = np.concatenate(X_train).tolist()\n",
    "    counter = Counter(words)\n",
    "    counter = counter.most_common(10000 - 4)\n",
    "    vocab = ['<PAD>', '<BOS>', '<UNK>', '<UNUSED>'] + [key for key, _ in counter]\n",
    "    word_to_index = {word:index for index, word in enumerate(vocab)}  # 사전 word_to_index 구성 (5)\n",
    "    \n",
    "    def wordlist_to_indexlist(wordlist):        # 텍스트 스트링을 사전 인덱스 스트링으로 변환 (6)\n",
    "        return[word_to_index[word] if word in word_to_index else word_to_index['<PAD>'] for word in wordlist]\n",
    "    \n",
    "    X_train = list(map(wordlist_to_indexlist, X_train))\n",
    "    X_test = list(map(wordlist_to_indexlist, X_test))\n",
    "    \n",
    "    return X_train, np.array(list(train_data['label'])), X_test, np.array(list(test_data['label'])), word_to_index\n",
    "# X_train, y_train, X_test, y_test, word_to_index 리턴 (7)"
   ]
  },
  {
   "cell_type": "code",
   "execution_count": 51,
   "id": "1c81c076",
   "metadata": {},
   "outputs": [],
   "source": [
    "X_train, y_train, X_test, y_test, word_to_index = load_data(train_data, test_data)"
   ]
  },
  {
   "cell_type": "code",
   "execution_count": 52,
   "id": "8ff8c93f",
   "metadata": {},
   "outputs": [
    {
     "name": "stdout",
     "output_type": "stream",
     "text": [
      "train 데이터 개수 :  146182\n",
      "test 데이터 개수 : 49157\n"
     ]
    }
   ],
   "source": [
    "print('train 데이터 개수 : ', len(X_train))\n",
    "print('test 데이터 개수 :', len(X_test))"
   ]
  },
  {
   "cell_type": "code",
   "execution_count": 53,
   "id": "7f1fd8c5",
   "metadata": {},
   "outputs": [],
   "source": [
    "# {텍스트 : 인덱스} → {인덱스 : 텍스트}\n",
    "\n",
    "index_to_word = {index:word for word, index in word_to_index.items()}"
   ]
  },
  {
   "cell_type": "markdown",
   "id": "933ee548",
   "metadata": {},
   "source": [
    "## 2-2. encoding, decoding"
   ]
  },
  {
   "cell_type": "code",
   "execution_count": 54,
   "id": "b96d4265",
   "metadata": {},
   "outputs": [],
   "source": [
    "# 문장 1개를 활용할 딕셔너리와 함께 주면, 단어 인덱스 리스트 벡터로 변환해주는 함수\n",
    "def get_encoded_sentence(sentence, word_to_index):\n",
    "    return [word_to_index['<BOS>']] + [word_to_index[word]         # 모든 문장은 <BOS>로 시작 → 항상 첫번째는 1이 출력\n",
    "                                       if word in word_to_index    # 단어 가져오기\n",
    "                                       else word_to_index['<UNK>'] # 단어가 없으면 <UNK>인덱스 가져오기\n",
    "                                       for word in sentence.split()]  # sentence에 있는 문장 나눠서 단어로 출력\n",
    "\n",
    "# 여러 개의 문장 리스트를 한꺼번에 단어 인덱스 리스트 벡터로 encode해주는 함수\n",
    "def get_encoded_sentences(sentence, word_to_index):\n",
    "    return [get_encoded_sentence(sentence, word_to_index) for sentence in sentences]\n",
    "\n",
    "# 숫자 벡터로 encode된 문장을 원래대로 decode하는 함수\n",
    "def get_decoded_sentence(encoded_sentence, index_to_word):\n",
    "    return ' '. join(index_to_word[index]\n",
    "                     if index in index_to_word\n",
    "                     else '<UNK>'\n",
    "                     for index in encoded_sentence[1:])  # [1:]를 통해 <BOS>를 제외\n",
    "\n",
    "# 여러 개의 숫자 벡터로 encode된 문장을 한꺼번에 decode하는 함수\n",
    "def get_decoded_sentences(encoded_sentences, index_to_word):\n",
    "    return [get_decoded_sentence(encoded_sentence, index_to_word) for encoded_sentence in encoded_sentences]"
   ]
  },
  {
   "cell_type": "code",
   "execution_count": 55,
   "id": "5452cf50",
   "metadata": {},
   "outputs": [
    {
     "name": "stdout",
     "output_type": "stream",
     "text": [
      "[32, 74, 919, 4, 4, 39, 228, 20, 33, 748]\n",
      "더 빙 . . 진짜 짜증 나 네요 목소리\n",
      "1번째 문장 라벨 : 0\n"
     ]
    }
   ],
   "source": [
    "print(X_train[0])\n",
    "print(get_decoded_sentence(X_train[0], index_to_word))\n",
    "print('1번째 문장 라벨 :', y_train[0])"
   ]
  },
  {
   "cell_type": "markdown",
   "id": "f6157362",
   "metadata": {},
   "source": [
    "# 3. 데이터 분석 및 가공\n",
    "* 데이터셋 내 문장 길이 분포\n",
    "* 적절한 최대 문장 길이 지정\n",
    "* keras.preprocessing.sequence.pad_sequences 을 활용한 패딩 추가"
   ]
  },
  {
   "cell_type": "markdown",
   "id": "e7465093",
   "metadata": {},
   "source": [
    "## 3-1. 데이터셋 내 문장 길이 분포 확인\n",
    "* maxlen의 적절한 값을 찾기 위해 전체 데이터셋의 분포를 확인하는 것이 좋음!"
   ]
  },
  {
   "cell_type": "code",
   "execution_count": 56,
   "id": "8c8cc74d",
   "metadata": {},
   "outputs": [
    {
     "name": "stdout",
     "output_type": "stream",
     "text": [
      "문장길이 평균 : 15.96940191154864\n",
      "문장길이 최대 : 116\n",
      "문장길이 표준편차 : 12.843571191092\n"
     ]
    }
   ],
   "source": [
    "import numpy as np\n",
    "\n",
    "total_data_text = list(X_train) + list(X_test)\n",
    "\n",
    "num_tokens = [len(tokens) for tokens in total_data_text]\n",
    "num_tokens = np.array(num_tokens)\n",
    "\n",
    "print('문장길이 평균 :', np.mean(num_tokens))\n",
    "print('문장길이 최대 :', np.max(num_tokens))\n",
    "print('문장길이 표준편차 :', np.std(num_tokens))"
   ]
  },
  {
   "cell_type": "markdown",
   "id": "3e8e5128",
   "metadata": {},
   "source": [
    "## 3-2. 최대 문장 길이 지정\n",
    "* maxlen 값 설정이 전체 모델 성능에 영향을 미침"
   ]
  },
  {
   "cell_type": "code",
   "execution_count": 57,
   "id": "1405ca96",
   "metadata": {},
   "outputs": [
    {
     "name": "stdout",
     "output_type": "stream",
     "text": [
      "pad_sequences_maxlen : 41\n",
      "전체 문장의 0.9342988343341575%가 maxlen 설정값 이내에 포함됩니다.\n"
     ]
    }
   ],
   "source": [
    "max_tokens = np.mean(num_tokens) + 2 * np.std(num_tokens)\n",
    "maxlen = int(max_tokens)\n",
    "\n",
    "print('pad_sequences_maxlen :', maxlen)\n",
    "print('전체 문장의 {}%가 maxlen 설정값 이내에 포함됩니다.'.format(np.sum(num_tokens < max_tokens) / len(num_tokens)))"
   ]
  },
  {
   "cell_type": "markdown",
   "id": "20a9e79d",
   "metadata": {},
   "source": [
    "## 3-3. 문장 길이 맞추기 (패딩 추가)\n",
    "* keras.preprocessing.sequence.pad_sequences 을 활용한 문장 길이 맞추기\n",
    "* padding = 'pre' : 문장의 길이가 maxlen보다 짧은 경우, 문장 앞에 <PAD>를 추가"
   ]
  },
  {
   "cell_type": "code",
   "execution_count": 58,
   "id": "b4cd446d",
   "metadata": {},
   "outputs": [
    {
     "name": "stdout",
     "output_type": "stream",
     "text": [
      "(146182, 41)\n",
      "(49157, 41)\n"
     ]
    }
   ],
   "source": [
    "import tensorflow as tf\n",
    "\n",
    "X_train = tf.keras.preprocessing.sequence.pad_sequences(X_train,\n",
    "                                                       value = word_to_index['<PAD>'],\n",
    "                                                       padding = 'pre',   # 문장 앞에 패딩 추가\n",
    "                                                       maxlen = maxlen)\n",
    "\n",
    "X_test = tf.keras.preprocessing.sequence.pad_sequences(X_test,\n",
    "                                                      value = word_to_index['<PAD>'],\n",
    "                                                      padding = 'pre',\n",
    "                                                      maxlen = maxlen)\n",
    "\n",
    "print(X_train.shape)\n",
    "print(X_test.shape)"
   ]
  },
  {
   "cell_type": "code",
   "execution_count": 59,
   "id": "b9a93a13",
   "metadata": {},
   "outputs": [
    {
     "name": "stdout",
     "output_type": "stream",
     "text": [
      "[  0   0   0   0   0   0   0   0   0   0   0   0   0   0   0   0   0   0\n",
      "   0   0   0   0   0   0   0   0   0   0   0   0   0  32  74 919   4   4\n",
      "  39 228  20  33 748]\n",
      "<PAD> <PAD> <PAD> <PAD> <PAD> <PAD> <PAD> <PAD> <PAD> <PAD> <PAD> <PAD> <PAD> <PAD> <PAD> <PAD> <PAD> <PAD> <PAD> <PAD> <PAD> <PAD> <PAD> <PAD> <PAD> <PAD> <PAD> <PAD> <PAD> <PAD> 아 더 빙 . . 진짜 짜증 나 네요 목소리\n"
     ]
    }
   ],
   "source": [
    "print(X_train[0])\n",
    "print(get_decoded_sentence(X_train[0], index_to_word))"
   ]
  },
  {
   "cell_type": "markdown",
   "id": "88c869f9",
   "metadata": {},
   "source": [
    "# 4. validation set 구성"
   ]
  },
  {
   "cell_type": "code",
   "execution_count": 60,
   "id": "8526352d",
   "metadata": {},
   "outputs": [
    {
     "name": "stdout",
     "output_type": "stream",
     "text": [
      "(46000, 41)\n",
      "(46000,)\n",
      "(100182, 41)\n",
      "(100182,)\n"
     ]
    }
   ],
   "source": [
    "X_val = X_train[:46000]\n",
    "y_val = y_train[:46000]\n",
    "\n",
    "partial_X_train = X_train[46000:]\n",
    "partial_y_train = y_train[46000:]\n",
    "\n",
    "print(X_val.shape)\n",
    "print(y_val.shape)\n",
    "\n",
    "print(partial_X_train.shape)\n",
    "print(partial_y_train.shape)"
   ]
  },
  {
   "cell_type": "markdown",
   "id": "60c37d24",
   "metadata": {},
   "source": [
    "# 5. 모델 구성, 훈련, 시각화"
   ]
  },
  {
   "cell_type": "markdown",
   "id": "4b2c0129",
   "metadata": {},
   "source": [
    "## 5-1. RNN\n",
    "* 입력과 출력을 시퀀스 단위로 처리하는 시퀀스(Sequence) 모델 (가장 기본적인 인공 신경망 시퀀스 모델)\n",
    "* 은닉층의 노드에서 활성화 함수를 통해 나온 결과값을 출력층 방향으로도 보내면서 은닉층 노드의 다음 계산의 입력으로 보내는 특징이 있음\n",
    "* [RNN 추가 공부](https://wikidocs.net/22886)"
   ]
  },
  {
   "cell_type": "markdown",
   "id": "f166a294",
   "metadata": {},
   "source": [
    "### 5-1-1. 모델 구성"
   ]
  },
  {
   "cell_type": "code",
   "execution_count": 61,
   "id": "fab96111",
   "metadata": {},
   "outputs": [
    {
     "name": "stdout",
     "output_type": "stream",
     "text": [
      "Model: \"sequential_4\"\n",
      "_________________________________________________________________\n",
      "Layer (type)                 Output Shape              Param #   \n",
      "=================================================================\n",
      "embedding_4 (Embedding)      (None, None, 16)          160000    \n",
      "_________________________________________________________________\n",
      "lstm_2 (LSTM)                (None, 8)                 800       \n",
      "_________________________________________________________________\n",
      "dense_8 (Dense)              (None, 8)                 72        \n",
      "_________________________________________________________________\n",
      "dense_9 (Dense)              (None, 1)                 9         \n",
      "=================================================================\n",
      "Total params: 160,881\n",
      "Trainable params: 160,881\n",
      "Non-trainable params: 0\n",
      "_________________________________________________________________\n"
     ]
    }
   ],
   "source": [
    "vocab_size = 10000   # 단어사진 크기\n",
    "word_vector_dim = 16  # 단어 하나를 표현하는 임베딩 벡터의 차원수 (변경 가능한 하이퍼파라마터)\n",
    "\n",
    "model_1 = tf.keras.Sequential()\n",
    "model_1.add(tf.keras.layers.Embedding(vocab_size, word_vector_dim, input_shape = (None,)))\n",
    "model_1.add(tf.keras.layers.LSTM(8))  # LSTM 레이어 사용 & LSTM 벡터의 차원 수 변경 가능\n",
    "model_1.add(tf.keras.layers.Dense(8, activation = 'relu'))\n",
    "model_1.add(tf.keras.layers.Dense(1, activation = 'sigmoid')) # 최종 출력은 긍정/부정을 나타내는 1dim\n",
    "\n",
    "model_1.summary()"
   ]
  },
  {
   "cell_type": "markdown",
   "id": "1d1cae50",
   "metadata": {},
   "source": [
    "### 5-1-2. 모델 훈련"
   ]
  },
  {
   "cell_type": "code",
   "execution_count": 62,
   "id": "51a94f12",
   "metadata": {},
   "outputs": [
    {
     "name": "stdout",
     "output_type": "stream",
     "text": [
      "Epoch 1/5\n",
      "196/196 [==============================] - 3s 8ms/step - loss: 0.5250 - accuracy: 0.7743 - val_loss: 0.3836 - val_accuracy: 0.8380\n",
      "Epoch 2/5\n",
      "196/196 [==============================] - 1s 6ms/step - loss: 0.3500 - accuracy: 0.8526 - val_loss: 0.3500 - val_accuracy: 0.8490\n",
      "Epoch 3/5\n",
      "196/196 [==============================] - 1s 6ms/step - loss: 0.3186 - accuracy: 0.8691 - val_loss: 0.3471 - val_accuracy: 0.8502\n",
      "Epoch 4/5\n",
      "196/196 [==============================] - 1s 6ms/step - loss: 0.3015 - accuracy: 0.8775 - val_loss: 0.3482 - val_accuracy: 0.8511\n",
      "Epoch 5/5\n",
      "196/196 [==============================] - 1s 6ms/step - loss: 0.2898 - accuracy: 0.8832 - val_loss: 0.3488 - val_accuracy: 0.8504\n"
     ]
    }
   ],
   "source": [
    "model_1.compile(optimizer = 'adam',\n",
    "                loss = 'binary_crossentropy',\n",
    "                metrics = ['accuracy'])\n",
    "\n",
    "epochs = 5\n",
    "\n",
    "history_1 = model_1.fit(partial_X_train,\n",
    "                        partial_y_train,\n",
    "                        epochs = epochs,\n",
    "                        batch_size = 512,\n",
    "                        validation_data = (X_val, y_val),\n",
    "                        verbose = 1)"
   ]
  },
  {
   "cell_type": "code",
   "execution_count": 63,
   "id": "d5c06245",
   "metadata": {},
   "outputs": [
    {
     "name": "stdout",
     "output_type": "stream",
     "text": [
      "1537/1537 - 3s - loss: 0.3613 - accuracy: 0.8445\n",
      "[0.3613210916519165, 0.8445186018943787]\n"
     ]
    }
   ],
   "source": [
    "results_1 = model_1.evaluate(X_test, y_test, verbose = 2)\n",
    "print(results_1)"
   ]
  },
  {
   "cell_type": "code",
   "execution_count": 64,
   "id": "27ce0c66",
   "metadata": {},
   "outputs": [
    {
     "name": "stdout",
     "output_type": "stream",
     "text": [
      "dict_keys(['loss', 'accuracy', 'val_loss', 'val_accuracy'])\n"
     ]
    }
   ],
   "source": [
    "history_1_dict = history_1.history\n",
    "\n",
    "print(history_1_dict.keys())"
   ]
  },
  {
   "cell_type": "markdown",
   "id": "417e1395",
   "metadata": {},
   "source": [
    "### 5-1-3. Loss, Accuracy 그래프 시각화"
   ]
  },
  {
   "cell_type": "code",
   "execution_count": 65,
   "id": "954ce887",
   "metadata": {},
   "outputs": [
    {
     "data": {
      "image/png": "[encoded data removed]",
      "text/plain": [
       "<Figure size 1440x360 with 2 Axes>"
      ]
     },
     "metadata": {
      "needs_background": "light"
     },
     "output_type": "display_data"
    }
   ],
   "source": [
    "import matplotlib.pyplot as plt\n",
    "\n",
    "acc = history_1_dict['accuracy']\n",
    "val_acc = history_1_dict['val_accuracy']\n",
    "\n",
    "loss = history_1_dict['loss']\n",
    "val_loss = history_1_dict['val_loss']\n",
    "\n",
    "epochs = range(1, len(acc) + 1)\n",
    "\n",
    "plt.figure(figsize=(20,5))\n",
    "\n",
    "plt.subplot(1, 2, 1)\n",
    "plt.plot(epochs, loss, 'b', label = 'Training loss')\n",
    "plt.plot(epochs, val_loss, 'r', label = 'Validation loss')\n",
    "plt.title('Training and validation loss')\n",
    "plt.xlabel('Epochs')\n",
    "plt.ylabel('Loss')\n",
    "plt.legend()\n",
    "\n",
    "plt.subplot(1, 2, 2)\n",
    "plt.plot(epochs, acc, 'b', label = 'Training acc')\n",
    "plt.plot(epochs, val_acc, 'r', label = 'Validation acc')\n",
    "plt.title('Training and validation accuracy')\n",
    "plt.xlabel('Epochs')\n",
    "plt.ylabel('Accuracy')\n",
    "plt.legend()\n",
    "\n",
    "plt.show()"
   ]
  },
  {
   "cell_type": "markdown",
   "id": "dd73b070",
   "metadata": {},
   "source": [
    "## 5-2. 1-D Convolution Neural Network(1-D CNN)\n",
    "* 문장 전체를 한꺼번에 한 방향으로 길이 7짜리 필터로 스캐닝하면서 7단어 이내에서 발견되는 특징을 추출하여 문장을 분류하는 방식\n",
    "* [1-D CNN 추가공부](https://wikidocs.net/80437)"
   ]
  },
  {
   "cell_type": "markdown",
   "id": "13361784",
   "metadata": {},
   "source": [
    "### 5-2-1. 모델 구성"
   ]
  },
  {
   "cell_type": "code",
   "execution_count": 66,
   "id": "b1185c7a",
   "metadata": {
    "scrolled": false
   },
   "outputs": [
    {
     "name": "stdout",
     "output_type": "stream",
     "text": [
      "Model: \"sequential_5\"\n",
      "_________________________________________________________________\n",
      "Layer (type)                 Output Shape              Param #   \n",
      "=================================================================\n",
      "embedding_5 (Embedding)      (None, None, 16)          160000    \n",
      "_________________________________________________________________\n",
      "conv1d_2 (Conv1D)            (None, None, 16)          1808      \n",
      "_________________________________________________________________\n",
      "max_pooling1d_1 (MaxPooling1 (None, None, 16)          0         \n",
      "_________________________________________________________________\n",
      "conv1d_3 (Conv1D)            (None, None, 16)          1808      \n",
      "_________________________________________________________________\n",
      "global_max_pooling1d_2 (Glob (None, 16)                0         \n",
      "_________________________________________________________________\n",
      "dense_10 (Dense)             (None, 8)                 136       \n",
      "_________________________________________________________________\n",
      "dense_11 (Dense)             (None, 1)                 9         \n",
      "=================================================================\n",
      "Total params: 163,761\n",
      "Trainable params: 163,761\n",
      "Non-trainable params: 0\n",
      "_________________________________________________________________\n"
     ]
    }
   ],
   "source": [
    "vocab_size = 10000 \n",
    "word_vector_dim = 16 \n",
    "\n",
    "model_2 = tf.keras.Sequential()\n",
    "model_2.add(tf.keras.layers.Embedding(vocab_size, word_vector_dim, input_shape=(None,)))\n",
    "model_2.add(tf.keras.layers.Conv1D(16, 7, activation='relu'))\n",
    "model_2.add(tf.keras.layers.MaxPooling1D(5))\n",
    "model_2.add(tf.keras.layers.Conv1D(16, 7, activation='relu'))\n",
    "model_2.add(tf.keras.layers.GlobalMaxPooling1D())\n",
    "model_2.add(tf.keras.layers.Dense(8, activation='relu'))\n",
    "model_2.add(tf.keras.layers.Dense(1, activation='sigmoid'))  # 최종 출력은 긍정/부정을 나타내는 1dim\n",
    "\n",
    "model_2.summary()"
   ]
  },
  {
   "cell_type": "markdown",
   "id": "002f060a",
   "metadata": {},
   "source": [
    "### 5-2-2. 모델 훈련"
   ]
  },
  {
   "cell_type": "code",
   "execution_count": 67,
   "id": "0f4fe599",
   "metadata": {},
   "outputs": [
    {
     "name": "stdout",
     "output_type": "stream",
     "text": [
      "Epoch 1/5\n",
      "196/196 [==============================] - 2s 6ms/step - loss: 0.5113 - accuracy: 0.7458 - val_loss: 0.3598 - val_accuracy: 0.8425\n",
      "Epoch 2/5\n",
      "196/196 [==============================] - 1s 5ms/step - loss: 0.3314 - accuracy: 0.8581 - val_loss: 0.3426 - val_accuracy: 0.8515\n",
      "Epoch 3/5\n",
      "196/196 [==============================] - 1s 5ms/step - loss: 0.2962 - accuracy: 0.8760 - val_loss: 0.3427 - val_accuracy: 0.8510\n",
      "Epoch 4/5\n",
      "196/196 [==============================] - 1s 5ms/step - loss: 0.2686 - accuracy: 0.8903 - val_loss: 0.3468 - val_accuracy: 0.8522\n",
      "Epoch 5/5\n",
      "196/196 [==============================] - 1s 5ms/step - loss: 0.2381 - accuracy: 0.9065 - val_loss: 0.3598 - val_accuracy: 0.8496\n"
     ]
    }
   ],
   "source": [
    "model_2.compile(optimizer = 'adam',\n",
    "                loss = 'binary_crossentropy',\n",
    "                metrics = ['accuracy'])\n",
    "\n",
    "epochs = 5\n",
    "\n",
    "history_2 = model_2.fit(partial_X_train,\n",
    "                        partial_y_train,\n",
    "                        epochs = epochs,\n",
    "                        batch_size = 512,\n",
    "                        validation_data = (X_val, y_val),\n",
    "                        verbose = 1)"
   ]
  },
  {
   "cell_type": "code",
   "execution_count": 68,
   "id": "8acb981e",
   "metadata": {},
   "outputs": [
    {
     "name": "stdout",
     "output_type": "stream",
     "text": [
      "1537/1537 - 2s - loss: 0.3719 - accuracy: 0.8463\n",
      "[0.3719228506088257, 0.8463290929794312]\n"
     ]
    }
   ],
   "source": [
    "results_2 = model_2.evaluate(X_test, y_test, verbose = 2)\n",
    "print(results_2)"
   ]
  },
  {
   "cell_type": "code",
   "execution_count": 69,
   "id": "bf0bc3cf",
   "metadata": {},
   "outputs": [
    {
     "name": "stdout",
     "output_type": "stream",
     "text": [
      "dict_keys(['loss', 'accuracy', 'val_loss', 'val_accuracy'])\n"
     ]
    }
   ],
   "source": [
    "history_2_dict = history_2.history\n",
    "\n",
    "print(history_2_dict.keys())"
   ]
  },
  {
   "cell_type": "markdown",
   "id": "4aef10ae",
   "metadata": {},
   "source": [
    "### 5-2-3. Loss, Accuracy 그래프 시각화"
   ]
  },
  {
   "cell_type": "code",
   "execution_count": 70,
   "id": "bb37fd86",
   "metadata": {},
   "outputs": [
    {
     "data": {
      "image/png": "[encoded data removed]",
      "text/plain": [
       "<Figure size 1440x360 with 2 Axes>"
      ]
     },
     "metadata": {
      "needs_background": "light"
     },
     "output_type": "display_data"
    }
   ],
   "source": [
    "acc = history_2_dict['accuracy']\n",
    "val_acc = history_2_dict['val_accuracy']\n",
    "\n",
    "loss = history_2_dict['loss']\n",
    "val_loss = history_2_dict['val_loss']\n",
    "\n",
    "epochs = range(1, len(acc) + 1)\n",
    "\n",
    "plt.figure(figsize=(20,5))\n",
    "\n",
    "plt.subplot(1, 2, 1)\n",
    "plt.plot(epochs, loss, 'b', label = 'Training loss')\n",
    "plt.plot(epochs, val_loss, 'r', label = 'Validation loss')\n",
    "plt.title('Training and validation loss')\n",
    "plt.xlabel('Epochs')\n",
    "plt.ylabel('Loss')\n",
    "plt.legend()\n",
    "\n",
    "plt.subplot(1, 2, 2)\n",
    "plt.plot(epochs, acc, 'b', label = 'Training acc')\n",
    "plt.plot(epochs, val_acc, 'r', label = 'Validation acc')\n",
    "plt.title('Training and validation accuracy')\n",
    "plt.xlabel('Epochs')\n",
    "plt.ylabel('Accuracy')\n",
    "plt.legend()\n",
    "\n",
    "plt.show()"
   ]
  },
  {
   "cell_type": "markdown",
   "id": "76752ec0",
   "metadata": {},
   "source": [
    "## 5-3. GlobalMaxPooling1D\n",
    "* GlobalMaxPooling1D() 레이어 하나만 사용하는 방법\n",
    "* 여러 개의 벡터 정보 중 가장 큰 벡터를 골라서 반환\n",
    "* 전체 문장 중에서 단 하나의 가장 중요한 단어만 피처로 추출하여 긍정/부정을 평가\n",
    "* [GlobalMaxPooling1D 추가 공부](https://tykimos.github.io/2017/08/17/Text_Input_Binary_Classification_Model_Recipe/)"
   ]
  },
  {
   "cell_type": "markdown",
   "id": "a8169c5b",
   "metadata": {},
   "source": [
    "### 5-3-1. 모델 구성"
   ]
  },
  {
   "cell_type": "code",
   "execution_count": 71,
   "id": "1e8965a9",
   "metadata": {},
   "outputs": [
    {
     "name": "stdout",
     "output_type": "stream",
     "text": [
      "Model: \"sequential_6\"\n",
      "_________________________________________________________________\n",
      "Layer (type)                 Output Shape              Param #   \n",
      "=================================================================\n",
      "embedding_6 (Embedding)      (None, None, 16)          160000    \n",
      "_________________________________________________________________\n",
      "global_max_pooling1d_3 (Glob (None, 16)                0         \n",
      "_________________________________________________________________\n",
      "dense_12 (Dense)             (None, 8)                 136       \n",
      "_________________________________________________________________\n",
      "dense_13 (Dense)             (None, 1)                 9         \n",
      "=================================================================\n",
      "Total params: 160,145\n",
      "Trainable params: 160,145\n",
      "Non-trainable params: 0\n",
      "_________________________________________________________________\n"
     ]
    }
   ],
   "source": [
    "vocab_size = 10000 \n",
    "word_vector_dim = 16 \n",
    "\n",
    "model_3 = tf.keras.Sequential()\n",
    "model_3.add(tf.keras.layers.Embedding(vocab_size, word_vector_dim, input_shape=(None,)))\n",
    "model_3.add(tf.keras.layers.GlobalMaxPooling1D())\n",
    "model_3.add(tf.keras.layers.Dense(8, activation='relu'))\n",
    "model_3.add(tf.keras.layers.Dense(1, activation='sigmoid'))  # 최종 출력은 긍정/부정을 나타내는 1dim\n",
    "\n",
    "model_3.summary()"
   ]
  },
  {
   "cell_type": "markdown",
   "id": "63431092",
   "metadata": {},
   "source": [
    "### 5-3-2. 모델 훈련"
   ]
  },
  {
   "cell_type": "code",
   "execution_count": 72,
   "id": "d801591a",
   "metadata": {},
   "outputs": [
    {
     "name": "stdout",
     "output_type": "stream",
     "text": [
      "Epoch 1/5\n",
      "196/196 [==============================] - 1s 4ms/step - loss: 0.6208 - accuracy: 0.7586 - val_loss: 0.4879 - val_accuracy: 0.8105\n",
      "Epoch 2/5\n",
      "196/196 [==============================] - 1s 4ms/step - loss: 0.4123 - accuracy: 0.8290 - val_loss: 0.3781 - val_accuracy: 0.8345\n",
      "Epoch 3/5\n",
      "196/196 [==============================] - 1s 4ms/step - loss: 0.3438 - accuracy: 0.8550 - val_loss: 0.3583 - val_accuracy: 0.8424\n",
      "Epoch 4/5\n",
      "196/196 [==============================] - 1s 4ms/step - loss: 0.3110 - accuracy: 0.8709 - val_loss: 0.3537 - val_accuracy: 0.8451\n",
      "Epoch 5/5\n",
      "196/196 [==============================] - 1s 4ms/step - loss: 0.2874 - accuracy: 0.8823 - val_loss: 0.3559 - val_accuracy: 0.8459\n"
     ]
    }
   ],
   "source": [
    "model_3.compile(optimizer = 'adam',\n",
    "                loss = 'binary_crossentropy',\n",
    "                metrics = ['accuracy'])\n",
    "\n",
    "epochs = 5\n",
    "\n",
    "history_3 = model_3.fit(partial_X_train,\n",
    "                        partial_y_train,\n",
    "                        epochs = epochs,\n",
    "                        batch_size = 512,\n",
    "                        validation_data = (X_val, y_val),\n",
    "                        verbose = 1)"
   ]
  },
  {
   "cell_type": "code",
   "execution_count": 73,
   "id": "934596ac",
   "metadata": {},
   "outputs": [
    {
     "name": "stdout",
     "output_type": "stream",
     "text": [
      "1537/1537 - 2s - loss: 0.3664 - accuracy: 0.8406\n",
      "[0.36635255813598633, 0.8406127095222473]\n"
     ]
    }
   ],
   "source": [
    "results_3 = model_3.evaluate(X_test, y_test, verbose = 2)\n",
    "print(results_3)"
   ]
  },
  {
   "cell_type": "code",
   "execution_count": 74,
   "id": "26c0fc47",
   "metadata": {},
   "outputs": [
    {
     "name": "stdout",
     "output_type": "stream",
     "text": [
      "dict_keys(['loss', 'accuracy', 'val_loss', 'val_accuracy'])\n"
     ]
    }
   ],
   "source": [
    "history_3_dict = history_3.history\n",
    "\n",
    "print(history_3_dict.keys())"
   ]
  },
  {
   "cell_type": "markdown",
   "id": "dcc9bcae",
   "metadata": {},
   "source": [
    "### 5-3-3. Loss, Accuracy 그래프 시각화"
   ]
  },
  {
   "cell_type": "code",
   "execution_count": 75,
   "id": "6e3baf0a",
   "metadata": {},
   "outputs": [
    {
     "data": {
      "image/png": "[encoded data removed]",
      "text/plain": [
       "<Figure size 1440x360 with 2 Axes>"
      ]
     },
     "metadata": {
      "needs_background": "light"
     },
     "output_type": "display_data"
    }
   ],
   "source": [
    "acc = history_3_dict['accuracy']\n",
    "val_acc = history_3_dict['val_accuracy']\n",
    "\n",
    "loss = history_3_dict['loss']\n",
    "val_loss = history_3_dict['val_loss']\n",
    "\n",
    "epochs = range(1, len(acc) + 1)\n",
    "\n",
    "plt.figure(figsize=(20,5))\n",
    "\n",
    "plt.subplot(1, 2, 1)\n",
    "plt.plot(epochs, loss, 'b', label = 'Training loss')\n",
    "plt.plot(epochs, val_loss, 'r', label = 'Validation loss')\n",
    "plt.title('Training and validation loss')\n",
    "plt.xlabel('Epochs')\n",
    "plt.ylabel('Loss')\n",
    "plt.legend()\n",
    "\n",
    "plt.subplot(1, 2, 2)\n",
    "plt.plot(epochs, acc, 'b', label = 'Training acc')\n",
    "plt.plot(epochs, val_acc, 'r', label = 'Validation acc')\n",
    "plt.title('Training and validation accuracy')\n",
    "plt.xlabel('Epochs')\n",
    "plt.ylabel('Accuracy')\n",
    "plt.legend()\n",
    "\n",
    "plt.show()"
   ]
  },
  {
   "cell_type": "code",
   "execution_count": 76,
   "id": "43068a8b",
   "metadata": {
    "scrolled": true
   },
   "outputs": [
    {
     "name": "stdout",
     "output_type": "stream",
     "text": [
      "1537/1537 - 3s - loss: 0.3613 - accuracy: 0.8445\n",
      "1537/1537 - 2s - loss: 0.3719 - accuracy: 0.8463\n",
      "1537/1537 - 2s - loss: 0.3664 - accuracy: 0.8406\n"
     ]
    }
   ],
   "source": [
    "#RNN\n",
    "results_1 = model_1.evaluate(X_test, y_test, verbose = 2)\n",
    "\n",
    "# 1-D CNN\n",
    "results_2 = model_2.evaluate(X_test, y_test, verbose = 2)\n",
    "\n",
    "# GlobalMaxPooling1D\n",
    "results_3 = model_3.evaluate(X_test, y_test, verbose = 2)"
   ]
  },
  {
   "cell_type": "markdown",
   "id": "c9d2425d",
   "metadata": {},
   "source": [
    "# 6. 학습된 Embedding 레이어 분석\n",
    "* Embedding 레이어에 있는 워드 벡터가 잘 학습이 되었는지 확인\n",
    "* 위에서 훈련한 3가지 모델 중에 [RNN 모델]로 Embedding 레이어 분석을 하였다."
   ]
  },
  {
   "cell_type": "code",
   "execution_count": 77,
   "id": "5c5feaa2",
   "metadata": {},
   "outputs": [
    {
     "name": "stdout",
     "output_type": "stream",
     "text": [
      "(10000, 16)\n"
     ]
    }
   ],
   "source": [
    "embedding_layer = model_1.layers[0]\n",
    "weights = embedding_layer.get_weights()[0]\n",
    "\n",
    "print(weights.shape)       # shape : (vocab_size, embedding_dim)"
   ]
  },
  {
   "cell_type": "code",
   "execution_count": 78,
   "id": "e82c7e37",
   "metadata": {},
   "outputs": [],
   "source": [
    "# 학습한 Embedding 파라미터를 파일에 써서 저장\n",
    "import os\n",
    "\n",
    "word2vec_file_path = os.getenv('HOME')+'/aiffel/sentiment_classification/data/word2vec.txt'\n",
    "f = open(word2vec_file_path, 'w')\n",
    "f.write('{} {}\\n'.format(vocab_size-4, word_vector_dim)) # 몇 개의 벡터를 얼마 사이즈로 기재할지 타이틀 쓰기\n",
    "\n",
    "# 단어 개수만큼의 워드 벡터를 파일에 기록\n",
    "# 단, 단어 개수에서 특수문자 4개는 제외해야 함\n",
    "vectors = model_1.get_weights()[0]\n",
    "for i in range(4, vocab_size):\n",
    "    f.write('{} {}\\n'.format(index_to_word[i], ' '.join(map(str, list(vectors[i, :])))))\n",
    "f.close()"
   ]
  },
  {
   "cell_type": "code",
   "execution_count": 79,
   "id": "7f14fad7",
   "metadata": {},
   "outputs": [
    {
     "data": {
      "text/plain": [
       "array([-0.05309832,  0.07722419,  0.1329387 ,  0.1458422 , -0.12471265,\n",
       "       -0.05207187, -0.00109677, -0.05416569, -0.06741141, -0.10612854,\n",
       "        0.25304615, -0.02541902,  0.09251431,  0.06082781,  0.04385027,\n",
       "       -0.04519425], dtype=float32)"
      ]
     },
     "execution_count": 79,
     "metadata": {},
     "output_type": "execute_result"
    }
   ],
   "source": [
    "# gensim 패키지를 이용해 Embedding 파라미터를 읽어서 word vector로 활용\n",
    "from gensim.models.keyedvectors import Word2VecKeyedVectors\n",
    "\n",
    "word_vectors = Word2VecKeyedVectors.load_word2vec_format(word2vec_file_path, binary = False)\n",
    "vector = word_vectors['추천']\n",
    "vector"
   ]
  },
  {
   "cell_type": "code",
   "execution_count": 80,
   "id": "b2531cb8",
   "metadata": {},
   "outputs": [
    {
     "data": {
      "text/plain": [
       "[('훌쩍', 0.9646713733673096),\n",
       " ('반대편', 0.9610562324523926),\n",
       " ('담겨져', 0.9604763984680176),\n",
       " ('이끈', 0.9603986740112305),\n",
       " ('최상', 0.9603320360183716),\n",
       " ('들으면', 0.9601010680198669),\n",
       " ('평온', 0.959425687789917),\n",
       " ('일품', 0.9584933519363403),\n",
       " ('뭉클', 0.9560309648513794),\n",
       " ('이준기', 0.9557766914367676)]"
      ]
     },
     "execution_count": 80,
     "metadata": {},
     "output_type": "execute_result"
    }
   ],
   "source": [
    "# 워드 벡터가 의미 벡터 공간 상에 유의미하게 학습되었는지 확인하는 방법 1\n",
    "# 단어를 하나 주고 가장 유사한 단어와 유사도를 확인하는 방법\n",
    "\n",
    "word_vectors.similar_by_word(\"만족\")"
   ]
  },
  {
   "cell_type": "markdown",
   "id": "d5887ec8",
   "metadata": {},
   "source": [
    "# 7. 한국어 Word2Vec 임베딩 활용하여 성능 개선"
   ]
  },
  {
   "cell_type": "markdown",
   "id": "7da3c348",
   "metadata": {},
   "source": [
    "## 7-1. 한국어 Word2Vec 임베딩 적용"
   ]
  },
  {
   "cell_type": "code",
   "execution_count": 81,
   "id": "896c90eb",
   "metadata": {},
   "outputs": [],
   "source": [
    "import gensim\n",
    "from gensim.models import KeyedVectors"
   ]
  },
  {
   "cell_type": "code",
   "execution_count": 82,
   "id": "d9699e77",
   "metadata": {},
   "outputs": [
    {
     "data": {
      "text/plain": [
       "'3.8.3'"
      ]
     },
     "execution_count": 82,
     "metadata": {},
     "output_type": "execute_result"
    }
   ],
   "source": [
    "gensim.__version__"
   ]
  },
  {
   "cell_type": "code",
   "execution_count": 83,
   "id": "d21815d6",
   "metadata": {
    "scrolled": false
   },
   "outputs": [],
   "source": [
    "word2vec_path = os.getenv('HOME')+'/aiffel/sentiment_classification/data/ko.bin'\n",
    "word2vec = gensim.models.Word2Vec.load(word2vec_path)"
   ]
  },
  {
   "cell_type": "code",
   "execution_count": 84,
   "id": "5747aac7",
   "metadata": {},
   "outputs": [
    {
     "data": {
      "text/plain": [
       "array([-0.21245585, -0.76455975,  1.2335763 , -2.0687602 ,  0.11830104,\n",
       "       -0.54881305, -1.1947731 ,  0.3467694 , -1.0311009 , -0.3603907 ,\n",
       "        1.3440485 , -0.4072002 ,  1.1131706 , -0.9551345 , -0.7064215 ,\n",
       "       -0.1686603 , -0.58696073, -1.4859254 ,  0.05223045, -0.23236327,\n",
       "        0.6323806 , -1.1020958 , -1.2635112 ,  0.6220531 ,  0.17838949,\n",
       "       -0.70615005, -1.3628044 , -1.4818763 , -0.18965532,  0.11690602,\n",
       "       -0.09560227, -0.39899632,  1.0731212 , -0.63874424,  0.017969  ,\n",
       "        0.98583263,  1.3941766 ,  0.08089745, -0.81685823, -0.7022943 ,\n",
       "       -0.5008832 , -0.54513174,  0.34584457, -1.7315279 , -0.24291196,\n",
       "        0.6328651 ,  1.4537793 , -0.7011548 ,  0.80850524,  0.74069935,\n",
       "       -0.9272299 , -1.335555  , -1.1335523 ,  3.2529519 ,  0.6823866 ,\n",
       "       -1.4942434 ,  3.213415  ,  1.0216335 , -0.4152105 , -0.11520938,\n",
       "       -0.08406533, -0.49404764, -1.7769778 ,  0.19683318,  0.48151487,\n",
       "       -0.67674905, -1.5347718 ,  0.17763563, -0.6901806 , -0.71837485,\n",
       "        0.26211363,  1.3736591 , -0.81411374,  1.5484174 , -0.32827973,\n",
       "       -1.2308834 , -0.24815056, -0.05604961,  2.4168842 , -1.3484128 ,\n",
       "       -1.9251053 ,  0.85578465, -1.8256166 , -0.10344915, -0.10654867,\n",
       "        1.0619285 ,  0.5666331 , -0.44050282,  0.8053295 ,  0.10873766,\n",
       "        0.6044379 ,  0.764614  , -0.09914612,  0.88586   ,  0.26618013,\n",
       "        0.36814845,  0.426867  , -1.147402  ,  0.84544444, -0.1843114 ,\n",
       "       -0.7268895 , -0.3212696 ,  0.667064  , -0.58419776,  1.8145548 ,\n",
       "        1.9355031 , -1.3043815 ,  0.04326026,  0.45568457, -1.8683544 ,\n",
       "        0.8834185 , -0.51768565, -1.7198668 , -0.05112309,  2.3985045 ,\n",
       "       -2.3366795 , -0.2968566 , -0.81674945,  1.4297746 ,  0.02107116,\n",
       "        0.9217806 , -2.5649145 , -0.17076743, -1.2345508 ,  0.48951107,\n",
       "       -0.01503422,  1.742437  , -0.3975787 ,  0.15941875,  2.065955  ,\n",
       "        2.0112004 ,  0.430826  ,  1.4105109 ,  1.9929649 ,  0.2523577 ,\n",
       "        2.1973937 ,  1.4095    , -1.4678651 ,  0.05385794, -0.9562361 ,\n",
       "        0.8480321 , -0.11160672, -0.20669545,  0.45160684, -1.8831215 ,\n",
       "       -0.08634222,  1.2188671 , -0.26115584, -0.3497346 , -1.6032007 ,\n",
       "        1.5190088 ,  2.0292878 , -0.29313686, -0.84542555, -0.30137303,\n",
       "        1.0734961 , -0.21645601,  0.10950008, -0.528668  , -0.27094576,\n",
       "        1.2831593 ,  0.5645215 , -1.1138439 ,  0.49422115, -0.66331106,\n",
       "       -1.9084527 ,  1.0288999 ,  0.35668066,  0.5310273 ,  1.5287439 ,\n",
       "       -0.8891878 ,  0.9435555 , -0.28362617, -1.3905132 , -1.3402418 ,\n",
       "       -0.16271193, -1.6028023 , -1.3273442 , -0.49335095,  0.84329164,\n",
       "        1.390656  , -0.03553885, -0.9085696 , -0.6598932 ,  1.4210014 ,\n",
       "       -1.78825   ,  1.2472417 , -1.2535207 ,  0.58834684, -1.1036639 ,\n",
       "        0.44645292,  0.6652011 ,  0.92176735, -1.6156495 ,  0.92709404,\n",
       "        1.8791242 , -0.78659415,  0.33630264,  0.5729397 , -1.8942915 ],\n",
       "      dtype=float32)"
      ]
     },
     "execution_count": 84,
     "metadata": {},
     "output_type": "execute_result"
    }
   ],
   "source": [
    "vector = word2vec['추천']\n",
    "vector"
   ]
  },
  {
   "cell_type": "code",
   "execution_count": 85,
   "id": "1c12eab8",
   "metadata": {},
   "outputs": [
    {
     "data": {
      "text/plain": [
       "[('위촉', 0.6401861906051636),\n",
       " ('천거', 0.6389721632003784),\n",
       " ('추대', 0.5849215984344482),\n",
       " ('선출', 0.5803494453430176),\n",
       " ('초청', 0.5759262442588806),\n",
       " ('발탁', 0.5613522529602051),\n",
       " ('선정', 0.5511638522148132),\n",
       " ('임명', 0.5414161682128906),\n",
       " ('초빙', 0.5363222360610962),\n",
       " ('기용', 0.5326868295669556)]"
      ]
     },
     "execution_count": 85,
     "metadata": {},
     "output_type": "execute_result"
    }
   ],
   "source": [
    "word2vec.similar_by_word(\"추천\")"
   ]
  },
  {
   "cell_type": "code",
   "execution_count": 86,
   "id": "e2a146b9",
   "metadata": {},
   "outputs": [
    {
     "data": {
      "text/plain": [
       "[('충족', 0.7622718811035156),\n",
       " ('납득', 0.5126502513885498),\n",
       " ('기약', 0.4881259799003601),\n",
       " ('동치', 0.4837648272514343),\n",
       " ('부합', 0.47508636116981506),\n",
       " ('극대화', 0.4693123698234558),\n",
       " ('성취', 0.465419203042984),\n",
       " ('상쇄', 0.4648754596710205),\n",
       " ('상기', 0.45204538106918335),\n",
       " ('일반화', 0.45000725984573364)]"
      ]
     },
     "execution_count": 86,
     "metadata": {},
     "output_type": "execute_result"
    }
   ],
   "source": [
    "word2vec.similar_by_word(\"만족\")"
   ]
  },
  {
   "cell_type": "code",
   "execution_count": 87,
   "id": "ebab5c73",
   "metadata": {},
   "outputs": [
    {
     "data": {
      "text/plain": [
       "[('그다지', 0.516608476638794),\n",
       " ('지역별', 0.49092748761177063),\n",
       " ('전혀', 0.48824024200439453),\n",
       " ('각기', 0.4875951111316681),\n",
       " ('개별', 0.47797343134880066),\n",
       " ('따로', 0.4700734317302704),\n",
       " ('마다', 0.46785035729408264),\n",
       " ('별', 0.45661038160324097),\n",
       " ('딱히', 0.4535921812057495),\n",
       " ('다소', 0.43761277198791504)]"
      ]
     },
     "execution_count": 87,
     "metadata": {},
     "output_type": "execute_result"
    }
   ],
   "source": [
    "word2vec.similar_by_word(\"별로\")"
   ]
  },
  {
   "cell_type": "markdown",
   "id": "557f1d53",
   "metadata": {},
   "source": [
    "## 7-2. RNN\n",
    "* 위에서 진행한 모델 중 가장 accuracy가 높은 RNN 모델로 진행하였다.\n",
    "* LSTM 레이어 수를 8로 진행하였을 때는 accuracy가 84%로 나왔다.  \n",
    "    → LSTM 레이어 수를 64로 변경하였다.\n",
    "* epochs 수를 처음에는 20으로 하였는데 accuracy가 점점 떨어져 epochs 수를 5로 줄였다."
   ]
  },
  {
   "cell_type": "markdown",
   "id": "d03b3054",
   "metadata": {},
   "source": [
    "### 7-2-1. 모델 구성"
   ]
  },
  {
   "cell_type": "code",
   "execution_count": 88,
   "id": "7c426036",
   "metadata": {},
   "outputs": [],
   "source": [
    "from tensorflow.keras.initializers import Constant"
   ]
  },
  {
   "cell_type": "code",
   "execution_count": 89,
   "id": "b837b5c5",
   "metadata": {},
   "outputs": [],
   "source": [
    "vocab_size = 10000 \n",
    "word_vector_dim = 200  \n",
    "\n",
    "embedding_matrix = np.random.rand(vocab_size, word_vector_dim)\n",
    "\n",
    "# embedding_matrix에 Word2Vec 워드 벡터를 단어 하나씩마다 차례차례 카피함\n",
    "for i in range(4,vocab_size):\n",
    "    if index_to_word[i] in word2vec:\n",
    "        embedding_matrix[i] = word2vec[index_to_word[i]]"
   ]
  },
  {
   "cell_type": "code",
   "execution_count": 90,
   "id": "e65b23ec",
   "metadata": {},
   "outputs": [
    {
     "name": "stdout",
     "output_type": "stream",
     "text": [
      "Model: \"sequential_7\"\n",
      "_________________________________________________________________\n",
      "Layer (type)                 Output Shape              Param #   \n",
      "=================================================================\n",
      "embedding_7 (Embedding)      (None, 41, 200)           2000000   \n",
      "_________________________________________________________________\n",
      "lstm_3 (LSTM)                (None, 64)                67840     \n",
      "_________________________________________________________________\n",
      "dense_14 (Dense)             (None, 8)                 520       \n",
      "_________________________________________________________________\n",
      "dense_15 (Dense)             (None, 1)                 9         \n",
      "=================================================================\n",
      "Total params: 2,068,369\n",
      "Trainable params: 2,068,369\n",
      "Non-trainable params: 0\n",
      "_________________________________________________________________\n"
     ]
    }
   ],
   "source": [
    "model_4 = tf.keras.Sequential()\n",
    "model_4.add(tf.keras.layers.Embedding(vocab_size,\n",
    "                                   word_vector_dim,\n",
    "                                   embeddings_initializer = Constant(embedding_matrix),\n",
    "                                   input_length = maxlen,\n",
    "                                   trainable = True))\n",
    "model_4.add(tf.keras.layers.LSTM(64))  # LSTM 레이어 사용 & LSTM 벡터의 차원 수 변경 가능\n",
    "model_4.add(tf.keras.layers.Dense(8, activation = 'relu'))\n",
    "model_4.add(tf.keras.layers.Dense(1, activation = 'sigmoid')) # 최종 출력은 긍정/부정을 나타내는 1dim\n",
    "\n",
    "model_4.summary()"
   ]
  },
  {
   "cell_type": "markdown",
   "id": "e5ddc032",
   "metadata": {},
   "source": [
    "### 7-2-2. 모델 훈련"
   ]
  },
  {
   "cell_type": "code",
   "execution_count": 91,
   "id": "58849bc4",
   "metadata": {
    "scrolled": false
   },
   "outputs": [
    {
     "name": "stdout",
     "output_type": "stream",
     "text": [
      "Epoch 1/5\n",
      "196/196 [==============================] - 3s 11ms/step - loss: 0.4817 - accuracy: 0.7629 - val_loss: 0.3800 - val_accuracy: 0.8307\n",
      "Epoch 2/5\n",
      "196/196 [==============================] - 2s 9ms/step - loss: 0.3478 - accuracy: 0.8482 - val_loss: 0.3426 - val_accuracy: 0.8510\n",
      "Epoch 3/5\n",
      "196/196 [==============================] - 2s 9ms/step - loss: 0.3031 - accuracy: 0.8712 - val_loss: 0.3318 - val_accuracy: 0.8568\n",
      "Epoch 4/5\n",
      "196/196 [==============================] - 2s 9ms/step - loss: 0.2736 - accuracy: 0.8869 - val_loss: 0.3317 - val_accuracy: 0.8598\n",
      "Epoch 5/5\n",
      "196/196 [==============================] - 2s 9ms/step - loss: 0.2517 - accuracy: 0.8965 - val_loss: 0.3310 - val_accuracy: 0.8610\n"
     ]
    }
   ],
   "source": [
    "model_4.compile(optimizer = 'adam',\n",
    "             loss = 'binary_crossentropy',\n",
    "             metrics = ['accuracy'])\n",
    "\n",
    "epochs = 5\n",
    "\n",
    "history_4 = model_4.fit(partial_X_train,\n",
    "                        partial_y_train,\n",
    "                        epochs = epochs,\n",
    "                        batch_size = 512,\n",
    "                        validation_data = (X_val, y_val),\n",
    "                        verbose = 1)"
   ]
  },
  {
   "cell_type": "code",
   "execution_count": 92,
   "id": "8b810a76",
   "metadata": {},
   "outputs": [
    {
     "name": "stdout",
     "output_type": "stream",
     "text": [
      "1537/1537 - 3s - loss: 0.3442 - accuracy: 0.8534\n"
     ]
    }
   ],
   "source": [
    "results_4 = model_4.evaluate(X_test,  y_test, verbose=2)"
   ]
  },
  {
   "cell_type": "code",
   "execution_count": 93,
   "id": "e6976c32",
   "metadata": {},
   "outputs": [
    {
     "name": "stdout",
     "output_type": "stream",
     "text": [
      "dict_keys(['loss', 'accuracy', 'val_loss', 'val_accuracy'])\n"
     ]
    }
   ],
   "source": [
    "history_4_dict = history_4.history\n",
    "\n",
    "print(history_4_dict.keys())"
   ]
  },
  {
   "cell_type": "markdown",
   "id": "cbddf479",
   "metadata": {},
   "source": [
    "### 7-2-3. Loss, Accuracy 그래프 시각화"
   ]
  },
  {
   "cell_type": "code",
   "execution_count": 94,
   "id": "a943e301",
   "metadata": {},
   "outputs": [
    {
     "data": {
      "image/png": "[encoded data removed]",
      "text/plain": [
       "<Figure size 1440x360 with 2 Axes>"
      ]
     },
     "metadata": {
      "needs_background": "light"
     },
     "output_type": "display_data"
    }
   ],
   "source": [
    "acc = history_4_dict['accuracy']\n",
    "val_acc = history_4_dict['val_accuracy']\n",
    "\n",
    "loss = history_4_dict['loss']\n",
    "val_loss = history_4_dict['val_loss']\n",
    "\n",
    "epochs = range(1, len(acc) + 1)\n",
    "\n",
    "plt.figure(figsize=(20,5))\n",
    "\n",
    "plt.subplot(1, 2, 1)\n",
    "plt.plot(epochs, loss, 'b', label = 'Training loss')\n",
    "plt.plot(epochs, val_loss, 'r', label = 'Validation loss')\n",
    "plt.title('Training and validation loss')\n",
    "plt.xlabel('Epochs')\n",
    "plt.ylabel('Loss')\n",
    "plt.legend()\n",
    "\n",
    "plt.subplot(1, 2, 2)\n",
    "plt.plot(epochs, acc, 'b', label = 'Training acc')\n",
    "plt.plot(epochs, val_acc, 'r', label = 'Validation acc')\n",
    "plt.title('Training and validation accuracy')\n",
    "plt.xlabel('Epochs')\n",
    "plt.ylabel('Accuracy')\n",
    "plt.legend()\n",
    "\n",
    "plt.show()"
   ]
  },
  {
   "cell_type": "markdown",
   "id": "005e9f9c",
   "metadata": {},
   "source": [
    "# 회고"
   ]
  },
  {
   "cell_type": "markdown",
   "id": "0f0b2ee3",
   "metadata": {},
   "source": [
    "## 1) 모델"
   ]
  },
  {
   "cell_type": "markdown",
   "id": "ae3e80ba",
   "metadata": {},
   "source": [
    "* RNN, 1-D CNN, GlobalMaxPooling1D 총 3가지의 모델을 구성하고 훈련하였다. \n",
    "* accuracy가 비슷하긴 했지만 그중에서 가장 높은 모델은 RNN이었다. 그래서 RNN모델로 embedding 레이어를 분석해보았다.\n",
    "* LMS에 나와있는 3가지 모델을 활용하였는데, 정확하게 해당 모델들의 특징들을 파악하고 사용한 것이 아니라 그냥 따라했어서 모델들에 대해 더 공부를 해야 할 필요성을 느꼈다."
   ]
  },
  {
   "cell_type": "markdown",
   "id": "6fd417fc",
   "metadata": {},
   "source": [
    "## 2) Embedding 레이어 분석\n",
    "* 학습한 Embedding 레이어로 주어진 단어와 유사한 단어를 출력해내는데 유사하지 않은 단어들도 많이 출력되었다.\n",
    "* 한국어 Word2Vec 임베딩을 사용하였을 때는 확실히 유사한 단어를 많이 출력해냈으며 다양한 단어들도 많이 출력된 것을 볼 수 있다."
   ]
  },
  {
   "cell_type": "markdown",
   "id": "048d9965",
   "metadata": {},
   "source": [
    "## 3) accuracy\n",
    "* 학습한 3가지의 모델의 accuracy는 다 비슷하지만 85%가 넘지 않았다.\n",
    "* 모델 학습 시에 에포크 수를 10으로 했는데, accuracy가 중간에 다시 떨어지는 것을 보고 모델의 에포크 수를 10 → 5로 줄였다.\n",
    "* 에포크 5로 줄이니 accuracy가 84%까지 올라간 것을 확인할 수 있었다.\n",
    "* 한국어 Word2Vec 임베딩을 진행한 후 RNN 모델을 학습한 결과, 85%를 넘게 되었다.\n",
    "* 처음에는 85%가 넘지 않아 LSTM 레이어수를 8 → 64로 늘렸고, 에포크 수를 많이 하니 정확도가 다시 떨어지기 시작하여 에포크 수를 5로 줄였다."
   ]
  },
  {
   "cell_type": "markdown",
   "id": "520a60ed",
   "metadata": {},
   "source": [
    "## 4) 후기\n",
    "* 각 모델의 accuracy와 loss들을 시각화하니 명확하게 알 수 있어서 시각화의 중요성을 알게 되었다. 시각화 한 코드들을 볼 때마다 어렵다고만 생각했는데 이렇게 기본적인 것부터 하나씩 해가면 다른 것들도 시각화를 할 수 있지 않을까 생각했다.\n",
    "* 문장 최대 길이, 패딩 등 데이터를 가공하는 방법이 다양하게 있어서 이런 것들을 추가로 알고 싶었다.\n",
    "* 원래 NLP에는 큰 관심이 없었는데 이번 프로젝트를 진행하면서 NLP에 대해 관심이 생겨 좀 더 공부하고 싶어졌다.\n",
    "* 분류가 얼마나 잘 되었는지 accuracy로 확인을 하였는데, 실제로 각 리뷰 별로 어떻게 분류되었는지 확인해보고 싶었다. (⭐추가 공부 필요,,)\n",
    "* LMS이외에 DACON에서 진행한 대회의 각 코드들을 리뷰하며 다양한 방법을 시도해보고 싶다.\n",
    "* [DACON 영화 리뷰 감성분석 경진대회](https://dacon.io/competitions/official/235864/overview/description)\n",
    "* [코드리뷰하고 싶은 코드1](https://dacon.io/competitions/official/235864/codeshare/4126?page=1&dtype=recent)\n",
    "* [코드리뷰하고 싶은 코드2](https://dacon.io/competitions/official/235864/codeshare/4160?page=1&dtype=vote)"
   ]
  },
  {
   "cell_type": "markdown",
   "id": "f04b0993",
   "metadata": {},
   "source": [
    "## 5) Reference\n",
    "* 명예의 전당에 오른 이전 기수분들의 코드 참고하였음\n",
    "* https://github.com/hyyoo3526/AIFFEL_EXPLORATION/blob/main/EXPLORATION_07/EXPLORATION_IC1_07_sentiment_classification.ipynb\n",
    "* https://github.com/ai-rtistic/AIFFEL-Project/blob/master/Exploration/EP07_Naver_Movie_Sentiment_Classification.ipynb"
   ]
  },
  {
   "cell_type": "code",
   "execution_count": null,
   "id": "110aebbf",
   "metadata": {},
   "outputs": [],
   "source": []
  }
 ],
 "metadata": {
  "kernelspec": {
   "display_name": "Python 3 (ipykernel)",
   "language": "python",
   "name": "python3"
  },
  "language_info": {
   "codemirror_mode": {
    "name": "ipython",
    "version": 3
   },
   "file_extension": ".py",
   "mimetype": "text/x-python",
   "name": "python",
   "nbconvert_exporter": "python",
   "pygments_lexer": "ipython3",
   "version": "3.9.7"
  }
 },
 "nbformat": 4,
 "nbformat_minor": 5
}
