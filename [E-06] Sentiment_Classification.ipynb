{
 "cells": [
  {
   "cell_type": "markdown",
   "id": "e38f9d97",
   "metadata": {},
   "source": [
    "# Exp6. 네이버 영화리뷰 감성분석"
   ]
  },
  {
   "cell_type": "markdown",
   "id": "6920d8b4",
   "metadata": {},
   "source": [
    "# 1. 데이터 불러오기"
   ]
  },
  {
   "cell_type": "code",
   "execution_count": 1,
   "id": "4bda60da",
   "metadata": {},
   "outputs": [
    {
     "data": {
      "text/html": [
       "<div>\n",
       "<style scoped>\n",
       "    .dataframe tbody tr th:only-of-type {\n",
       "        vertical-align: middle;\n",
       "    }\n",
       "\n",
       "    .dataframe tbody tr th {\n",
       "        vertical-align: top;\n",
       "    }\n",
       "\n",
       "    .dataframe thead th {\n",
       "        text-align: right;\n",
       "    }\n",
       "</style>\n",
       "<table border=\"1\" class=\"dataframe\">\n",
       "  <thead>\n",
       "    <tr style=\"text-align: right;\">\n",
       "      <th></th>\n",
       "      <th>id</th>\n",
       "      <th>document</th>\n",
       "      <th>label</th>\n",
       "    </tr>\n",
       "  </thead>\n",
       "  <tbody>\n",
       "    <tr>\n",
       "      <th>0</th>\n",
       "      <td>9976970</td>\n",
       "      <td>아 더빙.. 진짜 짜증나네요 목소리</td>\n",
       "      <td>0</td>\n",
       "    </tr>\n",
       "    <tr>\n",
       "      <th>1</th>\n",
       "      <td>3819312</td>\n",
       "      <td>흠...포스터보고 초딩영화줄....오버연기조차 가볍지 않구나</td>\n",
       "      <td>1</td>\n",
       "    </tr>\n",
       "    <tr>\n",
       "      <th>2</th>\n",
       "      <td>10265843</td>\n",
       "      <td>너무재밓었다그래서보는것을추천한다</td>\n",
       "      <td>0</td>\n",
       "    </tr>\n",
       "    <tr>\n",
       "      <th>3</th>\n",
       "      <td>9045019</td>\n",
       "      <td>교도소 이야기구먼 ..솔직히 재미는 없다..평점 조정</td>\n",
       "      <td>0</td>\n",
       "    </tr>\n",
       "    <tr>\n",
       "      <th>4</th>\n",
       "      <td>6483659</td>\n",
       "      <td>사이몬페그의 익살스런 연기가 돋보였던 영화!스파이더맨에서 늙어보이기만 했던 커스틴 ...</td>\n",
       "      <td>1</td>\n",
       "    </tr>\n",
       "  </tbody>\n",
       "</table>\n",
       "</div>"
      ],
      "text/plain": [
       "         id                                           document  label\n",
       "0   9976970                                아 더빙.. 진짜 짜증나네요 목소리      0\n",
       "1   3819312                  흠...포스터보고 초딩영화줄....오버연기조차 가볍지 않구나      1\n",
       "2  10265843                                  너무재밓었다그래서보는것을추천한다      0\n",
       "3   9045019                      교도소 이야기구먼 ..솔직히 재미는 없다..평점 조정      0\n",
       "4   6483659  사이몬페그의 익살스런 연기가 돋보였던 영화!스파이더맨에서 늙어보이기만 했던 커스틴 ...      1"
      ]
     },
     "execution_count": 1,
     "metadata": {},
     "output_type": "execute_result"
    }
   ],
   "source": [
    "import warnings\n",
    "warnings.filterwarnings(\"ignore\")\n",
    "\n",
    "import pandas as pd\n",
    " \n",
    "train_data = pd.read_table('~/aiffel/sentiment_classification/data/ratings_train.txt')\n",
    "test_data = pd.read_table('~/aiffel/sentiment_classification/data/ratings_test.txt')\n",
    "\n",
    "train_data.head()"
   ]
  },
  {
   "cell_type": "markdown",
   "id": "94feee9c",
   "metadata": {},
   "source": [
    "# 2. 데이터 로더 구성"
   ]
  },
  {
   "cell_type": "markdown",
   "id": "edcd065d",
   "metadata": {},
   "source": [
    "1. 데이터의 중복 제거\n",
    "2. NaN 결측치 제거\n",
    "3. 한국어 토크나이저로 토큰화\n",
    "4. 불용어(Stopwords) 제거\n",
    "5. 사전word_to_index 구성\n",
    "6. 텍스트 스트링을 사전 인덱스 스트링으로 변환\n",
    "7. X_train, y_train, X_test, y_test, word_to_index 리턴"
   ]
  },
  {
   "cell_type": "markdown",
   "id": "e11a2fc8",
   "metadata": {},
   "source": [
    "## 2-1. 데이터 전처리"
   ]
  },
  {
   "cell_type": "code",
   "execution_count": 2,
   "id": "0908f0fc",
   "metadata": {},
   "outputs": [],
   "source": [
    "from konlpy.tag import Mecab\n",
    "import numpy as np\n",
    "from collections import Counter"
   ]
  },
  {
   "cell_type": "code",
   "execution_count": 3,
   "id": "def961d5",
   "metadata": {},
   "outputs": [],
   "source": [
    "tokenizer = Mecab()\n",
    "stopwords = ['의','가','이','은','들','는','좀','잘','걍','과','도','를','으로','자','에','와','한','하다']\n",
    "\n",
    "def load_data(train_data, test_data, num_words = 10000):\n",
    "    train_data.drop_duplicates(subset = ['document'], inplace = True) # 중복값 제거 (1)\n",
    "    train_data = train_data.dropna(how = 'any')  # 결측치 제거 (2)\n",
    "    \n",
    "    test_data.drop_duplicates(subset = ['document'], inplace = True) # 중복값 제거 (1)\n",
    "    test_data = test_data.dropna(how = 'any')  # 결측치 제거 (2)\n",
    "    \n",
    "    X_train = []\n",
    "    for sentence in train_data['document']:\n",
    "        temp_X = tokenizer.morphs(sentence)  # 토큰화 (3)\n",
    "        temp_X = [word for word in temp_X if not word in stopwords] # 불용어 제거 (4)\n",
    "        X_train.append(temp_X)\n",
    "        \n",
    "    X_test = []\n",
    "    for sentence in test_data['document']:\n",
    "        temp_X = tokenizer.morphs(sentence)   # 토큰화 (3)\n",
    "        temp_X = [word for word in temp_X if not word in stopwords]  # 불용어 제거 (4)\n",
    "        X_test.append(temp_X)\n",
    "        \n",
    "    words = np.concatenate(X_train).tolist()\n",
    "    counter = Counter(words)\n",
    "    counter = counter.most_common(10000 - 4)\n",
    "    vocab = ['<PAD>', '<BOS>', '<UNK>', '<UNUSED>'] + [key for key, _ in counter]\n",
    "    word_to_index = {word:index for index, word in enumerate(vocab)}  # 사전 word_to_index 구성 (5)\n",
    "    \n",
    "    def wordlist_to_indexlist(wordlist):        # 텍스트 스트링을 사전 인덱스 스트링으로 변환 (6)\n",
    "        return[word_to_index[word] if word in word_to_index else word_to_index['<PAD>'] for word in wordlist]\n",
    "    \n",
    "    X_train = list(map(wordlist_to_indexlist, X_train))\n",
    "    X_test = list(map(wordlist_to_indexlist, X_test))\n",
    "    \n",
    "    return X_train, np.array(list(train_data['label'])), X_test, np.array(list(test_data['label'])), word_to_index\n",
    "# X_train, y_train, X_test, y_test, word_to_index 리턴 (7)"
   ]
  },
  {
   "cell_type": "code",
   "execution_count": 4,
   "id": "bdf92faf",
   "metadata": {},
   "outputs": [],
   "source": [
    "X_train, y_train, X_test, y_test, word_to_index = load_data(train_data, test_data)"
   ]
  },
  {
   "cell_type": "code",
   "execution_count": 5,
   "id": "6b1945d1",
   "metadata": {},
   "outputs": [
    {
     "name": "stdout",
     "output_type": "stream",
     "text": [
      "train 데이터 개수 :  146182\n",
      "test 데이터 개수 : 49157\n"
     ]
    }
   ],
   "source": [
    "print('train 데이터 개수 : ', len(X_train))\n",
    "print('test 데이터 개수 :', len(X_test))"
   ]
  },
  {
   "cell_type": "code",
   "execution_count": 6,
   "id": "281708e6",
   "metadata": {},
   "outputs": [],
   "source": [
    "# {텍스트 : 인덱스} → {인덱스 : 텍스트}\n",
    "\n",
    "index_to_word = {index:word for word, index in word_to_index.items()}"
   ]
  },
  {
   "cell_type": "markdown",
   "id": "db4f715c",
   "metadata": {},
   "source": [
    "## 2-2. encoding, decoding"
   ]
  },
  {
   "cell_type": "code",
   "execution_count": 7,
   "id": "61dc06b9",
   "metadata": {},
   "outputs": [],
   "source": [
    "# 문장 1개를 활용할 딕셔너리와 함께 주면, 단어 인덱스 리스트 벡터로 변환해주는 함수\n",
    "def get_encoded_sentence(sentence, word_to_index):\n",
    "    return [word_to_index['<BOS>']] + [word_to_index[word]         # 모든 문장은 <BOS>로 시작 → 항상 첫번째는 1이 출력\n",
    "                                       if word in word_to_index    # 단어 가져오기\n",
    "                                       else word_to_index['<UNK>'] # 단어가 없으면 <UNK>인덱스 가져오기\n",
    "                                       for word in sentence.split()]  # sentence에 있는 문장 나눠서 단어로 출력\n",
    "\n",
    "# 여러 개의 문장 리스트를 한꺼번에 단어 인덱스 리스트 벡터로 encode해주는 함수\n",
    "def get_encoded_sentences(sentence, word_to_index):\n",
    "    return [get_encoded_sentence(sentence, word_to_index) for sentence in sentences]\n",
    "\n",
    "# 숫자 벡터로 encode된 문장을 원래대로 decode하는 함수\n",
    "def get_decoded_sentence(encoded_sentence, index_to_word):\n",
    "    return ' '. join(index_to_word[index]\n",
    "                     if index in index_to_word\n",
    "                     else '<UNK>'\n",
    "                     for index in encoded_sentence[1:])  # [1:]를 통해 <BOS>를 제외\n",
    "\n",
    "# 여러 개의 숫자 벡터로 encode된 문장을 한꺼번에 decode하는 함수\n",
    "def get_decoded_sentences(encoded_sentences, index_to_word):\n",
    "    return [get_decoded_sentence(encoded_sentence, index_to_word) for encoded_sentence in encoded_sentences]"
   ]
  },
  {
   "cell_type": "code",
   "execution_count": 8,
   "id": "d55cbc59",
   "metadata": {},
   "outputs": [
    {
     "name": "stdout",
     "output_type": "stream",
     "text": [
      "[32, 74, 919, 4, 4, 39, 228, 20, 33, 748]\n",
      "더 빙 . . 진짜 짜증 나 네요 목소리\n",
      "1번째 문장 라벨 : 0\n"
     ]
    }
   ],
   "source": [
    "print(X_train[0])\n",
    "print(get_decoded_sentence(X_train[0], index_to_word))\n",
    "print('1번째 문장 라벨 :', y_train[0])"
   ]
  },
  {
   "cell_type": "markdown",
   "id": "7ec31ce3",
   "metadata": {},
   "source": [
    "# 3. 데이터 분석 및 가공\n",
    "* 데이터셋 내 문장 길이 분포\n",
    "* 적절한 최대 문장 길이 지정\n",
    "* keras.preprocessing.sequence.pad_sequences 을 활용한 패딩 추가"
   ]
  },
  {
   "cell_type": "markdown",
   "id": "a172c6be",
   "metadata": {},
   "source": [
    "## 3-1. 데이터셋 내 문장 길이 분포 확인\n",
    "* maxlen의 적절한 값을 찾기 위해 전체 데이터셋의 분포를 확인하는 것이 좋음!"
   ]
  },
  {
   "cell_type": "code",
   "execution_count": 9,
   "id": "7206504d",
   "metadata": {},
   "outputs": [
    {
     "name": "stdout",
     "output_type": "stream",
     "text": [
      "문장길이 평균 : 15.96940191154864\n",
      "문장길이 최대 : 116\n",
      "문장길이 표준편차 : 12.843571191092\n"
     ]
    }
   ],
   "source": [
    "import numpy as np\n",
    "\n",
    "total_data_text = list(X_train) + list(X_test)\n",
    "\n",
    "num_tokens = [len(tokens) for tokens in total_data_text]\n",
    "num_tokens = np.array(num_tokens)\n",
    "\n",
    "print('문장길이 평균 :', np.mean(num_tokens))\n",
    "print('문장길이 최대 :', np.max(num_tokens))\n",
    "print('문장길이 표준편차 :', np.std(num_tokens))"
   ]
  },
  {
   "cell_type": "markdown",
   "id": "777c8591",
   "metadata": {},
   "source": [
    "## 3-2. 최대 문장 길이 지정\n",
    "* maxlen 값 설정이 전체 모델 성능에 영향을 미침"
   ]
  },
  {
   "cell_type": "code",
   "execution_count": 10,
   "id": "a611bdce",
   "metadata": {},
   "outputs": [
    {
     "name": "stdout",
     "output_type": "stream",
     "text": [
      "pad_sequences_maxlen : 41\n",
      "전체 문장의 0.9342988343341575%가 maxlen 설정값 이내에 포함됩니다.\n"
     ]
    }
   ],
   "source": [
    "max_tokens = np.mean(num_tokens) + 2 * np.std(num_tokens)\n",
    "maxlen = int(max_tokens)\n",
    "\n",
    "print('pad_sequences_maxlen :', maxlen)\n",
    "print('전체 문장의 {}%가 maxlen 설정값 이내에 포함됩니다.'.format(np.sum(num_tokens < max_tokens) / len(num_tokens)))"
   ]
  },
  {
   "cell_type": "markdown",
   "id": "c23a7fee",
   "metadata": {},
   "source": [
    "## 3-3. 문장 길이 맞추기 (패딩 추가)\n",
    "* keras.preprocessing.sequence.pad_sequences 을 활용한 문장 길이 맞추기\n",
    "* padding = 'pre' : 문장의 길이가 maxlen보다 짧은 경우, 문장 앞에 <PAD>를 추가"
   ]
  },
  {
   "cell_type": "code",
   "execution_count": 11,
   "id": "5007cc1e",
   "metadata": {},
   "outputs": [
    {
     "name": "stdout",
     "output_type": "stream",
     "text": [
      "(146182, 41)\n",
      "(49157, 41)\n"
     ]
    }
   ],
   "source": [
    "import tensorflow as tf\n",
    "\n",
    "X_train = tf.keras.preprocessing.sequence.pad_sequences(X_train,\n",
    "                                                       value = word_to_index['<PAD>'],\n",
    "                                                       padding = 'pre',   # 문장 앞에 패딩 추가\n",
    "                                                       maxlen = maxlen)\n",
    "\n",
    "X_test = tf.keras.preprocessing.sequence.pad_sequences(X_test,\n",
    "                                                      value = word_to_index['<PAD>'],\n",
    "                                                      padding = 'pre',\n",
    "                                                      maxlen = maxlen)\n",
    "\n",
    "print(X_train.shape)\n",
    "print(X_test.shape)"
   ]
  },
  {
   "cell_type": "code",
   "execution_count": 12,
   "id": "3b03cfc6",
   "metadata": {},
   "outputs": [
    {
     "name": "stdout",
     "output_type": "stream",
     "text": [
      "[  0   0   0   0   0   0   0   0   0   0   0   0   0   0   0   0   0   0\n",
      "   0   0   0   0   0   0   0   0   0   0   0   0   0  32  74 919   4   4\n",
      "  39 228  20  33 748]\n",
      "<PAD> <PAD> <PAD> <PAD> <PAD> <PAD> <PAD> <PAD> <PAD> <PAD> <PAD> <PAD> <PAD> <PAD> <PAD> <PAD> <PAD> <PAD> <PAD> <PAD> <PAD> <PAD> <PAD> <PAD> <PAD> <PAD> <PAD> <PAD> <PAD> <PAD> 아 더 빙 . . 진짜 짜증 나 네요 목소리\n"
     ]
    }
   ],
   "source": [
    "print(X_train[0])\n",
    "print(get_decoded_sentence(X_train[0], index_to_word))"
   ]
  },
  {
   "cell_type": "markdown",
   "id": "bd2a4e79",
   "metadata": {},
   "source": [
    "# 4. validation set 구성"
   ]
  },
  {
   "cell_type": "code",
   "execution_count": 13,
   "id": "f98f1623",
   "metadata": {},
   "outputs": [
    {
     "name": "stdout",
     "output_type": "stream",
     "text": [
      "(46000, 41)\n",
      "(46000,)\n",
      "(100182, 41)\n",
      "(100182,)\n"
     ]
    }
   ],
   "source": [
    "X_val = X_train[:46000]\n",
    "y_val = y_train[:46000]\n",
    "\n",
    "partial_X_train = X_train[46000:]\n",
    "partial_y_train = y_train[46000:]\n",
    "\n",
    "print(X_val.shape)\n",
    "print(y_val.shape)\n",
    "\n",
    "print(partial_X_train.shape)\n",
    "print(partial_y_train.shape)"
   ]
  },
  {
   "cell_type": "markdown",
   "id": "53cf6394",
   "metadata": {},
   "source": [
    "# 5. 모델 구성, 훈련, 시각화"
   ]
  },
  {
   "cell_type": "markdown",
   "id": "f5079d4d",
   "metadata": {},
   "source": [
    "## 5-1. RNN\n",
    "* 입력과 출력을 시퀀스 단위로 처리하는 시퀀스(Sequence) 모델 (가장 기본적인 인공 신경망 시퀀스 모델)\n",
    "* 은닉층의 노드에서 활성화 함수를 통해 나온 결과값을 출력층 방향으로도 보내면서 은닉층 노드의 다음 계산의 입력으로 보내는 특징이 있음\n",
    "* [RNN 추가 공부](https://wikidocs.net/22886)"
   ]
  },
  {
   "cell_type": "markdown",
   "id": "ddb0f910",
   "metadata": {},
   "source": [
    "### 5-1-1. 모델 구성"
   ]
  },
  {
   "cell_type": "code",
   "execution_count": 14,
   "id": "3373ecae",
   "metadata": {},
   "outputs": [
    {
     "name": "stdout",
     "output_type": "stream",
     "text": [
      "Model: \"sequential\"\n",
      "_________________________________________________________________\n",
      "Layer (type)                 Output Shape              Param #   \n",
      "=================================================================\n",
      "embedding (Embedding)        (None, None, 16)          160000    \n",
      "_________________________________________________________________\n",
      "lstm (LSTM)                  (None, 8)                 800       \n",
      "_________________________________________________________________\n",
      "dense (Dense)                (None, 8)                 72        \n",
      "_________________________________________________________________\n",
      "dense_1 (Dense)              (None, 1)                 9         \n",
      "=================================================================\n",
      "Total params: 160,881\n",
      "Trainable params: 160,881\n",
      "Non-trainable params: 0\n",
      "_________________________________________________________________\n"
     ]
    }
   ],
   "source": [
    "vocab_size = 10000   # 단어사진 크기\n",
    "word_vector_dim = 16  # 단어 하나를 표현하는 임베딩 벡터의 차원수 (변경 가능한 하이퍼파라마터)\n",
    "\n",
    "model_1 = tf.keras.Sequential()\n",
    "model_1.add(tf.keras.layers.Embedding(vocab_size, word_vector_dim, input_shape = (None,)))\n",
    "model_1.add(tf.keras.layers.LSTM(8))  # LSTM 레이어 사용 & LSTM 벡터의 차원 수 변경 가능\n",
    "model_1.add(tf.keras.layers.Dense(8, activation = 'relu'))\n",
    "model_1.add(tf.keras.layers.Dense(1, activation = 'sigmoid')) # 최종 출력은 긍정/부정을 나타내는 1dim\n",
    "\n",
    "model_1.summary()"
   ]
  },
  {
   "cell_type": "markdown",
   "id": "b2a4d1d0",
   "metadata": {},
   "source": [
    "### 5-1-2. 모델 훈련"
   ]
  },
  {
   "cell_type": "code",
   "execution_count": 15,
   "id": "9fa9f637",
   "metadata": {},
   "outputs": [
    {
     "name": "stdout",
     "output_type": "stream",
     "text": [
      "Epoch 1/10\n",
      "196/196 [==============================] - 5s 8ms/step - loss: 0.5404 - accuracy: 0.7647 - val_loss: 0.4058 - val_accuracy: 0.8225\n",
      "Epoch 2/10\n",
      "196/196 [==============================] - 1s 6ms/step - loss: 0.3559 - accuracy: 0.8517 - val_loss: 0.3565 - val_accuracy: 0.8457\n",
      "Epoch 3/10\n",
      "196/196 [==============================] - 1s 6ms/step - loss: 0.3253 - accuracy: 0.8657 - val_loss: 0.3533 - val_accuracy: 0.8476\n",
      "Epoch 4/10\n",
      "196/196 [==============================] - 1s 6ms/step - loss: 0.3125 - accuracy: 0.8722 - val_loss: 0.3552 - val_accuracy: 0.8473\n",
      "Epoch 5/10\n",
      "196/196 [==============================] - 1s 6ms/step - loss: 0.3051 - accuracy: 0.8751 - val_loss: 0.3582 - val_accuracy: 0.8464\n",
      "Epoch 6/10\n",
      "196/196 [==============================] - 1s 6ms/step - loss: 0.2991 - accuracy: 0.8783 - val_loss: 0.3603 - val_accuracy: 0.8462\n",
      "Epoch 7/10\n",
      "196/196 [==============================] - 1s 6ms/step - loss: 0.2922 - accuracy: 0.8821 - val_loss: 0.3615 - val_accuracy: 0.8462\n",
      "Epoch 8/10\n",
      "196/196 [==============================] - 1s 6ms/step - loss: 0.2863 - accuracy: 0.8834 - val_loss: 0.3670 - val_accuracy: 0.8450\n",
      "Epoch 9/10\n",
      "196/196 [==============================] - 1s 6ms/step - loss: 0.2782 - accuracy: 0.8874 - val_loss: 0.3662 - val_accuracy: 0.8455\n",
      "Epoch 10/10\n",
      "196/196 [==============================] - 1s 6ms/step - loss: 0.2692 - accuracy: 0.8907 - val_loss: 0.3657 - val_accuracy: 0.8457\n"
     ]
    }
   ],
   "source": [
    "model_1.compile(optimizer = 'adam',\n",
    "                loss = 'binary_crossentropy',\n",
    "                metrics = ['accuracy'])\n",
    "\n",
    "epochs = 10\n",
    "\n",
    "history_1 = model_1.fit(partial_X_train,\n",
    "                        partial_y_train,\n",
    "                        epochs = epochs,\n",
    "                        batch_size = 512,\n",
    "                        validation_data = (X_val, y_val),\n",
    "                        verbose = 1)"
   ]
  },
  {
   "cell_type": "code",
   "execution_count": 16,
   "id": "26bcf599",
   "metadata": {},
   "outputs": [
    {
     "name": "stdout",
     "output_type": "stream",
     "text": [
      "1537/1537 - 3s - loss: 0.3762 - accuracy: 0.8384\n",
      "[0.3761838674545288, 0.8383750319480896]\n"
     ]
    }
   ],
   "source": [
    "results_1 = model_1.evaluate(X_test, y_test, verbose = 2)\n",
    "print(results_1)"
   ]
  },
  {
   "cell_type": "code",
   "execution_count": 17,
   "id": "ea64aeb5",
   "metadata": {},
   "outputs": [
    {
     "name": "stdout",
     "output_type": "stream",
     "text": [
      "dict_keys(['loss', 'accuracy', 'val_loss', 'val_accuracy'])\n"
     ]
    }
   ],
   "source": [
    "history_1_dict = history_1.history\n",
    "\n",
    "print(history_1_dict.keys())"
   ]
  },
  {
   "cell_type": "markdown",
   "id": "29689e97",
   "metadata": {},
   "source": [
    "### 5-1-3. Loss, Accuracy 그래프 시각화"
   ]
  },
  {
   "cell_type": "code",
   "execution_count": 18,
   "id": "127a309d",
   "metadata": {},
   "outputs": [
    {
     "data": {
      "image/png": "[encoded data removed]",
      "text/plain": [
       "<Figure size 1440x360 with 2 Axes>"
      ]
     },
     "metadata": {
      "needs_background": "light"
     },
     "output_type": "display_data"
    }
   ],
   "source": [
    "import matplotlib.pyplot as plt\n",
    "\n",
    "acc = history_1_dict['accuracy']\n",
    "val_acc = history_1_dict['val_accuracy']\n",
    "\n",
    "loss = history_1_dict['loss']\n",
    "val_loss = history_1_dict['val_loss']\n",
    "\n",
    "epochs = range(1, len(acc) + 1)\n",
    "\n",
    "plt.figure(figsize=(20,5))\n",
    "\n",
    "plt.subplot(1, 2, 1)\n",
    "plt.plot(epochs, loss, 'b', label = 'Training loss')\n",
    "plt.plot(epochs, val_loss, 'r', label = 'Validation loss')\n",
    "plt.title('Training and validation loss')\n",
    "plt.xlabel('Epochs')\n",
    "plt.ylabel('Loss')\n",
    "plt.legend()\n",
    "\n",
    "plt.subplot(1, 2, 2)\n",
    "plt.plot(epochs, acc, 'b', label = 'Training acc')\n",
    "plt.plot(epochs, val_acc, 'r', label = 'Validation acc')\n",
    "plt.title('Training and validation accuracy')\n",
    "plt.xlabel('Epochs')\n",
    "plt.ylabel('Accuracy')\n",
    "plt.legend()\n",
    "\n",
    "plt.show()"
   ]
  },
  {
   "cell_type": "markdown",
   "id": "58293c01",
   "metadata": {},
   "source": [
    "## 5-2. 1-D Convolution Neural Network(1-D CNN)\n",
    "* 문장 전체를 한꺼번에 한 방향으로 길이 7짜리 필터로 스캐닝하면서 7단어 이내에서 발견되는 특징을 추출하여 문장을 분류하는 방식\n",
    "* [1-D CNN 추가공부](https://wikidocs.net/80437)"
   ]
  },
  {
   "cell_type": "markdown",
   "id": "e994b304",
   "metadata": {},
   "source": [
    "### 5-2-1. 모델 구성"
   ]
  },
  {
   "cell_type": "code",
   "execution_count": 19,
   "id": "31a8da89",
   "metadata": {
    "scrolled": false
   },
   "outputs": [
    {
     "name": "stdout",
     "output_type": "stream",
     "text": [
      "Model: \"sequential_1\"\n",
      "_________________________________________________________________\n",
      "Layer (type)                 Output Shape              Param #   \n",
      "=================================================================\n",
      "embedding_1 (Embedding)      (None, None, 16)          160000    \n",
      "_________________________________________________________________\n",
      "conv1d (Conv1D)              (None, None, 16)          1808      \n",
      "_________________________________________________________________\n",
      "max_pooling1d (MaxPooling1D) (None, None, 16)          0         \n",
      "_________________________________________________________________\n",
      "conv1d_1 (Conv1D)            (None, None, 16)          1808      \n",
      "_________________________________________________________________\n",
      "global_max_pooling1d (Global (None, 16)                0         \n",
      "_________________________________________________________________\n",
      "dense_2 (Dense)              (None, 8)                 136       \n",
      "_________________________________________________________________\n",
      "dense_3 (Dense)              (None, 1)                 9         \n",
      "=================================================================\n",
      "Total params: 163,761\n",
      "Trainable params: 163,761\n",
      "Non-trainable params: 0\n",
      "_________________________________________________________________\n"
     ]
    }
   ],
   "source": [
    "vocab_size = 10000 \n",
    "word_vector_dim = 16 \n",
    "\n",
    "model_2 = tf.keras.Sequential()\n",
    "model_2.add(tf.keras.layers.Embedding(vocab_size, word_vector_dim, input_shape=(None,)))\n",
    "model_2.add(tf.keras.layers.Conv1D(16, 7, activation='relu'))\n",
    "model_2.add(tf.keras.layers.MaxPooling1D(5))\n",
    "model_2.add(tf.keras.layers.Conv1D(16, 7, activation='relu'))\n",
    "model_2.add(tf.keras.layers.GlobalMaxPooling1D())\n",
    "model_2.add(tf.keras.layers.Dense(8, activation='relu'))\n",
    "model_2.add(tf.keras.layers.Dense(1, activation='sigmoid'))  # 최종 출력은 긍정/부정을 나타내는 1dim\n",
    "\n",
    "model_2.summary()"
   ]
  },
  {
   "cell_type": "markdown",
   "id": "32034e48",
   "metadata": {},
   "source": [
    "### 5-2-2. 모델 훈련"
   ]
  },
  {
   "cell_type": "code",
   "execution_count": 20,
   "id": "2ccd8b10",
   "metadata": {},
   "outputs": [
    {
     "name": "stdout",
     "output_type": "stream",
     "text": [
      "Epoch 1/10\n",
      "196/196 [==============================] - 3s 6ms/step - loss: 0.5130 - accuracy: 0.7437 - val_loss: 0.3604 - val_accuracy: 0.8433\n",
      "Epoch 2/10\n",
      "196/196 [==============================] - 1s 5ms/step - loss: 0.3322 - accuracy: 0.8574 - val_loss: 0.3447 - val_accuracy: 0.8510\n",
      "Epoch 3/10\n",
      "196/196 [==============================] - 1s 5ms/step - loss: 0.2957 - accuracy: 0.8765 - val_loss: 0.3459 - val_accuracy: 0.8505\n",
      "Epoch 4/10\n",
      "196/196 [==============================] - 1s 5ms/step - loss: 0.2671 - accuracy: 0.8910 - val_loss: 0.3547 - val_accuracy: 0.8480\n",
      "Epoch 5/10\n",
      "196/196 [==============================] - 1s 5ms/step - loss: 0.2361 - accuracy: 0.9065 - val_loss: 0.3617 - val_accuracy: 0.8487\n",
      "Epoch 6/10\n",
      "196/196 [==============================] - 1s 5ms/step - loss: 0.2028 - accuracy: 0.9234 - val_loss: 0.3870 - val_accuracy: 0.8463\n",
      "Epoch 7/10\n",
      "196/196 [==============================] - 1s 5ms/step - loss: 0.1697 - accuracy: 0.9386 - val_loss: 0.4171 - val_accuracy: 0.8415\n",
      "Epoch 8/10\n",
      "196/196 [==============================] - 1s 5ms/step - loss: 0.1385 - accuracy: 0.9529 - val_loss: 0.4570 - val_accuracy: 0.8371\n",
      "Epoch 9/10\n",
      "196/196 [==============================] - 1s 5ms/step - loss: 0.1132 - accuracy: 0.9630 - val_loss: 0.5020 - val_accuracy: 0.8355\n",
      "Epoch 10/10\n",
      "196/196 [==============================] - 1s 5ms/step - loss: 0.0928 - accuracy: 0.9714 - val_loss: 0.5496 - val_accuracy: 0.8353\n"
     ]
    }
   ],
   "source": [
    "model_2.compile(optimizer = 'adam',\n",
    "                loss = 'binary_crossentropy',\n",
    "                metrics = ['accuracy'])\n",
    "\n",
    "epochs = 10\n",
    "\n",
    "history_2 = model_2.fit(partial_X_train,\n",
    "                        partial_y_train,\n",
    "                        epochs = epochs,\n",
    "                        batch_size = 512,\n",
    "                        validation_data = (X_val, y_val),\n",
    "                        verbose = 1)"
   ]
  },
  {
   "cell_type": "code",
   "execution_count": 21,
   "id": "6db80376",
   "metadata": {},
   "outputs": [
    {
     "name": "stdout",
     "output_type": "stream",
     "text": [
      "1537/1537 - 2s - loss: 0.5665 - accuracy: 0.8296\n",
      "[0.566484272480011, 0.829627513885498]\n"
     ]
    }
   ],
   "source": [
    "results_2 = model_2.evaluate(X_test, y_test, verbose = 2)\n",
    "print(results_2)"
   ]
  },
  {
   "cell_type": "code",
   "execution_count": 22,
   "id": "0d9915a2",
   "metadata": {},
   "outputs": [
    {
     "name": "stdout",
     "output_type": "stream",
     "text": [
      "dict_keys(['loss', 'accuracy', 'val_loss', 'val_accuracy'])\n"
     ]
    }
   ],
   "source": [
    "history_2_dict = history_2.history\n",
    "\n",
    "print(history_2_dict.keys())"
   ]
  },
  {
   "cell_type": "markdown",
   "id": "baa5af2e",
   "metadata": {},
   "source": [
    "### 5-2-3. Loss, Accuracy 그래프 시각화"
   ]
  },
  {
   "cell_type": "code",
   "execution_count": 23,
   "id": "1fdc59bb",
   "metadata": {},
   "outputs": [
    {
     "data": {
      "image/png": "[encoded data removed]",
      "text/plain": [
       "<Figure size 1440x360 with 2 Axes>"
      ]
     },
     "metadata": {
      "needs_background": "light"
     },
     "output_type": "display_data"
    }
   ],
   "source": [
    "acc = history_2_dict['accuracy']\n",
    "val_acc = history_2_dict['val_accuracy']\n",
    "\n",
    "loss = history_2_dict['loss']\n",
    "val_loss = history_2_dict['val_loss']\n",
    "\n",
    "epochs = range(1, len(acc) + 1)\n",
    "\n",
    "plt.figure(figsize=(20,5))\n",
    "\n",
    "plt.subplot(1, 2, 1)\n",
    "plt.plot(epochs, loss, 'b', label = 'Training loss')\n",
    "plt.plot(epochs, val_loss, 'r', label = 'Validation loss')\n",
    "plt.title('Training and validation loss')\n",
    "plt.xlabel('Epochs')\n",
    "plt.ylabel('Loss')\n",
    "plt.legend()\n",
    "\n",
    "plt.subplot(1, 2, 2)\n",
    "plt.plot(epochs, acc, 'b', label = 'Training acc')\n",
    "plt.plot(epochs, val_acc, 'r', label = 'Validation acc')\n",
    "plt.title('Training and validation accuracy')\n",
    "plt.xlabel('Epochs')\n",
    "plt.ylabel('Accuracy')\n",
    "plt.legend()\n",
    "\n",
    "plt.show()"
   ]
  },
  {
   "cell_type": "markdown",
   "id": "29d0536c",
   "metadata": {},
   "source": [
    "## 5-3. GlobalMaxPooling1D\n",
    "* GlobalMaxPooling1D() 레이어 하나만 사용하는 방법\n",
    "* 여러 개의 벡터 정보 중 가장 큰 벡터를 골라서 반환\n",
    "* 전체 문장 중에서 단 하나의 가장 중요한 단어만 피처로 추출하여 긍정/부정을 평가\n",
    "* [GlobalMaxPooling1D 추가 공부](https://tykimos.github.io/2017/08/17/Text_Input_Binary_Classification_Model_Recipe/)"
   ]
  },
  {
   "cell_type": "markdown",
   "id": "4a3624ad",
   "metadata": {},
   "source": [
    "### 5-3-1. 모델 구성"
   ]
  },
  {
   "cell_type": "code",
   "execution_count": 24,
   "id": "743af424",
   "metadata": {},
   "outputs": [
    {
     "name": "stdout",
     "output_type": "stream",
     "text": [
      "Model: \"sequential_2\"\n",
      "_________________________________________________________________\n",
      "Layer (type)                 Output Shape              Param #   \n",
      "=================================================================\n",
      "embedding_2 (Embedding)      (None, None, 16)          160000    \n",
      "_________________________________________________________________\n",
      "global_max_pooling1d_1 (Glob (None, 16)                0         \n",
      "_________________________________________________________________\n",
      "dense_4 (Dense)              (None, 8)                 136       \n",
      "_________________________________________________________________\n",
      "dense_5 (Dense)              (None, 1)                 9         \n",
      "=================================================================\n",
      "Total params: 160,145\n",
      "Trainable params: 160,145\n",
      "Non-trainable params: 0\n",
      "_________________________________________________________________\n"
     ]
    }
   ],
   "source": [
    "vocab_size = 10000 \n",
    "word_vector_dim = 16 \n",
    "\n",
    "model_3 = tf.keras.Sequential()\n",
    "model_3.add(tf.keras.layers.Embedding(vocab_size, word_vector_dim, input_shape=(None,)))\n",
    "model_3.add(tf.keras.layers.GlobalMaxPooling1D())\n",
    "model_3.add(tf.keras.layers.Dense(8, activation='relu'))\n",
    "model_3.add(tf.keras.layers.Dense(1, activation='sigmoid'))  # 최종 출력은 긍정/부정을 나타내는 1dim\n",
    "\n",
    "model_3.summary()"
   ]
  },
  {
   "cell_type": "markdown",
   "id": "8bcd48c1",
   "metadata": {},
   "source": [
    "### 5-3-2. 모델 훈련"
   ]
  },
  {
   "cell_type": "code",
   "execution_count": 25,
   "id": "4dbcb032",
   "metadata": {},
   "outputs": [
    {
     "name": "stdout",
     "output_type": "stream",
     "text": [
      "Epoch 1/10\n",
      "196/196 [==============================] - 1s 4ms/step - loss: 0.6060 - accuracy: 0.7371 - val_loss: 0.4656 - val_accuracy: 0.8048\n",
      "Epoch 2/10\n",
      "196/196 [==============================] - 1s 4ms/step - loss: 0.3987 - accuracy: 0.8298 - val_loss: 0.3733 - val_accuracy: 0.8364\n",
      "Epoch 3/10\n",
      "196/196 [==============================] - 1s 4ms/step - loss: 0.3376 - accuracy: 0.8564 - val_loss: 0.3567 - val_accuracy: 0.8431\n",
      "Epoch 4/10\n",
      "196/196 [==============================] - 1s 4ms/step - loss: 0.3055 - accuracy: 0.8729 - val_loss: 0.3541 - val_accuracy: 0.8452\n",
      "Epoch 5/10\n",
      "196/196 [==============================] - 1s 4ms/step - loss: 0.2822 - accuracy: 0.8844 - val_loss: 0.3579 - val_accuracy: 0.8458\n",
      "Epoch 6/10\n",
      "196/196 [==============================] - 1s 4ms/step - loss: 0.2633 - accuracy: 0.8933 - val_loss: 0.3636 - val_accuracy: 0.8446\n",
      "Epoch 7/10\n",
      "196/196 [==============================] - 1s 4ms/step - loss: 0.2477 - accuracy: 0.9014 - val_loss: 0.3730 - val_accuracy: 0.8431\n",
      "Epoch 8/10\n",
      "196/196 [==============================] - 1s 4ms/step - loss: 0.2339 - accuracy: 0.9084 - val_loss: 0.3825 - val_accuracy: 0.8420\n",
      "Epoch 9/10\n",
      "196/196 [==============================] - 1s 4ms/step - loss: 0.2217 - accuracy: 0.9137 - val_loss: 0.3941 - val_accuracy: 0.8402\n",
      "Epoch 10/10\n",
      "196/196 [==============================] - 1s 4ms/step - loss: 0.2110 - accuracy: 0.9182 - val_loss: 0.4054 - val_accuracy: 0.8378\n"
     ]
    }
   ],
   "source": [
    "model_3.compile(optimizer = 'adam',\n",
    "                loss = 'binary_crossentropy',\n",
    "                metrics = ['accuracy'])\n",
    "\n",
    "epochs = 10\n",
    "\n",
    "history_3 = model_3.fit(partial_X_train,\n",
    "                        partial_y_train,\n",
    "                        epochs = epochs,\n",
    "                        batch_size = 512,\n",
    "                        validation_data = (X_val, y_val),\n",
    "                        verbose = 1)"
   ]
  },
  {
   "cell_type": "code",
   "execution_count": 26,
   "id": "fd9be4c2",
   "metadata": {},
   "outputs": [
    {
     "name": "stdout",
     "output_type": "stream",
     "text": [
      "1537/1537 - 2s - loss: 0.4141 - accuracy: 0.8338\n",
      "[0.4141325354576111, 0.8338181972503662]\n"
     ]
    }
   ],
   "source": [
    "results_3 = model_3.evaluate(X_test, y_test, verbose = 2)\n",
    "print(results_3)"
   ]
  },
  {
   "cell_type": "code",
   "execution_count": 27,
   "id": "62a8b64c",
   "metadata": {},
   "outputs": [
    {
     "name": "stdout",
     "output_type": "stream",
     "text": [
      "dict_keys(['loss', 'accuracy', 'val_loss', 'val_accuracy'])\n"
     ]
    }
   ],
   "source": [
    "history_3_dict = history_3.history\n",
    "\n",
    "print(history_3_dict.keys())"
   ]
  },
  {
   "cell_type": "markdown",
   "id": "3c9a4935",
   "metadata": {},
   "source": [
    "### 5-3-3. Loss, Accuracy 그래프 시각화"
   ]
  },
  {
   "cell_type": "code",
   "execution_count": 28,
   "id": "7b164676",
   "metadata": {},
   "outputs": [
    {
     "data": {
      "image/png": "[encoded data removed]",
      "text/plain": [
       "<Figure size 1440x360 with 2 Axes>"
      ]
     },
     "metadata": {
      "needs_background": "light"
     },
     "output_type": "display_data"
    }
   ],
   "source": [
    "acc = history_3_dict['accuracy']\n",
    "val_acc = history_3_dict['val_accuracy']\n",
    "\n",
    "loss = history_3_dict['loss']\n",
    "val_loss = history_3_dict['val_loss']\n",
    "\n",
    "epochs = range(1, len(acc) + 1)\n",
    "\n",
    "plt.figure(figsize=(20,5))\n",
    "\n",
    "plt.subplot(1, 2, 1)\n",
    "plt.plot(epochs, loss, 'b', label = 'Training loss')\n",
    "plt.plot(epochs, val_loss, 'r', label = 'Validation loss')\n",
    "plt.title('Training and validation loss')\n",
    "plt.xlabel('Epochs')\n",
    "plt.ylabel('Loss')\n",
    "plt.legend()\n",
    "\n",
    "plt.subplot(1, 2, 2)\n",
    "plt.plot(epochs, acc, 'b', label = 'Training acc')\n",
    "plt.plot(epochs, val_acc, 'r', label = 'Validation acc')\n",
    "plt.title('Training and validation accuracy')\n",
    "plt.xlabel('Epochs')\n",
    "plt.ylabel('Accuracy')\n",
    "plt.legend()\n",
    "\n",
    "plt.show()"
   ]
  },
  {
   "cell_type": "code",
   "execution_count": 29,
   "id": "013dd442",
   "metadata": {
    "scrolled": true
   },
   "outputs": [
    {
     "name": "stdout",
     "output_type": "stream",
     "text": [
      "1537/1537 - 3s - loss: 0.3762 - accuracy: 0.8384\n",
      "1537/1537 - 2s - loss: 0.5665 - accuracy: 0.8296\n",
      "1537/1537 - 2s - loss: 0.4141 - accuracy: 0.8338\n"
     ]
    }
   ],
   "source": [
    "#RNN\n",
    "results_1 = model_1.evaluate(X_test, y_test, verbose = 2)\n",
    "\n",
    "# 1-D CNN\n",
    "results_2 = model_2.evaluate(X_test, y_test, verbose = 2)\n",
    "\n",
    "# GlobalMaxPooling1D\n",
    "results_3 = model_3.evaluate(X_test, y_test, verbose = 2)"
   ]
  },
  {
   "cell_type": "markdown",
   "id": "39263da3",
   "metadata": {},
   "source": [
    "# 6. 학습된 Embedding 레이어 분석\n",
    "* Embedding 레이어에 있는 워드 벡터가 잘 학습이 되었는지 확인\n",
    "* 위에서 훈련한 3가지 모델 중에 [RNN 모델]로 Embedding 레이어 분석을 하였다."
   ]
  },
  {
   "cell_type": "code",
   "execution_count": 30,
   "id": "0cc61d84",
   "metadata": {},
   "outputs": [
    {
     "name": "stdout",
     "output_type": "stream",
     "text": [
      "(10000, 16)\n"
     ]
    }
   ],
   "source": [
    "embedding_layer = model_1.layers[0]\n",
    "weights = embedding_layer.get_weights()[0]\n",
    "\n",
    "print(weights.shape)       # shape : (vocab_size, embedding_dim)"
   ]
  },
  {
   "cell_type": "code",
   "execution_count": 31,
   "id": "7516affc",
   "metadata": {},
   "outputs": [],
   "source": [
    "# 학습한 Embedding 파라미터를 파일에 써서 저장\n",
    "import os\n",
    "\n",
    "word2vec_file_path = os.getenv('HOME')+'/aiffel/sentiment_classification/data/word2vec.txt'\n",
    "f = open(word2vec_file_path, 'w')\n",
    "f.write('{} {}\\n'.format(vocab_size-4, word_vector_dim)) # 몇 개의 벡터를 얼마 사이즈로 기재할지 타이틀 쓰기\n",
    "\n",
    "# 단어 개수만큼의 워드 벡터를 파일에 기록\n",
    "# 단, 단어 개수에서 특수문자 4개는 제외해야 함\n",
    "vectors = model_1.get_weights()[0]\n",
    "for i in range(4, vocab_size):\n",
    "    f.write('{} {}\\n'.format(index_to_word[i], ' '.join(map(str, list(vectors[i, :])))))\n",
    "f.close()"
   ]
  },
  {
   "cell_type": "code",
   "execution_count": 32,
   "id": "84d64a9d",
   "metadata": {},
   "outputs": [
    {
     "data": {
      "text/plain": [
       "array([-0.06193805,  0.06279176, -0.10637631, -0.08612296,  0.04408043,\n",
       "       -0.15859896, -0.0974843 , -0.09294657, -0.09100129, -0.03935529,\n",
       "        0.08216894, -0.03264623, -0.16042465, -0.06855647,  0.02589915,\n",
       "        0.01522159], dtype=float32)"
      ]
     },
     "execution_count": 32,
     "metadata": {},
     "output_type": "execute_result"
    }
   ],
   "source": [
    "# gensim 패키지를 이용해 Embedding 파라미터를 읽어서 word vector로 활용\n",
    "from gensim.models.keyedvectors import Word2VecKeyedVectors\n",
    "\n",
    "word_vectors = Word2VecKeyedVectors.load_word2vec_format(word2vec_file_path, binary = False)\n",
    "vector = word_vectors['추천']\n",
    "vector"
   ]
  },
  {
   "cell_type": "code",
   "execution_count": 33,
   "id": "439127b7",
   "metadata": {},
   "outputs": [
    {
     "data": {
      "text/plain": [
       "[('파이팅', 0.9696190357208252),\n",
       " ('http', 0.9599698781967163),\n",
       " ('쿠엔틴', 0.9599377512931824),\n",
       " ('놓치', 0.9572910070419312),\n",
       " ('해외', 0.9562563896179199),\n",
       " ('사로잡', 0.9560141563415527),\n",
       " ('불패', 0.9553249478340149),\n",
       " ('어느새', 0.9546651840209961),\n",
       " ('훌륭', 0.9546462893486023),\n",
       " ('이스트우드', 0.9534986019134521)]"
      ]
     },
     "execution_count": 33,
     "metadata": {},
     "output_type": "execute_result"
    }
   ],
   "source": [
    "# 워드 벡터가 의미 벡터 공간 상에 유의미하게 학습되었는지 확인하는 방법 1\n",
    "# 단어를 하나 주고 가장 유사한 단어와 유사도를 확인하는 방법\n",
    "\n",
    "word_vectors.similar_by_word(\"만족\")"
   ]
  },
  {
   "cell_type": "markdown",
   "id": "e0cae7b2",
   "metadata": {},
   "source": [
    "# 7. 한국어 Word2Vec 임베딩 활용하여 성능 개선"
   ]
  },
  {
   "cell_type": "markdown",
   "id": "8c6d79fc",
   "metadata": {},
   "source": [
    "## 7-1. 한국어 Word2Vec 임베딩 적용"
   ]
  },
  {
   "cell_type": "code",
   "execution_count": 34,
   "id": "f9fdfb0f",
   "metadata": {},
   "outputs": [],
   "source": [
    "import gensim\n",
    "from gensim.models import KeyedVectors"
   ]
  },
  {
   "cell_type": "code",
   "execution_count": 35,
   "id": "77cbc7c8",
   "metadata": {},
   "outputs": [
    {
     "data": {
      "text/plain": [
       "'3.8.3'"
      ]
     },
     "execution_count": 35,
     "metadata": {},
     "output_type": "execute_result"
    }
   ],
   "source": [
    "gensim.__version__"
   ]
  },
  {
   "cell_type": "code",
   "execution_count": 36,
   "id": "e584c912",
   "metadata": {
    "scrolled": false
   },
   "outputs": [],
   "source": [
    "word2vec_path = os.getenv('HOME')+'/aiffel/sentiment_classification/data/ko.bin'\n",
    "word2vec = gensim.models.Word2Vec.load(word2vec_path)"
   ]
  },
  {
   "cell_type": "code",
   "execution_count": 37,
   "id": "fe917e1b",
   "metadata": {},
   "outputs": [
    {
     "data": {
      "text/plain": [
       "array([-0.21245585, -0.76455975,  1.2335763 , -2.0687602 ,  0.11830104,\n",
       "       -0.54881305, -1.1947731 ,  0.3467694 , -1.0311009 , -0.3603907 ,\n",
       "        1.3440485 , -0.4072002 ,  1.1131706 , -0.9551345 , -0.7064215 ,\n",
       "       -0.1686603 , -0.58696073, -1.4859254 ,  0.05223045, -0.23236327,\n",
       "        0.6323806 , -1.1020958 , -1.2635112 ,  0.6220531 ,  0.17838949,\n",
       "       -0.70615005, -1.3628044 , -1.4818763 , -0.18965532,  0.11690602,\n",
       "       -0.09560227, -0.39899632,  1.0731212 , -0.63874424,  0.017969  ,\n",
       "        0.98583263,  1.3941766 ,  0.08089745, -0.81685823, -0.7022943 ,\n",
       "       -0.5008832 , -0.54513174,  0.34584457, -1.7315279 , -0.24291196,\n",
       "        0.6328651 ,  1.4537793 , -0.7011548 ,  0.80850524,  0.74069935,\n",
       "       -0.9272299 , -1.335555  , -1.1335523 ,  3.2529519 ,  0.6823866 ,\n",
       "       -1.4942434 ,  3.213415  ,  1.0216335 , -0.4152105 , -0.11520938,\n",
       "       -0.08406533, -0.49404764, -1.7769778 ,  0.19683318,  0.48151487,\n",
       "       -0.67674905, -1.5347718 ,  0.17763563, -0.6901806 , -0.71837485,\n",
       "        0.26211363,  1.3736591 , -0.81411374,  1.5484174 , -0.32827973,\n",
       "       -1.2308834 , -0.24815056, -0.05604961,  2.4168842 , -1.3484128 ,\n",
       "       -1.9251053 ,  0.85578465, -1.8256166 , -0.10344915, -0.10654867,\n",
       "        1.0619285 ,  0.5666331 , -0.44050282,  0.8053295 ,  0.10873766,\n",
       "        0.6044379 ,  0.764614  , -0.09914612,  0.88586   ,  0.26618013,\n",
       "        0.36814845,  0.426867  , -1.147402  ,  0.84544444, -0.1843114 ,\n",
       "       -0.7268895 , -0.3212696 ,  0.667064  , -0.58419776,  1.8145548 ,\n",
       "        1.9355031 , -1.3043815 ,  0.04326026,  0.45568457, -1.8683544 ,\n",
       "        0.8834185 , -0.51768565, -1.7198668 , -0.05112309,  2.3985045 ,\n",
       "       -2.3366795 , -0.2968566 , -0.81674945,  1.4297746 ,  0.02107116,\n",
       "        0.9217806 , -2.5649145 , -0.17076743, -1.2345508 ,  0.48951107,\n",
       "       -0.01503422,  1.742437  , -0.3975787 ,  0.15941875,  2.065955  ,\n",
       "        2.0112004 ,  0.430826  ,  1.4105109 ,  1.9929649 ,  0.2523577 ,\n",
       "        2.1973937 ,  1.4095    , -1.4678651 ,  0.05385794, -0.9562361 ,\n",
       "        0.8480321 , -0.11160672, -0.20669545,  0.45160684, -1.8831215 ,\n",
       "       -0.08634222,  1.2188671 , -0.26115584, -0.3497346 , -1.6032007 ,\n",
       "        1.5190088 ,  2.0292878 , -0.29313686, -0.84542555, -0.30137303,\n",
       "        1.0734961 , -0.21645601,  0.10950008, -0.528668  , -0.27094576,\n",
       "        1.2831593 ,  0.5645215 , -1.1138439 ,  0.49422115, -0.66331106,\n",
       "       -1.9084527 ,  1.0288999 ,  0.35668066,  0.5310273 ,  1.5287439 ,\n",
       "       -0.8891878 ,  0.9435555 , -0.28362617, -1.3905132 , -1.3402418 ,\n",
       "       -0.16271193, -1.6028023 , -1.3273442 , -0.49335095,  0.84329164,\n",
       "        1.390656  , -0.03553885, -0.9085696 , -0.6598932 ,  1.4210014 ,\n",
       "       -1.78825   ,  1.2472417 , -1.2535207 ,  0.58834684, -1.1036639 ,\n",
       "        0.44645292,  0.6652011 ,  0.92176735, -1.6156495 ,  0.92709404,\n",
       "        1.8791242 , -0.78659415,  0.33630264,  0.5729397 , -1.8942915 ],\n",
       "      dtype=float32)"
      ]
     },
     "execution_count": 37,
     "metadata": {},
     "output_type": "execute_result"
    }
   ],
   "source": [
    "vector = word2vec['추천']\n",
    "vector"
   ]
  },
  {
   "cell_type": "code",
   "execution_count": 38,
   "id": "bf5bf1e0",
   "metadata": {},
   "outputs": [
    {
     "data": {
      "text/plain": [
       "[('위촉', 0.6401861906051636),\n",
       " ('천거', 0.6389721632003784),\n",
       " ('추대', 0.5849215984344482),\n",
       " ('선출', 0.5803494453430176),\n",
       " ('초청', 0.5759262442588806),\n",
       " ('발탁', 0.5613522529602051),\n",
       " ('선정', 0.5511638522148132),\n",
       " ('임명', 0.5414161682128906),\n",
       " ('초빙', 0.5363222360610962),\n",
       " ('기용', 0.5326868295669556)]"
      ]
     },
     "execution_count": 38,
     "metadata": {},
     "output_type": "execute_result"
    }
   ],
   "source": [
    "word2vec.similar_by_word(\"추천\")"
   ]
  },
  {
   "cell_type": "code",
   "execution_count": 39,
   "id": "e4a620e5",
   "metadata": {},
   "outputs": [
    {
     "data": {
      "text/plain": [
       "[('충족', 0.7622718811035156),\n",
       " ('납득', 0.5126502513885498),\n",
       " ('기약', 0.4881259799003601),\n",
       " ('동치', 0.4837648272514343),\n",
       " ('부합', 0.47508636116981506),\n",
       " ('극대화', 0.4693123698234558),\n",
       " ('성취', 0.465419203042984),\n",
       " ('상쇄', 0.4648754596710205),\n",
       " ('상기', 0.45204538106918335),\n",
       " ('일반화', 0.45000725984573364)]"
      ]
     },
     "execution_count": 39,
     "metadata": {},
     "output_type": "execute_result"
    }
   ],
   "source": [
    "word2vec.similar_by_word(\"만족\")"
   ]
  },
  {
   "cell_type": "code",
   "execution_count": 40,
   "id": "7b6db923",
   "metadata": {},
   "outputs": [
    {
     "data": {
      "text/plain": [
       "[('그다지', 0.516608476638794),\n",
       " ('지역별', 0.49092748761177063),\n",
       " ('전혀', 0.48824024200439453),\n",
       " ('각기', 0.4875951111316681),\n",
       " ('개별', 0.47797343134880066),\n",
       " ('따로', 0.4700734317302704),\n",
       " ('마다', 0.46785035729408264),\n",
       " ('별', 0.45661038160324097),\n",
       " ('딱히', 0.4535921812057495),\n",
       " ('다소', 0.43761277198791504)]"
      ]
     },
     "execution_count": 40,
     "metadata": {},
     "output_type": "execute_result"
    }
   ],
   "source": [
    "word2vec.similar_by_word(\"별로\")"
   ]
  },
  {
   "cell_type": "markdown",
   "id": "b2f1b4cb",
   "metadata": {},
   "source": [
    "## 7-2. RNN\n",
    "* 위에서 진행한 모델 중 가장 accuracy가 높은 RNN 모델로 진행하였다.\n",
    "* LSTM 레이어 수를 8로 진행하였을 때는 accuracy가 84%로 나왔다.  \n",
    "    → LSTM 레이어 수를 64로 변경하였다.\n",
    "* epochs 수를 처음에는 20으로 하였는데 accuracy가 점점 떨어져 epochs 수를 5로 줄였다."
   ]
  },
  {
   "cell_type": "markdown",
   "id": "23566681",
   "metadata": {},
   "source": [
    "### 7-2-1. 모델 구성"
   ]
  },
  {
   "cell_type": "code",
   "execution_count": 41,
   "id": "03d176c8",
   "metadata": {},
   "outputs": [],
   "source": [
    "from tensorflow.keras.initializers import Constant"
   ]
  },
  {
   "cell_type": "code",
   "execution_count": 42,
   "id": "50e15021",
   "metadata": {},
   "outputs": [],
   "source": [
    "vocab_size = 10000 \n",
    "word_vector_dim = 200  \n",
    "\n",
    "embedding_matrix = np.random.rand(vocab_size, word_vector_dim)\n",
    "\n",
    "# embedding_matrix에 Word2Vec 워드 벡터를 단어 하나씩마다 차례차례 카피함\n",
    "for i in range(4,vocab_size):\n",
    "    if index_to_word[i] in word2vec:\n",
    "        embedding_matrix[i] = word2vec[index_to_word[i]]"
   ]
  },
  {
   "cell_type": "code",
   "execution_count": 43,
   "id": "c332745d",
   "metadata": {},
   "outputs": [
    {
     "name": "stdout",
     "output_type": "stream",
     "text": [
      "Model: \"sequential_3\"\n",
      "_________________________________________________________________\n",
      "Layer (type)                 Output Shape              Param #   \n",
      "=================================================================\n",
      "embedding_3 (Embedding)      (None, 41, 200)           2000000   \n",
      "_________________________________________________________________\n",
      "lstm_1 (LSTM)                (None, 64)                67840     \n",
      "_________________________________________________________________\n",
      "dense_6 (Dense)              (None, 8)                 520       \n",
      "_________________________________________________________________\n",
      "dense_7 (Dense)              (None, 1)                 9         \n",
      "=================================================================\n",
      "Total params: 2,068,369\n",
      "Trainable params: 2,068,369\n",
      "Non-trainable params: 0\n",
      "_________________________________________________________________\n"
     ]
    }
   ],
   "source": [
    "model_4 = tf.keras.Sequential()\n",
    "model_4.add(tf.keras.layers.Embedding(vocab_size,\n",
    "                                   word_vector_dim,\n",
    "                                   embeddings_initializer = Constant(embedding_matrix),\n",
    "                                   input_length = maxlen,\n",
    "                                   trainable = True))\n",
    "model_4.add(tf.keras.layers.LSTM(64))  # LSTM 레이어 사용 & LSTM 벡터의 차원 수 변경 가능\n",
    "model_4.add(tf.keras.layers.Dense(8, activation = 'relu'))\n",
    "model_4.add(tf.keras.layers.Dense(1, activation = 'sigmoid')) # 최종 출력은 긍정/부정을 나타내는 1dim\n",
    "\n",
    "model_4.summary()"
   ]
  },
  {
   "cell_type": "markdown",
   "id": "14171568",
   "metadata": {},
   "source": [
    "### 7-2-2. 모델 훈련"
   ]
  },
  {
   "cell_type": "code",
   "execution_count": 44,
   "id": "c8d03ea0",
   "metadata": {
    "scrolled": false
   },
   "outputs": [
    {
     "name": "stdout",
     "output_type": "stream",
     "text": [
      "Epoch 1/5\n",
      "196/196 [==============================] - 3s 11ms/step - loss: 0.4761 - accuracy: 0.7672 - val_loss: 0.3830 - val_accuracy: 0.8284\n",
      "Epoch 2/5\n",
      "196/196 [==============================] - 2s 9ms/step - loss: 0.3462 - accuracy: 0.8500 - val_loss: 0.3397 - val_accuracy: 0.8531\n",
      "Epoch 3/5\n",
      "196/196 [==============================] - 2s 9ms/step - loss: 0.3012 - accuracy: 0.8734 - val_loss: 0.3309 - val_accuracy: 0.8584\n",
      "Epoch 4/5\n",
      "196/196 [==============================] - 2s 9ms/step - loss: 0.2731 - accuracy: 0.8867 - val_loss: 0.3300 - val_accuracy: 0.8589\n",
      "Epoch 5/5\n",
      "196/196 [==============================] - 2s 9ms/step - loss: 0.2495 - accuracy: 0.8979 - val_loss: 0.3358 - val_accuracy: 0.8551\n"
     ]
    }
   ],
   "source": [
    "model_4.compile(optimizer = 'adam',\n",
    "             loss = 'binary_crossentropy',\n",
    "             metrics = ['accuracy'])\n",
    "\n",
    "epochs = 5\n",
    "\n",
    "history_4 = model_4.fit(partial_X_train,\n",
    "                        partial_y_train,\n",
    "                        epochs = epochs,\n",
    "                        batch_size = 512,\n",
    "                        validation_data = (X_val, y_val),\n",
    "                        verbose = 1)"
   ]
  },
  {
   "cell_type": "code",
   "execution_count": 45,
   "id": "7ba5c112",
   "metadata": {},
   "outputs": [
    {
     "name": "stdout",
     "output_type": "stream",
     "text": [
      "1537/1537 - 3s - loss: 0.3429 - accuracy: 0.8514\n"
     ]
    }
   ],
   "source": [
    "results_4 = model_4.evaluate(X_test,  y_test, verbose=2)"
   ]
  },
  {
   "cell_type": "code",
   "execution_count": 46,
   "id": "d2e7737c",
   "metadata": {},
   "outputs": [
    {
     "name": "stdout",
     "output_type": "stream",
     "text": [
      "dict_keys(['loss', 'accuracy', 'val_loss', 'val_accuracy'])\n"
     ]
    }
   ],
   "source": [
    "history_4_dict = history_4.history\n",
    "\n",
    "print(history_4_dict.keys())"
   ]
  },
  {
   "cell_type": "markdown",
   "id": "ee73c168",
   "metadata": {},
   "source": [
    "### 7-2-3. Loss, Accuracy 그래프 시각화"
   ]
  },
  {
   "cell_type": "code",
   "execution_count": 47,
   "id": "49942517",
   "metadata": {},
   "outputs": [
    {
     "data": {
      "image/png": "[encoded data removed]",
      "text/plain": [
       "<Figure size 1440x360 with 2 Axes>"
      ]
     },
     "metadata": {
      "needs_background": "light"
     },
     "output_type": "display_data"
    }
   ],
   "source": [
    "acc = history_4_dict['accuracy']\n",
    "val_acc = history_4_dict['val_accuracy']\n",
    "\n",
    "loss = history_4_dict['loss']\n",
    "val_loss = history_4_dict['val_loss']\n",
    "\n",
    "epochs = range(1, len(acc) + 1)\n",
    "\n",
    "plt.figure(figsize=(20,5))\n",
    "\n",
    "plt.subplot(1, 2, 1)\n",
    "plt.plot(epochs, loss, 'b', label = 'Training loss')\n",
    "plt.plot(epochs, val_loss, 'r', label = 'Validation loss')\n",
    "plt.title('Training and validation loss')\n",
    "plt.xlabel('Epochs')\n",
    "plt.ylabel('Loss')\n",
    "plt.legend()\n",
    "\n",
    "plt.subplot(1, 2, 2)\n",
    "plt.plot(epochs, acc, 'b', label = 'Training acc')\n",
    "plt.plot(epochs, val_acc, 'r', label = 'Validation acc')\n",
    "plt.title('Training and validation accuracy')\n",
    "plt.xlabel('Epochs')\n",
    "plt.ylabel('Accuracy')\n",
    "plt.legend()\n",
    "\n",
    "plt.show()"
   ]
  },
  {
   "cell_type": "markdown",
   "id": "28a661d2",
   "metadata": {},
   "source": [
    "# 회고"
   ]
  },
  {
   "cell_type": "markdown",
   "id": "d0c6ff09",
   "metadata": {},
   "source": [
    "## 1) 모델"
   ]
  },
  {
   "cell_type": "markdown",
   "id": "da0ebd10",
   "metadata": {},
   "source": [
    "* RNN, 1-D CNN, GlobalMaxPooling1D 총 3가지의 모델을 구성하고 훈련하였다. \n",
    "* accuracy가 비슷하긴 했지만 그중에서 가장 높은 모델은 RNN이었다. 그래서 RNN모델로 embedding 레이어를 분석해보았다.\n",
    "* LMS에 나와있는 3가지 모델을 활용하였는데, 정확하게 해당 모델들의 특징들을 파악하고 사용한 것이 아니라 그냥 따라했어서 모델들에 대해 더 공부를 해야 할 필요성을 느꼈다."
   ]
  },
  {
   "cell_type": "markdown",
   "id": "18f46560",
   "metadata": {},
   "source": [
    "## 2) Embedding 레이어 분석\n",
    "* 학습한 Embedding 레이어로 주어진 단어와 유사한 단어를 출력해내는데 유사하지 않은 단어들도 많이 출력되었다.\n",
    "* 한국어 Word2Vec 임베딩을 사용하였을 때는 확실히 유사한 단어를 많이 출력해냈으며 다양한 단어들도 많이 출력된 것을 볼 수 있다."
   ]
  },
  {
   "cell_type": "markdown",
   "id": "6286c335",
   "metadata": {},
   "source": [
    "## 3) accuracy\n",
    "* 학습한 3가지의 모델의 accuracy는 다 비슷하지만 85%가 넘지 않았다.\n",
    "* 한국어 Word2Vec 임베딩을 진행한 후 RNN 모델을 학습한 결과, 85%를 넘게 되었다.\n",
    "* 처음에는 85%가 넘지 않아 LSTM 레이어수를 8 → 64로 늘렸고, 에포크 수를 많이 하니 정확도가 다시 떨어지기 시작하여 에포크 수를 5로 줄였다."
   ]
  },
  {
   "cell_type": "markdown",
   "id": "045e34df",
   "metadata": {},
   "source": [
    "## 4) 후기\n",
    "* 각 모델의 accuracy와 loss들을 시각화하니 명확하게 알 수 있어서 시각화의 중요성을 알게 되었다. 시각화 한 코드들을 볼 때마다 어렵다고만 생각했는데 이렇게 기본적인 것부터 하나씩 해가면 다른 것들도 시각화를 할 수 있지 않을까 생각했다.\n",
    "* 문장 최대 길이, 패딩 등 데이터를 가공하는 방법이 다양하게 있어서 이런 것들을 추가로 알고 싶었다.\n",
    "* 원래 NLP에는 큰 관심이 없었는데 이번 프로젝트를 진행하면서 NLP에 대해 관심이 생겨 좀 더 공부하고 싶어졌다.\n",
    "* 분류가 얼마나 잘 되었는지 accuracy로 확인을 하였는데, 실제로 각 리뷰 별로 어떻게 분류되었는지 확인해보고 싶었다. (⭐추가 공부 필요,,)\n",
    "* LMS이외에 DACON에서 진행한 대회의 각 코드들을 리뷰하며 다양한 방법을 시도해보고 싶다.\n",
    "* [DACON 영화 리뷰 감성분석 경진대회](https://dacon.io/competitions/official/235864/overview/description)\n",
    "* [코드리뷰하고 싶은 코드1](https://dacon.io/competitions/official/235864/codeshare/4126?page=1&dtype=recent)\n",
    "* [코드리뷰하고 싶은 코드2](https://dacon.io/competitions/official/235864/codeshare/4160?page=1&dtype=vote)"
   ]
  },
  {
   "cell_type": "markdown",
   "id": "917c1f76",
   "metadata": {},
   "source": [
    "## 5) Reference\n",
    "* 명예의 전당에 오른 이전 기수분들의 코드 참고하였음\n",
    "* https://github.com/hyyoo3526/AIFFEL_EXPLORATION/blob/main/EXPLORATION_07/EXPLORATION_IC1_07_sentiment_classification.ipynb\n",
    "* https://github.com/ai-rtistic/AIFFEL-Project/blob/master/Exploration/EP07_Naver_Movie_Sentiment_Classification.ipynb"
   ]
  },
  {
   "cell_type": "code",
   "execution_count": null,
   "id": "406b2215",
   "metadata": {},
   "outputs": [],
   "source": []
  }
 ],
 "metadata": {
  "kernelspec": {
   "display_name": "Python 3 (ipykernel)",
   "language": "python",
   "name": "python3"
  },
  "language_info": {
   "codemirror_mode": {
    "name": "ipython",
    "version": 3
   },
   "file_extension": ".py",
   "mimetype": "text/x-python",
   "name": "python",
   "nbconvert_exporter": "python",
   "pygments_lexer": "ipython3",
   "version": "3.9.7"
  }
 },
 "nbformat": 4,
 "nbformat_minor": 5
}
