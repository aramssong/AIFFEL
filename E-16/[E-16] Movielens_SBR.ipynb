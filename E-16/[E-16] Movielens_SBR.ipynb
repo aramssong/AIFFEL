{
 "cells": [
  {
   "cell_type": "markdown",
   "id": "abf9abd5",
   "metadata": {},
   "source": [
    "# Exp 16. 다음에 볼 영화 예측하기"
   ]
  },
  {
   "cell_type": "markdown",
   "id": "bcc33ab1",
   "metadata": {},
   "source": [
    "* `Movielens 1M Dataset`을 기반으로 Session based Recommendation 시스템을 제작해보자."
   ]
  },
  {
   "cell_type": "markdown",
   "id": "efd8a8b7",
   "metadata": {},
   "source": [
    "---"
   ]
  },
  {
   "cell_type": "markdown",
   "id": "3a0aeb40",
   "metadata": {},
   "source": [
    "# 🗼 목차\n",
    "Step 0. 라이브러리 불러오기  \n",
    "Step 1. 데이터 불러오기  \n",
    "Step 2. 데이터 전처리  \n",
    "Step 3. 미니 배치의 구성  \n",
    "Step 4. 모델 구성  \n",
    "Step 5. 모델 학습  \n",
    "Step 6. 모델 테스트  \n",
    "Step 7. 모델 개선 (하이퍼파라미터 변경)  \n",
    "🌞 회고"
   ]
  },
  {
   "cell_type": "markdown",
   "id": "6836c849",
   "metadata": {},
   "source": [
    "---"
   ]
  },
  {
   "cell_type": "markdown",
   "id": "efdb5d52",
   "metadata": {},
   "source": [
    "# Step 0. 라이브러리 불러오기"
   ]
  },
  {
   "cell_type": "code",
   "execution_count": 1,
   "id": "a00e5ab1",
   "metadata": {},
   "outputs": [],
   "source": [
    "import datetime as dt\n",
    "from pathlib import Path\n",
    "import os\n",
    "\n",
    "import numpy as np\n",
    "import pandas as pd\n",
    "import tensorflow\n",
    "\n",
    "import matplotlib.pyplot as plt\n",
    "\n",
    "import warnings\n",
    "warnings.filterwarnings('ignore')\n",
    "\n",
    "# print(pandas.__version__)\n",
    "# print(tensorflow.__version__)"
   ]
  },
  {
   "cell_type": "markdown",
   "id": "904fcd37",
   "metadata": {},
   "source": [
    "---"
   ]
  },
  {
   "cell_type": "markdown",
   "id": "bb2a10d2",
   "metadata": {},
   "source": [
    "# Step 1. 데이터 불러오기"
   ]
  },
  {
   "cell_type": "code",
   "execution_count": 2,
   "id": "e7153552",
   "metadata": {},
   "outputs": [
    {
     "data": {
      "text/plain": [
       "PosixPath('/aiffel/aiffel/yoochoose/data/ratings.dat')"
      ]
     },
     "execution_count": 2,
     "metadata": {},
     "output_type": "execute_result"
    }
   ],
   "source": [
    "data_path = Path(os.getenv('HOME')+'/aiffel/yoochoose/data/') \n",
    "train_path = data_path / 'ratings.dat'\n",
    "train_path"
   ]
  },
  {
   "cell_type": "code",
   "execution_count": 3,
   "id": "df4de093",
   "metadata": {},
   "outputs": [],
   "source": [
    "def load_data(data_path: Path, nrows=None):\n",
    "    data = pd.read_csv(data_path, sep='::', header=None, usecols=[0, 1, 2, 3], dtype={0: np.int32, 1: np.int32, 2: np.int32}, nrows=nrows)\n",
    "    data.columns = ['UserId', 'ItemId', 'Rating', 'Time']\n",
    "    return data"
   ]
  },
  {
   "cell_type": "code",
   "execution_count": 4,
   "id": "82d29fd8",
   "metadata": {
    "scrolled": false
   },
   "outputs": [
    {
     "data": {
      "text/html": [
       "<div>\n",
       "<style scoped>\n",
       "    .dataframe tbody tr th:only-of-type {\n",
       "        vertical-align: middle;\n",
       "    }\n",
       "\n",
       "    .dataframe tbody tr th {\n",
       "        vertical-align: top;\n",
       "    }\n",
       "\n",
       "    .dataframe thead th {\n",
       "        text-align: right;\n",
       "    }\n",
       "</style>\n",
       "<table border=\"1\" class=\"dataframe\">\n",
       "  <thead>\n",
       "    <tr style=\"text-align: right;\">\n",
       "      <th></th>\n",
       "      <th>UserId</th>\n",
       "      <th>ItemId</th>\n",
       "      <th>Rating</th>\n",
       "      <th>Time</th>\n",
       "    </tr>\n",
       "  </thead>\n",
       "  <tbody>\n",
       "    <tr>\n",
       "      <th>31</th>\n",
       "      <td>1</td>\n",
       "      <td>3186</td>\n",
       "      <td>4</td>\n",
       "      <td>978300019</td>\n",
       "    </tr>\n",
       "    <tr>\n",
       "      <th>22</th>\n",
       "      <td>1</td>\n",
       "      <td>1270</td>\n",
       "      <td>5</td>\n",
       "      <td>978300055</td>\n",
       "    </tr>\n",
       "    <tr>\n",
       "      <th>27</th>\n",
       "      <td>1</td>\n",
       "      <td>1721</td>\n",
       "      <td>4</td>\n",
       "      <td>978300055</td>\n",
       "    </tr>\n",
       "    <tr>\n",
       "      <th>37</th>\n",
       "      <td>1</td>\n",
       "      <td>1022</td>\n",
       "      <td>5</td>\n",
       "      <td>978300055</td>\n",
       "    </tr>\n",
       "    <tr>\n",
       "      <th>24</th>\n",
       "      <td>1</td>\n",
       "      <td>2340</td>\n",
       "      <td>3</td>\n",
       "      <td>978300103</td>\n",
       "    </tr>\n",
       "    <tr>\n",
       "      <th>...</th>\n",
       "      <td>...</td>\n",
       "      <td>...</td>\n",
       "      <td>...</td>\n",
       "      <td>...</td>\n",
       "    </tr>\n",
       "    <tr>\n",
       "      <th>1000019</th>\n",
       "      <td>6040</td>\n",
       "      <td>2917</td>\n",
       "      <td>4</td>\n",
       "      <td>997454429</td>\n",
       "    </tr>\n",
       "    <tr>\n",
       "      <th>999988</th>\n",
       "      <td>6040</td>\n",
       "      <td>1921</td>\n",
       "      <td>4</td>\n",
       "      <td>997454464</td>\n",
       "    </tr>\n",
       "    <tr>\n",
       "      <th>1000172</th>\n",
       "      <td>6040</td>\n",
       "      <td>1784</td>\n",
       "      <td>3</td>\n",
       "      <td>997454464</td>\n",
       "    </tr>\n",
       "    <tr>\n",
       "      <th>1000167</th>\n",
       "      <td>6040</td>\n",
       "      <td>161</td>\n",
       "      <td>3</td>\n",
       "      <td>997454486</td>\n",
       "    </tr>\n",
       "    <tr>\n",
       "      <th>1000042</th>\n",
       "      <td>6040</td>\n",
       "      <td>1221</td>\n",
       "      <td>4</td>\n",
       "      <td>998315055</td>\n",
       "    </tr>\n",
       "  </tbody>\n",
       "</table>\n",
       "<p>1000209 rows × 4 columns</p>\n",
       "</div>"
      ],
      "text/plain": [
       "         UserId  ItemId  Rating       Time\n",
       "31            1    3186       4  978300019\n",
       "22            1    1270       5  978300055\n",
       "27            1    1721       4  978300055\n",
       "37            1    1022       5  978300055\n",
       "24            1    2340       3  978300103\n",
       "...         ...     ...     ...        ...\n",
       "1000019    6040    2917       4  997454429\n",
       "999988     6040    1921       4  997454464\n",
       "1000172    6040    1784       3  997454464\n",
       "1000167    6040     161       3  997454486\n",
       "1000042    6040    1221       4  998315055\n",
       "\n",
       "[1000209 rows x 4 columns]"
      ]
     },
     "execution_count": 4,
     "metadata": {},
     "output_type": "execute_result"
    }
   ],
   "source": [
    "data = load_data(train_path, None)\n",
    "data.sort_values(['UserId', 'Time'], inplace=True)  # data를 id와 시간 순서로 정렬해줍니다.\n",
    "original_data_size = len(data)\n",
    "\n",
    "data"
   ]
  },
  {
   "cell_type": "markdown",
   "id": "2a8da05b",
   "metadata": {},
   "source": [
    "* 추천 시스템을 구축할 때 가장 먼저 확인해볼 것은 유저수, 아이템 수이다.\n",
    "* 해당 데이터의 유저 수는 6040개, 아이템 수는 3706개이다."
   ]
  },
  {
   "cell_type": "code",
   "execution_count": 5,
   "id": "3155ac0b",
   "metadata": {},
   "outputs": [
    {
     "data": {
      "text/plain": [
       "(6040, 3706)"
      ]
     },
     "execution_count": 5,
     "metadata": {},
     "output_type": "execute_result"
    }
   ],
   "source": [
    "data['UserId'].nunique(), data['ItemId'].nunique()"
   ]
  },
  {
   "cell_type": "markdown",
   "id": "45b834f1",
   "metadata": {},
   "source": [
    "---"
   ]
  },
  {
   "cell_type": "markdown",
   "id": "699b3603",
   "metadata": {},
   "source": [
    "# Step 2. 데이터 전처리"
   ]
  },
  {
   "cell_type": "markdown",
   "id": "4366f791",
   "metadata": {},
   "source": [
    "## 2.1 Session Length\n",
    "* `session length`는 같은 `userid`를 공유하는 데이터 row의 개수를 의미한다.\n",
    "* 유저가 몇 개의 영화에 대한 평가를 하였는지를 나타낸다."
   ]
  },
  {
   "cell_type": "code",
   "execution_count": 6,
   "id": "c719f74e",
   "metadata": {
    "scrolled": true
   },
   "outputs": [
    {
     "data": {
      "text/plain": [
       "UserId\n",
       "1        53\n",
       "2       129\n",
       "3        51\n",
       "4        21\n",
       "5       198\n",
       "       ... \n",
       "6036    888\n",
       "6037    202\n",
       "6038     20\n",
       "6039    123\n",
       "6040    341\n",
       "Length: 6040, dtype: int64"
      ]
     },
     "execution_count": 6,
     "metadata": {},
     "output_type": "execute_result"
    }
   ],
   "source": [
    "session_length = data.groupby('UserId').size()\n",
    "session_length"
   ]
  },
  {
   "cell_type": "markdown",
   "id": "678bad95",
   "metadata": {},
   "source": [
    "* `user_length`의 중앙값과 평균을 확인해보자."
   ]
  },
  {
   "cell_type": "code",
   "execution_count": 7,
   "id": "b78d3783",
   "metadata": {},
   "outputs": [
    {
     "data": {
      "text/plain": [
       "(96.0, 165.5975165562914)"
      ]
     },
     "execution_count": 7,
     "metadata": {},
     "output_type": "execute_result"
    }
   ],
   "source": [
    "session_length.median(), session_length.mean()"
   ]
  },
  {
   "cell_type": "markdown",
   "id": "5a65e94b",
   "metadata": {},
   "source": [
    "* `session_length`의 최솟값과 최댓값을 확인해보자."
   ]
  },
  {
   "cell_type": "code",
   "execution_count": 8,
   "id": "981253b1",
   "metadata": {},
   "outputs": [
    {
     "data": {
      "text/plain": [
       "(20, 2314)"
      ]
     },
     "execution_count": 8,
     "metadata": {},
     "output_type": "execute_result"
    }
   ],
   "source": [
    "session_length.min(), session_length.max()"
   ]
  },
  {
   "cell_type": "markdown",
   "id": "944c49ca",
   "metadata": {},
   "source": [
    "* `session_length`의 99%의 분위수를 확인해보자."
   ]
  },
  {
   "cell_type": "code",
   "execution_count": 9,
   "id": "4c6a6ff2",
   "metadata": {},
   "outputs": [
    {
     "data": {
      "text/plain": [
       "906.659999999998"
      ]
     },
     "execution_count": 9,
     "metadata": {},
     "output_type": "execute_result"
    }
   ],
   "source": [
    "session_length.quantile(0.99)"
   ]
  },
  {
   "cell_type": "markdown",
   "id": "22db6545",
   "metadata": {},
   "source": [
    "* 길이가 2314는 한 사람이 보기에 너무나 많은 양의 영화 갯수로 데이터를 확인해볼 필요가 있다.\n",
    "* `Rating`이 같은 것도 아니고 `ItenId`도 같은 것들이 아니기에 `Time`을 확인해보아야 하는데 아래에서 확인을 해보고 제거할 지 판단을 해야 한다."
   ]
  },
  {
   "cell_type": "code",
   "execution_count": 10,
   "id": "f027c637",
   "metadata": {
    "scrolled": false
   },
   "outputs": [
    {
     "data": {
      "text/html": [
       "<div>\n",
       "<style scoped>\n",
       "    .dataframe tbody tr th:only-of-type {\n",
       "        vertical-align: middle;\n",
       "    }\n",
       "\n",
       "    .dataframe tbody tr th {\n",
       "        vertical-align: top;\n",
       "    }\n",
       "\n",
       "    .dataframe thead th {\n",
       "        text-align: right;\n",
       "    }\n",
       "</style>\n",
       "<table border=\"1\" class=\"dataframe\">\n",
       "  <thead>\n",
       "    <tr style=\"text-align: right;\">\n",
       "      <th></th>\n",
       "      <th>UserId</th>\n",
       "      <th>ItemId</th>\n",
       "      <th>Rating</th>\n",
       "      <th>Time</th>\n",
       "    </tr>\n",
       "  </thead>\n",
       "  <tbody>\n",
       "    <tr>\n",
       "      <th>696969</th>\n",
       "      <td>4169</td>\n",
       "      <td>1268</td>\n",
       "      <td>5</td>\n",
       "      <td>965333392</td>\n",
       "    </tr>\n",
       "    <tr>\n",
       "      <th>697168</th>\n",
       "      <td>4169</td>\n",
       "      <td>2617</td>\n",
       "      <td>4</td>\n",
       "      <td>965333392</td>\n",
       "    </tr>\n",
       "    <tr>\n",
       "      <th>697185</th>\n",
       "      <td>4169</td>\n",
       "      <td>2628</td>\n",
       "      <td>4</td>\n",
       "      <td>965333392</td>\n",
       "    </tr>\n",
       "    <tr>\n",
       "      <th>697219</th>\n",
       "      <td>4169</td>\n",
       "      <td>2653</td>\n",
       "      <td>4</td>\n",
       "      <td>965333392</td>\n",
       "    </tr>\n",
       "    <tr>\n",
       "      <th>697275</th>\n",
       "      <td>4169</td>\n",
       "      <td>423</td>\n",
       "      <td>3</td>\n",
       "      <td>965333392</td>\n",
       "    </tr>\n",
       "    <tr>\n",
       "      <th>...</th>\n",
       "      <td>...</td>\n",
       "      <td>...</td>\n",
       "      <td>...</td>\n",
       "      <td>...</td>\n",
       "    </tr>\n",
       "    <tr>\n",
       "      <th>697882</th>\n",
       "      <td>4169</td>\n",
       "      <td>3754</td>\n",
       "      <td>2</td>\n",
       "      <td>1024174347</td>\n",
       "    </tr>\n",
       "    <tr>\n",
       "      <th>695702</th>\n",
       "      <td>4169</td>\n",
       "      <td>1413</td>\n",
       "      <td>3</td>\n",
       "      <td>1024175031</td>\n",
       "    </tr>\n",
       "    <tr>\n",
       "      <th>697358</th>\n",
       "      <td>4169</td>\n",
       "      <td>494</td>\n",
       "      <td>4</td>\n",
       "      <td>1024175760</td>\n",
       "    </tr>\n",
       "    <tr>\n",
       "      <th>695945</th>\n",
       "      <td>4169</td>\n",
       "      <td>1804</td>\n",
       "      <td>2</td>\n",
       "      <td>1024175783</td>\n",
       "    </tr>\n",
       "    <tr>\n",
       "      <th>696446</th>\n",
       "      <td>4169</td>\n",
       "      <td>1548</td>\n",
       "      <td>3</td>\n",
       "      <td>1024176337</td>\n",
       "    </tr>\n",
       "  </tbody>\n",
       "</table>\n",
       "<p>2314 rows × 4 columns</p>\n",
       "</div>"
      ],
      "text/plain": [
       "        UserId  ItemId  Rating        Time\n",
       "696969    4169    1268       5   965333392\n",
       "697168    4169    2617       4   965333392\n",
       "697185    4169    2628       4   965333392\n",
       "697219    4169    2653       4   965333392\n",
       "697275    4169     423       3   965333392\n",
       "...        ...     ...     ...         ...\n",
       "697882    4169    3754       2  1024174347\n",
       "695702    4169    1413       3  1024175031\n",
       "697358    4169     494       4  1024175760\n",
       "695945    4169    1804       2  1024175783\n",
       "696446    4169    1548       3  1024176337\n",
       "\n",
       "[2314 rows x 4 columns]"
      ]
     },
     "execution_count": 10,
     "metadata": {},
     "output_type": "execute_result"
    }
   ],
   "source": [
    "long_session = session_length[session_length == 2314].index[0]\n",
    "data[data['UserId'] == long_session]"
   ]
  },
  {
   "cell_type": "markdown",
   "id": "e1e0f90c",
   "metadata": {},
   "source": [
    "* `session_length`를 시각적으로 나타내기 위해 `session_length` 기준 하위 99%까지의 분포 누적합을 확인해보자."
   ]
  },
  {
   "cell_type": "code",
   "execution_count": 11,
   "id": "50af6d3a",
   "metadata": {},
   "outputs": [
    {
     "data": {
      "text/plain": [
       "20     0.014238\n",
       "21     0.029305\n",
       "22     0.042053\n",
       "23     0.055464\n",
       "24     0.068874\n",
       "         ...   \n",
       "888    0.989073\n",
       "893    0.989404\n",
       "894    0.989570\n",
       "900    0.989735\n",
       "903    0.989901\n",
       "Length: 684, dtype: float64"
      ]
     },
     "execution_count": 11,
     "metadata": {},
     "output_type": "execute_result"
    }
   ],
   "source": [
    "length_count = session_length.groupby(session_length).size()\n",
    "length_percent_cumsum = length_count.cumsum() / length_count.sum()   # cumsum() : 누적합\n",
    "length_percent_cumsum_99 = length_percent_cumsum[length_percent_cumsum < 0.99]\n",
    "\n",
    "length_percent_cumsum_99"
   ]
  },
  {
   "cell_type": "markdown",
   "id": "f7394428",
   "metadata": {},
   "source": [
    "* `session_length`를 시각화해보자."
   ]
  },
  {
   "cell_type": "code",
   "execution_count": 12,
   "id": "cb6e7c2e",
   "metadata": {
    "scrolled": false
   },
   "outputs": [
    {
     "data": {
      "image/png": "[encoded data removed]",
      "text/plain": [
       "<Figure size 1440x720 with 1 Axes>"
      ]
     },
     "metadata": {
      "needs_background": "light"
     },
     "output_type": "display_data"
    }
   ],
   "source": [
    "plt.figure(figsize=(20, 10))\n",
    "\n",
    "plt.bar(x=length_percent_cumsum_99.index,\n",
    "        height=length_percent_cumsum_99, color='red')\n",
    "plt.xticks(length_percent_cumsum_99.index)\n",
    "plt.yticks(np.arange(0, 1.01, 0.05))\n",
    "plt.title('Cumsum Percentage Until 0.99', size=20)\n",
    "plt.show()"
   ]
  },
  {
   "cell_type": "markdown",
   "id": "ae6237c9",
   "metadata": {},
   "source": [
    "## 2.2 Time\n",
    "* 해당 데이터의 ReadMe를 읽어보면 아래와 같은 Time에 대한 설명이 기재되어있다.\n",
    "* Timestamp is represented in seconds since the epoch as returned by time(2)\n",
    "* Time 데이터에는 유닉스 시간으로 1970년 1월 1일 00:00:00 협정 세계시(UTC)부터의 경과 시간을 초로 환산하여 정수로 나타낸 것이다.\n",
    "* Timestamp로 지정된 시간 값을 특정 날짜 포맷으로 변경하는 작업을 진행해보자.  \n",
    "    \n",
    "[참고자료1_유닉스시간](https://ko.wikipedia.org/wiki/%EC%9C%A0%EB%8B%89%EC%8A%A4_%EC%8B%9C%EA%B0%84)  \n",
    "\n",
    "[참고자료2_Timestamp를 특정 날짜 포맷으로 변경](https://webisfree.com/2019-01-23/python-%ED%83%80%EC%9E%84%EC%8A%A4%ED%83%AC%ED%94%84-%EC%8B%9C%EA%B0%84%EC%9D%84-%EB%85%84%EC%9B%94%EC%9D%BC%EB%A1%9C-%EB%B3%80%ED%99%98%ED%95%98%EB%8A%94-%EB%B0%A9%EB%B2%95)"
   ]
  },
  {
   "cell_type": "code",
   "execution_count": 13,
   "id": "7354e2ed",
   "metadata": {
    "scrolled": true
   },
   "outputs": [
    {
     "data": {
      "text/html": [
       "<div>\n",
       "<style scoped>\n",
       "    .dataframe tbody tr th:only-of-type {\n",
       "        vertical-align: middle;\n",
       "    }\n",
       "\n",
       "    .dataframe tbody tr th {\n",
       "        vertical-align: top;\n",
       "    }\n",
       "\n",
       "    .dataframe thead th {\n",
       "        text-align: right;\n",
       "    }\n",
       "</style>\n",
       "<table border=\"1\" class=\"dataframe\">\n",
       "  <thead>\n",
       "    <tr style=\"text-align: right;\">\n",
       "      <th></th>\n",
       "      <th>UserId</th>\n",
       "      <th>ItemId</th>\n",
       "      <th>Rating</th>\n",
       "      <th>Time</th>\n",
       "    </tr>\n",
       "  </thead>\n",
       "  <tbody>\n",
       "    <tr>\n",
       "      <th>31</th>\n",
       "      <td>1</td>\n",
       "      <td>3186</td>\n",
       "      <td>4</td>\n",
       "      <td>2000-12-31 22:00:19</td>\n",
       "    </tr>\n",
       "    <tr>\n",
       "      <th>22</th>\n",
       "      <td>1</td>\n",
       "      <td>1270</td>\n",
       "      <td>5</td>\n",
       "      <td>2000-12-31 22:00:55</td>\n",
       "    </tr>\n",
       "    <tr>\n",
       "      <th>27</th>\n",
       "      <td>1</td>\n",
       "      <td>1721</td>\n",
       "      <td>4</td>\n",
       "      <td>2000-12-31 22:00:55</td>\n",
       "    </tr>\n",
       "    <tr>\n",
       "      <th>37</th>\n",
       "      <td>1</td>\n",
       "      <td>1022</td>\n",
       "      <td>5</td>\n",
       "      <td>2000-12-31 22:00:55</td>\n",
       "    </tr>\n",
       "    <tr>\n",
       "      <th>24</th>\n",
       "      <td>1</td>\n",
       "      <td>2340</td>\n",
       "      <td>3</td>\n",
       "      <td>2000-12-31 22:01:43</td>\n",
       "    </tr>\n",
       "  </tbody>\n",
       "</table>\n",
       "</div>"
      ],
      "text/plain": [
       "    UserId  ItemId  Rating                Time\n",
       "31       1    3186       4 2000-12-31 22:00:19\n",
       "22       1    1270       5 2000-12-31 22:00:55\n",
       "27       1    1721       4 2000-12-31 22:00:55\n",
       "37       1    1022       5 2000-12-31 22:00:55\n",
       "24       1    2340       3 2000-12-31 22:01:43"
      ]
     },
     "execution_count": 13,
     "metadata": {},
     "output_type": "execute_result"
    }
   ],
   "source": [
    "import datetime\n",
    "\n",
    "new_date = []\n",
    "for i in data['Time']:\n",
    "    new_time = datetime.datetime.fromtimestamp(i)\n",
    "    new_date.append(new_time)\n",
    "    \n",
    "data['Time'] = new_date\n",
    "data.head()"
   ]
  },
  {
   "cell_type": "markdown",
   "id": "5a92e6d2",
   "metadata": {},
   "source": [
    "* 2000년 4월부터 2003년 2월까지 대략 3년에 가까운 데이터가 있는 것을 확인하였다."
   ]
  },
  {
   "cell_type": "code",
   "execution_count": 14,
   "id": "50736e18",
   "metadata": {},
   "outputs": [
    {
     "name": "stdout",
     "output_type": "stream",
     "text": [
      "2000-04-25 23:05:32\n",
      "2003-02-28 17:49:50\n"
     ]
    }
   ],
   "source": [
    "oldest, latest = data['Time'].min(), data['Time'].max()\n",
    "print(oldest)\n",
    "print(latest)"
   ]
  },
  {
   "cell_type": "code",
   "execution_count": 15,
   "id": "f017f4aa",
   "metadata": {},
   "outputs": [
    {
     "data": {
      "text/plain": [
       "pandas._libs.tslibs.timestamps.Timestamp"
      ]
     },
     "execution_count": 15,
     "metadata": {},
     "output_type": "execute_result"
    }
   ],
   "source": [
    "type(latest)"
   ]
  },
  {
   "cell_type": "markdown",
   "id": "bc64f1fa",
   "metadata": {},
   "source": [
    "* 2.1에서 길이가 2314인 데이터의 Time을 변환한 데이터로 다시 확인해보았다.\n",
    "* 동일한 날짜는 물론, 같은 시분초에 여러 개의 영화를 평가한 것으로 확인된다."
   ]
  },
  {
   "cell_type": "code",
   "execution_count": 16,
   "id": "716163d3",
   "metadata": {
    "scrolled": false
   },
   "outputs": [
    {
     "data": {
      "text/html": [
       "<div>\n",
       "<style scoped>\n",
       "    .dataframe tbody tr th:only-of-type {\n",
       "        vertical-align: middle;\n",
       "    }\n",
       "\n",
       "    .dataframe tbody tr th {\n",
       "        vertical-align: top;\n",
       "    }\n",
       "\n",
       "    .dataframe thead th {\n",
       "        text-align: right;\n",
       "    }\n",
       "</style>\n",
       "<table border=\"1\" class=\"dataframe\">\n",
       "  <thead>\n",
       "    <tr style=\"text-align: right;\">\n",
       "      <th></th>\n",
       "      <th>UserId</th>\n",
       "      <th>ItemId</th>\n",
       "      <th>Rating</th>\n",
       "      <th>Time</th>\n",
       "    </tr>\n",
       "  </thead>\n",
       "  <tbody>\n",
       "    <tr>\n",
       "      <th>696969</th>\n",
       "      <td>4169</td>\n",
       "      <td>1268</td>\n",
       "      <td>5</td>\n",
       "      <td>2000-08-03 20:09:52</td>\n",
       "    </tr>\n",
       "    <tr>\n",
       "      <th>697168</th>\n",
       "      <td>4169</td>\n",
       "      <td>2617</td>\n",
       "      <td>4</td>\n",
       "      <td>2000-08-03 20:09:52</td>\n",
       "    </tr>\n",
       "    <tr>\n",
       "      <th>697185</th>\n",
       "      <td>4169</td>\n",
       "      <td>2628</td>\n",
       "      <td>4</td>\n",
       "      <td>2000-08-03 20:09:52</td>\n",
       "    </tr>\n",
       "    <tr>\n",
       "      <th>697219</th>\n",
       "      <td>4169</td>\n",
       "      <td>2653</td>\n",
       "      <td>4</td>\n",
       "      <td>2000-08-03 20:09:52</td>\n",
       "    </tr>\n",
       "    <tr>\n",
       "      <th>697275</th>\n",
       "      <td>4169</td>\n",
       "      <td>423</td>\n",
       "      <td>3</td>\n",
       "      <td>2000-08-03 20:09:52</td>\n",
       "    </tr>\n",
       "    <tr>\n",
       "      <th>696168</th>\n",
       "      <td>4169</td>\n",
       "      <td>3801</td>\n",
       "      <td>5</td>\n",
       "      <td>2000-08-03 20:11:21</td>\n",
       "    </tr>\n",
       "    <tr>\n",
       "      <th>696250</th>\n",
       "      <td>4169</td>\n",
       "      <td>3841</td>\n",
       "      <td>2</td>\n",
       "      <td>2000-08-03 20:11:21</td>\n",
       "    </tr>\n",
       "    <tr>\n",
       "      <th>697903</th>\n",
       "      <td>4169</td>\n",
       "      <td>3761</td>\n",
       "      <td>3</td>\n",
       "      <td>2000-08-03 20:11:21</td>\n",
       "    </tr>\n",
       "    <tr>\n",
       "      <th>697954</th>\n",
       "      <td>4169</td>\n",
       "      <td>3788</td>\n",
       "      <td>3</td>\n",
       "      <td>2000-08-03 20:11:21</td>\n",
       "    </tr>\n",
       "    <tr>\n",
       "      <th>695653</th>\n",
       "      <td>4169</td>\n",
       "      <td>3794</td>\n",
       "      <td>4</td>\n",
       "      <td>2000-08-03 20:11:59</td>\n",
       "    </tr>\n",
       "    <tr>\n",
       "      <th>696188</th>\n",
       "      <td>4169</td>\n",
       "      <td>3811</td>\n",
       "      <td>5</td>\n",
       "      <td>2000-08-03 20:11:59</td>\n",
       "    </tr>\n",
       "    <tr>\n",
       "      <th>696229</th>\n",
       "      <td>4169</td>\n",
       "      <td>3833</td>\n",
       "      <td>1</td>\n",
       "      <td>2000-08-03 20:11:59</td>\n",
       "    </tr>\n",
       "    <tr>\n",
       "      <th>696230</th>\n",
       "      <td>4169</td>\n",
       "      <td>3834</td>\n",
       "      <td>3</td>\n",
       "      <td>2000-08-03 20:11:59</td>\n",
       "    </tr>\n",
       "    <tr>\n",
       "      <th>697889</th>\n",
       "      <td>4169</td>\n",
       "      <td>3758</td>\n",
       "      <td>4</td>\n",
       "      <td>2000-08-03 20:11:59</td>\n",
       "    </tr>\n",
       "    <tr>\n",
       "      <th>695649</th>\n",
       "      <td>4169</td>\n",
       "      <td>3792</td>\n",
       "      <td>4</td>\n",
       "      <td>2000-08-03 20:12:38</td>\n",
       "    </tr>\n",
       "    <tr>\n",
       "      <th>695654</th>\n",
       "      <td>4169</td>\n",
       "      <td>3795</td>\n",
       "      <td>3</td>\n",
       "      <td>2000-08-03 20:12:38</td>\n",
       "    </tr>\n",
       "    <tr>\n",
       "      <th>696189</th>\n",
       "      <td>4169</td>\n",
       "      <td>3812</td>\n",
       "      <td>3</td>\n",
       "      <td>2000-08-03 20:12:38</td>\n",
       "    </tr>\n",
       "    <tr>\n",
       "      <th>696256</th>\n",
       "      <td>4169</td>\n",
       "      <td>3846</td>\n",
       "      <td>3</td>\n",
       "      <td>2000-08-03 20:12:38</td>\n",
       "    </tr>\n",
       "    <tr>\n",
       "      <th>697906</th>\n",
       "      <td>4169</td>\n",
       "      <td>3763</td>\n",
       "      <td>4</td>\n",
       "      <td>2000-08-03 20:12:38</td>\n",
       "    </tr>\n",
       "    <tr>\n",
       "      <th>697908</th>\n",
       "      <td>4169</td>\n",
       "      <td>3764</td>\n",
       "      <td>3</td>\n",
       "      <td>2000-08-03 20:12:38</td>\n",
       "    </tr>\n",
       "    <tr>\n",
       "      <th>697929</th>\n",
       "      <td>4169</td>\n",
       "      <td>3770</td>\n",
       "      <td>4</td>\n",
       "      <td>2000-08-03 20:12:38</td>\n",
       "    </tr>\n",
       "    <tr>\n",
       "      <th>697949</th>\n",
       "      <td>4169</td>\n",
       "      <td>3783</td>\n",
       "      <td>5</td>\n",
       "      <td>2000-08-03 20:12:38</td>\n",
       "    </tr>\n",
       "    <tr>\n",
       "      <th>695648</th>\n",
       "      <td>4169</td>\n",
       "      <td>3791</td>\n",
       "      <td>3</td>\n",
       "      <td>2000-08-03 20:12:58</td>\n",
       "    </tr>\n",
       "    <tr>\n",
       "      <th>696170</th>\n",
       "      <td>4169</td>\n",
       "      <td>3803</td>\n",
       "      <td>4</td>\n",
       "      <td>2000-08-03 20:12:58</td>\n",
       "    </tr>\n",
       "    <tr>\n",
       "      <th>696190</th>\n",
       "      <td>4169</td>\n",
       "      <td>3813</td>\n",
       "      <td>5</td>\n",
       "      <td>2000-08-03 20:13:26</td>\n",
       "    </tr>\n",
       "    <tr>\n",
       "      <th>696231</th>\n",
       "      <td>4169</td>\n",
       "      <td>3836</td>\n",
       "      <td>4</td>\n",
       "      <td>2000-08-03 20:13:26</td>\n",
       "    </tr>\n",
       "    <tr>\n",
       "      <th>697910</th>\n",
       "      <td>4169</td>\n",
       "      <td>3765</td>\n",
       "      <td>2</td>\n",
       "      <td>2000-08-03 20:13:26</td>\n",
       "    </tr>\n",
       "    <tr>\n",
       "      <th>697951</th>\n",
       "      <td>4169</td>\n",
       "      <td>3784</td>\n",
       "      <td>2</td>\n",
       "      <td>2000-08-03 20:13:26</td>\n",
       "    </tr>\n",
       "    <tr>\n",
       "      <th>696171</th>\n",
       "      <td>4169</td>\n",
       "      <td>3805</td>\n",
       "      <td>3</td>\n",
       "      <td>2000-08-03 20:13:56</td>\n",
       "    </tr>\n",
       "    <tr>\n",
       "      <th>696172</th>\n",
       "      <td>4169</td>\n",
       "      <td>3806</td>\n",
       "      <td>3</td>\n",
       "      <td>2000-08-03 20:13:56</td>\n",
       "    </tr>\n",
       "    <tr>\n",
       "      <th>696191</th>\n",
       "      <td>4169</td>\n",
       "      <td>3814</td>\n",
       "      <td>5</td>\n",
       "      <td>2000-08-03 20:13:56</td>\n",
       "    </tr>\n",
       "    <tr>\n",
       "      <th>697878</th>\n",
       "      <td>4169</td>\n",
       "      <td>3752</td>\n",
       "      <td>3</td>\n",
       "      <td>2000-08-03 20:13:56</td>\n",
       "    </tr>\n",
       "    <tr>\n",
       "      <th>695642</th>\n",
       "      <td>4169</td>\n",
       "      <td>3789</td>\n",
       "      <td>5</td>\n",
       "      <td>2000-08-03 20:14:32</td>\n",
       "    </tr>\n",
       "    <tr>\n",
       "      <th>696192</th>\n",
       "      <td>4169</td>\n",
       "      <td>3816</td>\n",
       "      <td>5</td>\n",
       "      <td>2000-08-03 20:14:32</td>\n",
       "    </tr>\n",
       "    <tr>\n",
       "      <th>696213</th>\n",
       "      <td>4169</td>\n",
       "      <td>3821</td>\n",
       "      <td>2</td>\n",
       "      <td>2000-08-03 20:14:32</td>\n",
       "    </tr>\n",
       "    <tr>\n",
       "      <th>696232</th>\n",
       "      <td>4169</td>\n",
       "      <td>3837</td>\n",
       "      <td>3</td>\n",
       "      <td>2000-08-03 20:14:32</td>\n",
       "    </tr>\n",
       "    <tr>\n",
       "      <th>697880</th>\n",
       "      <td>4169</td>\n",
       "      <td>3753</td>\n",
       "      <td>4</td>\n",
       "      <td>2000-08-03 20:14:32</td>\n",
       "    </tr>\n",
       "    <tr>\n",
       "      <th>697884</th>\n",
       "      <td>4169</td>\n",
       "      <td>3755</td>\n",
       "      <td>4</td>\n",
       "      <td>2000-08-03 20:14:32</td>\n",
       "    </tr>\n",
       "    <tr>\n",
       "      <th>697933</th>\n",
       "      <td>4169</td>\n",
       "      <td>3778</td>\n",
       "      <td>4</td>\n",
       "      <td>2000-08-03 20:14:32</td>\n",
       "    </tr>\n",
       "    <tr>\n",
       "      <th>696194</th>\n",
       "      <td>4169</td>\n",
       "      <td>3818</td>\n",
       "      <td>3</td>\n",
       "      <td>2000-08-03 20:15:00</td>\n",
       "    </tr>\n",
       "    <tr>\n",
       "      <th>696234</th>\n",
       "      <td>4169</td>\n",
       "      <td>3838</td>\n",
       "      <td>2</td>\n",
       "      <td>2000-08-03 20:15:00</td>\n",
       "    </tr>\n",
       "    <tr>\n",
       "      <th>696236</th>\n",
       "      <td>4169</td>\n",
       "      <td>3839</td>\n",
       "      <td>2</td>\n",
       "      <td>2000-08-03 20:15:00</td>\n",
       "    </tr>\n",
       "    <tr>\n",
       "      <th>696197</th>\n",
       "      <td>4169</td>\n",
       "      <td>3819</td>\n",
       "      <td>4</td>\n",
       "      <td>2000-08-03 20:15:22</td>\n",
       "    </tr>\n",
       "    <tr>\n",
       "      <th>696253</th>\n",
       "      <td>4169</td>\n",
       "      <td>3844</td>\n",
       "      <td>4</td>\n",
       "      <td>2000-08-03 20:15:22</td>\n",
       "    </tr>\n",
       "    <tr>\n",
       "      <th>696260</th>\n",
       "      <td>4169</td>\n",
       "      <td>3848</td>\n",
       "      <td>3</td>\n",
       "      <td>2000-08-03 20:15:22</td>\n",
       "    </tr>\n",
       "    <tr>\n",
       "      <th>696263</th>\n",
       "      <td>4169</td>\n",
       "      <td>3849</td>\n",
       "      <td>5</td>\n",
       "      <td>2000-08-03 20:15:22</td>\n",
       "    </tr>\n",
       "    <tr>\n",
       "      <th>695651</th>\n",
       "      <td>4169</td>\n",
       "      <td>3793</td>\n",
       "      <td>3</td>\n",
       "      <td>2000-08-03 20:15:52</td>\n",
       "    </tr>\n",
       "    <tr>\n",
       "      <th>695657</th>\n",
       "      <td>4169</td>\n",
       "      <td>3798</td>\n",
       "      <td>2</td>\n",
       "      <td>2000-08-03 20:15:52</td>\n",
       "    </tr>\n",
       "    <tr>\n",
       "      <th>696174</th>\n",
       "      <td>4169</td>\n",
       "      <td>3808</td>\n",
       "      <td>5</td>\n",
       "      <td>2000-08-03 20:15:52</td>\n",
       "    </tr>\n",
       "    <tr>\n",
       "      <th>696176</th>\n",
       "      <td>4169</td>\n",
       "      <td>3809</td>\n",
       "      <td>4</td>\n",
       "      <td>2000-08-03 20:15:52</td>\n",
       "    </tr>\n",
       "  </tbody>\n",
       "</table>\n",
       "</div>"
      ],
      "text/plain": [
       "        UserId  ItemId  Rating                Time\n",
       "696969    4169    1268       5 2000-08-03 20:09:52\n",
       "697168    4169    2617       4 2000-08-03 20:09:52\n",
       "697185    4169    2628       4 2000-08-03 20:09:52\n",
       "697219    4169    2653       4 2000-08-03 20:09:52\n",
       "697275    4169     423       3 2000-08-03 20:09:52\n",
       "696168    4169    3801       5 2000-08-03 20:11:21\n",
       "696250    4169    3841       2 2000-08-03 20:11:21\n",
       "697903    4169    3761       3 2000-08-03 20:11:21\n",
       "697954    4169    3788       3 2000-08-03 20:11:21\n",
       "695653    4169    3794       4 2000-08-03 20:11:59\n",
       "696188    4169    3811       5 2000-08-03 20:11:59\n",
       "696229    4169    3833       1 2000-08-03 20:11:59\n",
       "696230    4169    3834       3 2000-08-03 20:11:59\n",
       "697889    4169    3758       4 2000-08-03 20:11:59\n",
       "695649    4169    3792       4 2000-08-03 20:12:38\n",
       "695654    4169    3795       3 2000-08-03 20:12:38\n",
       "696189    4169    3812       3 2000-08-03 20:12:38\n",
       "696256    4169    3846       3 2000-08-03 20:12:38\n",
       "697906    4169    3763       4 2000-08-03 20:12:38\n",
       "697908    4169    3764       3 2000-08-03 20:12:38\n",
       "697929    4169    3770       4 2000-08-03 20:12:38\n",
       "697949    4169    3783       5 2000-08-03 20:12:38\n",
       "695648    4169    3791       3 2000-08-03 20:12:58\n",
       "696170    4169    3803       4 2000-08-03 20:12:58\n",
       "696190    4169    3813       5 2000-08-03 20:13:26\n",
       "696231    4169    3836       4 2000-08-03 20:13:26\n",
       "697910    4169    3765       2 2000-08-03 20:13:26\n",
       "697951    4169    3784       2 2000-08-03 20:13:26\n",
       "696171    4169    3805       3 2000-08-03 20:13:56\n",
       "696172    4169    3806       3 2000-08-03 20:13:56\n",
       "696191    4169    3814       5 2000-08-03 20:13:56\n",
       "697878    4169    3752       3 2000-08-03 20:13:56\n",
       "695642    4169    3789       5 2000-08-03 20:14:32\n",
       "696192    4169    3816       5 2000-08-03 20:14:32\n",
       "696213    4169    3821       2 2000-08-03 20:14:32\n",
       "696232    4169    3837       3 2000-08-03 20:14:32\n",
       "697880    4169    3753       4 2000-08-03 20:14:32\n",
       "697884    4169    3755       4 2000-08-03 20:14:32\n",
       "697933    4169    3778       4 2000-08-03 20:14:32\n",
       "696194    4169    3818       3 2000-08-03 20:15:00\n",
       "696234    4169    3838       2 2000-08-03 20:15:00\n",
       "696236    4169    3839       2 2000-08-03 20:15:00\n",
       "696197    4169    3819       4 2000-08-03 20:15:22\n",
       "696253    4169    3844       4 2000-08-03 20:15:22\n",
       "696260    4169    3848       3 2000-08-03 20:15:22\n",
       "696263    4169    3849       5 2000-08-03 20:15:22\n",
       "695651    4169    3793       3 2000-08-03 20:15:52\n",
       "695657    4169    3798       2 2000-08-03 20:15:52\n",
       "696174    4169    3808       5 2000-08-03 20:15:52\n",
       "696176    4169    3809       4 2000-08-03 20:15:52"
      ]
     },
     "execution_count": 16,
     "metadata": {},
     "output_type": "execute_result"
    }
   ],
   "source": [
    "long_session = session_length[session_length == 2314].index[0]\n",
    "data[data['UserId'] == long_session].head(50)"
   ]
  },
  {
   "cell_type": "markdown",
   "id": "748d85c3",
   "metadata": {},
   "source": [
    "* 따라서 해당 데이터는 물론이고 누적합 99% 이상인 데이터들도 이상치로 판단하고 제거한다.\n",
    "* session_length의 99%의 분위수: 906.659999999998"
   ]
  },
  {
   "cell_type": "code",
   "execution_count": 17,
   "id": "0924b68c",
   "metadata": {},
   "outputs": [],
   "source": [
    "drop_index = session_length[session_length>906].index\n",
    "data.drop(index=drop_index, inplace=True)"
   ]
  },
  {
   "cell_type": "markdown",
   "id": "ac7bafa0",
   "metadata": {},
   "source": [
    "* 데이터의 개수가 1000209개에서 1000148로 줄어들었다."
   ]
  },
  {
   "cell_type": "code",
   "execution_count": 18,
   "id": "47d6928f",
   "metadata": {},
   "outputs": [
    {
     "data": {
      "text/plain": [
       "(1000148, 4)"
      ]
     },
     "execution_count": 18,
     "metadata": {},
     "output_type": "execute_result"
    }
   ],
   "source": [
    "data.shape"
   ]
  },
  {
   "cell_type": "markdown",
   "id": "cab95867",
   "metadata": {},
   "source": [
    "## 2.3 Rating (Data Cleansing)\n",
    "* 유저가 별점을 3점 미만으로 준 데이터는 선호하지 않는다고 가정하여 `Rating`이 3점 이상인 데이터만 남기고 제거하였다.\n",
    "* 별점 3점 이상의 데이터 크기는 `836,478`이며, 비율은 `83.63%`를 차지한다."
   ]
  },
  {
   "cell_type": "code",
   "execution_count": 19,
   "id": "ea2cc8a1",
   "metadata": {
    "scrolled": true
   },
   "outputs": [
    {
     "name": "stdout",
     "output_type": "stream",
     "text": [
      "전체 데이터 크기 : 1000209\n",
      "별점 3점 이상의 데이터 크기 : 836426\n",
      "별점 3점 이상의 데이터 비율 :  83.63%\n"
     ]
    }
   ],
   "source": [
    "data = data[data['Rating'] >= 3]\n",
    "filltered_data_size = len(data)\n",
    "\n",
    "print(f'전체 데이터 크기 : {original_data_size}')\n",
    "print(f'별점 3점 이상의 데이터 크기 : {filltered_data_size}')\n",
    "print(f'별점 3점 이상의 데이터 비율 : {filltered_data_size / original_data_size : .2%}')"
   ]
  },
  {
   "cell_type": "markdown",
   "id": "51b06b06",
   "metadata": {},
   "source": [
    "## 2.4 train / valid / test data Split\n",
    "* 모델 평가를 위해 valid set과 test set을 만들어보자.\n",
    "* test 데이터는 마지막 5개월 전까지, valid 데이터도 5개월 전까지로 설정하여 분리하였다."
   ]
  },
  {
   "cell_type": "code",
   "execution_count": 20,
   "id": "0097a161",
   "metadata": {},
   "outputs": [],
   "source": [
    "from datetime import timedelta\n",
    "\n",
    "def split_by_date(data: pd.DataFrame, n_days: int):\n",
    "    final_time = data['Time'].max()\n",
    "    session_last_time = data.groupby('Time')['Time'].max()\n",
    "    session_in_train = session_last_time[session_last_time < final_time - datetime.timedelta(n_days)].index\n",
    "    session_in_test = session_last_time[session_last_time >= final_time - datetime.timedelta(n_days)].index\n",
    "\n",
    "    before_date = data[data['Time'].isin(session_in_train)]\n",
    "    after_date = data[data['Time'].isin(session_in_test)]\n",
    "    return before_date, after_date"
   ]
  },
  {
   "cell_type": "code",
   "execution_count": 21,
   "id": "49afe4b2",
   "metadata": {
    "scrolled": true
   },
   "outputs": [],
   "source": [
    "tr, test = split_by_date(data, n_days = 150)"
   ]
  },
  {
   "cell_type": "code",
   "execution_count": 22,
   "id": "522076e9",
   "metadata": {},
   "outputs": [],
   "source": [
    "tr, val = split_by_date(tr, n_days = 150)"
   ]
  },
  {
   "cell_type": "code",
   "execution_count": 23,
   "id": "756cf32c",
   "metadata": {},
   "outputs": [],
   "source": [
    "# data에 대한 정보를 살펴봅니다.\n",
    "def stats_info(data: pd.DataFrame, status: str):\n",
    "    print(f'* {status} Set Stats Info\\n'\n",
    "          f'\\t 데이터 개수: {len(data)}\\n'\n",
    "          f'\\t User 고유 개수: {data[\"UserId\"].nunique()}\\n'\n",
    "          f'\\t Item 고유 개수: {data[\"ItemId\"].nunique()}\\n'\n",
    "          f'\\t 데이터 시작 시간 : {data[\"Time\"].min()}\\n'\n",
    "          f'\\t 데이터 종료 시간 : {data[\"Time\"].max()}\\n')"
   ]
  },
  {
   "cell_type": "code",
   "execution_count": 24,
   "id": "36c1f78e",
   "metadata": {},
   "outputs": [
    {
     "name": "stdout",
     "output_type": "stream",
     "text": [
      "* train Set Stats Info\n",
      "\t 데이터 개수: 823296\n",
      "\t User 고유 개수: 6038\n",
      "\t Item 고유 개수: 3620\n",
      "\t 데이터 시작 시간 : 2000-04-25 23:05:32\n",
      "\t 데이터 종료 시간 : 2002-05-04 09:26:12\n",
      "\n",
      "* valid Set Stats Info\n",
      "\t 데이터 개수: 6910\n",
      "\t User 고유 개수: 326\n",
      "\t Item 고유 개수: 2079\n",
      "\t 데이터 시작 시간 : 2002-05-04 21:11:01\n",
      "\t 데이터 종료 시간 : 2002-10-01 09:36:33\n",
      "\n",
      "* test Set Stats Info\n",
      "\t 데이터 개수: 6220\n",
      "\t User 고유 개수: 311\n",
      "\t Item 고유 개수: 1919\n",
      "\t 데이터 시작 시간 : 2002-10-01 19:26:51\n",
      "\t 데이터 종료 시간 : 2003-02-28 17:49:50\n",
      "\n"
     ]
    }
   ],
   "source": [
    "stats_info(tr, 'train')\n",
    "stats_info(val, 'valid')\n",
    "stats_info(test, 'test')"
   ]
  },
  {
   "cell_type": "markdown",
   "id": "63f38f37",
   "metadata": {},
   "source": [
    "* train set에 없는 아이템이 val, test기간에 생길 수 있으므로 train data를 기준으로 인덱싱한다."
   ]
  },
  {
   "cell_type": "code",
   "execution_count": 25,
   "id": "10dec3e3",
   "metadata": {},
   "outputs": [],
   "source": [
    "id2idx = {item_id : index for index, item_id in enumerate(tr['ItemId'].unique())}\n",
    "\n",
    "def indexing(df, id2idx):\n",
    "    df['item_idx'] = df['ItemId'].map(lambda x: id2idx.get(x, -1))  # id2idx에 없는 아이템은 모르는 값(-1) 처리 해줍니다.\n",
    "    return df\n",
    "\n",
    "tr = indexing(tr, id2idx)\n",
    "val = indexing(val, id2idx)\n",
    "test = indexing(test, id2idx)"
   ]
  },
  {
   "cell_type": "markdown",
   "id": "7f2b92ba",
   "metadata": {},
   "source": [
    "* 준비한 데이터를 저장하자."
   ]
  },
  {
   "cell_type": "code",
   "execution_count": 26,
   "id": "5378eda2",
   "metadata": {},
   "outputs": [],
   "source": [
    "save_path = data_path / 'processed'\n",
    "save_path.mkdir(parents=True, exist_ok=True)\n",
    "\n",
    "tr.to_pickle(save_path / 'train.pkl')\n",
    "val.to_pickle(save_path / 'valid.pkl')\n",
    "test.to_pickle(save_path / 'test.pkl')"
   ]
  },
  {
   "cell_type": "markdown",
   "id": "c6805f6e",
   "metadata": {},
   "source": [
    "---"
   ]
  },
  {
   "cell_type": "markdown",
   "id": "afc0b294",
   "metadata": {},
   "source": [
    "# Step 3. 미니 배치의 구성\n",
    "* Session-Parallel Mini-Batch를 구현하여 학습 속도의 저하가 최소화될 수 있도록 구성해보자."
   ]
  },
  {
   "cell_type": "markdown",
   "id": "d0ef9f1b",
   "metadata": {},
   "source": [
    "## 3.1 Session Dataset\n",
    "* 데이터가 주어지면 세션이 시작되는 인덱스를 담는 값과 세션을 새로 인덱싱한 값을 갖는 클래스를 만들어보자."
   ]
  },
  {
   "cell_type": "code",
   "execution_count": 27,
   "id": "aa73cc7a",
   "metadata": {},
   "outputs": [],
   "source": [
    "class SessionDataset:\n",
    "    \"\"\"Credit to yhs-968/pyGRU4REC.\"\"\"\n",
    "\n",
    "    def __init__(self, data):\n",
    "        self.df = data\n",
    "        self.click_offsets = self.get_click_offsets()\n",
    "        self.session_idx = np.arange(self.df['UserId'].nunique())  # indexing to SessionId\n",
    "\n",
    "    def get_click_offsets(self):\n",
    "        \"\"\"\n",
    "        Return the indexes of the first click of each session IDs,\n",
    "        \"\"\"\n",
    "        offsets = np.zeros(self.df['UserId'].nunique() + 1, dtype=np.int32)\n",
    "        offsets[1:] = self.df.groupby('UserId').size().cumsum()\n",
    "        return offsets"
   ]
  },
  {
   "cell_type": "markdown",
   "id": "5680eb58",
   "metadata": {},
   "source": [
    "* train 데이터로 `SessionDataset` 객체를 만들고 인스턴스 변수를 살펴보자."
   ]
  },
  {
   "cell_type": "code",
   "execution_count": 28,
   "id": "818983e7",
   "metadata": {},
   "outputs": [
    {
     "data": {
      "text/html": [
       "<div>\n",
       "<style scoped>\n",
       "    .dataframe tbody tr th:only-of-type {\n",
       "        vertical-align: middle;\n",
       "    }\n",
       "\n",
       "    .dataframe tbody tr th {\n",
       "        vertical-align: top;\n",
       "    }\n",
       "\n",
       "    .dataframe thead th {\n",
       "        text-align: right;\n",
       "    }\n",
       "</style>\n",
       "<table border=\"1\" class=\"dataframe\">\n",
       "  <thead>\n",
       "    <tr style=\"text-align: right;\">\n",
       "      <th></th>\n",
       "      <th>UserId</th>\n",
       "      <th>ItemId</th>\n",
       "      <th>Rating</th>\n",
       "      <th>Time</th>\n",
       "      <th>item_idx</th>\n",
       "    </tr>\n",
       "  </thead>\n",
       "  <tbody>\n",
       "    <tr>\n",
       "      <th>31</th>\n",
       "      <td>1</td>\n",
       "      <td>3186</td>\n",
       "      <td>4</td>\n",
       "      <td>2000-12-31 22:00:19</td>\n",
       "      <td>0</td>\n",
       "    </tr>\n",
       "    <tr>\n",
       "      <th>22</th>\n",
       "      <td>1</td>\n",
       "      <td>1270</td>\n",
       "      <td>5</td>\n",
       "      <td>2000-12-31 22:00:55</td>\n",
       "      <td>1</td>\n",
       "    </tr>\n",
       "    <tr>\n",
       "      <th>27</th>\n",
       "      <td>1</td>\n",
       "      <td>1721</td>\n",
       "      <td>4</td>\n",
       "      <td>2000-12-31 22:00:55</td>\n",
       "      <td>2</td>\n",
       "    </tr>\n",
       "    <tr>\n",
       "      <th>37</th>\n",
       "      <td>1</td>\n",
       "      <td>1022</td>\n",
       "      <td>5</td>\n",
       "      <td>2000-12-31 22:00:55</td>\n",
       "      <td>3</td>\n",
       "    </tr>\n",
       "    <tr>\n",
       "      <th>24</th>\n",
       "      <td>1</td>\n",
       "      <td>2340</td>\n",
       "      <td>3</td>\n",
       "      <td>2000-12-31 22:01:43</td>\n",
       "      <td>4</td>\n",
       "    </tr>\n",
       "    <tr>\n",
       "      <th>36</th>\n",
       "      <td>1</td>\n",
       "      <td>1836</td>\n",
       "      <td>5</td>\n",
       "      <td>2000-12-31 22:02:52</td>\n",
       "      <td>5</td>\n",
       "    </tr>\n",
       "    <tr>\n",
       "      <th>3</th>\n",
       "      <td>1</td>\n",
       "      <td>3408</td>\n",
       "      <td>4</td>\n",
       "      <td>2000-12-31 22:04:35</td>\n",
       "      <td>6</td>\n",
       "    </tr>\n",
       "    <tr>\n",
       "      <th>7</th>\n",
       "      <td>1</td>\n",
       "      <td>2804</td>\n",
       "      <td>5</td>\n",
       "      <td>2000-12-31 22:11:59</td>\n",
       "      <td>7</td>\n",
       "    </tr>\n",
       "    <tr>\n",
       "      <th>47</th>\n",
       "      <td>1</td>\n",
       "      <td>1207</td>\n",
       "      <td>4</td>\n",
       "      <td>2000-12-31 22:11:59</td>\n",
       "      <td>8</td>\n",
       "    </tr>\n",
       "    <tr>\n",
       "      <th>0</th>\n",
       "      <td>1</td>\n",
       "      <td>1193</td>\n",
       "      <td>5</td>\n",
       "      <td>2000-12-31 22:12:40</td>\n",
       "      <td>9</td>\n",
       "    </tr>\n",
       "  </tbody>\n",
       "</table>\n",
       "</div>"
      ],
      "text/plain": [
       "    UserId  ItemId  Rating                Time  item_idx\n",
       "31       1    3186       4 2000-12-31 22:00:19         0\n",
       "22       1    1270       5 2000-12-31 22:00:55         1\n",
       "27       1    1721       4 2000-12-31 22:00:55         2\n",
       "37       1    1022       5 2000-12-31 22:00:55         3\n",
       "24       1    2340       3 2000-12-31 22:01:43         4\n",
       "36       1    1836       5 2000-12-31 22:02:52         5\n",
       "3        1    3408       4 2000-12-31 22:04:35         6\n",
       "7        1    2804       5 2000-12-31 22:11:59         7\n",
       "47       1    1207       4 2000-12-31 22:11:59         8\n",
       "0        1    1193       5 2000-12-31 22:12:40         9"
      ]
     },
     "execution_count": 28,
     "metadata": {},
     "output_type": "execute_result"
    }
   ],
   "source": [
    "tr_dataset = SessionDataset(tr)\n",
    "tr_dataset.df.head(10)"
   ]
  },
  {
   "cell_type": "markdown",
   "id": "b3db470f",
   "metadata": {},
   "source": [
    "* `click_offsets`변수는 각 세션이 시작된 인덱스를 담고 있다."
   ]
  },
  {
   "cell_type": "code",
   "execution_count": 29,
   "id": "398bf69b",
   "metadata": {},
   "outputs": [
    {
     "data": {
      "text/plain": [
       "array([     0,     53,    169, ..., 822901, 823020, 823296], dtype=int32)"
      ]
     },
     "execution_count": 29,
     "metadata": {},
     "output_type": "execute_result"
    }
   ],
   "source": [
    "tr_dataset.click_offsets"
   ]
  },
  {
   "cell_type": "markdown",
   "id": "d879e8cb",
   "metadata": {},
   "source": [
    "* `session_idx` 변수는 각 세션을 인덱싱한 `np.array`이다."
   ]
  },
  {
   "cell_type": "code",
   "execution_count": 30,
   "id": "bca74a5a",
   "metadata": {},
   "outputs": [
    {
     "data": {
      "text/plain": [
       "array([   0,    1,    2, ..., 6035, 6036, 6037])"
      ]
     },
     "execution_count": 30,
     "metadata": {},
     "output_type": "execute_result"
    }
   ],
   "source": [
    "tr_dataset.session_idx"
   ]
  },
  {
   "cell_type": "markdown",
   "id": "10f6ad9f",
   "metadata": {},
   "source": [
    "## 3.2 Session Data Loader\n",
    "* `SessionDataset` 객체를 받아서 Session-Parallel mini-batch를 만드는 클래스를 만들어보자.\n",
    "* `__iter__`매서드는 모델 인풋, 라벨, 세션이 끝나는 곳의 위치를 `yield`한다.\n",
    "* `mask`는 후에 RNN Cell State를 초기화하는데 사용한다."
   ]
  },
  {
   "cell_type": "code",
   "execution_count": 31,
   "id": "8b386b25",
   "metadata": {},
   "outputs": [],
   "source": [
    "class SessionDataLoader:\n",
    "    \"\"\"Credit to yhs-968/pyGRU4REC.\"\"\"\n",
    "\n",
    "    def __init__(self, dataset: SessionDataset, batch_size=50):\n",
    "        self.dataset = dataset\n",
    "        self.batch_size = batch_size\n",
    "\n",
    "    def __iter__(self):\n",
    "        \"\"\" Returns the iterator for producing session-parallel training mini-batches.\n",
    "        Yields:\n",
    "            input (B,):  Item indices that will be encoded as one-hot vectors later.\n",
    "            target (B,): a Variable that stores the target item indices\n",
    "            masks: Numpy array indicating the positions of the sessions to be terminated\n",
    "        \"\"\"\n",
    "\n",
    "        start, end, mask, last_session, finished = self.initialize()  # initialize 메소드에서 확인해주세요.\n",
    "        \"\"\"\n",
    "        start : Index Where Session Start\n",
    "        end : Index Where Session End\n",
    "        mask : indicator for the sessions to be terminated\n",
    "        \"\"\"\n",
    "\n",
    "        while not finished:\n",
    "            min_len = (end - start).min() - 1  # Shortest Length Among Sessions\n",
    "            for i in range(min_len):\n",
    "                # Build inputs & targets\n",
    "                inp = self.dataset.df['item_idx'].values[start + i]\n",
    "                target = self.dataset.df['item_idx'].values[start + i + 1]\n",
    "                yield inp, target, mask\n",
    "\n",
    "            start, end, mask, last_session, finished = self.update_status(start, end, min_len, last_session, finished)\n",
    "\n",
    "    def initialize(self):\n",
    "        first_iters = np.arange(self.batch_size)    # 첫 배치에 사용할 세션 Index를 가져옵니다.\n",
    "        last_session = self.batch_size - 1    # 마지막으로 다루고 있는 세션 Index를 저장해둡니다.\n",
    "        start = self.dataset.click_offsets[self.dataset.session_idx[first_iters]]       # data 상에서 session이 시작된 위치를 가져옵니다.\n",
    "        end = self.dataset.click_offsets[self.dataset.session_idx[first_iters] + 1]  # session이 끝난 위치 바로 다음 위치를 가져옵니다.\n",
    "        mask = np.array([])   # session의 모든 아이템을 다 돌은 경우 mask에 추가해줄 것입니다.\n",
    "        finished = False         # data를 전부 돌았는지 기록하기 위한 변수입니다.\n",
    "        return start, end, mask, last_session, finished\n",
    "\n",
    "    def update_status(self, start: np.ndarray, end: np.ndarray, min_len: int, last_session: int, finished: bool):  \n",
    "        # 다음 배치 데이터를 생성하기 위해 상태를 update합니다.\n",
    "        \n",
    "        start += min_len   # __iter__에서 min_len 만큼 for문을 돌았으므로 start를 min_len 만큼 더해줍니다.\n",
    "        mask = np.arange(self.batch_size)[(end - start) == 1]  \n",
    "        # end는 다음 세션이 시작되는 위치인데 start와 한 칸 차이난다는 것은 session이 끝났다는 뜻입니다. mask에 기록해줍니다.\n",
    "\n",
    "        for i, idx in enumerate(mask, start=1):  # mask에 추가된 세션 개수만큼 새로운 세션을 돌것입니다.\n",
    "            new_session = last_session + i  \n",
    "            if new_session > self.dataset.session_idx[-1]:  # 만약 새로운 세션이 마지막 세션 index보다 크다면 모든 학습데이터를 돈 것입니다.\n",
    "                finished = True\n",
    "                break\n",
    "            # update the next starting/ending point\n",
    "            start[idx] = self.dataset.click_offsets[self.dataset.session_idx[new_session]]     # 종료된 세션 대신 새로운 세션의 시작점을 기록합니다.\n",
    "            end[idx] = self.dataset.click_offsets[self.dataset.session_idx[new_session] + 1]\n",
    "\n",
    "        last_session += len(mask)  # 마지막 세션의 위치를 기록해둡니다.\n",
    "        return start, end, mask, last_session, finished"
   ]
  },
  {
   "cell_type": "code",
   "execution_count": 32,
   "id": "d672e873",
   "metadata": {},
   "outputs": [
    {
     "data": {
      "text/html": [
       "<div>\n",
       "<style scoped>\n",
       "    .dataframe tbody tr th:only-of-type {\n",
       "        vertical-align: middle;\n",
       "    }\n",
       "\n",
       "    .dataframe tbody tr th {\n",
       "        vertical-align: top;\n",
       "    }\n",
       "\n",
       "    .dataframe thead th {\n",
       "        text-align: right;\n",
       "    }\n",
       "</style>\n",
       "<table border=\"1\" class=\"dataframe\">\n",
       "  <thead>\n",
       "    <tr style=\"text-align: right;\">\n",
       "      <th></th>\n",
       "      <th>UserId</th>\n",
       "      <th>ItemId</th>\n",
       "      <th>Rating</th>\n",
       "      <th>Time</th>\n",
       "      <th>item_idx</th>\n",
       "    </tr>\n",
       "  </thead>\n",
       "  <tbody>\n",
       "    <tr>\n",
       "      <th>31</th>\n",
       "      <td>1</td>\n",
       "      <td>3186</td>\n",
       "      <td>4</td>\n",
       "      <td>2000-12-31 22:00:19</td>\n",
       "      <td>0</td>\n",
       "    </tr>\n",
       "    <tr>\n",
       "      <th>22</th>\n",
       "      <td>1</td>\n",
       "      <td>1270</td>\n",
       "      <td>5</td>\n",
       "      <td>2000-12-31 22:00:55</td>\n",
       "      <td>1</td>\n",
       "    </tr>\n",
       "    <tr>\n",
       "      <th>27</th>\n",
       "      <td>1</td>\n",
       "      <td>1721</td>\n",
       "      <td>4</td>\n",
       "      <td>2000-12-31 22:00:55</td>\n",
       "      <td>2</td>\n",
       "    </tr>\n",
       "    <tr>\n",
       "      <th>37</th>\n",
       "      <td>1</td>\n",
       "      <td>1022</td>\n",
       "      <td>5</td>\n",
       "      <td>2000-12-31 22:00:55</td>\n",
       "      <td>3</td>\n",
       "    </tr>\n",
       "    <tr>\n",
       "      <th>24</th>\n",
       "      <td>1</td>\n",
       "      <td>2340</td>\n",
       "      <td>3</td>\n",
       "      <td>2000-12-31 22:01:43</td>\n",
       "      <td>4</td>\n",
       "    </tr>\n",
       "    <tr>\n",
       "      <th>36</th>\n",
       "      <td>1</td>\n",
       "      <td>1836</td>\n",
       "      <td>5</td>\n",
       "      <td>2000-12-31 22:02:52</td>\n",
       "      <td>5</td>\n",
       "    </tr>\n",
       "    <tr>\n",
       "      <th>3</th>\n",
       "      <td>1</td>\n",
       "      <td>3408</td>\n",
       "      <td>4</td>\n",
       "      <td>2000-12-31 22:04:35</td>\n",
       "      <td>6</td>\n",
       "    </tr>\n",
       "    <tr>\n",
       "      <th>7</th>\n",
       "      <td>1</td>\n",
       "      <td>2804</td>\n",
       "      <td>5</td>\n",
       "      <td>2000-12-31 22:11:59</td>\n",
       "      <td>7</td>\n",
       "    </tr>\n",
       "    <tr>\n",
       "      <th>47</th>\n",
       "      <td>1</td>\n",
       "      <td>1207</td>\n",
       "      <td>4</td>\n",
       "      <td>2000-12-31 22:11:59</td>\n",
       "      <td>8</td>\n",
       "    </tr>\n",
       "    <tr>\n",
       "      <th>0</th>\n",
       "      <td>1</td>\n",
       "      <td>1193</td>\n",
       "      <td>5</td>\n",
       "      <td>2000-12-31 22:12:40</td>\n",
       "      <td>9</td>\n",
       "    </tr>\n",
       "    <tr>\n",
       "      <th>21</th>\n",
       "      <td>1</td>\n",
       "      <td>720</td>\n",
       "      <td>3</td>\n",
       "      <td>2000-12-31 22:12:40</td>\n",
       "      <td>10</td>\n",
       "    </tr>\n",
       "    <tr>\n",
       "      <th>44</th>\n",
       "      <td>1</td>\n",
       "      <td>260</td>\n",
       "      <td>4</td>\n",
       "      <td>2000-12-31 22:12:40</td>\n",
       "      <td>11</td>\n",
       "    </tr>\n",
       "    <tr>\n",
       "      <th>9</th>\n",
       "      <td>1</td>\n",
       "      <td>919</td>\n",
       "      <td>4</td>\n",
       "      <td>2000-12-31 22:22:48</td>\n",
       "      <td>12</td>\n",
       "    </tr>\n",
       "    <tr>\n",
       "      <th>51</th>\n",
       "      <td>1</td>\n",
       "      <td>608</td>\n",
       "      <td>4</td>\n",
       "      <td>2000-12-31 22:23:18</td>\n",
       "      <td>13</td>\n",
       "    </tr>\n",
       "    <tr>\n",
       "      <th>43</th>\n",
       "      <td>1</td>\n",
       "      <td>2692</td>\n",
       "      <td>4</td>\n",
       "      <td>2000-12-31 22:26:10</td>\n",
       "      <td>14</td>\n",
       "    </tr>\n",
       "  </tbody>\n",
       "</table>\n",
       "</div>"
      ],
      "text/plain": [
       "    UserId  ItemId  Rating                Time  item_idx\n",
       "31       1    3186       4 2000-12-31 22:00:19         0\n",
       "22       1    1270       5 2000-12-31 22:00:55         1\n",
       "27       1    1721       4 2000-12-31 22:00:55         2\n",
       "37       1    1022       5 2000-12-31 22:00:55         3\n",
       "24       1    2340       3 2000-12-31 22:01:43         4\n",
       "36       1    1836       5 2000-12-31 22:02:52         5\n",
       "3        1    3408       4 2000-12-31 22:04:35         6\n",
       "7        1    2804       5 2000-12-31 22:11:59         7\n",
       "47       1    1207       4 2000-12-31 22:11:59         8\n",
       "0        1    1193       5 2000-12-31 22:12:40         9\n",
       "21       1     720       3 2000-12-31 22:12:40        10\n",
       "44       1     260       4 2000-12-31 22:12:40        11\n",
       "9        1     919       4 2000-12-31 22:22:48        12\n",
       "51       1     608       4 2000-12-31 22:23:18        13\n",
       "43       1    2692       4 2000-12-31 22:26:10        14"
      ]
     },
     "execution_count": 32,
     "metadata": {},
     "output_type": "execute_result"
    }
   ],
   "source": [
    "tr_data_loader = SessionDataLoader(tr_dataset, batch_size=4)\n",
    "tr_dataset.df.head(15)"
   ]
  },
  {
   "cell_type": "code",
   "execution_count": 33,
   "id": "6d36a0d4",
   "metadata": {},
   "outputs": [],
   "source": [
    "iter_ex = iter(tr_data_loader)"
   ]
  },
  {
   "cell_type": "markdown",
   "id": "1d8f4a02",
   "metadata": {},
   "source": [
    "* 아래 셀을 반복 실행하면 `next`가 계속 다음 데이터를 만든다."
   ]
  },
  {
   "cell_type": "code",
   "execution_count": 34,
   "id": "5d9b1648",
   "metadata": {},
   "outputs": [
    {
     "name": "stdout",
     "output_type": "stream",
     "text": [
      "Model Input Item Idx are : [ 0 53 64 54]\n",
      "Label Item Idx are :       [ 1 54 62 24]\n",
      "Previous Masked Input Idx are []\n"
     ]
    }
   ],
   "source": [
    "inputs, labels, mask =  next(iter_ex)\n",
    "print(f'Model Input Item Idx are : {inputs}')\n",
    "print(f'Label Item Idx are : {\"\":5} {labels}')\n",
    "print(f'Previous Masked Input Idx are {mask}')"
   ]
  },
  {
   "cell_type": "markdown",
   "id": "9bcd55ac",
   "metadata": {},
   "source": [
    "---"
   ]
  },
  {
   "cell_type": "markdown",
   "id": "722fe3a3",
   "metadata": {},
   "source": [
    "# Step 4. 모델 구성"
   ]
  },
  {
   "cell_type": "markdown",
   "id": "54138506",
   "metadata": {},
   "source": [
    "## 4.1 Evaluation Metrix\n",
    "* 모델 성능 평가를 위한 지표를 확인해보자.\n",
    "* `MRR`과 `Recall@k`를 사용해보자."
   ]
  },
  {
   "attachments": {
    "image.png": {
     "image/png": "[encoded data removed]"
    }
   },
   "cell_type": "markdown",
   "id": "3975e427",
   "metadata": {},
   "source": [
    "### MRR(Mean Reciprocal Rank)\n",
    "- 우선순위를 고려한 평가기준 중 가장 간단한 모델이다.\n",
    "- 순서에 민감한 지표로, 정답 아이템이 추천 결과 앞쪽 순번에 나온다면 지표가 높아질 것이다.\n",
    "- 각 사용자마다 제공한 추천 컨텐츠 중 관련있는 컨텐츠 중 가장 높은 위치를 역수로 계산(1/k)하고 사용자마다 계산된 점수를 모아 평균을 계산한다.  \n",
    "\n",
    "![image.png](attachment:image.png)  \n",
    "\n",
    "[MRR 참고 자료](https://lamttic.github.io/2020/03/20/01.html)"
   ]
  },
  {
   "attachments": {
    "image.png": {
     "image/png": "[encoded data removed]"
    }
   },
   "cell_type": "markdown",
   "id": "5125e914",
   "metadata": {},
   "source": [
    "### Recall@k\n",
    "- recall 개념을 확장한 지표\n",
    "- 사용자가 관심있는 모든 아이템 중에서 내가 추천한 아이템 K개가 얼마나 포함되는지 비율을 의미한다.\n",
    "- K는 추천 아이템 수를 의미한다.  \n",
    "\n",
    "![image.png](attachment:image.png)  \n",
    "    \n",
    "[Recall@k 참고자료](https://sungkee-book.tistory.com/11)"
   ]
  },
  {
   "cell_type": "code",
   "execution_count": 35,
   "id": "99e37262",
   "metadata": {},
   "outputs": [],
   "source": [
    "def mrr_k(pred, truth: int, k: int):\n",
    "    indexing = np.where(pred[:k] == truth)[0]\n",
    "    if len(indexing) > 0:\n",
    "        return 1 / (indexing[0] + 1)\n",
    "    else:\n",
    "        return 0\n",
    "\n",
    "\n",
    "def recall_k(pred, truth: int, k: int) -> int:\n",
    "    answer = truth in pred[:k]\n",
    "    return int(answer)"
   ]
  },
  {
   "cell_type": "markdown",
   "id": "e29cc080",
   "metadata": {},
   "source": [
    "## 4.2 Model Architecture"
   ]
  },
  {
   "cell_type": "code",
   "execution_count": 36,
   "id": "cdfa27b3",
   "metadata": {},
   "outputs": [],
   "source": [
    "import numpy as np\n",
    "import tensorflow as tf\n",
    "from tensorflow.keras.layers import Input, Dense, Dropout, GRU\n",
    "from tensorflow.keras.losses import categorical_crossentropy\n",
    "from tensorflow.keras.models import Model\n",
    "from tensorflow.keras.optimizers import Adam\n",
    "from tensorflow.keras.utils import to_categorical\n",
    "from tqdm import tqdm"
   ]
  },
  {
   "cell_type": "code",
   "execution_count": 37,
   "id": "c2e0fb75",
   "metadata": {},
   "outputs": [],
   "source": [
    "def create_model(args):\n",
    "    inputs = Input(batch_shape=(args.batch_size, 1, args.num_items))\n",
    "    gru, _ = GRU(args.hsz, stateful=True, return_state=True, name='GRU')(inputs)\n",
    "    dropout = Dropout(args.drop_rate)(gru)\n",
    "    predictions = Dense(args.num_items, activation='softmax')(dropout)\n",
    "    model = Model(inputs=inputs, outputs=[predictions])\n",
    "    model.compile(loss=categorical_crossentropy, optimizer=Adam(args.lr), metrics=['accuracy'])\n",
    "    model.summary()\n",
    "    return model"
   ]
  },
  {
   "cell_type": "markdown",
   "id": "2fd9cac5",
   "metadata": {},
   "source": [
    "* 모델에 사용할 하이퍼파라미터를 class 형식으로 관리해보자."
   ]
  },
  {
   "cell_type": "code",
   "execution_count": 38,
   "id": "b73810c1",
   "metadata": {},
   "outputs": [],
   "source": [
    "class Args:\n",
    "    def __init__(self, tr, val, test, batch_size, hsz, drop_rate, lr, epochs, k):\n",
    "        self.tr = tr\n",
    "        self.val = val\n",
    "        self.test = test\n",
    "        self.num_items = tr['ItemId'].nunique()\n",
    "        self.num_sessions = tr['UserId'].nunique()\n",
    "        self.batch_size = batch_size\n",
    "        self.hsz = hsz\n",
    "        self.drop_rate = drop_rate\n",
    "        self.lr = lr\n",
    "        self.epochs = epochs\n",
    "        self.k = k\n",
    "\n",
    "args = Args(tr, val, test, batch_size=128, hsz=50, drop_rate=0.1, lr=0.001, epochs=3, k=20)"
   ]
  },
  {
   "cell_type": "code",
   "execution_count": 39,
   "id": "ef1bf64c",
   "metadata": {
    "scrolled": true
   },
   "outputs": [
    {
     "name": "stdout",
     "output_type": "stream",
     "text": [
      "Model: \"model\"\n",
      "_________________________________________________________________\n",
      "Layer (type)                 Output Shape              Param #   \n",
      "=================================================================\n",
      "input_1 (InputLayer)         [(128, 1, 3620)]          0         \n",
      "_________________________________________________________________\n",
      "GRU (GRU)                    [(128, 50), (128, 50)]    550800    \n",
      "_________________________________________________________________\n",
      "dropout (Dropout)            (128, 50)                 0         \n",
      "_________________________________________________________________\n",
      "dense (Dense)                (128, 3620)               184620    \n",
      "=================================================================\n",
      "Total params: 735,420\n",
      "Trainable params: 735,420\n",
      "Non-trainable params: 0\n",
      "_________________________________________________________________\n"
     ]
    }
   ],
   "source": [
    "model = create_model(args)"
   ]
  },
  {
   "cell_type": "markdown",
   "id": "faed5fed",
   "metadata": {},
   "source": [
    "---"
   ]
  },
  {
   "cell_type": "markdown",
   "id": "ccab596f",
   "metadata": {},
   "source": [
    "# Step 5. 모델 학습"
   ]
  },
  {
   "cell_type": "code",
   "execution_count": 41,
   "id": "24903da1",
   "metadata": {},
   "outputs": [],
   "source": [
    "# train 셋으로 학습하면서 valid 셋으로 검증합니다.\n",
    "def train_model(model, args):\n",
    "    train_dataset = SessionDataset(args.tr)\n",
    "    train_loader = SessionDataLoader(train_dataset, batch_size=args.batch_size)\n",
    "\n",
    "    for epoch in range(1, args.epochs + 1):\n",
    "        total_step = len(args.tr) - args.tr['UserId'].nunique()\n",
    "        tr_loader = tqdm(train_loader, total=total_step // args.batch_size, desc='Train', mininterval=1)\n",
    "        for feat, target, mask in tr_loader:\n",
    "            reset_hidden_states(model, mask)  # 종료된 session은 hidden_state를 초기화합니다. 아래 메서드에서 확인해주세요.\n",
    "\n",
    "            input_ohe = to_categorical(feat, num_classes=args.num_items)\n",
    "            input_ohe = np.expand_dims(input_ohe, axis=1)\n",
    "            target_ohe = to_categorical(target, num_classes=args.num_items)\n",
    "\n",
    "            result = model.train_on_batch(input_ohe, target_ohe)\n",
    "            tr_loader.set_postfix(train_loss=result[0], accuracy = result[1])\n",
    "\n",
    "        val_recall, val_mrr = get_metrics(args.val, model, args, args.k)  # valid set에 대해 검증합니다.\n",
    "\n",
    "        print(f\"\\t - Recall@{args.k} epoch {epoch}: {val_recall:3f}\")\n",
    "        print(f\"\\t - MRR@{args.k}    epoch {epoch}: {val_mrr:3f}\\n\")\n",
    "\n",
    "\n",
    "def reset_hidden_states(model, mask):\n",
    "    gru_layer = model.get_layer(name='GRU')  # model에서 gru layer를 가져옵니다.\n",
    "    hidden_states = gru_layer.states[0].numpy()  # gru_layer의 parameter를 가져옵니다.\n",
    "    for elt in mask:  # mask된 인덱스 즉, 종료된 세션의 인덱스를 돌면서\n",
    "        hidden_states[elt, :] = 0  # parameter를 초기화 합니다.\n",
    "    gru_layer.reset_states(states=hidden_states)\n",
    "\n",
    "\n",
    "def get_metrics(data, model, args, k: int):  # valid셋과 test셋을 평가하는 코드입니다. \n",
    "                                             # train과 거의 같지만 mrr, recall을 구하는 라인이 있습니다.\n",
    "    dataset = SessionDataset(data)\n",
    "    loader = SessionDataLoader(dataset, batch_size=args.batch_size)\n",
    "    recall_list, mrr_list = [], []\n",
    "\n",
    "    total_step = len(data) - data['UserId'].nunique()\n",
    "    for inputs, label, mask in tqdm(loader, total=total_step // args.batch_size, desc='Evaluation', mininterval=1):\n",
    "        reset_hidden_states(model, mask)\n",
    "        input_ohe = to_categorical(inputs, num_classes=args.num_items)\n",
    "        input_ohe = np.expand_dims(input_ohe, axis=1)\n",
    "\n",
    "        pred = model.predict(input_ohe, batch_size=args.batch_size)\n",
    "        pred_arg = tf.argsort(pred, direction='DESCENDING')  # softmax 값이 큰 순서대로 sorting 합니다.\n",
    "\n",
    "        length = len(inputs)\n",
    "        recall_list.extend([recall_k(pred_arg[i], label[i], k) for i in range(length)])\n",
    "        mrr_list.extend([mrr_k(pred_arg[i], label[i], k) for i in range(length)])\n",
    "\n",
    "    recall, mrr = np.mean(recall_list), np.mean(mrr_list)\n",
    "    return recall, mrr"
   ]
  },
  {
   "cell_type": "code",
   "execution_count": 42,
   "id": "f86c089d",
   "metadata": {},
   "outputs": [
    {
     "name": "stderr",
     "output_type": "stream",
     "text": [
      "Train:  98%|█████████▊| 6249/6384 [03:55<00:05, 26.49it/s, accuracy=0.00781, train_loss=6.23]\n",
      "Evaluation:  39%|███▉      | 20/51 [00:14<00:22,  1.36it/s]\n"
     ]
    },
    {
     "name": "stdout",
     "output_type": "stream",
     "text": [
      "\t - Recall@20 epoch 1: 0.087891\n",
      "\t - MRR@20    epoch 1: 0.018676\n",
      "\n"
     ]
    },
    {
     "name": "stderr",
     "output_type": "stream",
     "text": [
      "Train:  98%|█████████▊| 6249/6384 [03:50<00:04, 27.08it/s, accuracy=0.0547, train_loss=5.71] \n",
      "Evaluation:  39%|███▉      | 20/51 [00:14<00:21,  1.41it/s]\n"
     ]
    },
    {
     "name": "stdout",
     "output_type": "stream",
     "text": [
      "\t - Recall@20 epoch 2: 0.105859\n",
      "\t - MRR@20    epoch 2: 0.027585\n",
      "\n"
     ]
    },
    {
     "name": "stderr",
     "output_type": "stream",
     "text": [
      "Train:  98%|█████████▊| 6249/6384 [03:51<00:05, 26.96it/s, accuracy=0.0469, train_loss=5.48] \n",
      "Evaluation:  39%|███▉      | 20/51 [00:14<00:21,  1.41it/s]"
     ]
    },
    {
     "name": "stdout",
     "output_type": "stream",
     "text": [
      "\t - Recall@20 epoch 3: 0.113281\n",
      "\t - MRR@20    epoch 3: 0.031224\n",
      "\n"
     ]
    },
    {
     "name": "stderr",
     "output_type": "stream",
     "text": [
      "\n"
     ]
    }
   ],
   "source": [
    "train_model(model, args)"
   ]
  },
  {
   "cell_type": "markdown",
   "id": "c46fe96d",
   "metadata": {},
   "source": [
    "---"
   ]
  },
  {
   "cell_type": "markdown",
   "id": "9d4b5173",
   "metadata": {},
   "source": [
    "# Step 6. 모델 테스트\n",
    "* 지금까지 작성한 모델이 테스트셋에 대해서 어느정도 성능을 내는지 검증해보자."
   ]
  },
  {
   "cell_type": "code",
   "execution_count": 43,
   "id": "bd47050f",
   "metadata": {},
   "outputs": [
    {
     "name": "stderr",
     "output_type": "stream",
     "text": [
      "Evaluation:  33%|███▎      | 15/46 [00:10<00:22,  1.40it/s]"
     ]
    },
    {
     "name": "stdout",
     "output_type": "stream",
     "text": [
      "\t - Recall@20: 0.136458\n",
      "\t - MRR@20: 0.038581\n",
      "\n"
     ]
    },
    {
     "name": "stderr",
     "output_type": "stream",
     "text": [
      "\n"
     ]
    }
   ],
   "source": [
    "def test_model(model, args, test):\n",
    "    test_recall, test_mrr = get_metrics(test, model, args, 20)\n",
    "    print(f\"\\t - Recall@{args.k}: {test_recall:3f}\")\n",
    "    print(f\"\\t - MRR@{args.k}: {test_mrr:3f}\\n\")\n",
    "\n",
    "test_model(model, args, test)"
   ]
  },
  {
   "cell_type": "markdown",
   "id": "18e81aac",
   "metadata": {},
   "source": [
    "---"
   ]
  },
  {
   "cell_type": "markdown",
   "id": "0d88d424",
   "metadata": {},
   "source": [
    "# Step 7. 모델 개선 (하이퍼파라미터 변경)"
   ]
  },
  {
   "cell_type": "markdown",
   "id": "7e0eb6bd",
   "metadata": {},
   "source": [
    "## 7.1 epoch 3 → 10 변경\n",
    "* 확실히 epoch를 늘리니 미세하지만 성능이 좋아지는 것을 확인할 수 있다."
   ]
  },
  {
   "cell_type": "code",
   "execution_count": 44,
   "id": "8264c9c8",
   "metadata": {},
   "outputs": [],
   "source": [
    "args = Args(tr, val, test, batch_size=128, hsz=50, drop_rate=0.1, lr=0.001, epochs=10, k=20)"
   ]
  },
  {
   "cell_type": "code",
   "execution_count": 45,
   "id": "ce3d6655",
   "metadata": {},
   "outputs": [
    {
     "name": "stderr",
     "output_type": "stream",
     "text": [
      "Train:  98%|█████████▊| 6249/6384 [03:54<00:05, 26.64it/s, accuracy=0.0547, train_loss=5.4]  \n",
      "Evaluation:  39%|███▉      | 20/51 [00:14<00:21,  1.42it/s]\n"
     ]
    },
    {
     "name": "stdout",
     "output_type": "stream",
     "text": [
      "\t - Recall@20 epoch 1: 0.119531\n",
      "\t - MRR@20    epoch 1: 0.034030\n",
      "\n"
     ]
    },
    {
     "name": "stderr",
     "output_type": "stream",
     "text": [
      "Train:  98%|█████████▊| 6249/6384 [03:55<00:05, 26.50it/s, accuracy=0.0703, train_loss=5.39] \n",
      "Evaluation:  39%|███▉      | 20/51 [00:14<00:21,  1.41it/s]\n"
     ]
    },
    {
     "name": "stdout",
     "output_type": "stream",
     "text": [
      "\t - Recall@20 epoch 2: 0.121875\n",
      "\t - MRR@20    epoch 2: 0.035342\n",
      "\n"
     ]
    },
    {
     "name": "stderr",
     "output_type": "stream",
     "text": [
      "Train:  98%|█████████▊| 6249/6384 [03:53<00:05, 26.73it/s, accuracy=0.0547, train_loss=5.41] \n",
      "Evaluation:  39%|███▉      | 20/51 [00:13<00:21,  1.43it/s]\n"
     ]
    },
    {
     "name": "stdout",
     "output_type": "stream",
     "text": [
      "\t - Recall@20 epoch 3: 0.121484\n",
      "\t - MRR@20    epoch 3: 0.036599\n",
      "\n"
     ]
    },
    {
     "name": "stderr",
     "output_type": "stream",
     "text": [
      "Train:  98%|█████████▊| 6249/6384 [03:55<00:05, 26.53it/s, accuracy=0.0703, train_loss=5.36] \n",
      "Evaluation:  39%|███▉      | 20/51 [00:13<00:21,  1.45it/s]\n"
     ]
    },
    {
     "name": "stdout",
     "output_type": "stream",
     "text": [
      "\t - Recall@20 epoch 4: 0.123828\n",
      "\t - MRR@20    epoch 4: 0.038093\n",
      "\n"
     ]
    },
    {
     "name": "stderr",
     "output_type": "stream",
     "text": [
      "Train:  98%|█████████▊| 6249/6384 [04:02<00:05, 25.77it/s, accuracy=0.0469, train_loss=5.35] \n",
      "Evaluation:  39%|███▉      | 20/51 [00:14<00:22,  1.40it/s]\n"
     ]
    },
    {
     "name": "stdout",
     "output_type": "stream",
     "text": [
      "\t - Recall@20 epoch 5: 0.122656\n",
      "\t - MRR@20    epoch 5: 0.038161\n",
      "\n"
     ]
    },
    {
     "name": "stderr",
     "output_type": "stream",
     "text": [
      "Train:  98%|█████████▊| 6249/6384 [03:56<00:05, 26.42it/s, accuracy=0.0547, train_loss=5.38] \n",
      "Evaluation:  39%|███▉      | 20/51 [00:14<00:21,  1.41it/s]\n"
     ]
    },
    {
     "name": "stdout",
     "output_type": "stream",
     "text": [
      "\t - Recall@20 epoch 6: 0.120703\n",
      "\t - MRR@20    epoch 6: 0.038389\n",
      "\n"
     ]
    },
    {
     "name": "stderr",
     "output_type": "stream",
     "text": [
      "Train:  98%|█████████▊| 6249/6384 [03:55<00:05, 26.54it/s, accuracy=0.0625, train_loss=5.3]  \n",
      "Evaluation:  39%|███▉      | 20/51 [00:14<00:21,  1.41it/s]\n"
     ]
    },
    {
     "name": "stdout",
     "output_type": "stream",
     "text": [
      "\t - Recall@20 epoch 7: 0.122266\n",
      "\t - MRR@20    epoch 7: 0.039385\n",
      "\n"
     ]
    },
    {
     "name": "stderr",
     "output_type": "stream",
     "text": [
      "Train:  98%|█████████▊| 6249/6384 [03:59<00:05, 26.10it/s, accuracy=0.0859, train_loss=5.32] \n",
      "Evaluation:  39%|███▉      | 20/51 [00:14<00:21,  1.41it/s]\n"
     ]
    },
    {
     "name": "stdout",
     "output_type": "stream",
     "text": [
      "\t - Recall@20 epoch 8: 0.121875\n",
      "\t - MRR@20    epoch 8: 0.039303\n",
      "\n"
     ]
    },
    {
     "name": "stderr",
     "output_type": "stream",
     "text": [
      "Train:  98%|█████████▊| 6249/6384 [04:00<00:05, 25.96it/s, accuracy=0.0703, train_loss=5.3]  \n",
      "Evaluation:  39%|███▉      | 20/51 [00:13<00:21,  1.46it/s]\n"
     ]
    },
    {
     "name": "stdout",
     "output_type": "stream",
     "text": [
      "\t - Recall@20 epoch 9: 0.125391\n",
      "\t - MRR@20    epoch 9: 0.039479\n",
      "\n"
     ]
    },
    {
     "name": "stderr",
     "output_type": "stream",
     "text": [
      "Train:  98%|█████████▊| 6249/6384 [03:57<00:05, 26.26it/s, accuracy=0.0781, train_loss=5.34] \n",
      "Evaluation:  39%|███▉      | 20/51 [00:13<00:21,  1.46it/s]"
     ]
    },
    {
     "name": "stdout",
     "output_type": "stream",
     "text": [
      "\t - Recall@20 epoch 10: 0.125000\n",
      "\t - MRR@20    epoch 10: 0.039656\n",
      "\n"
     ]
    },
    {
     "name": "stderr",
     "output_type": "stream",
     "text": [
      "\n"
     ]
    }
   ],
   "source": [
    "train_model(model, args)"
   ]
  },
  {
   "cell_type": "code",
   "execution_count": 46,
   "id": "82c9ec08",
   "metadata": {
    "scrolled": false
   },
   "outputs": [
    {
     "name": "stderr",
     "output_type": "stream",
     "text": [
      "Evaluation:  33%|███▎      | 15/46 [00:10<00:21,  1.42it/s]"
     ]
    },
    {
     "name": "stdout",
     "output_type": "stream",
     "text": [
      "\t - Recall@20: 0.151042\n",
      "\t - MRR@20: 0.049617\n",
      "\n"
     ]
    },
    {
     "name": "stderr",
     "output_type": "stream",
     "text": [
      "\n"
     ]
    }
   ],
   "source": [
    "test_model(model, args, test)"
   ]
  },
  {
   "cell_type": "markdown",
   "id": "c0665aea",
   "metadata": {},
   "source": [
    "## 7.2 learning rate 0.001 → 0.01\n",
    "* `learning rate`를 0.01로 변경하였으나 결과는 0.001이 더 좋은 것을 확인할 수 있다."
   ]
  },
  {
   "cell_type": "code",
   "execution_count": 47,
   "id": "a501516d",
   "metadata": {},
   "outputs": [],
   "source": [
    "args = Args(tr, val, test, batch_size=128, hsz=50, drop_rate=0.1, lr=0.01, epochs=10, k=20)"
   ]
  },
  {
   "cell_type": "code",
   "execution_count": 48,
   "id": "1ccdfb02",
   "metadata": {
    "scrolled": false
   },
   "outputs": [
    {
     "name": "stderr",
     "output_type": "stream",
     "text": [
      "Train:  98%|█████████▊| 6249/6384 [04:06<00:05, 25.31it/s, accuracy=0.0703, train_loss=5.29] \n",
      "Evaluation:  39%|███▉      | 20/51 [00:14<00:21,  1.42it/s]\n"
     ]
    },
    {
     "name": "stdout",
     "output_type": "stream",
     "text": [
      "\t - Recall@20 epoch 1: 0.126172\n",
      "\t - MRR@20    epoch 1: 0.040275\n",
      "\n"
     ]
    },
    {
     "name": "stderr",
     "output_type": "stream",
     "text": [
      "Train:  98%|█████████▊| 6249/6384 [04:01<00:05, 25.92it/s, accuracy=0.0938, train_loss=5.34] \n",
      "Evaluation:  39%|███▉      | 20/51 [00:14<00:22,  1.38it/s]\n"
     ]
    },
    {
     "name": "stdout",
     "output_type": "stream",
     "text": [
      "\t - Recall@20 epoch 2: 0.122656\n",
      "\t - MRR@20    epoch 2: 0.039394\n",
      "\n"
     ]
    },
    {
     "name": "stderr",
     "output_type": "stream",
     "text": [
      "Train:  98%|█████████▊| 6249/6384 [04:05<00:05, 25.43it/s, accuracy=0.0703, train_loss=5.33] \n",
      "Evaluation:  39%|███▉      | 20/51 [00:14<00:21,  1.42it/s]\n"
     ]
    },
    {
     "name": "stdout",
     "output_type": "stream",
     "text": [
      "\t - Recall@20 epoch 3: 0.123047\n",
      "\t - MRR@20    epoch 3: 0.039670\n",
      "\n"
     ]
    },
    {
     "name": "stderr",
     "output_type": "stream",
     "text": [
      "Train:  98%|█████████▊| 6249/6384 [04:08<00:05, 25.18it/s, accuracy=0.109, train_loss=5.27]  \n",
      "Evaluation:  39%|███▉      | 20/51 [00:14<00:21,  1.42it/s]\n"
     ]
    },
    {
     "name": "stdout",
     "output_type": "stream",
     "text": [
      "\t - Recall@20 epoch 4: 0.123828\n",
      "\t - MRR@20    epoch 4: 0.038650\n",
      "\n"
     ]
    },
    {
     "name": "stderr",
     "output_type": "stream",
     "text": [
      "Train:  98%|█████████▊| 6249/6384 [04:16<00:05, 24.40it/s, accuracy=0.0859, train_loss=5.26] \n",
      "Evaluation:  39%|███▉      | 20/51 [00:13<00:21,  1.43it/s]\n"
     ]
    },
    {
     "name": "stdout",
     "output_type": "stream",
     "text": [
      "\t - Recall@20 epoch 5: 0.129297\n",
      "\t - MRR@20    epoch 5: 0.039271\n",
      "\n"
     ]
    },
    {
     "name": "stderr",
     "output_type": "stream",
     "text": [
      "Train:  98%|█████████▊| 6249/6384 [04:18<00:05, 24.18it/s, accuracy=0.0703, train_loss=5.33] \n",
      "Evaluation:  39%|███▉      | 20/51 [00:13<00:21,  1.44it/s]\n"
     ]
    },
    {
     "name": "stdout",
     "output_type": "stream",
     "text": [
      "\t - Recall@20 epoch 6: 0.126172\n",
      "\t - MRR@20    epoch 6: 0.039102\n",
      "\n"
     ]
    },
    {
     "name": "stderr",
     "output_type": "stream",
     "text": [
      "Train:  98%|█████████▊| 6249/6384 [04:15<00:05, 24.47it/s, accuracy=0.0859, train_loss=5.29] \n",
      "Evaluation:  39%|███▉      | 20/51 [00:14<00:21,  1.43it/s]\n"
     ]
    },
    {
     "name": "stdout",
     "output_type": "stream",
     "text": [
      "\t - Recall@20 epoch 7: 0.130469\n",
      "\t - MRR@20    epoch 7: 0.039763\n",
      "\n"
     ]
    },
    {
     "name": "stderr",
     "output_type": "stream",
     "text": [
      "Train:  98%|█████████▊| 6249/6384 [04:17<00:05, 24.30it/s, accuracy=0.0938, train_loss=5.28] \n",
      "Evaluation:  39%|███▉      | 20/51 [00:14<00:22,  1.39it/s]\n"
     ]
    },
    {
     "name": "stdout",
     "output_type": "stream",
     "text": [
      "\t - Recall@20 epoch 8: 0.128516\n",
      "\t - MRR@20    epoch 8: 0.039145\n",
      "\n"
     ]
    },
    {
     "name": "stderr",
     "output_type": "stream",
     "text": [
      "Train:  98%|█████████▊| 6249/6384 [04:18<00:05, 24.14it/s, accuracy=0.0859, train_loss=5.28] \n",
      "Evaluation:  39%|███▉      | 20/51 [00:14<00:22,  1.40it/s]\n"
     ]
    },
    {
     "name": "stdout",
     "output_type": "stream",
     "text": [
      "\t - Recall@20 epoch 9: 0.131250\n",
      "\t - MRR@20    epoch 9: 0.040044\n",
      "\n"
     ]
    },
    {
     "name": "stderr",
     "output_type": "stream",
     "text": [
      "Train:  98%|█████████▊| 6249/6384 [04:13<00:05, 24.62it/s, accuracy=0.0625, train_loss=5.27] \n",
      "Evaluation:  39%|███▉      | 20/51 [00:14<00:21,  1.41it/s]"
     ]
    },
    {
     "name": "stdout",
     "output_type": "stream",
     "text": [
      "\t - Recall@20 epoch 10: 0.130078\n",
      "\t - MRR@20    epoch 10: 0.039079\n",
      "\n"
     ]
    },
    {
     "name": "stderr",
     "output_type": "stream",
     "text": [
      "\n"
     ]
    }
   ],
   "source": [
    "train_model(model, args)"
   ]
  },
  {
   "cell_type": "code",
   "execution_count": 49,
   "id": "a93119f8",
   "metadata": {},
   "outputs": [
    {
     "name": "stderr",
     "output_type": "stream",
     "text": [
      "Evaluation:  33%|███▎      | 15/46 [00:10<00:22,  1.38it/s]"
     ]
    },
    {
     "name": "stdout",
     "output_type": "stream",
     "text": [
      "\t - Recall@20: 0.150000\n",
      "\t - MRR@20: 0.047665\n",
      "\n"
     ]
    },
    {
     "name": "stderr",
     "output_type": "stream",
     "text": [
      "\n"
     ]
    }
   ],
   "source": [
    "test_model(model, args, test)"
   ]
  },
  {
   "cell_type": "markdown",
   "id": "c67a6870",
   "metadata": {},
   "source": [
    "## 7.3  learning rate 0.001 → 0.0001"
   ]
  },
  {
   "cell_type": "code",
   "execution_count": 66,
   "id": "4828aff6",
   "metadata": {},
   "outputs": [],
   "source": [
    "args = Args(tr, val, test, batch_size=128, hsz=50, drop_rate=0.1, lr=0.0001, epochs=10, k=20)"
   ]
  },
  {
   "cell_type": "code",
   "execution_count": 67,
   "id": "3c239cd5",
   "metadata": {},
   "outputs": [
    {
     "name": "stderr",
     "output_type": "stream",
     "text": [
      "Train:  98%|█████████▊| 6249/6384 [03:42<00:04, 28.11it/s, accuracy=0.0703, train_loss=5.26] \n",
      "Evaluation:  39%|███▉      | 20/51 [00:13<00:21,  1.47it/s]\n"
     ]
    },
    {
     "name": "stdout",
     "output_type": "stream",
     "text": [
      "\t - Recall@20 epoch 1: 0.125000\n",
      "\t - MRR@20    epoch 1: 0.038283\n",
      "\n"
     ]
    },
    {
     "name": "stderr",
     "output_type": "stream",
     "text": [
      "Train:  98%|█████████▊| 6249/6384 [03:40<00:04, 28.38it/s, accuracy=0.0859, train_loss=5.27] \n",
      "Evaluation:  39%|███▉      | 20/51 [00:13<00:21,  1.46it/s]\n"
     ]
    },
    {
     "name": "stdout",
     "output_type": "stream",
     "text": [
      "\t - Recall@20 epoch 2: 0.125391\n",
      "\t - MRR@20    epoch 2: 0.038987\n",
      "\n"
     ]
    },
    {
     "name": "stderr",
     "output_type": "stream",
     "text": [
      "Train:  98%|█████████▊| 6249/6384 [03:40<00:04, 28.31it/s, accuracy=0.0859, train_loss=5.16] \n",
      "Evaluation:  39%|███▉      | 20/51 [00:13<00:21,  1.45it/s]\n"
     ]
    },
    {
     "name": "stdout",
     "output_type": "stream",
     "text": [
      "\t - Recall@20 epoch 3: 0.126562\n",
      "\t - MRR@20    epoch 3: 0.038735\n",
      "\n"
     ]
    },
    {
     "name": "stderr",
     "output_type": "stream",
     "text": [
      "Train:  98%|█████████▊| 6249/6384 [03:49<00:04, 27.23it/s, accuracy=0.0938, train_loss=5.16] \n",
      "Evaluation:  39%|███▉      | 20/51 [00:14<00:22,  1.38it/s]\n"
     ]
    },
    {
     "name": "stdout",
     "output_type": "stream",
     "text": [
      "\t - Recall@20 epoch 4: 0.124219\n",
      "\t - MRR@20    epoch 4: 0.038163\n",
      "\n"
     ]
    },
    {
     "name": "stderr",
     "output_type": "stream",
     "text": [
      "Train:  98%|█████████▊| 6249/6384 [03:52<00:05, 26.85it/s, accuracy=0.125, train_loss=5.17]  \n",
      "Evaluation:  39%|███▉      | 20/51 [00:13<00:21,  1.46it/s]\n"
     ]
    },
    {
     "name": "stdout",
     "output_type": "stream",
     "text": [
      "\t - Recall@20 epoch 5: 0.125391\n",
      "\t - MRR@20    epoch 5: 0.038469\n",
      "\n"
     ]
    },
    {
     "name": "stderr",
     "output_type": "stream",
     "text": [
      "Train:  98%|█████████▊| 6249/6384 [03:34<00:04, 29.12it/s, accuracy=0.0781, train_loss=5.21] \n",
      "Evaluation:  39%|███▉      | 20/51 [00:13<00:21,  1.44it/s]\n"
     ]
    },
    {
     "name": "stdout",
     "output_type": "stream",
     "text": [
      "\t - Recall@20 epoch 6: 0.126562\n",
      "\t - MRR@20    epoch 6: 0.038902\n",
      "\n"
     ]
    },
    {
     "name": "stderr",
     "output_type": "stream",
     "text": [
      "Train:  98%|█████████▊| 6249/6384 [03:43<00:04, 27.91it/s, accuracy=0.0781, train_loss=5.18] \n",
      "Evaluation:  39%|███▉      | 20/51 [00:13<00:21,  1.43it/s]\n"
     ]
    },
    {
     "name": "stdout",
     "output_type": "stream",
     "text": [
      "\t - Recall@20 epoch 7: 0.125391\n",
      "\t - MRR@20    epoch 7: 0.038432\n",
      "\n"
     ]
    },
    {
     "name": "stderr",
     "output_type": "stream",
     "text": [
      "Train:  98%|█████████▊| 6249/6384 [03:39<00:04, 28.42it/s, accuracy=0.117, train_loss=5.14]  \n",
      "Evaluation:  39%|███▉      | 20/51 [00:13<00:21,  1.45it/s]\n"
     ]
    },
    {
     "name": "stdout",
     "output_type": "stream",
     "text": [
      "\t - Recall@20 epoch 8: 0.124609\n",
      "\t - MRR@20    epoch 8: 0.037523\n",
      "\n"
     ]
    },
    {
     "name": "stderr",
     "output_type": "stream",
     "text": [
      "Train:  98%|█████████▊| 6249/6384 [03:43<00:04, 28.01it/s, accuracy=0.117, train_loss=5.19]  \n",
      "Evaluation:  39%|███▉      | 20/51 [00:13<00:21,  1.44it/s]\n"
     ]
    },
    {
     "name": "stdout",
     "output_type": "stream",
     "text": [
      "\t - Recall@20 epoch 9: 0.125000\n",
      "\t - MRR@20    epoch 9: 0.038378\n",
      "\n"
     ]
    },
    {
     "name": "stderr",
     "output_type": "stream",
     "text": [
      "Train:  98%|█████████▊| 6249/6384 [03:57<00:05, 26.27it/s, accuracy=0.109, train_loss=5.21]  \n",
      "Evaluation:  39%|███▉      | 20/51 [00:15<00:23,  1.32it/s]"
     ]
    },
    {
     "name": "stdout",
     "output_type": "stream",
     "text": [
      "\t - Recall@20 epoch 10: 0.125391\n",
      "\t - MRR@20    epoch 10: 0.038714\n",
      "\n"
     ]
    },
    {
     "name": "stderr",
     "output_type": "stream",
     "text": [
      "\n"
     ]
    }
   ],
   "source": [
    "train_model(model, args)"
   ]
  },
  {
   "cell_type": "code",
   "execution_count": 68,
   "id": "0bfc8ace",
   "metadata": {},
   "outputs": [
    {
     "name": "stderr",
     "output_type": "stream",
     "text": [
      "Evaluation:  33%|███▎      | 15/46 [00:10<00:22,  1.37it/s]"
     ]
    },
    {
     "name": "stdout",
     "output_type": "stream",
     "text": [
      "\t - Recall@20: 0.142187\n",
      "\t - MRR@20: 0.048241\n",
      "\n"
     ]
    },
    {
     "name": "stderr",
     "output_type": "stream",
     "text": [
      "\n"
     ]
    }
   ],
   "source": [
    "test_model(model, args, test)"
   ]
  },
  {
   "cell_type": "markdown",
   "id": "ea5996f9",
   "metadata": {},
   "source": [
    "## 7.4 drop rate 0.1 → 0.5 변경\n",
    "* 위에서 learning rate를 변경하여 성능을 확인하였지만, 변경하지 않은 것이 더 성능이 나아 다시 learning rate를 0.001로 변경하여 진행한다."
   ]
  },
  {
   "cell_type": "code",
   "execution_count": 50,
   "id": "f7a9e601",
   "metadata": {},
   "outputs": [],
   "source": [
    "args = Args(tr, val, test, batch_size=128, hsz=50, drop_rate=0.5, lr=0.001, epochs=10, k=20)"
   ]
  },
  {
   "cell_type": "code",
   "execution_count": 51,
   "id": "e145556f",
   "metadata": {},
   "outputs": [
    {
     "name": "stderr",
     "output_type": "stream",
     "text": [
      "Train:  98%|█████████▊| 6249/6384 [04:12<00:05, 24.79it/s, accuracy=0.0703, train_loss=5.29] \n",
      "Evaluation:  39%|███▉      | 20/51 [00:13<00:21,  1.44it/s]\n"
     ]
    },
    {
     "name": "stdout",
     "output_type": "stream",
     "text": [
      "\t - Recall@20 epoch 1: 0.132422\n",
      "\t - MRR@20    epoch 1: 0.038836\n",
      "\n"
     ]
    },
    {
     "name": "stderr",
     "output_type": "stream",
     "text": [
      "Train:  98%|█████████▊| 6249/6384 [04:03<00:05, 25.62it/s, accuracy=0.0859, train_loss=5.18] \n",
      "Evaluation:  39%|███▉      | 20/51 [00:14<00:21,  1.42it/s]\n"
     ]
    },
    {
     "name": "stdout",
     "output_type": "stream",
     "text": [
      "\t - Recall@20 epoch 2: 0.126172\n",
      "\t - MRR@20    epoch 2: 0.039333\n",
      "\n"
     ]
    },
    {
     "name": "stderr",
     "output_type": "stream",
     "text": [
      "Train:  98%|█████████▊| 6249/6384 [04:05<00:05, 25.42it/s, accuracy=0.0938, train_loss=5.2]  \n",
      "Evaluation:  39%|███▉      | 20/51 [00:13<00:21,  1.44it/s]\n"
     ]
    },
    {
     "name": "stdout",
     "output_type": "stream",
     "text": [
      "\t - Recall@20 epoch 3: 0.128516\n",
      "\t - MRR@20    epoch 3: 0.038893\n",
      "\n"
     ]
    },
    {
     "name": "stderr",
     "output_type": "stream",
     "text": [
      "Train:  98%|█████████▊| 6249/6384 [03:57<00:05, 26.31it/s, accuracy=0.117, train_loss=5.24]  \n",
      "Evaluation:  39%|███▉      | 20/51 [00:14<00:22,  1.38it/s]\n"
     ]
    },
    {
     "name": "stdout",
     "output_type": "stream",
     "text": [
      "\t - Recall@20 epoch 4: 0.129688\n",
      "\t - MRR@20    epoch 4: 0.039206\n",
      "\n"
     ]
    },
    {
     "name": "stderr",
     "output_type": "stream",
     "text": [
      "Train:  98%|█████████▊| 6249/6384 [03:53<00:05, 26.80it/s, accuracy=0.0938, train_loss=5.3]  \n",
      "Evaluation:  39%|███▉      | 20/51 [00:13<00:21,  1.44it/s]\n"
     ]
    },
    {
     "name": "stdout",
     "output_type": "stream",
     "text": [
      "\t - Recall@20 epoch 5: 0.127344\n",
      "\t - MRR@20    epoch 5: 0.038613\n",
      "\n"
     ]
    },
    {
     "name": "stderr",
     "output_type": "stream",
     "text": [
      "Train:  98%|█████████▊| 6249/6384 [03:57<00:05, 26.32it/s, accuracy=0.0859, train_loss=5.21] \n",
      "Evaluation:  39%|███▉      | 20/51 [00:14<00:22,  1.40it/s]\n"
     ]
    },
    {
     "name": "stdout",
     "output_type": "stream",
     "text": [
      "\t - Recall@20 epoch 6: 0.128906\n",
      "\t - MRR@20    epoch 6: 0.038765\n",
      "\n"
     ]
    },
    {
     "name": "stderr",
     "output_type": "stream",
     "text": [
      "Train:  98%|█████████▊| 6249/6384 [03:52<00:05, 26.85it/s, accuracy=0.0859, train_loss=5.19] \n",
      "Evaluation:  39%|███▉      | 20/51 [00:13<00:21,  1.43it/s]\n"
     ]
    },
    {
     "name": "stdout",
     "output_type": "stream",
     "text": [
      "\t - Recall@20 epoch 7: 0.128516\n",
      "\t - MRR@20    epoch 7: 0.038798\n",
      "\n"
     ]
    },
    {
     "name": "stderr",
     "output_type": "stream",
     "text": [
      "Train:  98%|█████████▊| 6249/6384 [03:49<00:04, 27.22it/s, accuracy=0.0859, train_loss=5.2]  \n",
      "Evaluation:  39%|███▉      | 20/51 [00:14<00:22,  1.41it/s]\n"
     ]
    },
    {
     "name": "stdout",
     "output_type": "stream",
     "text": [
      "\t - Recall@20 epoch 8: 0.128906\n",
      "\t - MRR@20    epoch 8: 0.037989\n",
      "\n"
     ]
    },
    {
     "name": "stderr",
     "output_type": "stream",
     "text": [
      "Train:  98%|█████████▊| 6249/6384 [03:44<00:04, 27.81it/s, accuracy=0.0781, train_loss=5.17] \n",
      "Evaluation:  39%|███▉      | 20/51 [00:13<00:21,  1.43it/s]\n"
     ]
    },
    {
     "name": "stdout",
     "output_type": "stream",
     "text": [
      "\t - Recall@20 epoch 9: 0.125000\n",
      "\t - MRR@20    epoch 9: 0.036959\n",
      "\n"
     ]
    },
    {
     "name": "stderr",
     "output_type": "stream",
     "text": [
      "Train:  98%|█████████▊| 6249/6384 [03:48<00:04, 27.38it/s, accuracy=0.0781, train_loss=5.19] \n",
      "Evaluation:  39%|███▉      | 20/51 [00:13<00:21,  1.44it/s]"
     ]
    },
    {
     "name": "stdout",
     "output_type": "stream",
     "text": [
      "\t - Recall@20 epoch 10: 0.125781\n",
      "\t - MRR@20    epoch 10: 0.037774\n",
      "\n"
     ]
    },
    {
     "name": "stderr",
     "output_type": "stream",
     "text": [
      "\n"
     ]
    }
   ],
   "source": [
    "train_model(model, args)"
   ]
  },
  {
   "cell_type": "code",
   "execution_count": 52,
   "id": "e0454f68",
   "metadata": {
    "scrolled": true
   },
   "outputs": [
    {
     "name": "stderr",
     "output_type": "stream",
     "text": [
      "Evaluation:  33%|███▎      | 15/46 [00:11<00:23,  1.31it/s]"
     ]
    },
    {
     "name": "stdout",
     "output_type": "stream",
     "text": [
      "\t - Recall@20: 0.143229\n",
      "\t - MRR@20: 0.047208\n",
      "\n"
     ]
    },
    {
     "name": "stderr",
     "output_type": "stream",
     "text": [
      "\n"
     ]
    }
   ],
   "source": [
    "test_model(model, args, test)"
   ]
  },
  {
   "cell_type": "markdown",
   "id": "d32bcb82",
   "metadata": {},
   "source": [
    "### 하이퍼파라미터 변경 결과\n",
    "1. 변경 전 (batch_size=128, hsz=50, drop_rate=0.1, lr=0.001, epochs=3, k=20)  \n",
    "    → Recall@20: 0.136458 /  MRR@20: 0.038581  \n",
    "    \n",
    "    \n",
    "    \n",
    "2. 에포크 변경 (batch_size=128, hsz=50, drop_rate=0.1, lr=0.001, epochs=10, k=20)  \n",
    "    → Recall@20: 0.151042 / MRR@20: 0.049617  \n",
    "    \n",
    "    \n",
    "    \n",
    "3. learning rate 변경 (batch_size=128, hsz=50, drop_rate=0.1, lr=0.01, epochs=10, k=20)  \n",
    "    → Recall@20: 0.150000 / MRR@20: 0.047665  \n",
    "    \n",
    "\n",
    "4. learning rate 변경 2 (batch_size=128, hsz=50, drop_rate=0.1, lr=0.001, epochs=10, k=20) \n",
    "    → Recall@20: 0.142187 / MRR@20: 0.048241  \n",
    "    \n",
    "    \n",
    "5. drop rate 변경 ( batch_size=128, hsz=50, drop_rate=0.5, lr=0.001, epochs=10, k=20)  \n",
    "    → Recall@20: 0.143229 /  MRR@20: 0.047208  \n",
    "    \n",
    "    \n",
    "▶▶ learning rate, drop rate를 변경하였지만 성능이 저하되어 에포크만 10으로 변경하여 진행하는 것이 성능 향상에 도움이 된다고 판단된다."
   ]
  },
  {
   "cell_type": "markdown",
   "id": "84b219be",
   "metadata": {},
   "source": [
    "---"
   ]
  },
  {
   "cell_type": "markdown",
   "id": "7270d183",
   "metadata": {},
   "source": [
    "# 🌞 회고\n"
   ]
  },
  {
   "cell_type": "markdown",
   "id": "103416b0",
   "metadata": {},
   "source": [
    "## 1) Session Id 정의\n",
    "* `UserId`를 Session Id로 정의하고 프로젝트를 진행하였다.\n",
    "* 프로젝트 진행 후 우수 프로젝트 코드를 참고하는데, `UserId`와 `Time` 기준으로 Session Id를 정의한 코드가 있어서 이러한 방법으로 Session Id를 정의하여 진행하여 비교해보는 것이 좋겠다고 생각이 들어 진행을 해보았다.\n",
    "* 가장 좋은 성능을 나타내었던 하이퍼파라미터로 동일하게 하여 모델 학습을 하였다.\n",
    "* 그 결과 `Recall@20: 0.247396 / MRR@20: 0.090361`이 나왔다.\n",
    "\n",
    "### [다른 기준으로 Session Id 정의한 코드](https://github.com/aramssong/aiffel/blob/main/E-16/%5BE-16%5D%20Movielens_SBR_2.ipynb) "
   ]
  },
  {
   "cell_type": "markdown",
   "id": "d654b909",
   "metadata": {},
   "source": [
    "## 2) 결과\n",
    "- batch_size를 LMS에 있는 그대로 2048로 하였을 때, 훈련 시 index가 out of bound 되었다는 IndexError가 발생하였다.\n",
    "- 그래서 batch_size를 확 낮추어 128로 진행하였다.\n",
    "- 해당 파일에서 진행한 프로젝트(첫 파일)의 가장 좋았던 성능은 `Recall@20: 0.151042 / MRR@20: 0.049617`이었다.\n",
    "    \n",
    "    \n",
    "- Session Id를 어떻게 정의하느냐에 따라 결과가 크게 차이나는 것을 알게 되었다.\n",
    "- 단순히 `UserId`로만 정의하는 것이 아닌 `UserId`와 `Time`을 함께 기준으로 잡고 Session Id를 정의하였을 때 결과가 크게 향상된 것을 확인할 수 있었다."
   ]
  },
  {
   "cell_type": "markdown",
   "id": "ba01396a",
   "metadata": {},
   "source": [
    "## 3) 느낀 점"
   ]
  },
  {
   "cell_type": "markdown",
   "id": "3beec7d2",
   "metadata": {},
   "source": [
    "- 역시 추천시스템은 재밌다. 모처럼 재미있게 프로젝트를 한 것 같다.\n",
    "- 그리고 지난 번 익스에서 활용했던 데이터라 익숙해서 나름 편하게 프로젝트를 할 수 있었다.\n",
    "- 추천 시스템 쪽으로 더 공부해보고 싶었던 프로젝트였다.\n",
    "- `UserId`로만 Session Id를 정의한 것 말고도 `UserId`와 `Time`을 함께 기준으로 잡고 정의한 것도 직접 해보고 성능을 비교할 수 있어서 좋았다.\n",
    "- 역시 우수 프로젝트는 다르고,, 아직도 여전히 내가 부족하다는 것을 또 한번 느끼게 되었다...!😂"
   ]
  },
  {
   "cell_type": "markdown",
   "id": "491b9974",
   "metadata": {},
   "source": [
    "## 4) 기록용 참고 자료\n",
    "* 우연히 보게 된 게시글들인데 나중에 다시 봐도 좋을 것 같아서 자료 기록한다!\n",
    "- SBR 관련 게시글 : https://lsjsj92.tistory.com/590\n",
    "- 홈쇼핑모아에서 만드는 AI 기반 상품 추천 시스템 : https://www.comworld.co.kr/news/articleView.html?idxno=50160"
   ]
  }
 ],
 "metadata": {
  "kernelspec": {
   "display_name": "Python 3 (ipykernel)",
   "language": "python",
   "name": "python3"
  },
  "language_info": {
   "codemirror_mode": {
    "name": "ipython",
    "version": 3
   },
   "file_extension": ".py",
   "mimetype": "text/x-python",
   "name": "python",
   "nbconvert_exporter": "python",
   "pygments_lexer": "ipython3",
   "version": "3.9.7"
  }
 },
 "nbformat": 4,
 "nbformat_minor": 5
}
