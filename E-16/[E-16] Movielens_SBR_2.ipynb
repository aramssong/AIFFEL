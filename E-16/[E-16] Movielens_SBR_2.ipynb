{
 "cells": [
  {
   "cell_type": "markdown",
   "id": "491981c1",
   "metadata": {},
   "source": [
    "# Exp 16. 다음에 볼 영화 예측하기\n",
    "## 💡 다른 기준으로 SessionId 정의 \n",
    "* SessionId 정의를 다른 방식으로 해 본 주피터 노트북 파일이다.\n",
    "* `UserId`와 `Time` 기준으로 Session Id를 정의하였다.\n",
    "* (첫 파일에서는 `UserId`를 Session Id로 정의하여 진행하였다.)"
   ]
  },
  {
   "cell_type": "markdown",
   "id": "26df01cc",
   "metadata": {},
   "source": [
    "---"
   ]
  },
  {
   "cell_type": "markdown",
   "id": "8cb76cd0",
   "metadata": {},
   "source": [
    "# Step 0. 라이브러리 불러오기"
   ]
  },
  {
   "cell_type": "code",
   "execution_count": 1,
   "id": "01aa0282",
   "metadata": {},
   "outputs": [],
   "source": [
    "import datetime as dt\n",
    "from pathlib import Path\n",
    "import os\n",
    "\n",
    "import numpy as np\n",
    "import pandas as pd\n",
    "import tensorflow\n",
    "\n",
    "import matplotlib.pyplot as plt\n",
    "\n",
    "import warnings\n",
    "warnings.filterwarnings('ignore')\n",
    "\n",
    "# print(pandas.__version__)\n",
    "# print(tensorflow.__version__)"
   ]
  },
  {
   "cell_type": "markdown",
   "id": "4942b871",
   "metadata": {},
   "source": [
    "---"
   ]
  },
  {
   "cell_type": "markdown",
   "id": "5cacde32",
   "metadata": {},
   "source": [
    "# Step 1. 데이터 불러오기"
   ]
  },
  {
   "cell_type": "code",
   "execution_count": 2,
   "id": "81aab45c",
   "metadata": {},
   "outputs": [
    {
     "data": {
      "text/plain": [
       "PosixPath('/aiffel/aiffel/yoochoose/data/ratings.dat')"
      ]
     },
     "execution_count": 2,
     "metadata": {},
     "output_type": "execute_result"
    }
   ],
   "source": [
    "data_path = Path(os.getenv('HOME')+'/aiffel/yoochoose/data/') \n",
    "train_path = data_path / 'ratings.dat'\n",
    "train_path"
   ]
  },
  {
   "cell_type": "code",
   "execution_count": 3,
   "id": "67da95a5",
   "metadata": {},
   "outputs": [],
   "source": [
    "def load_data(data_path: Path, nrows=None):\n",
    "    data = pd.read_csv(data_path, sep='::', header=None, usecols=[0, 1, 2, 3], dtype={0: np.int32, 1: np.int32, 2: np.int32}, nrows=nrows)\n",
    "    data.columns = ['UserId', 'ItemId', 'Rating', 'Time']\n",
    "    return data"
   ]
  },
  {
   "cell_type": "code",
   "execution_count": 4,
   "id": "60bebd6b",
   "metadata": {
    "scrolled": false
   },
   "outputs": [
    {
     "data": {
      "text/html": [
       "<div>\n",
       "<style scoped>\n",
       "    .dataframe tbody tr th:only-of-type {\n",
       "        vertical-align: middle;\n",
       "    }\n",
       "\n",
       "    .dataframe tbody tr th {\n",
       "        vertical-align: top;\n",
       "    }\n",
       "\n",
       "    .dataframe thead th {\n",
       "        text-align: right;\n",
       "    }\n",
       "</style>\n",
       "<table border=\"1\" class=\"dataframe\">\n",
       "  <thead>\n",
       "    <tr style=\"text-align: right;\">\n",
       "      <th></th>\n",
       "      <th>UserId</th>\n",
       "      <th>ItemId</th>\n",
       "      <th>Rating</th>\n",
       "      <th>Time</th>\n",
       "    </tr>\n",
       "  </thead>\n",
       "  <tbody>\n",
       "    <tr>\n",
       "      <th>31</th>\n",
       "      <td>1</td>\n",
       "      <td>3186</td>\n",
       "      <td>4</td>\n",
       "      <td>978300019</td>\n",
       "    </tr>\n",
       "    <tr>\n",
       "      <th>22</th>\n",
       "      <td>1</td>\n",
       "      <td>1270</td>\n",
       "      <td>5</td>\n",
       "      <td>978300055</td>\n",
       "    </tr>\n",
       "    <tr>\n",
       "      <th>27</th>\n",
       "      <td>1</td>\n",
       "      <td>1721</td>\n",
       "      <td>4</td>\n",
       "      <td>978300055</td>\n",
       "    </tr>\n",
       "    <tr>\n",
       "      <th>37</th>\n",
       "      <td>1</td>\n",
       "      <td>1022</td>\n",
       "      <td>5</td>\n",
       "      <td>978300055</td>\n",
       "    </tr>\n",
       "    <tr>\n",
       "      <th>24</th>\n",
       "      <td>1</td>\n",
       "      <td>2340</td>\n",
       "      <td>3</td>\n",
       "      <td>978300103</td>\n",
       "    </tr>\n",
       "    <tr>\n",
       "      <th>...</th>\n",
       "      <td>...</td>\n",
       "      <td>...</td>\n",
       "      <td>...</td>\n",
       "      <td>...</td>\n",
       "    </tr>\n",
       "    <tr>\n",
       "      <th>1000019</th>\n",
       "      <td>6040</td>\n",
       "      <td>2917</td>\n",
       "      <td>4</td>\n",
       "      <td>997454429</td>\n",
       "    </tr>\n",
       "    <tr>\n",
       "      <th>999988</th>\n",
       "      <td>6040</td>\n",
       "      <td>1921</td>\n",
       "      <td>4</td>\n",
       "      <td>997454464</td>\n",
       "    </tr>\n",
       "    <tr>\n",
       "      <th>1000172</th>\n",
       "      <td>6040</td>\n",
       "      <td>1784</td>\n",
       "      <td>3</td>\n",
       "      <td>997454464</td>\n",
       "    </tr>\n",
       "    <tr>\n",
       "      <th>1000167</th>\n",
       "      <td>6040</td>\n",
       "      <td>161</td>\n",
       "      <td>3</td>\n",
       "      <td>997454486</td>\n",
       "    </tr>\n",
       "    <tr>\n",
       "      <th>1000042</th>\n",
       "      <td>6040</td>\n",
       "      <td>1221</td>\n",
       "      <td>4</td>\n",
       "      <td>998315055</td>\n",
       "    </tr>\n",
       "  </tbody>\n",
       "</table>\n",
       "<p>1000209 rows × 4 columns</p>\n",
       "</div>"
      ],
      "text/plain": [
       "         UserId  ItemId  Rating       Time\n",
       "31            1    3186       4  978300019\n",
       "22            1    1270       5  978300055\n",
       "27            1    1721       4  978300055\n",
       "37            1    1022       5  978300055\n",
       "24            1    2340       3  978300103\n",
       "...         ...     ...     ...        ...\n",
       "1000019    6040    2917       4  997454429\n",
       "999988     6040    1921       4  997454464\n",
       "1000172    6040    1784       3  997454464\n",
       "1000167    6040     161       3  997454486\n",
       "1000042    6040    1221       4  998315055\n",
       "\n",
       "[1000209 rows x 4 columns]"
      ]
     },
     "execution_count": 4,
     "metadata": {},
     "output_type": "execute_result"
    }
   ],
   "source": [
    "data = load_data(train_path, None)\n",
    "data.sort_values(['UserId', 'Time'], inplace=True)  # data를 id와 시간 순서로 정렬해줍니다.\n",
    "original_data_size = len(data)\n",
    "\n",
    "data"
   ]
  },
  {
   "cell_type": "markdown",
   "id": "4e88a014",
   "metadata": {},
   "source": [
    "* 추천 시스템을 구축할 때 가장 먼저 확인해볼 것은 유저수, 아이템 수이다.\n",
    "* 해당 데이터의 유저 수는 6040개, 아이템 수는 3706개이다."
   ]
  },
  {
   "cell_type": "code",
   "execution_count": 5,
   "id": "3e7f9cef",
   "metadata": {},
   "outputs": [
    {
     "data": {
      "text/plain": [
       "(6040, 3706)"
      ]
     },
     "execution_count": 5,
     "metadata": {},
     "output_type": "execute_result"
    }
   ],
   "source": [
    "data['UserId'].nunique(), data['ItemId'].nunique()"
   ]
  },
  {
   "cell_type": "markdown",
   "id": "40767104",
   "metadata": {},
   "source": [
    "---"
   ]
  },
  {
   "cell_type": "markdown",
   "id": "7ca1dda5",
   "metadata": {},
   "source": [
    "# Step 2. 데이터 전처리\n",
    "* 위에서는 `UserId`를 기준으로 SessionID를 생성하였다.\n",
    "* 하지만 우수프로젝트 코드를 확인하는데, `UserId`와 `Time`을 기준으로 SessionID를 생성하는 것을 보았다.\n",
    "* `UserId`와 `Time`을 기준으로 하면 성능이 더 향상될까하여 한 번 진행해보았다."
   ]
  },
  {
   "cell_type": "markdown",
   "id": "5e55332d",
   "metadata": {},
   "source": [
    "## 2.1 Session Id"
   ]
  },
  {
   "cell_type": "code",
   "execution_count": 6,
   "id": "58baf5fb",
   "metadata": {},
   "outputs": [
    {
     "data": {
      "text/html": [
       "<div>\n",
       "<style scoped>\n",
       "    .dataframe tbody tr th:only-of-type {\n",
       "        vertical-align: middle;\n",
       "    }\n",
       "\n",
       "    .dataframe tbody tr th {\n",
       "        vertical-align: top;\n",
       "    }\n",
       "\n",
       "    .dataframe thead th {\n",
       "        text-align: right;\n",
       "    }\n",
       "</style>\n",
       "<table border=\"1\" class=\"dataframe\">\n",
       "  <thead>\n",
       "    <tr style=\"text-align: right;\">\n",
       "      <th></th>\n",
       "      <th>index</th>\n",
       "      <th>UserId</th>\n",
       "      <th>Time</th>\n",
       "      <th>ItemId</th>\n",
       "    </tr>\n",
       "  </thead>\n",
       "  <tbody>\n",
       "    <tr>\n",
       "      <th>0</th>\n",
       "      <td>0</td>\n",
       "      <td>1</td>\n",
       "      <td>978300019</td>\n",
       "      <td>1</td>\n",
       "    </tr>\n",
       "    <tr>\n",
       "      <th>1</th>\n",
       "      <td>1</td>\n",
       "      <td>1</td>\n",
       "      <td>978300055</td>\n",
       "      <td>3</td>\n",
       "    </tr>\n",
       "    <tr>\n",
       "      <th>2</th>\n",
       "      <td>2</td>\n",
       "      <td>1</td>\n",
       "      <td>978300103</td>\n",
       "      <td>1</td>\n",
       "    </tr>\n",
       "    <tr>\n",
       "      <th>3</th>\n",
       "      <td>3</td>\n",
       "      <td>1</td>\n",
       "      <td>978300172</td>\n",
       "      <td>1</td>\n",
       "    </tr>\n",
       "    <tr>\n",
       "      <th>4</th>\n",
       "      <td>4</td>\n",
       "      <td>1</td>\n",
       "      <td>978300275</td>\n",
       "      <td>1</td>\n",
       "    </tr>\n",
       "    <tr>\n",
       "      <th>...</th>\n",
       "      <td>...</td>\n",
       "      <td>...</td>\n",
       "      <td>...</td>\n",
       "      <td>...</td>\n",
       "    </tr>\n",
       "    <tr>\n",
       "      <th>471158</th>\n",
       "      <td>471158</td>\n",
       "      <td>6040</td>\n",
       "      <td>997454398</td>\n",
       "      <td>1</td>\n",
       "    </tr>\n",
       "    <tr>\n",
       "      <th>471159</th>\n",
       "      <td>471159</td>\n",
       "      <td>6040</td>\n",
       "      <td>997454429</td>\n",
       "      <td>1</td>\n",
       "    </tr>\n",
       "    <tr>\n",
       "      <th>471160</th>\n",
       "      <td>471160</td>\n",
       "      <td>6040</td>\n",
       "      <td>997454464</td>\n",
       "      <td>2</td>\n",
       "    </tr>\n",
       "    <tr>\n",
       "      <th>471161</th>\n",
       "      <td>471161</td>\n",
       "      <td>6040</td>\n",
       "      <td>997454486</td>\n",
       "      <td>1</td>\n",
       "    </tr>\n",
       "    <tr>\n",
       "      <th>471162</th>\n",
       "      <td>471162</td>\n",
       "      <td>6040</td>\n",
       "      <td>998315055</td>\n",
       "      <td>1</td>\n",
       "    </tr>\n",
       "  </tbody>\n",
       "</table>\n",
       "<p>471163 rows × 4 columns</p>\n",
       "</div>"
      ],
      "text/plain": [
       "         index  UserId       Time  ItemId\n",
       "0            0       1  978300019       1\n",
       "1            1       1  978300055       3\n",
       "2            2       1  978300103       1\n",
       "3            3       1  978300172       1\n",
       "4            4       1  978300275       1\n",
       "...        ...     ...        ...     ...\n",
       "471158  471158    6040  997454398       1\n",
       "471159  471159    6040  997454429       1\n",
       "471160  471160    6040  997454464       2\n",
       "471161  471161    6040  997454486       1\n",
       "471162  471162    6040  998315055       1\n",
       "\n",
       "[471163 rows x 4 columns]"
      ]
     },
     "execution_count": 6,
     "metadata": {},
     "output_type": "execute_result"
    }
   ],
   "source": [
    "df = data.groupby(['UserId', 'Time'])['ItemId'].count().reset_index()\n",
    "df.reset_index(inplace=True)\n",
    "df"
   ]
  },
  {
   "cell_type": "code",
   "execution_count": 7,
   "id": "2470c0a3",
   "metadata": {},
   "outputs": [
    {
     "data": {
      "text/html": [
       "<div>\n",
       "<style scoped>\n",
       "    .dataframe tbody tr th:only-of-type {\n",
       "        vertical-align: middle;\n",
       "    }\n",
       "\n",
       "    .dataframe tbody tr th {\n",
       "        vertical-align: top;\n",
       "    }\n",
       "\n",
       "    .dataframe thead th {\n",
       "        text-align: right;\n",
       "    }\n",
       "</style>\n",
       "<table border=\"1\" class=\"dataframe\">\n",
       "  <thead>\n",
       "    <tr style=\"text-align: right;\">\n",
       "      <th></th>\n",
       "      <th>UserId</th>\n",
       "      <th>ItemId_x</th>\n",
       "      <th>Rating</th>\n",
       "      <th>Time</th>\n",
       "      <th>index</th>\n",
       "      <th>ItemId_y</th>\n",
       "    </tr>\n",
       "  </thead>\n",
       "  <tbody>\n",
       "    <tr>\n",
       "      <th>0</th>\n",
       "      <td>1</td>\n",
       "      <td>3186</td>\n",
       "      <td>4</td>\n",
       "      <td>978300019</td>\n",
       "      <td>0</td>\n",
       "      <td>1</td>\n",
       "    </tr>\n",
       "    <tr>\n",
       "      <th>1</th>\n",
       "      <td>1</td>\n",
       "      <td>1270</td>\n",
       "      <td>5</td>\n",
       "      <td>978300055</td>\n",
       "      <td>1</td>\n",
       "      <td>3</td>\n",
       "    </tr>\n",
       "    <tr>\n",
       "      <th>2</th>\n",
       "      <td>1</td>\n",
       "      <td>1721</td>\n",
       "      <td>4</td>\n",
       "      <td>978300055</td>\n",
       "      <td>1</td>\n",
       "      <td>3</td>\n",
       "    </tr>\n",
       "    <tr>\n",
       "      <th>3</th>\n",
       "      <td>1</td>\n",
       "      <td>1022</td>\n",
       "      <td>5</td>\n",
       "      <td>978300055</td>\n",
       "      <td>1</td>\n",
       "      <td>3</td>\n",
       "    </tr>\n",
       "    <tr>\n",
       "      <th>4</th>\n",
       "      <td>1</td>\n",
       "      <td>2340</td>\n",
       "      <td>3</td>\n",
       "      <td>978300103</td>\n",
       "      <td>2</td>\n",
       "      <td>1</td>\n",
       "    </tr>\n",
       "    <tr>\n",
       "      <th>...</th>\n",
       "      <td>...</td>\n",
       "      <td>...</td>\n",
       "      <td>...</td>\n",
       "      <td>...</td>\n",
       "      <td>...</td>\n",
       "      <td>...</td>\n",
       "    </tr>\n",
       "    <tr>\n",
       "      <th>1000204</th>\n",
       "      <td>6040</td>\n",
       "      <td>2917</td>\n",
       "      <td>4</td>\n",
       "      <td>997454429</td>\n",
       "      <td>471159</td>\n",
       "      <td>1</td>\n",
       "    </tr>\n",
       "    <tr>\n",
       "      <th>1000205</th>\n",
       "      <td>6040</td>\n",
       "      <td>1921</td>\n",
       "      <td>4</td>\n",
       "      <td>997454464</td>\n",
       "      <td>471160</td>\n",
       "      <td>2</td>\n",
       "    </tr>\n",
       "    <tr>\n",
       "      <th>1000206</th>\n",
       "      <td>6040</td>\n",
       "      <td>1784</td>\n",
       "      <td>3</td>\n",
       "      <td>997454464</td>\n",
       "      <td>471160</td>\n",
       "      <td>2</td>\n",
       "    </tr>\n",
       "    <tr>\n",
       "      <th>1000207</th>\n",
       "      <td>6040</td>\n",
       "      <td>161</td>\n",
       "      <td>3</td>\n",
       "      <td>997454486</td>\n",
       "      <td>471161</td>\n",
       "      <td>1</td>\n",
       "    </tr>\n",
       "    <tr>\n",
       "      <th>1000208</th>\n",
       "      <td>6040</td>\n",
       "      <td>1221</td>\n",
       "      <td>4</td>\n",
       "      <td>998315055</td>\n",
       "      <td>471162</td>\n",
       "      <td>1</td>\n",
       "    </tr>\n",
       "  </tbody>\n",
       "</table>\n",
       "<p>1000209 rows × 6 columns</p>\n",
       "</div>"
      ],
      "text/plain": [
       "         UserId  ItemId_x  Rating       Time   index  ItemId_y\n",
       "0             1      3186       4  978300019       0         1\n",
       "1             1      1270       5  978300055       1         3\n",
       "2             1      1721       4  978300055       1         3\n",
       "3             1      1022       5  978300055       1         3\n",
       "4             1      2340       3  978300103       2         1\n",
       "...         ...       ...     ...        ...     ...       ...\n",
       "1000204    6040      2917       4  997454429  471159         1\n",
       "1000205    6040      1921       4  997454464  471160         2\n",
       "1000206    6040      1784       3  997454464  471160         2\n",
       "1000207    6040       161       3  997454486  471161         1\n",
       "1000208    6040      1221       4  998315055  471162         1\n",
       "\n",
       "[1000209 rows x 6 columns]"
      ]
     },
     "execution_count": 7,
     "metadata": {},
     "output_type": "execute_result"
    }
   ],
   "source": [
    "data = pd.merge(data, df, on=['UserId', 'Time'])\n",
    "data"
   ]
  },
  {
   "cell_type": "code",
   "execution_count": 8,
   "id": "1c09f8dc",
   "metadata": {},
   "outputs": [
    {
     "data": {
      "text/html": [
       "<div>\n",
       "<style scoped>\n",
       "    .dataframe tbody tr th:only-of-type {\n",
       "        vertical-align: middle;\n",
       "    }\n",
       "\n",
       "    .dataframe tbody tr th {\n",
       "        vertical-align: top;\n",
       "    }\n",
       "\n",
       "    .dataframe thead th {\n",
       "        text-align: right;\n",
       "    }\n",
       "</style>\n",
       "<table border=\"1\" class=\"dataframe\">\n",
       "  <thead>\n",
       "    <tr style=\"text-align: right;\">\n",
       "      <th></th>\n",
       "      <th>UserId</th>\n",
       "      <th>ItemId</th>\n",
       "      <th>Rating</th>\n",
       "      <th>Time</th>\n",
       "      <th>SessionId</th>\n",
       "    </tr>\n",
       "  </thead>\n",
       "  <tbody>\n",
       "    <tr>\n",
       "      <th>0</th>\n",
       "      <td>1</td>\n",
       "      <td>3186</td>\n",
       "      <td>4</td>\n",
       "      <td>978300019</td>\n",
       "      <td>0</td>\n",
       "    </tr>\n",
       "    <tr>\n",
       "      <th>1</th>\n",
       "      <td>1</td>\n",
       "      <td>1270</td>\n",
       "      <td>5</td>\n",
       "      <td>978300055</td>\n",
       "      <td>1</td>\n",
       "    </tr>\n",
       "    <tr>\n",
       "      <th>2</th>\n",
       "      <td>1</td>\n",
       "      <td>1721</td>\n",
       "      <td>4</td>\n",
       "      <td>978300055</td>\n",
       "      <td>1</td>\n",
       "    </tr>\n",
       "    <tr>\n",
       "      <th>3</th>\n",
       "      <td>1</td>\n",
       "      <td>1022</td>\n",
       "      <td>5</td>\n",
       "      <td>978300055</td>\n",
       "      <td>1</td>\n",
       "    </tr>\n",
       "    <tr>\n",
       "      <th>4</th>\n",
       "      <td>1</td>\n",
       "      <td>2340</td>\n",
       "      <td>3</td>\n",
       "      <td>978300103</td>\n",
       "      <td>2</td>\n",
       "    </tr>\n",
       "    <tr>\n",
       "      <th>...</th>\n",
       "      <td>...</td>\n",
       "      <td>...</td>\n",
       "      <td>...</td>\n",
       "      <td>...</td>\n",
       "      <td>...</td>\n",
       "    </tr>\n",
       "    <tr>\n",
       "      <th>1000204</th>\n",
       "      <td>6040</td>\n",
       "      <td>2917</td>\n",
       "      <td>4</td>\n",
       "      <td>997454429</td>\n",
       "      <td>471159</td>\n",
       "    </tr>\n",
       "    <tr>\n",
       "      <th>1000205</th>\n",
       "      <td>6040</td>\n",
       "      <td>1921</td>\n",
       "      <td>4</td>\n",
       "      <td>997454464</td>\n",
       "      <td>471160</td>\n",
       "    </tr>\n",
       "    <tr>\n",
       "      <th>1000206</th>\n",
       "      <td>6040</td>\n",
       "      <td>1784</td>\n",
       "      <td>3</td>\n",
       "      <td>997454464</td>\n",
       "      <td>471160</td>\n",
       "    </tr>\n",
       "    <tr>\n",
       "      <th>1000207</th>\n",
       "      <td>6040</td>\n",
       "      <td>161</td>\n",
       "      <td>3</td>\n",
       "      <td>997454486</td>\n",
       "      <td>471161</td>\n",
       "    </tr>\n",
       "    <tr>\n",
       "      <th>1000208</th>\n",
       "      <td>6040</td>\n",
       "      <td>1221</td>\n",
       "      <td>4</td>\n",
       "      <td>998315055</td>\n",
       "      <td>471162</td>\n",
       "    </tr>\n",
       "  </tbody>\n",
       "</table>\n",
       "<p>1000209 rows × 5 columns</p>\n",
       "</div>"
      ],
      "text/plain": [
       "         UserId  ItemId  Rating       Time  SessionId\n",
       "0             1    3186       4  978300019          0\n",
       "1             1    1270       5  978300055          1\n",
       "2             1    1721       4  978300055          1\n",
       "3             1    1022       5  978300055          1\n",
       "4             1    2340       3  978300103          2\n",
       "...         ...     ...     ...        ...        ...\n",
       "1000204    6040    2917       4  997454429     471159\n",
       "1000205    6040    1921       4  997454464     471160\n",
       "1000206    6040    1784       3  997454464     471160\n",
       "1000207    6040     161       3  997454486     471161\n",
       "1000208    6040    1221       4  998315055     471162\n",
       "\n",
       "[1000209 rows x 5 columns]"
      ]
     },
     "execution_count": 8,
     "metadata": {},
     "output_type": "execute_result"
    }
   ],
   "source": [
    "data.drop(columns='ItemId_y', inplace=True)\n",
    "data.columns = ['UserId', 'ItemId', 'Rating', 'Time', 'SessionId']\n",
    "data"
   ]
  },
  {
   "cell_type": "markdown",
   "id": "31f6cedd",
   "metadata": {},
   "source": [
    "## 2.2 Session Length"
   ]
  },
  {
   "cell_type": "code",
   "execution_count": 9,
   "id": "4779e388",
   "metadata": {
    "scrolled": true
   },
   "outputs": [
    {
     "data": {
      "text/plain": [
       "SessionId\n",
       "0         1\n",
       "1         3\n",
       "2         1\n",
       "3         1\n",
       "4         1\n",
       "         ..\n",
       "471158    1\n",
       "471159    1\n",
       "471160    2\n",
       "471161    1\n",
       "471162    1\n",
       "Length: 471163, dtype: int64"
      ]
     },
     "execution_count": 9,
     "metadata": {},
     "output_type": "execute_result"
    }
   ],
   "source": [
    "session_length = data.groupby('SessionId').size()\n",
    "session_length"
   ]
  },
  {
   "cell_type": "markdown",
   "id": "5be2f65f",
   "metadata": {},
   "source": [
    "* `user_length`의 중앙값과 평균을 확인해보자."
   ]
  },
  {
   "cell_type": "code",
   "execution_count": 10,
   "id": "4de93ab4",
   "metadata": {},
   "outputs": [
    {
     "data": {
      "text/plain": [
       "(2.0, 2.1228513274599234)"
      ]
     },
     "execution_count": 10,
     "metadata": {},
     "output_type": "execute_result"
    }
   ],
   "source": [
    "session_length.median(), session_length.mean()"
   ]
  },
  {
   "cell_type": "markdown",
   "id": "79ffce90",
   "metadata": {},
   "source": [
    "* `session_length`의 최솟값과 최댓값을 확인해보자."
   ]
  },
  {
   "cell_type": "code",
   "execution_count": 11,
   "id": "f07c75bd",
   "metadata": {},
   "outputs": [
    {
     "data": {
      "text/plain": [
       "(1, 30)"
      ]
     },
     "execution_count": 11,
     "metadata": {},
     "output_type": "execute_result"
    }
   ],
   "source": [
    "session_length.min(), session_length.max()"
   ]
  },
  {
   "cell_type": "markdown",
   "id": "c618ee70",
   "metadata": {},
   "source": [
    "* `session_length`의 99%의 분위수를 확인해보자."
   ]
  },
  {
   "cell_type": "code",
   "execution_count": 12,
   "id": "afb8f667",
   "metadata": {},
   "outputs": [
    {
     "data": {
      "text/plain": [
       "8.0"
      ]
     },
     "execution_count": 12,
     "metadata": {},
     "output_type": "execute_result"
    }
   ],
   "source": [
    "session_length.quantile(0.99)"
   ]
  },
  {
   "cell_type": "code",
   "execution_count": 13,
   "id": "7aed3ae8",
   "metadata": {
    "scrolled": false
   },
   "outputs": [
    {
     "data": {
      "text/html": [
       "<div>\n",
       "<style scoped>\n",
       "    .dataframe tbody tr th:only-of-type {\n",
       "        vertical-align: middle;\n",
       "    }\n",
       "\n",
       "    .dataframe tbody tr th {\n",
       "        vertical-align: top;\n",
       "    }\n",
       "\n",
       "    .dataframe thead th {\n",
       "        text-align: right;\n",
       "    }\n",
       "</style>\n",
       "<table border=\"1\" class=\"dataframe\">\n",
       "  <thead>\n",
       "    <tr style=\"text-align: right;\">\n",
       "      <th></th>\n",
       "      <th>UserId</th>\n",
       "      <th>ItemId</th>\n",
       "      <th>Rating</th>\n",
       "      <th>Time</th>\n",
       "      <th>SessionId</th>\n",
       "    </tr>\n",
       "  </thead>\n",
       "  <tbody>\n",
       "    <tr>\n",
       "      <th>112250</th>\n",
       "      <td>731</td>\n",
       "      <td>2054</td>\n",
       "      <td>4</td>\n",
       "      <td>975527781</td>\n",
       "      <td>55112</td>\n",
       "    </tr>\n",
       "    <tr>\n",
       "      <th>112251</th>\n",
       "      <td>731</td>\n",
       "      <td>2</td>\n",
       "      <td>5</td>\n",
       "      <td>975527781</td>\n",
       "      <td>55112</td>\n",
       "    </tr>\n",
       "    <tr>\n",
       "      <th>112252</th>\n",
       "      <td>731</td>\n",
       "      <td>2087</td>\n",
       "      <td>5</td>\n",
       "      <td>975527781</td>\n",
       "      <td>55112</td>\n",
       "    </tr>\n",
       "    <tr>\n",
       "      <th>112253</th>\n",
       "      <td>731</td>\n",
       "      <td>788</td>\n",
       "      <td>4</td>\n",
       "      <td>975527781</td>\n",
       "      <td>55112</td>\n",
       "    </tr>\n",
       "    <tr>\n",
       "      <th>112254</th>\n",
       "      <td>731</td>\n",
       "      <td>1654</td>\n",
       "      <td>5</td>\n",
       "      <td>975527781</td>\n",
       "      <td>55112</td>\n",
       "    </tr>\n",
       "    <tr>\n",
       "      <th>112255</th>\n",
       "      <td>731</td>\n",
       "      <td>247</td>\n",
       "      <td>4</td>\n",
       "      <td>975527781</td>\n",
       "      <td>55112</td>\n",
       "    </tr>\n",
       "    <tr>\n",
       "      <th>112256</th>\n",
       "      <td>731</td>\n",
       "      <td>260</td>\n",
       "      <td>3</td>\n",
       "      <td>975527781</td>\n",
       "      <td>55112</td>\n",
       "    </tr>\n",
       "    <tr>\n",
       "      <th>112257</th>\n",
       "      <td>731</td>\n",
       "      <td>2100</td>\n",
       "      <td>5</td>\n",
       "      <td>975527781</td>\n",
       "      <td>55112</td>\n",
       "    </tr>\n",
       "    <tr>\n",
       "      <th>112258</th>\n",
       "      <td>731</td>\n",
       "      <td>2105</td>\n",
       "      <td>4</td>\n",
       "      <td>975527781</td>\n",
       "      <td>55112</td>\n",
       "    </tr>\n",
       "    <tr>\n",
       "      <th>112259</th>\n",
       "      <td>731</td>\n",
       "      <td>653</td>\n",
       "      <td>4</td>\n",
       "      <td>975527781</td>\n",
       "      <td>55112</td>\n",
       "    </tr>\n",
       "    <tr>\n",
       "      <th>112260</th>\n",
       "      <td>731</td>\n",
       "      <td>2140</td>\n",
       "      <td>4</td>\n",
       "      <td>975527781</td>\n",
       "      <td>55112</td>\n",
       "    </tr>\n",
       "    <tr>\n",
       "      <th>112261</th>\n",
       "      <td>731</td>\n",
       "      <td>2161</td>\n",
       "      <td>4</td>\n",
       "      <td>975527781</td>\n",
       "      <td>55112</td>\n",
       "    </tr>\n",
       "    <tr>\n",
       "      <th>112262</th>\n",
       "      <td>731</td>\n",
       "      <td>2173</td>\n",
       "      <td>4</td>\n",
       "      <td>975527781</td>\n",
       "      <td>55112</td>\n",
       "    </tr>\n",
       "    <tr>\n",
       "      <th>112263</th>\n",
       "      <td>731</td>\n",
       "      <td>2174</td>\n",
       "      <td>5</td>\n",
       "      <td>975527781</td>\n",
       "      <td>55112</td>\n",
       "    </tr>\n",
       "    <tr>\n",
       "      <th>112264</th>\n",
       "      <td>731</td>\n",
       "      <td>2193</td>\n",
       "      <td>4</td>\n",
       "      <td>975527781</td>\n",
       "      <td>55112</td>\n",
       "    </tr>\n",
       "    <tr>\n",
       "      <th>112265</th>\n",
       "      <td>731</td>\n",
       "      <td>1920</td>\n",
       "      <td>4</td>\n",
       "      <td>975527781</td>\n",
       "      <td>55112</td>\n",
       "    </tr>\n",
       "    <tr>\n",
       "      <th>112266</th>\n",
       "      <td>731</td>\n",
       "      <td>1009</td>\n",
       "      <td>4</td>\n",
       "      <td>975527781</td>\n",
       "      <td>55112</td>\n",
       "    </tr>\n",
       "    <tr>\n",
       "      <th>112267</th>\n",
       "      <td>731</td>\n",
       "      <td>1967</td>\n",
       "      <td>4</td>\n",
       "      <td>975527781</td>\n",
       "      <td>55112</td>\n",
       "    </tr>\n",
       "    <tr>\n",
       "      <th>112268</th>\n",
       "      <td>731</td>\n",
       "      <td>367</td>\n",
       "      <td>4</td>\n",
       "      <td>975527781</td>\n",
       "      <td>55112</td>\n",
       "    </tr>\n",
       "    <tr>\n",
       "      <th>112269</th>\n",
       "      <td>731</td>\n",
       "      <td>2797</td>\n",
       "      <td>4</td>\n",
       "      <td>975527781</td>\n",
       "      <td>55112</td>\n",
       "    </tr>\n",
       "    <tr>\n",
       "      <th>112270</th>\n",
       "      <td>731</td>\n",
       "      <td>60</td>\n",
       "      <td>3</td>\n",
       "      <td>975527781</td>\n",
       "      <td>55112</td>\n",
       "    </tr>\n",
       "    <tr>\n",
       "      <th>112271</th>\n",
       "      <td>731</td>\n",
       "      <td>2005</td>\n",
       "      <td>4</td>\n",
       "      <td>975527781</td>\n",
       "      <td>55112</td>\n",
       "    </tr>\n",
       "    <tr>\n",
       "      <th>112272</th>\n",
       "      <td>731</td>\n",
       "      <td>2015</td>\n",
       "      <td>4</td>\n",
       "      <td>975527781</td>\n",
       "      <td>55112</td>\n",
       "    </tr>\n",
       "    <tr>\n",
       "      <th>112273</th>\n",
       "      <td>731</td>\n",
       "      <td>2017</td>\n",
       "      <td>3</td>\n",
       "      <td>975527781</td>\n",
       "      <td>55112</td>\n",
       "    </tr>\n",
       "    <tr>\n",
       "      <th>112274</th>\n",
       "      <td>731</td>\n",
       "      <td>1073</td>\n",
       "      <td>3</td>\n",
       "      <td>975527781</td>\n",
       "      <td>55112</td>\n",
       "    </tr>\n",
       "    <tr>\n",
       "      <th>112275</th>\n",
       "      <td>731</td>\n",
       "      <td>2021</td>\n",
       "      <td>4</td>\n",
       "      <td>975527781</td>\n",
       "      <td>55112</td>\n",
       "    </tr>\n",
       "    <tr>\n",
       "      <th>112276</th>\n",
       "      <td>731</td>\n",
       "      <td>1097</td>\n",
       "      <td>5</td>\n",
       "      <td>975527781</td>\n",
       "      <td>55112</td>\n",
       "    </tr>\n",
       "    <tr>\n",
       "      <th>112277</th>\n",
       "      <td>731</td>\n",
       "      <td>2043</td>\n",
       "      <td>3</td>\n",
       "      <td>975527781</td>\n",
       "      <td>55112</td>\n",
       "    </tr>\n",
       "  </tbody>\n",
       "</table>\n",
       "</div>"
      ],
      "text/plain": [
       "        UserId  ItemId  Rating       Time  SessionId\n",
       "112250     731    2054       4  975527781      55112\n",
       "112251     731       2       5  975527781      55112\n",
       "112252     731    2087       5  975527781      55112\n",
       "112253     731     788       4  975527781      55112\n",
       "112254     731    1654       5  975527781      55112\n",
       "112255     731     247       4  975527781      55112\n",
       "112256     731     260       3  975527781      55112\n",
       "112257     731    2100       5  975527781      55112\n",
       "112258     731    2105       4  975527781      55112\n",
       "112259     731     653       4  975527781      55112\n",
       "112260     731    2140       4  975527781      55112\n",
       "112261     731    2161       4  975527781      55112\n",
       "112262     731    2173       4  975527781      55112\n",
       "112263     731    2174       5  975527781      55112\n",
       "112264     731    2193       4  975527781      55112\n",
       "112265     731    1920       4  975527781      55112\n",
       "112266     731    1009       4  975527781      55112\n",
       "112267     731    1967       4  975527781      55112\n",
       "112268     731     367       4  975527781      55112\n",
       "112269     731    2797       4  975527781      55112\n",
       "112270     731      60       3  975527781      55112\n",
       "112271     731    2005       4  975527781      55112\n",
       "112272     731    2015       4  975527781      55112\n",
       "112273     731    2017       3  975527781      55112\n",
       "112274     731    1073       3  975527781      55112\n",
       "112275     731    2021       4  975527781      55112\n",
       "112276     731    1097       5  975527781      55112\n",
       "112277     731    2043       3  975527781      55112"
      ]
     },
     "execution_count": 13,
     "metadata": {},
     "output_type": "execute_result"
    }
   ],
   "source": [
    "long_session = session_length[session_length == 28].index[0]\n",
    "data[data['SessionId'] == long_session]"
   ]
  },
  {
   "cell_type": "markdown",
   "id": "e32d1d3a",
   "metadata": {},
   "source": [
    "* `session_length`를 시각적으로 나타내기 위해 `session_length` 기준 하위 99%까지의 분포 누적합을 확인해보자."
   ]
  },
  {
   "cell_type": "code",
   "execution_count": 14,
   "id": "ace85472",
   "metadata": {},
   "outputs": [
    {
     "data": {
      "text/plain": [
       "1    0.480048\n",
       "2    0.713936\n",
       "3    0.847350\n",
       "4    0.919684\n",
       "5    0.958639\n",
       "6    0.979132\n",
       "7    0.989772\n",
       "dtype: float64"
      ]
     },
     "execution_count": 14,
     "metadata": {},
     "output_type": "execute_result"
    }
   ],
   "source": [
    "length_count = session_length.groupby(session_length).size()\n",
    "length_percent_cumsum = length_count.cumsum() / length_count.sum()   # cumsum() : 누적합\n",
    "length_percent_cumsum_99 = length_percent_cumsum[length_percent_cumsum < 0.99]\n",
    "\n",
    "length_percent_cumsum_99"
   ]
  },
  {
   "cell_type": "markdown",
   "id": "ba92f198",
   "metadata": {},
   "source": [
    "* `session_length`를 시각화해보자."
   ]
  },
  {
   "cell_type": "code",
   "execution_count": 15,
   "id": "d1a090f7",
   "metadata": {
    "scrolled": false
   },
   "outputs": [
    {
     "data": {
      "image/png": "[encoded data removed]",
      "text/plain": [
       "<Figure size 1440x720 with 1 Axes>"
      ]
     },
     "metadata": {
      "needs_background": "light"
     },
     "output_type": "display_data"
    }
   ],
   "source": [
    "plt.figure(figsize=(20, 10))\n",
    "\n",
    "plt.bar(x=length_percent_cumsum_99.index,\n",
    "        height=length_percent_cumsum_99, color='red')\n",
    "plt.xticks(length_percent_cumsum_99.index)\n",
    "plt.yticks(np.arange(0, 1.01, 0.05))\n",
    "plt.title('Cumsum Percentage Until 0.99', size=20)\n",
    "plt.show()"
   ]
  },
  {
   "cell_type": "markdown",
   "id": "820ed26d",
   "metadata": {},
   "source": [
    "## 2.3 Time"
   ]
  },
  {
   "cell_type": "code",
   "execution_count": 16,
   "id": "9c01d86b",
   "metadata": {
    "scrolled": true
   },
   "outputs": [
    {
     "data": {
      "text/html": [
       "<div>\n",
       "<style scoped>\n",
       "    .dataframe tbody tr th:only-of-type {\n",
       "        vertical-align: middle;\n",
       "    }\n",
       "\n",
       "    .dataframe tbody tr th {\n",
       "        vertical-align: top;\n",
       "    }\n",
       "\n",
       "    .dataframe thead th {\n",
       "        text-align: right;\n",
       "    }\n",
       "</style>\n",
       "<table border=\"1\" class=\"dataframe\">\n",
       "  <thead>\n",
       "    <tr style=\"text-align: right;\">\n",
       "      <th></th>\n",
       "      <th>UserId</th>\n",
       "      <th>ItemId</th>\n",
       "      <th>Rating</th>\n",
       "      <th>Time</th>\n",
       "      <th>SessionId</th>\n",
       "    </tr>\n",
       "  </thead>\n",
       "  <tbody>\n",
       "    <tr>\n",
       "      <th>0</th>\n",
       "      <td>1</td>\n",
       "      <td>3186</td>\n",
       "      <td>4</td>\n",
       "      <td>2000-12-31 22:00:19</td>\n",
       "      <td>0</td>\n",
       "    </tr>\n",
       "    <tr>\n",
       "      <th>1</th>\n",
       "      <td>1</td>\n",
       "      <td>1270</td>\n",
       "      <td>5</td>\n",
       "      <td>2000-12-31 22:00:55</td>\n",
       "      <td>1</td>\n",
       "    </tr>\n",
       "    <tr>\n",
       "      <th>2</th>\n",
       "      <td>1</td>\n",
       "      <td>1721</td>\n",
       "      <td>4</td>\n",
       "      <td>2000-12-31 22:00:55</td>\n",
       "      <td>1</td>\n",
       "    </tr>\n",
       "    <tr>\n",
       "      <th>3</th>\n",
       "      <td>1</td>\n",
       "      <td>1022</td>\n",
       "      <td>5</td>\n",
       "      <td>2000-12-31 22:00:55</td>\n",
       "      <td>1</td>\n",
       "    </tr>\n",
       "    <tr>\n",
       "      <th>4</th>\n",
       "      <td>1</td>\n",
       "      <td>2340</td>\n",
       "      <td>3</td>\n",
       "      <td>2000-12-31 22:01:43</td>\n",
       "      <td>2</td>\n",
       "    </tr>\n",
       "  </tbody>\n",
       "</table>\n",
       "</div>"
      ],
      "text/plain": [
       "   UserId  ItemId  Rating                Time  SessionId\n",
       "0       1    3186       4 2000-12-31 22:00:19          0\n",
       "1       1    1270       5 2000-12-31 22:00:55          1\n",
       "2       1    1721       4 2000-12-31 22:00:55          1\n",
       "3       1    1022       5 2000-12-31 22:00:55          1\n",
       "4       1    2340       3 2000-12-31 22:01:43          2"
      ]
     },
     "execution_count": 16,
     "metadata": {},
     "output_type": "execute_result"
    }
   ],
   "source": [
    "import datetime\n",
    "\n",
    "new_date = []\n",
    "for i in data['Time']:\n",
    "    new_time = datetime.datetime.fromtimestamp(i)\n",
    "    new_date.append(new_time)\n",
    "    \n",
    "data['Time'] = new_date\n",
    "data.head()"
   ]
  },
  {
   "cell_type": "markdown",
   "id": "9eca6d0d",
   "metadata": {},
   "source": [
    "* 2000년 4월부터 2003년 2월까지 대략 3년에 가까운 데이터가 있는 것을 확인하였다."
   ]
  },
  {
   "cell_type": "code",
   "execution_count": 17,
   "id": "5e478ff0",
   "metadata": {},
   "outputs": [
    {
     "name": "stdout",
     "output_type": "stream",
     "text": [
      "2000-04-25 23:05:32\n",
      "2003-02-28 17:49:50\n"
     ]
    }
   ],
   "source": [
    "oldest, latest = data['Time'].min(), data['Time'].max()\n",
    "print(oldest)\n",
    "print(latest)"
   ]
  },
  {
   "cell_type": "code",
   "execution_count": 18,
   "id": "81d4f107",
   "metadata": {},
   "outputs": [
    {
     "data": {
      "text/plain": [
       "pandas._libs.tslibs.timestamps.Timestamp"
      ]
     },
     "execution_count": 18,
     "metadata": {},
     "output_type": "execute_result"
    }
   ],
   "source": [
    "type(latest)"
   ]
  },
  {
   "cell_type": "markdown",
   "id": "dd02908b",
   "metadata": {},
   "source": [
    "* 2.1에서 길이가 2314인 데이터의 Time을 변환한 데이터로 다시 확인해보았다.\n",
    "* 동일한 날짜는 물론, 같은 시분초에 여러 개의 영화를 평가한 것으로 확인된다."
   ]
  },
  {
   "cell_type": "code",
   "execution_count": 19,
   "id": "f8888379",
   "metadata": {
    "scrolled": false
   },
   "outputs": [
    {
     "data": {
      "text/html": [
       "<div>\n",
       "<style scoped>\n",
       "    .dataframe tbody tr th:only-of-type {\n",
       "        vertical-align: middle;\n",
       "    }\n",
       "\n",
       "    .dataframe tbody tr th {\n",
       "        vertical-align: top;\n",
       "    }\n",
       "\n",
       "    .dataframe thead th {\n",
       "        text-align: right;\n",
       "    }\n",
       "</style>\n",
       "<table border=\"1\" class=\"dataframe\">\n",
       "  <thead>\n",
       "    <tr style=\"text-align: right;\">\n",
       "      <th></th>\n",
       "      <th>UserId</th>\n",
       "      <th>ItemId</th>\n",
       "      <th>Rating</th>\n",
       "      <th>Time</th>\n",
       "      <th>SessionId</th>\n",
       "    </tr>\n",
       "  </thead>\n",
       "  <tbody>\n",
       "    <tr>\n",
       "      <th>112250</th>\n",
       "      <td>731</td>\n",
       "      <td>2054</td>\n",
       "      <td>4</td>\n",
       "      <td>2000-11-29 19:56:21</td>\n",
       "      <td>55112</td>\n",
       "    </tr>\n",
       "    <tr>\n",
       "      <th>112251</th>\n",
       "      <td>731</td>\n",
       "      <td>2</td>\n",
       "      <td>5</td>\n",
       "      <td>2000-11-29 19:56:21</td>\n",
       "      <td>55112</td>\n",
       "    </tr>\n",
       "    <tr>\n",
       "      <th>112252</th>\n",
       "      <td>731</td>\n",
       "      <td>2087</td>\n",
       "      <td>5</td>\n",
       "      <td>2000-11-29 19:56:21</td>\n",
       "      <td>55112</td>\n",
       "    </tr>\n",
       "    <tr>\n",
       "      <th>112253</th>\n",
       "      <td>731</td>\n",
       "      <td>788</td>\n",
       "      <td>4</td>\n",
       "      <td>2000-11-29 19:56:21</td>\n",
       "      <td>55112</td>\n",
       "    </tr>\n",
       "    <tr>\n",
       "      <th>112254</th>\n",
       "      <td>731</td>\n",
       "      <td>1654</td>\n",
       "      <td>5</td>\n",
       "      <td>2000-11-29 19:56:21</td>\n",
       "      <td>55112</td>\n",
       "    </tr>\n",
       "    <tr>\n",
       "      <th>112255</th>\n",
       "      <td>731</td>\n",
       "      <td>247</td>\n",
       "      <td>4</td>\n",
       "      <td>2000-11-29 19:56:21</td>\n",
       "      <td>55112</td>\n",
       "    </tr>\n",
       "    <tr>\n",
       "      <th>112256</th>\n",
       "      <td>731</td>\n",
       "      <td>260</td>\n",
       "      <td>3</td>\n",
       "      <td>2000-11-29 19:56:21</td>\n",
       "      <td>55112</td>\n",
       "    </tr>\n",
       "    <tr>\n",
       "      <th>112257</th>\n",
       "      <td>731</td>\n",
       "      <td>2100</td>\n",
       "      <td>5</td>\n",
       "      <td>2000-11-29 19:56:21</td>\n",
       "      <td>55112</td>\n",
       "    </tr>\n",
       "    <tr>\n",
       "      <th>112258</th>\n",
       "      <td>731</td>\n",
       "      <td>2105</td>\n",
       "      <td>4</td>\n",
       "      <td>2000-11-29 19:56:21</td>\n",
       "      <td>55112</td>\n",
       "    </tr>\n",
       "    <tr>\n",
       "      <th>112259</th>\n",
       "      <td>731</td>\n",
       "      <td>653</td>\n",
       "      <td>4</td>\n",
       "      <td>2000-11-29 19:56:21</td>\n",
       "      <td>55112</td>\n",
       "    </tr>\n",
       "    <tr>\n",
       "      <th>112260</th>\n",
       "      <td>731</td>\n",
       "      <td>2140</td>\n",
       "      <td>4</td>\n",
       "      <td>2000-11-29 19:56:21</td>\n",
       "      <td>55112</td>\n",
       "    </tr>\n",
       "    <tr>\n",
       "      <th>112261</th>\n",
       "      <td>731</td>\n",
       "      <td>2161</td>\n",
       "      <td>4</td>\n",
       "      <td>2000-11-29 19:56:21</td>\n",
       "      <td>55112</td>\n",
       "    </tr>\n",
       "    <tr>\n",
       "      <th>112262</th>\n",
       "      <td>731</td>\n",
       "      <td>2173</td>\n",
       "      <td>4</td>\n",
       "      <td>2000-11-29 19:56:21</td>\n",
       "      <td>55112</td>\n",
       "    </tr>\n",
       "    <tr>\n",
       "      <th>112263</th>\n",
       "      <td>731</td>\n",
       "      <td>2174</td>\n",
       "      <td>5</td>\n",
       "      <td>2000-11-29 19:56:21</td>\n",
       "      <td>55112</td>\n",
       "    </tr>\n",
       "    <tr>\n",
       "      <th>112264</th>\n",
       "      <td>731</td>\n",
       "      <td>2193</td>\n",
       "      <td>4</td>\n",
       "      <td>2000-11-29 19:56:21</td>\n",
       "      <td>55112</td>\n",
       "    </tr>\n",
       "    <tr>\n",
       "      <th>112265</th>\n",
       "      <td>731</td>\n",
       "      <td>1920</td>\n",
       "      <td>4</td>\n",
       "      <td>2000-11-29 19:56:21</td>\n",
       "      <td>55112</td>\n",
       "    </tr>\n",
       "    <tr>\n",
       "      <th>112266</th>\n",
       "      <td>731</td>\n",
       "      <td>1009</td>\n",
       "      <td>4</td>\n",
       "      <td>2000-11-29 19:56:21</td>\n",
       "      <td>55112</td>\n",
       "    </tr>\n",
       "    <tr>\n",
       "      <th>112267</th>\n",
       "      <td>731</td>\n",
       "      <td>1967</td>\n",
       "      <td>4</td>\n",
       "      <td>2000-11-29 19:56:21</td>\n",
       "      <td>55112</td>\n",
       "    </tr>\n",
       "    <tr>\n",
       "      <th>112268</th>\n",
       "      <td>731</td>\n",
       "      <td>367</td>\n",
       "      <td>4</td>\n",
       "      <td>2000-11-29 19:56:21</td>\n",
       "      <td>55112</td>\n",
       "    </tr>\n",
       "    <tr>\n",
       "      <th>112269</th>\n",
       "      <td>731</td>\n",
       "      <td>2797</td>\n",
       "      <td>4</td>\n",
       "      <td>2000-11-29 19:56:21</td>\n",
       "      <td>55112</td>\n",
       "    </tr>\n",
       "    <tr>\n",
       "      <th>112270</th>\n",
       "      <td>731</td>\n",
       "      <td>60</td>\n",
       "      <td>3</td>\n",
       "      <td>2000-11-29 19:56:21</td>\n",
       "      <td>55112</td>\n",
       "    </tr>\n",
       "    <tr>\n",
       "      <th>112271</th>\n",
       "      <td>731</td>\n",
       "      <td>2005</td>\n",
       "      <td>4</td>\n",
       "      <td>2000-11-29 19:56:21</td>\n",
       "      <td>55112</td>\n",
       "    </tr>\n",
       "    <tr>\n",
       "      <th>112272</th>\n",
       "      <td>731</td>\n",
       "      <td>2015</td>\n",
       "      <td>4</td>\n",
       "      <td>2000-11-29 19:56:21</td>\n",
       "      <td>55112</td>\n",
       "    </tr>\n",
       "    <tr>\n",
       "      <th>112273</th>\n",
       "      <td>731</td>\n",
       "      <td>2017</td>\n",
       "      <td>3</td>\n",
       "      <td>2000-11-29 19:56:21</td>\n",
       "      <td>55112</td>\n",
       "    </tr>\n",
       "    <tr>\n",
       "      <th>112274</th>\n",
       "      <td>731</td>\n",
       "      <td>1073</td>\n",
       "      <td>3</td>\n",
       "      <td>2000-11-29 19:56:21</td>\n",
       "      <td>55112</td>\n",
       "    </tr>\n",
       "    <tr>\n",
       "      <th>112275</th>\n",
       "      <td>731</td>\n",
       "      <td>2021</td>\n",
       "      <td>4</td>\n",
       "      <td>2000-11-29 19:56:21</td>\n",
       "      <td>55112</td>\n",
       "    </tr>\n",
       "    <tr>\n",
       "      <th>112276</th>\n",
       "      <td>731</td>\n",
       "      <td>1097</td>\n",
       "      <td>5</td>\n",
       "      <td>2000-11-29 19:56:21</td>\n",
       "      <td>55112</td>\n",
       "    </tr>\n",
       "    <tr>\n",
       "      <th>112277</th>\n",
       "      <td>731</td>\n",
       "      <td>2043</td>\n",
       "      <td>3</td>\n",
       "      <td>2000-11-29 19:56:21</td>\n",
       "      <td>55112</td>\n",
       "    </tr>\n",
       "  </tbody>\n",
       "</table>\n",
       "</div>"
      ],
      "text/plain": [
       "        UserId  ItemId  Rating                Time  SessionId\n",
       "112250     731    2054       4 2000-11-29 19:56:21      55112\n",
       "112251     731       2       5 2000-11-29 19:56:21      55112\n",
       "112252     731    2087       5 2000-11-29 19:56:21      55112\n",
       "112253     731     788       4 2000-11-29 19:56:21      55112\n",
       "112254     731    1654       5 2000-11-29 19:56:21      55112\n",
       "112255     731     247       4 2000-11-29 19:56:21      55112\n",
       "112256     731     260       3 2000-11-29 19:56:21      55112\n",
       "112257     731    2100       5 2000-11-29 19:56:21      55112\n",
       "112258     731    2105       4 2000-11-29 19:56:21      55112\n",
       "112259     731     653       4 2000-11-29 19:56:21      55112\n",
       "112260     731    2140       4 2000-11-29 19:56:21      55112\n",
       "112261     731    2161       4 2000-11-29 19:56:21      55112\n",
       "112262     731    2173       4 2000-11-29 19:56:21      55112\n",
       "112263     731    2174       5 2000-11-29 19:56:21      55112\n",
       "112264     731    2193       4 2000-11-29 19:56:21      55112\n",
       "112265     731    1920       4 2000-11-29 19:56:21      55112\n",
       "112266     731    1009       4 2000-11-29 19:56:21      55112\n",
       "112267     731    1967       4 2000-11-29 19:56:21      55112\n",
       "112268     731     367       4 2000-11-29 19:56:21      55112\n",
       "112269     731    2797       4 2000-11-29 19:56:21      55112\n",
       "112270     731      60       3 2000-11-29 19:56:21      55112\n",
       "112271     731    2005       4 2000-11-29 19:56:21      55112\n",
       "112272     731    2015       4 2000-11-29 19:56:21      55112\n",
       "112273     731    2017       3 2000-11-29 19:56:21      55112\n",
       "112274     731    1073       3 2000-11-29 19:56:21      55112\n",
       "112275     731    2021       4 2000-11-29 19:56:21      55112\n",
       "112276     731    1097       5 2000-11-29 19:56:21      55112\n",
       "112277     731    2043       3 2000-11-29 19:56:21      55112"
      ]
     },
     "execution_count": 19,
     "metadata": {},
     "output_type": "execute_result"
    }
   ],
   "source": [
    "long_session = session_length[session_length == 28].index[0]\n",
    "data[data['SessionId'] == long_session].head(50)"
   ]
  },
  {
   "cell_type": "markdown",
   "id": "6d0b7077",
   "metadata": {},
   "source": [
    "* 따라서 해당 데이터는 물론이고 누적합 99% 이상인 데이터들도 이상치로 판단하고 제거한다.\n",
    "* session_length의 99%의 분위수: 8"
   ]
  },
  {
   "cell_type": "code",
   "execution_count": 20,
   "id": "c9785e71",
   "metadata": {},
   "outputs": [],
   "source": [
    "drop_index = session_length[session_length>8].index\n",
    "data.drop(index=drop_index, inplace=True)"
   ]
  },
  {
   "cell_type": "markdown",
   "id": "9d1d8210",
   "metadata": {},
   "source": [
    "* 데이터의 개수가 1000209개에서 997848로 줄어들었다."
   ]
  },
  {
   "cell_type": "code",
   "execution_count": 21,
   "id": "93e3c3b3",
   "metadata": {},
   "outputs": [
    {
     "data": {
      "text/plain": [
       "(997848, 5)"
      ]
     },
     "execution_count": 21,
     "metadata": {},
     "output_type": "execute_result"
    }
   ],
   "source": [
    "data.shape"
   ]
  },
  {
   "cell_type": "markdown",
   "id": "44145cbe",
   "metadata": {},
   "source": [
    "## 2.4 Rating (Data Cleansing)\n",
    "* 유저가 별점을 3점 미만으로 준 데이터는 선호하지 않는다고 가정하여 `Rating`이 3점 이상인 데이터만 남기고 제거하였다.\n",
    "* 별점 3점 이상의 데이터 크기는 `834,528`이며, 비율은 `83.44%`를 차지한다."
   ]
  },
  {
   "cell_type": "code",
   "execution_count": 22,
   "id": "53417492",
   "metadata": {
    "scrolled": true
   },
   "outputs": [
    {
     "name": "stdout",
     "output_type": "stream",
     "text": [
      "전체 데이터 크기 : 1000209\n",
      "별점 3점 이상의 데이터 크기 : 834528\n",
      "별점 3점 이상의 데이터 비율 :  83.44%\n"
     ]
    }
   ],
   "source": [
    "data = data[data['Rating'] >= 3]\n",
    "filltered_data_size = len(data)\n",
    "\n",
    "print(f'전체 데이터 크기 : {original_data_size}')\n",
    "print(f'별점 3점 이상의 데이터 크기 : {filltered_data_size}')\n",
    "print(f'별점 3점 이상의 데이터 비율 : {filltered_data_size / original_data_size : .2%}')"
   ]
  },
  {
   "cell_type": "markdown",
   "id": "867b86c8",
   "metadata": {},
   "source": [
    "## 2.5 train / valid / test data Split\n",
    "* 모델 평가를 위해 valid set과 test set을 만들어보자.\n",
    "* test 데이터는 마지막 5개월 전까지, valid 데이터도 5개월 전까지로 설정하여 분리하였다."
   ]
  },
  {
   "cell_type": "code",
   "execution_count": 23,
   "id": "297abe7d",
   "metadata": {},
   "outputs": [],
   "source": [
    "def split_by_date(data: pd.DataFrame, n_days: int):\n",
    "    final_time = data['Time'].max()\n",
    "    session_last_time = data.groupby('SessionId')['Time'].max()\n",
    "    session_in_train = session_last_time[session_last_time < final_time - datetime.timedelta(n_days)].index\n",
    "    session_in_test = session_last_time[session_last_time >= final_time - datetime.timedelta(n_days)].index\n",
    "\n",
    "    before_date = data[data['SessionId'].isin(session_in_train)]\n",
    "    after_date = data[data['SessionId'].isin(session_in_test)]\n",
    "    after_date = after_date[after_date['ItemId'].isin(before_date['ItemId'])]\n",
    "    return before_date, after_date"
   ]
  },
  {
   "cell_type": "code",
   "execution_count": 24,
   "id": "2d890ba5",
   "metadata": {
    "scrolled": false
   },
   "outputs": [],
   "source": [
    "tr, test = split_by_date(data, n_days=150)"
   ]
  },
  {
   "cell_type": "code",
   "execution_count": 25,
   "id": "2d4346e6",
   "metadata": {},
   "outputs": [],
   "source": [
    "tr, val = split_by_date(tr, n_days = 150)"
   ]
  },
  {
   "cell_type": "code",
   "execution_count": 26,
   "id": "38e12ce5",
   "metadata": {},
   "outputs": [],
   "source": [
    "# data에 대한 정보를 살펴봅니다.\n",
    "def stats_info(data: pd.DataFrame, status: str):\n",
    "    print(f'* {status} Set Stats Info\\n'\n",
    "          f'\\t 데이터 개수: {len(data)}\\n'\n",
    "          f'\\t User 고유 개수: {data[\"UserId\"].nunique()}\\n'\n",
    "          f'\\t Item 고유 개수: {data[\"ItemId\"].nunique()}\\n'\n",
    "          f'\\t 데이터 시작 시간 : {data[\"Time\"].min()}\\n'\n",
    "          f'\\t 데이터 종료 시간 : {data[\"Time\"].max()}\\n')"
   ]
  },
  {
   "cell_type": "code",
   "execution_count": 27,
   "id": "d5dd8707",
   "metadata": {},
   "outputs": [
    {
     "name": "stdout",
     "output_type": "stream",
     "text": [
      "* train Set Stats Info\n",
      "\t 데이터 개수: 821454\n",
      "\t User 고유 개수: 6038\n",
      "\t Item 고유 개수: 3620\n",
      "\t 데이터 시작 시간 : 2000-04-25 23:05:32\n",
      "\t 데이터 종료 시간 : 2002-05-04 09:26:12\n",
      "\n",
      "* valid Set Stats Info\n",
      "\t 데이터 개수: 6897\n",
      "\t User 고유 개수: 325\n",
      "\t Item 고유 개수: 2075\n",
      "\t 데이터 시작 시간 : 2002-05-04 21:11:01\n",
      "\t 데이터 종료 시간 : 2002-10-01 09:36:33\n",
      "\n",
      "* test Set Stats Info\n",
      "\t 데이터 개수: 6169\n",
      "\t User 고유 개수: 310\n",
      "\t Item 고유 개수: 1909\n",
      "\t 데이터 시작 시간 : 2002-10-01 19:26:51\n",
      "\t 데이터 종료 시간 : 2003-02-28 17:49:50\n",
      "\n"
     ]
    }
   ],
   "source": [
    "stats_info(tr, 'train')\n",
    "stats_info(val, 'valid')\n",
    "stats_info(test, 'test')"
   ]
  },
  {
   "cell_type": "markdown",
   "id": "8db5f9e7",
   "metadata": {},
   "source": [
    "* train set에 없는 아이템이 val, test기간에 생길 수 있으므로 train data를 기준으로 인덱싱한다."
   ]
  },
  {
   "cell_type": "code",
   "execution_count": 28,
   "id": "99886016",
   "metadata": {},
   "outputs": [],
   "source": [
    "id2idx = {item_id : index for index, item_id in enumerate(tr['ItemId'].unique())}\n",
    "\n",
    "def indexing(df, id2idx):\n",
    "    df['item_idx'] = df['ItemId'].map(lambda x: id2idx.get(x, -1))  # id2idx에 없는 아이템은 모르는 값(-1) 처리 해줍니다.\n",
    "    return df\n",
    "\n",
    "tr = indexing(tr, id2idx)\n",
    "val = indexing(val, id2idx)\n",
    "test = indexing(test, id2idx)"
   ]
  },
  {
   "cell_type": "markdown",
   "id": "972c1d91",
   "metadata": {},
   "source": [
    "* 준비한 데이터를 저장하자."
   ]
  },
  {
   "cell_type": "code",
   "execution_count": 29,
   "id": "ed93739c",
   "metadata": {},
   "outputs": [],
   "source": [
    "save_path = data_path / 'processed'\n",
    "save_path.mkdir(parents=True, exist_ok=True)\n",
    "\n",
    "tr.to_pickle(save_path / 'train.pkl')\n",
    "val.to_pickle(save_path / 'valid.pkl')\n",
    "test.to_pickle(save_path / 'test.pkl')"
   ]
  },
  {
   "cell_type": "markdown",
   "id": "b6bb0c73",
   "metadata": {},
   "source": [
    "---"
   ]
  },
  {
   "cell_type": "markdown",
   "id": "26bb48c9",
   "metadata": {},
   "source": [
    "# Step 3. 미니 배치의 구성\n",
    "* Session-Parallel Mini-Batch를 구현하여 학습 속도의 저하가 최소화될 수 있도록 구성해보자."
   ]
  },
  {
   "cell_type": "markdown",
   "id": "a19fcb44",
   "metadata": {},
   "source": [
    "## 3.1 Session Dataset\n",
    "* 데이터가 주어지면 세션이 시작되는 인덱스를 담는 값과 세션을 새로 인덱싱한 값을 갖는 클래스를 만들어보자."
   ]
  },
  {
   "cell_type": "code",
   "execution_count": 30,
   "id": "6f9195d1",
   "metadata": {},
   "outputs": [],
   "source": [
    "class SessionDataset:\n",
    "    \"\"\"Credit to yhs-968/pyGRU4REC.\"\"\"\n",
    "\n",
    "    def __init__(self, data):\n",
    "        self.df = data\n",
    "        self.click_offsets = self.get_click_offsets()\n",
    "        self.session_idx = np.arange(self.df['SessionId'].nunique())  # indexing to SessionId\n",
    "\n",
    "    def get_click_offsets(self):\n",
    "        \"\"\"\n",
    "        Return the indexes of the first click of each session IDs,\n",
    "        \"\"\"\n",
    "        offsets = np.zeros(self.df['SessionId'].nunique() + 1, dtype=np.int32)\n",
    "        offsets[1:] = self.df.groupby('SessionId').size().cumsum()\n",
    "        return offsets"
   ]
  },
  {
   "cell_type": "markdown",
   "id": "eb2073b1",
   "metadata": {},
   "source": [
    "* train 데이터로 `SessionDataset` 객체를 만들고 인스턴스 변수를 살펴보자."
   ]
  },
  {
   "cell_type": "code",
   "execution_count": 31,
   "id": "d0114ce4",
   "metadata": {},
   "outputs": [
    {
     "data": {
      "text/html": [
       "<div>\n",
       "<style scoped>\n",
       "    .dataframe tbody tr th:only-of-type {\n",
       "        vertical-align: middle;\n",
       "    }\n",
       "\n",
       "    .dataframe tbody tr th {\n",
       "        vertical-align: top;\n",
       "    }\n",
       "\n",
       "    .dataframe thead th {\n",
       "        text-align: right;\n",
       "    }\n",
       "</style>\n",
       "<table border=\"1\" class=\"dataframe\">\n",
       "  <thead>\n",
       "    <tr style=\"text-align: right;\">\n",
       "      <th></th>\n",
       "      <th>UserId</th>\n",
       "      <th>ItemId</th>\n",
       "      <th>Rating</th>\n",
       "      <th>Time</th>\n",
       "      <th>SessionId</th>\n",
       "      <th>item_idx</th>\n",
       "    </tr>\n",
       "  </thead>\n",
       "  <tbody>\n",
       "    <tr>\n",
       "      <th>0</th>\n",
       "      <td>1</td>\n",
       "      <td>3186</td>\n",
       "      <td>4</td>\n",
       "      <td>2000-12-31 22:00:19</td>\n",
       "      <td>0</td>\n",
       "      <td>0</td>\n",
       "    </tr>\n",
       "    <tr>\n",
       "      <th>1</th>\n",
       "      <td>1</td>\n",
       "      <td>1270</td>\n",
       "      <td>5</td>\n",
       "      <td>2000-12-31 22:00:55</td>\n",
       "      <td>1</td>\n",
       "      <td>1</td>\n",
       "    </tr>\n",
       "    <tr>\n",
       "      <th>2</th>\n",
       "      <td>1</td>\n",
       "      <td>1721</td>\n",
       "      <td>4</td>\n",
       "      <td>2000-12-31 22:00:55</td>\n",
       "      <td>1</td>\n",
       "      <td>2</td>\n",
       "    </tr>\n",
       "    <tr>\n",
       "      <th>3</th>\n",
       "      <td>1</td>\n",
       "      <td>1022</td>\n",
       "      <td>5</td>\n",
       "      <td>2000-12-31 22:00:55</td>\n",
       "      <td>1</td>\n",
       "      <td>3</td>\n",
       "    </tr>\n",
       "    <tr>\n",
       "      <th>4</th>\n",
       "      <td>1</td>\n",
       "      <td>2340</td>\n",
       "      <td>3</td>\n",
       "      <td>2000-12-31 22:01:43</td>\n",
       "      <td>2</td>\n",
       "      <td>4</td>\n",
       "    </tr>\n",
       "    <tr>\n",
       "      <th>5</th>\n",
       "      <td>1</td>\n",
       "      <td>1836</td>\n",
       "      <td>5</td>\n",
       "      <td>2000-12-31 22:02:52</td>\n",
       "      <td>3</td>\n",
       "      <td>5</td>\n",
       "    </tr>\n",
       "    <tr>\n",
       "      <th>6</th>\n",
       "      <td>1</td>\n",
       "      <td>3408</td>\n",
       "      <td>4</td>\n",
       "      <td>2000-12-31 22:04:35</td>\n",
       "      <td>4</td>\n",
       "      <td>6</td>\n",
       "    </tr>\n",
       "    <tr>\n",
       "      <th>7</th>\n",
       "      <td>1</td>\n",
       "      <td>2804</td>\n",
       "      <td>5</td>\n",
       "      <td>2000-12-31 22:11:59</td>\n",
       "      <td>5</td>\n",
       "      <td>7</td>\n",
       "    </tr>\n",
       "    <tr>\n",
       "      <th>8</th>\n",
       "      <td>1</td>\n",
       "      <td>1207</td>\n",
       "      <td>4</td>\n",
       "      <td>2000-12-31 22:11:59</td>\n",
       "      <td>5</td>\n",
       "      <td>8</td>\n",
       "    </tr>\n",
       "    <tr>\n",
       "      <th>9</th>\n",
       "      <td>1</td>\n",
       "      <td>1193</td>\n",
       "      <td>5</td>\n",
       "      <td>2000-12-31 22:12:40</td>\n",
       "      <td>6</td>\n",
       "      <td>9</td>\n",
       "    </tr>\n",
       "  </tbody>\n",
       "</table>\n",
       "</div>"
      ],
      "text/plain": [
       "   UserId  ItemId  Rating                Time  SessionId  item_idx\n",
       "0       1    3186       4 2000-12-31 22:00:19          0         0\n",
       "1       1    1270       5 2000-12-31 22:00:55          1         1\n",
       "2       1    1721       4 2000-12-31 22:00:55          1         2\n",
       "3       1    1022       5 2000-12-31 22:00:55          1         3\n",
       "4       1    2340       3 2000-12-31 22:01:43          2         4\n",
       "5       1    1836       5 2000-12-31 22:02:52          3         5\n",
       "6       1    3408       4 2000-12-31 22:04:35          4         6\n",
       "7       1    2804       5 2000-12-31 22:11:59          5         7\n",
       "8       1    1207       4 2000-12-31 22:11:59          5         8\n",
       "9       1    1193       5 2000-12-31 22:12:40          6         9"
      ]
     },
     "execution_count": 31,
     "metadata": {},
     "output_type": "execute_result"
    }
   ],
   "source": [
    "tr_dataset = SessionDataset(tr)\n",
    "tr_dataset.df.head(10)"
   ]
  },
  {
   "cell_type": "markdown",
   "id": "b18f1633",
   "metadata": {},
   "source": [
    "* `click_offsets`변수는 각 세션이 시작된 인덱스를 담고 있다."
   ]
  },
  {
   "cell_type": "code",
   "execution_count": 32,
   "id": "cd4d5379",
   "metadata": {},
   "outputs": [
    {
     "data": {
      "text/plain": [
       "array([     0,      1,      4, ..., 821452, 821453, 821454], dtype=int32)"
      ]
     },
     "execution_count": 32,
     "metadata": {},
     "output_type": "execute_result"
    }
   ],
   "source": [
    "tr_dataset.click_offsets"
   ]
  },
  {
   "cell_type": "markdown",
   "id": "f3308660",
   "metadata": {},
   "source": [
    "* `session_idx` 변수는 각 세션을 인덱싱한 `np.array`이다."
   ]
  },
  {
   "cell_type": "code",
   "execution_count": 33,
   "id": "2aaa827b",
   "metadata": {},
   "outputs": [
    {
     "data": {
      "text/plain": [
       "array([     0,      1,      2, ..., 413306, 413307, 413308])"
      ]
     },
     "execution_count": 33,
     "metadata": {},
     "output_type": "execute_result"
    }
   ],
   "source": [
    "tr_dataset.session_idx"
   ]
  },
  {
   "cell_type": "markdown",
   "id": "8fa8f77c",
   "metadata": {},
   "source": [
    "## 3.2 Session Data Loader\n",
    "* `SessionDataset` 객체를 받아서 Session-Parallel mini-batch를 만드는 클래스를 만들어보자.\n",
    "* `__iter__`매서드는 모델 인풋, 라벨, 세션이 끝나는 곳의 위치를 `yield`한다.\n",
    "* `mask`는 후에 RNN Cell State를 초기화하는데 사용한다."
   ]
  },
  {
   "cell_type": "code",
   "execution_count": 34,
   "id": "cd4640a8",
   "metadata": {},
   "outputs": [],
   "source": [
    "class SessionDataLoader:\n",
    "    \"\"\"Credit to yhs-968/pyGRU4REC.\"\"\"\n",
    "\n",
    "    def __init__(self, dataset: SessionDataset, batch_size=50):\n",
    "        self.dataset = dataset\n",
    "        self.batch_size = batch_size\n",
    "\n",
    "    def __iter__(self):\n",
    "        \"\"\" Returns the iterator for producing session-parallel training mini-batches.\n",
    "        Yields:\n",
    "            input (B,):  Item indices that will be encoded as one-hot vectors later.\n",
    "            target (B,): a Variable that stores the target item indices\n",
    "            masks: Numpy array indicating the positions of the sessions to be terminated\n",
    "        \"\"\"\n",
    "\n",
    "        start, end, mask, last_session, finished = self.initialize()  # initialize 메소드에서 확인해주세요.\n",
    "        \"\"\"\n",
    "        start : Index Where Session Start\n",
    "        end : Index Where Session End\n",
    "        mask : indicator for the sessions to be terminated\n",
    "        \"\"\"\n",
    "\n",
    "        while not finished:\n",
    "            min_len = (end - start).min() - 1  # Shortest Length Among Sessions\n",
    "            for i in range(min_len):\n",
    "                # Build inputs & targets\n",
    "                inp = self.dataset.df['item_idx'].values[start + i]\n",
    "                target = self.dataset.df['item_idx'].values[start + i + 1]\n",
    "                yield inp, target, mask\n",
    "\n",
    "            start, end, mask, last_session, finished = self.update_status(start, end, min_len, last_session, finished)\n",
    "\n",
    "    def initialize(self):\n",
    "        first_iters = np.arange(self.batch_size)    # 첫 배치에 사용할 세션 Index를 가져옵니다.\n",
    "        last_session = self.batch_size - 1    # 마지막으로 다루고 있는 세션 Index를 저장해둡니다.\n",
    "        start = self.dataset.click_offsets[self.dataset.session_idx[first_iters]]       # data 상에서 session이 시작된 위치를 가져옵니다.\n",
    "        end = self.dataset.click_offsets[self.dataset.session_idx[first_iters] + 1]  # session이 끝난 위치 바로 다음 위치를 가져옵니다.\n",
    "        mask = np.array([])   # session의 모든 아이템을 다 돌은 경우 mask에 추가해줄 것입니다.\n",
    "        finished = False         # data를 전부 돌았는지 기록하기 위한 변수입니다.\n",
    "        return start, end, mask, last_session, finished\n",
    "\n",
    "    def update_status(self, start: np.ndarray, end: np.ndarray, min_len: int, last_session: int, finished: bool):  \n",
    "        # 다음 배치 데이터를 생성하기 위해 상태를 update합니다.\n",
    "        \n",
    "        start += min_len   # __iter__에서 min_len 만큼 for문을 돌았으므로 start를 min_len 만큼 더해줍니다.\n",
    "        mask = np.arange(self.batch_size)[(end - start) == 1]  \n",
    "        # end는 다음 세션이 시작되는 위치인데 start와 한 칸 차이난다는 것은 session이 끝났다는 뜻입니다. mask에 기록해줍니다.\n",
    "\n",
    "        for i, idx in enumerate(mask, start=1):  # mask에 추가된 세션 개수만큼 새로운 세션을 돌것입니다.\n",
    "            new_session = last_session + i  \n",
    "            if new_session > self.dataset.session_idx[-1]:  # 만약 새로운 세션이 마지막 세션 index보다 크다면 모든 학습데이터를 돈 것입니다.\n",
    "                finished = True\n",
    "                break\n",
    "            # update the next starting/ending point\n",
    "            start[idx] = self.dataset.click_offsets[self.dataset.session_idx[new_session]]     # 종료된 세션 대신 새로운 세션의 시작점을 기록합니다.\n",
    "            end[idx] = self.dataset.click_offsets[self.dataset.session_idx[new_session] + 1]\n",
    "\n",
    "        last_session += len(mask)  # 마지막 세션의 위치를 기록해둡니다.\n",
    "        return start, end, mask, last_session, finished"
   ]
  },
  {
   "cell_type": "code",
   "execution_count": 35,
   "id": "bdc943c1",
   "metadata": {},
   "outputs": [
    {
     "data": {
      "text/html": [
       "<div>\n",
       "<style scoped>\n",
       "    .dataframe tbody tr th:only-of-type {\n",
       "        vertical-align: middle;\n",
       "    }\n",
       "\n",
       "    .dataframe tbody tr th {\n",
       "        vertical-align: top;\n",
       "    }\n",
       "\n",
       "    .dataframe thead th {\n",
       "        text-align: right;\n",
       "    }\n",
       "</style>\n",
       "<table border=\"1\" class=\"dataframe\">\n",
       "  <thead>\n",
       "    <tr style=\"text-align: right;\">\n",
       "      <th></th>\n",
       "      <th>UserId</th>\n",
       "      <th>ItemId</th>\n",
       "      <th>Rating</th>\n",
       "      <th>Time</th>\n",
       "      <th>SessionId</th>\n",
       "      <th>item_idx</th>\n",
       "    </tr>\n",
       "  </thead>\n",
       "  <tbody>\n",
       "    <tr>\n",
       "      <th>0</th>\n",
       "      <td>1</td>\n",
       "      <td>3186</td>\n",
       "      <td>4</td>\n",
       "      <td>2000-12-31 22:00:19</td>\n",
       "      <td>0</td>\n",
       "      <td>0</td>\n",
       "    </tr>\n",
       "    <tr>\n",
       "      <th>1</th>\n",
       "      <td>1</td>\n",
       "      <td>1270</td>\n",
       "      <td>5</td>\n",
       "      <td>2000-12-31 22:00:55</td>\n",
       "      <td>1</td>\n",
       "      <td>1</td>\n",
       "    </tr>\n",
       "    <tr>\n",
       "      <th>2</th>\n",
       "      <td>1</td>\n",
       "      <td>1721</td>\n",
       "      <td>4</td>\n",
       "      <td>2000-12-31 22:00:55</td>\n",
       "      <td>1</td>\n",
       "      <td>2</td>\n",
       "    </tr>\n",
       "    <tr>\n",
       "      <th>3</th>\n",
       "      <td>1</td>\n",
       "      <td>1022</td>\n",
       "      <td>5</td>\n",
       "      <td>2000-12-31 22:00:55</td>\n",
       "      <td>1</td>\n",
       "      <td>3</td>\n",
       "    </tr>\n",
       "    <tr>\n",
       "      <th>4</th>\n",
       "      <td>1</td>\n",
       "      <td>2340</td>\n",
       "      <td>3</td>\n",
       "      <td>2000-12-31 22:01:43</td>\n",
       "      <td>2</td>\n",
       "      <td>4</td>\n",
       "    </tr>\n",
       "    <tr>\n",
       "      <th>5</th>\n",
       "      <td>1</td>\n",
       "      <td>1836</td>\n",
       "      <td>5</td>\n",
       "      <td>2000-12-31 22:02:52</td>\n",
       "      <td>3</td>\n",
       "      <td>5</td>\n",
       "    </tr>\n",
       "    <tr>\n",
       "      <th>6</th>\n",
       "      <td>1</td>\n",
       "      <td>3408</td>\n",
       "      <td>4</td>\n",
       "      <td>2000-12-31 22:04:35</td>\n",
       "      <td>4</td>\n",
       "      <td>6</td>\n",
       "    </tr>\n",
       "    <tr>\n",
       "      <th>7</th>\n",
       "      <td>1</td>\n",
       "      <td>2804</td>\n",
       "      <td>5</td>\n",
       "      <td>2000-12-31 22:11:59</td>\n",
       "      <td>5</td>\n",
       "      <td>7</td>\n",
       "    </tr>\n",
       "    <tr>\n",
       "      <th>8</th>\n",
       "      <td>1</td>\n",
       "      <td>1207</td>\n",
       "      <td>4</td>\n",
       "      <td>2000-12-31 22:11:59</td>\n",
       "      <td>5</td>\n",
       "      <td>8</td>\n",
       "    </tr>\n",
       "    <tr>\n",
       "      <th>9</th>\n",
       "      <td>1</td>\n",
       "      <td>1193</td>\n",
       "      <td>5</td>\n",
       "      <td>2000-12-31 22:12:40</td>\n",
       "      <td>6</td>\n",
       "      <td>9</td>\n",
       "    </tr>\n",
       "    <tr>\n",
       "      <th>10</th>\n",
       "      <td>1</td>\n",
       "      <td>720</td>\n",
       "      <td>3</td>\n",
       "      <td>2000-12-31 22:12:40</td>\n",
       "      <td>6</td>\n",
       "      <td>10</td>\n",
       "    </tr>\n",
       "    <tr>\n",
       "      <th>11</th>\n",
       "      <td>1</td>\n",
       "      <td>260</td>\n",
       "      <td>4</td>\n",
       "      <td>2000-12-31 22:12:40</td>\n",
       "      <td>6</td>\n",
       "      <td>11</td>\n",
       "    </tr>\n",
       "    <tr>\n",
       "      <th>12</th>\n",
       "      <td>1</td>\n",
       "      <td>919</td>\n",
       "      <td>4</td>\n",
       "      <td>2000-12-31 22:22:48</td>\n",
       "      <td>7</td>\n",
       "      <td>12</td>\n",
       "    </tr>\n",
       "    <tr>\n",
       "      <th>13</th>\n",
       "      <td>1</td>\n",
       "      <td>608</td>\n",
       "      <td>4</td>\n",
       "      <td>2000-12-31 22:23:18</td>\n",
       "      <td>8</td>\n",
       "      <td>13</td>\n",
       "    </tr>\n",
       "    <tr>\n",
       "      <th>14</th>\n",
       "      <td>1</td>\n",
       "      <td>2692</td>\n",
       "      <td>4</td>\n",
       "      <td>2000-12-31 22:26:10</td>\n",
       "      <td>9</td>\n",
       "      <td>14</td>\n",
       "    </tr>\n",
       "  </tbody>\n",
       "</table>\n",
       "</div>"
      ],
      "text/plain": [
       "    UserId  ItemId  Rating                Time  SessionId  item_idx\n",
       "0        1    3186       4 2000-12-31 22:00:19          0         0\n",
       "1        1    1270       5 2000-12-31 22:00:55          1         1\n",
       "2        1    1721       4 2000-12-31 22:00:55          1         2\n",
       "3        1    1022       5 2000-12-31 22:00:55          1         3\n",
       "4        1    2340       3 2000-12-31 22:01:43          2         4\n",
       "5        1    1836       5 2000-12-31 22:02:52          3         5\n",
       "6        1    3408       4 2000-12-31 22:04:35          4         6\n",
       "7        1    2804       5 2000-12-31 22:11:59          5         7\n",
       "8        1    1207       4 2000-12-31 22:11:59          5         8\n",
       "9        1    1193       5 2000-12-31 22:12:40          6         9\n",
       "10       1     720       3 2000-12-31 22:12:40          6        10\n",
       "11       1     260       4 2000-12-31 22:12:40          6        11\n",
       "12       1     919       4 2000-12-31 22:22:48          7        12\n",
       "13       1     608       4 2000-12-31 22:23:18          8        13\n",
       "14       1    2692       4 2000-12-31 22:26:10          9        14"
      ]
     },
     "execution_count": 35,
     "metadata": {},
     "output_type": "execute_result"
    }
   ],
   "source": [
    "tr_data_loader = SessionDataLoader(tr_dataset, batch_size=4)\n",
    "tr_dataset.df.head(15)"
   ]
  },
  {
   "cell_type": "code",
   "execution_count": 36,
   "id": "c2385b61",
   "metadata": {},
   "outputs": [],
   "source": [
    "iter_ex = iter(tr_data_loader)"
   ]
  },
  {
   "cell_type": "markdown",
   "id": "ba47913f",
   "metadata": {},
   "source": [
    "* 아래 셀을 반복 실행하면 `next`가 계속 다음 데이터를 만든다."
   ]
  },
  {
   "cell_type": "code",
   "execution_count": 37,
   "id": "dea27faa",
   "metadata": {},
   "outputs": [
    {
     "name": "stdout",
     "output_type": "stream",
     "text": [
      "Model Input Item Idx are : [19  1  7  9]\n",
      "Label Item Idx are :       [20  2  8 10]\n",
      "Previous Masked Input Idx are [0]\n"
     ]
    }
   ],
   "source": [
    "inputs, labels, mask =  next(iter_ex)\n",
    "print(f'Model Input Item Idx are : {inputs}')\n",
    "print(f'Label Item Idx are : {\"\":5} {labels}')\n",
    "print(f'Previous Masked Input Idx are {mask}')"
   ]
  },
  {
   "cell_type": "markdown",
   "id": "62eec9d0",
   "metadata": {},
   "source": [
    "---"
   ]
  },
  {
   "cell_type": "markdown",
   "id": "7bab7c64",
   "metadata": {},
   "source": [
    "# Step 4. 모델 구성"
   ]
  },
  {
   "cell_type": "markdown",
   "id": "4edee3e5",
   "metadata": {},
   "source": [
    "## 4.1 Evaluation Metrix\n",
    "* 모델 성능 평가를 위한 지표를 확인해보자.\n",
    "* `MRR`과 `Recall@k`를 사용해보자."
   ]
  },
  {
   "cell_type": "code",
   "execution_count": 38,
   "id": "bab22ea6",
   "metadata": {},
   "outputs": [],
   "source": [
    "def mrr_k(pred, truth: int, k: int):\n",
    "    indexing = np.where(pred[:k] == truth)[0]\n",
    "    if len(indexing) > 0:\n",
    "        return 1 / (indexing[0] + 1)\n",
    "    else:\n",
    "        return 0\n",
    "\n",
    "\n",
    "def recall_k(pred, truth: int, k: int) -> int:\n",
    "    answer = truth in pred[:k]\n",
    "    return int(answer)"
   ]
  },
  {
   "cell_type": "markdown",
   "id": "40cb0007",
   "metadata": {},
   "source": [
    "## 4.2 Model Architecture"
   ]
  },
  {
   "cell_type": "code",
   "execution_count": 39,
   "id": "927e16e5",
   "metadata": {},
   "outputs": [],
   "source": [
    "import numpy as np\n",
    "import tensorflow as tf\n",
    "from tensorflow.keras.layers import Input, Dense, Dropout, GRU\n",
    "from tensorflow.keras.losses import categorical_crossentropy\n",
    "from tensorflow.keras.models import Model\n",
    "from tensorflow.keras.optimizers import Adam\n",
    "from tensorflow.keras.utils import to_categorical\n",
    "from tqdm import tqdm"
   ]
  },
  {
   "cell_type": "code",
   "execution_count": 40,
   "id": "5127aa22",
   "metadata": {},
   "outputs": [],
   "source": [
    "def create_model(args):\n",
    "    inputs = Input(batch_shape=(args.batch_size, 1, args.num_items))\n",
    "    gru, _ = GRU(args.hsz, stateful=True, return_state=True, name='GRU')(inputs)\n",
    "    dropout = Dropout(args.drop_rate)(gru)\n",
    "    predictions = Dense(args.num_items, activation='softmax')(dropout)\n",
    "    model = Model(inputs=inputs, outputs=[predictions])\n",
    "    model.compile(loss=categorical_crossentropy, optimizer=Adam(args.lr), metrics=['accuracy'])\n",
    "    model.summary()\n",
    "    return model"
   ]
  },
  {
   "cell_type": "markdown",
   "id": "f4b4403e",
   "metadata": {},
   "source": [
    "* 모델에 사용할 하이퍼파라미터를 class 형식으로 관리해보자.\n",
    "* 첫 파일에서 진행한 하이퍼파라미터 중 가장 성능이 좋았던 것으로 하여 학습시키고자 한다."
   ]
  },
  {
   "cell_type": "code",
   "execution_count": 41,
   "id": "8bead8ba",
   "metadata": {},
   "outputs": [],
   "source": [
    "class Args:\n",
    "    def __init__(self, tr, val, test, batch_size, hsz, drop_rate, lr, epochs, k):\n",
    "        self.tr = tr\n",
    "        self.val = val\n",
    "        self.test = test\n",
    "        self.num_items = tr['ItemId'].nunique()\n",
    "        self.num_sessions = tr['UserId'].nunique()\n",
    "        self.batch_size = batch_size\n",
    "        self.hsz = hsz\n",
    "        self.drop_rate = drop_rate\n",
    "        self.lr = lr\n",
    "        self.epochs = epochs\n",
    "        self.k = k\n",
    "\n",
    "args = Args(tr, val, test, batch_size=128, hsz=50, drop_rate=0.1, lr=0.001, epochs=10, k=20)"
   ]
  },
  {
   "cell_type": "code",
   "execution_count": 42,
   "id": "1e09bc8a",
   "metadata": {
    "scrolled": false
   },
   "outputs": [
    {
     "name": "stdout",
     "output_type": "stream",
     "text": [
      "Model: \"model\"\n",
      "_________________________________________________________________\n",
      "Layer (type)                 Output Shape              Param #   \n",
      "=================================================================\n",
      "input_1 (InputLayer)         [(128, 1, 3620)]          0         \n",
      "_________________________________________________________________\n",
      "GRU (GRU)                    [(128, 50), (128, 50)]    550800    \n",
      "_________________________________________________________________\n",
      "dropout (Dropout)            (128, 50)                 0         \n",
      "_________________________________________________________________\n",
      "dense (Dense)                (128, 3620)               184620    \n",
      "=================================================================\n",
      "Total params: 735,420\n",
      "Trainable params: 735,420\n",
      "Non-trainable params: 0\n",
      "_________________________________________________________________\n"
     ]
    }
   ],
   "source": [
    "model = create_model(args)"
   ]
  },
  {
   "cell_type": "markdown",
   "id": "552b9a48",
   "metadata": {},
   "source": [
    "---"
   ]
  },
  {
   "cell_type": "markdown",
   "id": "9113a0a1",
   "metadata": {},
   "source": [
    "# Step 5. 모델 학습"
   ]
  },
  {
   "cell_type": "code",
   "execution_count": 44,
   "id": "9bd039b2",
   "metadata": {},
   "outputs": [],
   "source": [
    "# train 셋으로 학습하면서 valid 셋으로 검증합니다.\n",
    "def train_model(model, args):\n",
    "    train_dataset = SessionDataset(args.tr)\n",
    "    train_loader = SessionDataLoader(train_dataset, batch_size=args.batch_size)\n",
    "\n",
    "    for epoch in range(1, args.epochs + 1):\n",
    "        total_step = len(args.tr) - args.tr['UserId'].nunique()\n",
    "        tr_loader = tqdm(train_loader, total=total_step // args.batch_size, desc='Train', mininterval=1)\n",
    "        for feat, target, mask in tr_loader:\n",
    "            reset_hidden_states(model, mask)  # 종료된 session은 hidden_state를 초기화합니다. 아래 메서드에서 확인해주세요.\n",
    "\n",
    "            input_ohe = to_categorical(feat, num_classes=args.num_items)\n",
    "            input_ohe = np.expand_dims(input_ohe, axis=1)\n",
    "            target_ohe = to_categorical(target, num_classes=args.num_items)\n",
    "\n",
    "            result = model.train_on_batch(input_ohe, target_ohe)\n",
    "            tr_loader.set_postfix(train_loss=result[0], accuracy = result[1])\n",
    "\n",
    "        val_recall, val_mrr = get_metrics(args.val, model, args, args.k)  # valid set에 대해 검증합니다.\n",
    "\n",
    "        print(f\"\\t - Recall@{args.k} epoch {epoch}: {val_recall:3f}\")\n",
    "        print(f\"\\t - MRR@{args.k}    epoch {epoch}: {val_mrr:3f}\\n\")\n",
    "\n",
    "\n",
    "def reset_hidden_states(model, mask):\n",
    "    gru_layer = model.get_layer(name='GRU')  # model에서 gru layer를 가져옵니다.\n",
    "    hidden_states = gru_layer.states[0].numpy()  # gru_layer의 parameter를 가져옵니다.\n",
    "    for elt in mask:  # mask된 인덱스 즉, 종료된 세션의 인덱스를 돌면서\n",
    "        hidden_states[elt, :] = 0  # parameter를 초기화 합니다.\n",
    "    gru_layer.reset_states(states=hidden_states)\n",
    "\n",
    "\n",
    "def get_metrics(data, model, args, k: int):  # valid셋과 test셋을 평가하는 코드입니다. \n",
    "                                             # train과 거의 같지만 mrr, recall을 구하는 라인이 있습니다.\n",
    "    dataset = SessionDataset(data)\n",
    "    loader = SessionDataLoader(dataset, batch_size=args.batch_size)\n",
    "    recall_list, mrr_list = [], []\n",
    "\n",
    "    total_step = len(data) - data['UserId'].nunique()\n",
    "    for inputs, label, mask in tqdm(loader, total=total_step // args.batch_size, desc='Evaluation', mininterval=1):\n",
    "        reset_hidden_states(model, mask)\n",
    "        input_ohe = to_categorical(inputs, num_classes=args.num_items)\n",
    "        input_ohe = np.expand_dims(input_ohe, axis=1)\n",
    "\n",
    "        pred = model.predict(input_ohe, batch_size=args.batch_size)\n",
    "        pred_arg = tf.argsort(pred, direction='DESCENDING')  # softmax 값이 큰 순서대로 sorting 합니다.\n",
    "\n",
    "        length = len(inputs)\n",
    "        recall_list.extend([recall_k(pred_arg[i], label[i], k) for i in range(length)])\n",
    "        mrr_list.extend([mrr_k(pred_arg[i], label[i], k) for i in range(length)])\n",
    "\n",
    "    recall, mrr = np.mean(recall_list), np.mean(mrr_list)\n",
    "    return recall, mrr"
   ]
  },
  {
   "cell_type": "code",
   "execution_count": 45,
   "id": "f35856f5",
   "metadata": {},
   "outputs": [
    {
     "name": "stderr",
     "output_type": "stream",
     "text": [
      "Train:  50%|█████     | 3187/6370 [02:01<02:01, 26.15it/s, accuracy=0.0234, train_loss=6.5]  \n",
      "Evaluation:  25%|██▌       | 13/51 [00:10<00:29,  1.28it/s]\n"
     ]
    },
    {
     "name": "stdout",
     "output_type": "stream",
     "text": [
      "\t - Recall@20 epoch 1: 0.123197\n",
      "\t - MRR@20    epoch 1: 0.038400\n",
      "\n"
     ]
    },
    {
     "name": "stderr",
     "output_type": "stream",
     "text": [
      "Train:  50%|█████     | 3187/6370 [01:54<01:54, 27.89it/s, accuracy=0.0469, train_loss=6.05] \n",
      "Evaluation:  25%|██▌       | 13/51 [00:08<00:24,  1.56it/s]\n"
     ]
    },
    {
     "name": "stdout",
     "output_type": "stream",
     "text": [
      "\t - Recall@20 epoch 2: 0.184495\n",
      "\t - MRR@20    epoch 2: 0.066859\n",
      "\n"
     ]
    },
    {
     "name": "stderr",
     "output_type": "stream",
     "text": [
      "Train:  50%|█████     | 3187/6370 [01:55<01:55, 27.67it/s, accuracy=0.0312, train_loss=5.89] \n",
      "Evaluation:  25%|██▌       | 13/51 [00:08<00:23,  1.59it/s]\n"
     ]
    },
    {
     "name": "stdout",
     "output_type": "stream",
     "text": [
      "\t - Recall@20 epoch 3: 0.212139\n",
      "\t - MRR@20    epoch 3: 0.077158\n",
      "\n"
     ]
    },
    {
     "name": "stderr",
     "output_type": "stream",
     "text": [
      "Train:  50%|█████     | 3187/6370 [01:54<01:54, 27.82it/s, accuracy=0.0391, train_loss=5.82] \n",
      "Evaluation:  25%|██▌       | 13/51 [00:07<00:23,  1.64it/s]\n"
     ]
    },
    {
     "name": "stdout",
     "output_type": "stream",
     "text": [
      "\t - Recall@20 epoch 4: 0.219952\n",
      "\t - MRR@20    epoch 4: 0.082685\n",
      "\n"
     ]
    },
    {
     "name": "stderr",
     "output_type": "stream",
     "text": [
      "Train:  50%|█████     | 3187/6370 [01:52<01:52, 28.41it/s, accuracy=0.0391, train_loss=5.8]  \n",
      "Evaluation:  25%|██▌       | 13/51 [00:08<00:24,  1.57it/s]\n"
     ]
    },
    {
     "name": "stdout",
     "output_type": "stream",
     "text": [
      "\t - Recall@20 epoch 5: 0.224760\n",
      "\t - MRR@20    epoch 5: 0.083879\n",
      "\n"
     ]
    },
    {
     "name": "stderr",
     "output_type": "stream",
     "text": [
      "Train:  50%|█████     | 3187/6370 [01:59<01:59, 26.70it/s, accuracy=0.0391, train_loss=5.77] \n",
      "Evaluation:  25%|██▌       | 13/51 [00:08<00:24,  1.56it/s]\n"
     ]
    },
    {
     "name": "stdout",
     "output_type": "stream",
     "text": [
      "\t - Recall@20 epoch 6: 0.225962\n",
      "\t - MRR@20    epoch 6: 0.086629\n",
      "\n"
     ]
    },
    {
     "name": "stderr",
     "output_type": "stream",
     "text": [
      "Train:  50%|█████     | 3187/6370 [01:55<01:55, 27.49it/s, accuracy=0.0469, train_loss=5.71] \n",
      "Evaluation:  25%|██▌       | 13/51 [00:08<00:24,  1.54it/s]\n"
     ]
    },
    {
     "name": "stdout",
     "output_type": "stream",
     "text": [
      "\t - Recall@20 epoch 7: 0.228365\n",
      "\t - MRR@20    epoch 7: 0.087782\n",
      "\n"
     ]
    },
    {
     "name": "stderr",
     "output_type": "stream",
     "text": [
      "Train:  50%|█████     | 3187/6370 [01:49<01:49, 29.17it/s, accuracy=0.0391, train_loss=5.72] \n",
      "Evaluation:  25%|██▌       | 13/51 [00:07<00:23,  1.64it/s]\n"
     ]
    },
    {
     "name": "stdout",
     "output_type": "stream",
     "text": [
      "\t - Recall@20 epoch 8: 0.227163\n",
      "\t - MRR@20    epoch 8: 0.087576\n",
      "\n"
     ]
    },
    {
     "name": "stderr",
     "output_type": "stream",
     "text": [
      "Train:  50%|█████     | 3187/6370 [01:47<01:47, 29.55it/s, accuracy=0.0625, train_loss=5.69] \n",
      "Evaluation:  25%|██▌       | 13/51 [00:08<00:23,  1.60it/s]\n"
     ]
    },
    {
     "name": "stdout",
     "output_type": "stream",
     "text": [
      "\t - Recall@20 epoch 9: 0.225361\n",
      "\t - MRR@20    epoch 9: 0.086102\n",
      "\n"
     ]
    },
    {
     "name": "stderr",
     "output_type": "stream",
     "text": [
      "Train:  50%|█████     | 3187/6370 [01:47<01:47, 29.65it/s, accuracy=0.0547, train_loss=5.65] \n",
      "Evaluation:  25%|██▌       | 13/51 [00:07<00:23,  1.64it/s]"
     ]
    },
    {
     "name": "stdout",
     "output_type": "stream",
     "text": [
      "\t - Recall@20 epoch 10: 0.228365\n",
      "\t - MRR@20    epoch 10: 0.085458\n",
      "\n"
     ]
    },
    {
     "name": "stderr",
     "output_type": "stream",
     "text": [
      "\n"
     ]
    }
   ],
   "source": [
    "train_model(model, args)"
   ]
  },
  {
   "cell_type": "markdown",
   "id": "e1a9e15e",
   "metadata": {},
   "source": [
    "---"
   ]
  },
  {
   "cell_type": "markdown",
   "id": "9a798be4",
   "metadata": {},
   "source": [
    "# Step 6. 모델 테스트\n",
    "* 지금까지 작성한 모델이 테스트셋에 대해서 어느정도 성능을 내는지 검증해보자."
   ]
  },
  {
   "cell_type": "code",
   "execution_count": 46,
   "id": "e944ba5a",
   "metadata": {
    "scrolled": false
   },
   "outputs": [
    {
     "name": "stderr",
     "output_type": "stream",
     "text": [
      "Evaluation:  27%|██▋       | 12/45 [00:07<00:19,  1.68it/s]"
     ]
    },
    {
     "name": "stdout",
     "output_type": "stream",
     "text": [
      "\t - Recall@20: 0.247396\n",
      "\t - MRR@20: 0.090361\n",
      "\n"
     ]
    },
    {
     "name": "stderr",
     "output_type": "stream",
     "text": [
      "\n"
     ]
    }
   ],
   "source": [
    "def test_model(model, args, test):\n",
    "    test_recall, test_mrr = get_metrics(test, model, args, 20)\n",
    "    print(f\"\\t - Recall@{args.k}: {test_recall:3f}\")\n",
    "    print(f\"\\t - MRR@{args.k}: {test_mrr:3f}\\n\")\n",
    "\n",
    "test_model(model, args, test)"
   ]
  }
 ],
 "metadata": {
  "kernelspec": {
   "display_name": "Python 3 (ipykernel)",
   "language": "python",
   "name": "python3"
  },
  "language_info": {
   "codemirror_mode": {
    "name": "ipython",
    "version": 3
   },
   "file_extension": ".py",
   "mimetype": "text/x-python",
   "name": "python",
   "nbconvert_exporter": "python",
   "pygments_lexer": "ipython3",
   "version": "3.9.7"
  }
 },
 "nbformat": 4,
 "nbformat_minor": 5
}
