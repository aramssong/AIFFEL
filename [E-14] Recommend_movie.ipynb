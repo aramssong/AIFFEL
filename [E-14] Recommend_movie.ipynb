{
 "cells": [
  {
   "cell_type": "markdown",
   "id": "67aa9ada",
   "metadata": {},
   "source": [
    "# Exp 14.Movielens 영화 추천"
   ]
  },
  {
   "cell_type": "markdown",
   "id": "04af6717",
   "metadata": {},
   "source": [
    "---"
   ]
  },
  {
   "cell_type": "markdown",
   "id": "b5a9ecd2",
   "metadata": {},
   "source": [
    "# 🗼목차\n",
    "Step 1. 데이터 준비와 전처리  \n",
    "Step 2. 데이터 탐색  \n",
    "Step 3. 선호하는 영화 5가지 고르기  \n",
    "Step 4. indexing 작업  \n",
    "Step 5. CSR Matrix 만들기  \n",
    "Step 6. als 모델 구성 및 훈련  \n",
    "Step 7. 모델이 예측한 나의 선호도 파악  \n",
    "Step 8. 내가 좋아하는 영화와 비슷한 영화 추천  \n",
    "Step 9. 내가 좋아할만한 영화 추천  \n",
    "🌞 회고"
   ]
  },
  {
   "cell_type": "markdown",
   "id": "0d714949",
   "metadata": {},
   "source": [
    "---"
   ]
  },
  {
   "cell_type": "markdown",
   "id": "2f9b033c",
   "metadata": {},
   "source": [
    "# Step 1. 데이터 준비와 전처리"
   ]
  },
  {
   "cell_type": "markdown",
   "id": "880effdb",
   "metadata": {},
   "source": [
    "## 1.1 데이터 준비\n",
    "* Movielens 데이터는 `rating.dat`안에 이미 인덱싱까지 완료된 사용자-영화-평점 데이터가 정리되어 있다."
   ]
  },
  {
   "cell_type": "code",
   "execution_count": 1,
   "id": "d9ecdbd9",
   "metadata": {},
   "outputs": [
    {
     "data": {
      "text/html": [
       "<div>\n",
       "<style scoped>\n",
       "    .dataframe tbody tr th:only-of-type {\n",
       "        vertical-align: middle;\n",
       "    }\n",
       "\n",
       "    .dataframe tbody tr th {\n",
       "        vertical-align: top;\n",
       "    }\n",
       "\n",
       "    .dataframe thead th {\n",
       "        text-align: right;\n",
       "    }\n",
       "</style>\n",
       "<table border=\"1\" class=\"dataframe\">\n",
       "  <thead>\n",
       "    <tr style=\"text-align: right;\">\n",
       "      <th></th>\n",
       "      <th>user_id</th>\n",
       "      <th>movie_id</th>\n",
       "      <th>ratings</th>\n",
       "      <th>timestamp</th>\n",
       "    </tr>\n",
       "  </thead>\n",
       "  <tbody>\n",
       "    <tr>\n",
       "      <th>0</th>\n",
       "      <td>1</td>\n",
       "      <td>1193</td>\n",
       "      <td>5</td>\n",
       "      <td>978300760</td>\n",
       "    </tr>\n",
       "    <tr>\n",
       "      <th>1</th>\n",
       "      <td>1</td>\n",
       "      <td>661</td>\n",
       "      <td>3</td>\n",
       "      <td>978302109</td>\n",
       "    </tr>\n",
       "    <tr>\n",
       "      <th>2</th>\n",
       "      <td>1</td>\n",
       "      <td>914</td>\n",
       "      <td>3</td>\n",
       "      <td>978301968</td>\n",
       "    </tr>\n",
       "    <tr>\n",
       "      <th>3</th>\n",
       "      <td>1</td>\n",
       "      <td>3408</td>\n",
       "      <td>4</td>\n",
       "      <td>978300275</td>\n",
       "    </tr>\n",
       "    <tr>\n",
       "      <th>4</th>\n",
       "      <td>1</td>\n",
       "      <td>2355</td>\n",
       "      <td>5</td>\n",
       "      <td>978824291</td>\n",
       "    </tr>\n",
       "  </tbody>\n",
       "</table>\n",
       "</div>"
      ],
      "text/plain": [
       "   user_id  movie_id  ratings  timestamp\n",
       "0        1      1193        5  978300760\n",
       "1        1       661        3  978302109\n",
       "2        1       914        3  978301968\n",
       "3        1      3408        4  978300275\n",
       "4        1      2355        5  978824291"
      ]
     },
     "execution_count": 1,
     "metadata": {},
     "output_type": "execute_result"
    }
   ],
   "source": [
    "import pandas as pd\n",
    "import os\n",
    "\n",
    "rating_file_path=os.getenv('HOME') + '/aiffel/recommendata_iu/data/ml-1m/ratings.dat'\n",
    "ratings_cols = ['user_id', 'movie_id', 'ratings', 'timestamp']\n",
    "\n",
    "ratings = pd.read_csv(rating_file_path, sep='::', names=ratings_cols, engine='python', encoding = \"ISO-8859-1\")\n",
    "orginal_data_size = len(ratings)\n",
    "\n",
    "ratings.head()"
   ]
  },
  {
   "cell_type": "markdown",
   "id": "1da7d034",
   "metadata": {},
   "source": [
    "## 1.2 데이터 전처리\n",
    "* 유저가 3점 미만으로 준 데이터는 선호하지 않는다고 가정한다.\n",
    "* `ratings`가 3점 이상인 데이터만 남기고 제거한다.\n",
    "* 필터를 거친 데이터의 사이즈는 `836478`로 필터 전 데이터의 `83.63%`에 해당하는 데이터이다."
   ]
  },
  {
   "cell_type": "code",
   "execution_count": 2,
   "id": "27956afc",
   "metadata": {},
   "outputs": [
    {
     "name": "stdout",
     "output_type": "stream",
     "text": [
      "orginal_data_size: 1000209, filtered_data_size: 836478\n",
      "Ratio of Remaining Data is 83.63%\n"
     ]
    }
   ],
   "source": [
    "ratings = ratings[ratings['ratings']>=3]\n",
    "filtered_data_size = len(ratings)\n",
    "\n",
    "print(f'orginal_data_size: {orginal_data_size}, filtered_data_size: {filtered_data_size}')\n",
    "print(f'Ratio of Remaining Data is {filtered_data_size / orginal_data_size:.2%}')"
   ]
  },
  {
   "cell_type": "markdown",
   "id": "4ea4f8ff",
   "metadata": {},
   "source": [
    "* 컬럼 이름을 `ratings` → `counts`로 변경한다."
   ]
  },
  {
   "cell_type": "code",
   "execution_count": 3,
   "id": "f545209f",
   "metadata": {},
   "outputs": [],
   "source": [
    "ratings.rename(columns={'ratings':'counts'}, inplace=True)"
   ]
  },
  {
   "cell_type": "code",
   "execution_count": 4,
   "id": "848e597c",
   "metadata": {},
   "outputs": [
    {
     "data": {
      "text/plain": [
       "0          5\n",
       "1          3\n",
       "2          3\n",
       "3          4\n",
       "4          5\n",
       "          ..\n",
       "1000203    3\n",
       "1000205    5\n",
       "1000206    5\n",
       "1000207    4\n",
       "1000208    4\n",
       "Name: counts, Length: 836478, dtype: int64"
      ]
     },
     "execution_count": 4,
     "metadata": {},
     "output_type": "execute_result"
    }
   ],
   "source": [
    "ratings['counts']"
   ]
  },
  {
   "cell_type": "code",
   "execution_count": 5,
   "id": "6c0ccf72",
   "metadata": {},
   "outputs": [
    {
     "data": {
      "text/html": [
       "<div>\n",
       "<style scoped>\n",
       "    .dataframe tbody tr th:only-of-type {\n",
       "        vertical-align: middle;\n",
       "    }\n",
       "\n",
       "    .dataframe tbody tr th {\n",
       "        vertical-align: top;\n",
       "    }\n",
       "\n",
       "    .dataframe thead th {\n",
       "        text-align: right;\n",
       "    }\n",
       "</style>\n",
       "<table border=\"1\" class=\"dataframe\">\n",
       "  <thead>\n",
       "    <tr style=\"text-align: right;\">\n",
       "      <th></th>\n",
       "      <th>user_id</th>\n",
       "      <th>movie_id</th>\n",
       "      <th>counts</th>\n",
       "      <th>timestamp</th>\n",
       "    </tr>\n",
       "  </thead>\n",
       "  <tbody>\n",
       "    <tr>\n",
       "      <th>0</th>\n",
       "      <td>1</td>\n",
       "      <td>1193</td>\n",
       "      <td>5</td>\n",
       "      <td>978300760</td>\n",
       "    </tr>\n",
       "    <tr>\n",
       "      <th>1</th>\n",
       "      <td>1</td>\n",
       "      <td>661</td>\n",
       "      <td>3</td>\n",
       "      <td>978302109</td>\n",
       "    </tr>\n",
       "    <tr>\n",
       "      <th>2</th>\n",
       "      <td>1</td>\n",
       "      <td>914</td>\n",
       "      <td>3</td>\n",
       "      <td>978301968</td>\n",
       "    </tr>\n",
       "    <tr>\n",
       "      <th>3</th>\n",
       "      <td>1</td>\n",
       "      <td>3408</td>\n",
       "      <td>4</td>\n",
       "      <td>978300275</td>\n",
       "    </tr>\n",
       "    <tr>\n",
       "      <th>4</th>\n",
       "      <td>1</td>\n",
       "      <td>2355</td>\n",
       "      <td>5</td>\n",
       "      <td>978824291</td>\n",
       "    </tr>\n",
       "  </tbody>\n",
       "</table>\n",
       "</div>"
      ],
      "text/plain": [
       "   user_id  movie_id  counts  timestamp\n",
       "0        1      1193       5  978300760\n",
       "1        1       661       3  978302109\n",
       "2        1       914       3  978301968\n",
       "3        1      3408       4  978300275\n",
       "4        1      2355       5  978824291"
      ]
     },
     "execution_count": 5,
     "metadata": {},
     "output_type": "execute_result"
    }
   ],
   "source": [
    "ratings.head()"
   ]
  },
  {
   "cell_type": "code",
   "execution_count": 6,
   "id": "598cca00",
   "metadata": {
    "scrolled": true
   },
   "outputs": [
    {
     "data": {
      "text/html": [
       "<div>\n",
       "<style scoped>\n",
       "    .dataframe tbody tr th:only-of-type {\n",
       "        vertical-align: middle;\n",
       "    }\n",
       "\n",
       "    .dataframe tbody tr th {\n",
       "        vertical-align: top;\n",
       "    }\n",
       "\n",
       "    .dataframe thead th {\n",
       "        text-align: right;\n",
       "    }\n",
       "</style>\n",
       "<table border=\"1\" class=\"dataframe\">\n",
       "  <thead>\n",
       "    <tr style=\"text-align: right;\">\n",
       "      <th></th>\n",
       "      <th>user_id</th>\n",
       "      <th>movie_id</th>\n",
       "      <th>counts</th>\n",
       "      <th>timestamp</th>\n",
       "    </tr>\n",
       "  </thead>\n",
       "  <tbody>\n",
       "    <tr>\n",
       "      <th>1000203</th>\n",
       "      <td>6040</td>\n",
       "      <td>1090</td>\n",
       "      <td>3</td>\n",
       "      <td>956715518</td>\n",
       "    </tr>\n",
       "    <tr>\n",
       "      <th>1000205</th>\n",
       "      <td>6040</td>\n",
       "      <td>1094</td>\n",
       "      <td>5</td>\n",
       "      <td>956704887</td>\n",
       "    </tr>\n",
       "    <tr>\n",
       "      <th>1000206</th>\n",
       "      <td>6040</td>\n",
       "      <td>562</td>\n",
       "      <td>5</td>\n",
       "      <td>956704746</td>\n",
       "    </tr>\n",
       "    <tr>\n",
       "      <th>1000207</th>\n",
       "      <td>6040</td>\n",
       "      <td>1096</td>\n",
       "      <td>4</td>\n",
       "      <td>956715648</td>\n",
       "    </tr>\n",
       "    <tr>\n",
       "      <th>1000208</th>\n",
       "      <td>6040</td>\n",
       "      <td>1097</td>\n",
       "      <td>4</td>\n",
       "      <td>956715569</td>\n",
       "    </tr>\n",
       "  </tbody>\n",
       "</table>\n",
       "</div>"
      ],
      "text/plain": [
       "         user_id  movie_id  counts  timestamp\n",
       "1000203     6040      1090       3  956715518\n",
       "1000205     6040      1094       5  956704887\n",
       "1000206     6040       562       5  956704746\n",
       "1000207     6040      1096       4  956715648\n",
       "1000208     6040      1097       4  956715569"
      ]
     },
     "execution_count": 6,
     "metadata": {},
     "output_type": "execute_result"
    }
   ],
   "source": [
    "ratings.tail()"
   ]
  },
  {
   "cell_type": "markdown",
   "id": "7d7a776f",
   "metadata": {},
   "source": [
    "* 영화 제목을 보기 위해 메타 데이터를 읽어온다."
   ]
  },
  {
   "cell_type": "code",
   "execution_count": 7,
   "id": "d55f6c68",
   "metadata": {},
   "outputs": [
    {
     "data": {
      "text/html": [
       "<div>\n",
       "<style scoped>\n",
       "    .dataframe tbody tr th:only-of-type {\n",
       "        vertical-align: middle;\n",
       "    }\n",
       "\n",
       "    .dataframe tbody tr th {\n",
       "        vertical-align: top;\n",
       "    }\n",
       "\n",
       "    .dataframe thead th {\n",
       "        text-align: right;\n",
       "    }\n",
       "</style>\n",
       "<table border=\"1\" class=\"dataframe\">\n",
       "  <thead>\n",
       "    <tr style=\"text-align: right;\">\n",
       "      <th></th>\n",
       "      <th>movie_id</th>\n",
       "      <th>title</th>\n",
       "      <th>genre</th>\n",
       "    </tr>\n",
       "  </thead>\n",
       "  <tbody>\n",
       "    <tr>\n",
       "      <th>0</th>\n",
       "      <td>1</td>\n",
       "      <td>Toy Story (1995)</td>\n",
       "      <td>Animation|Children's|Comedy</td>\n",
       "    </tr>\n",
       "    <tr>\n",
       "      <th>1</th>\n",
       "      <td>2</td>\n",
       "      <td>Jumanji (1995)</td>\n",
       "      <td>Adventure|Children's|Fantasy</td>\n",
       "    </tr>\n",
       "    <tr>\n",
       "      <th>2</th>\n",
       "      <td>3</td>\n",
       "      <td>Grumpier Old Men (1995)</td>\n",
       "      <td>Comedy|Romance</td>\n",
       "    </tr>\n",
       "    <tr>\n",
       "      <th>3</th>\n",
       "      <td>4</td>\n",
       "      <td>Waiting to Exhale (1995)</td>\n",
       "      <td>Comedy|Drama</td>\n",
       "    </tr>\n",
       "    <tr>\n",
       "      <th>4</th>\n",
       "      <td>5</td>\n",
       "      <td>Father of the Bride Part II (1995)</td>\n",
       "      <td>Comedy</td>\n",
       "    </tr>\n",
       "  </tbody>\n",
       "</table>\n",
       "</div>"
      ],
      "text/plain": [
       "   movie_id                               title                         genre\n",
       "0         1                    Toy Story (1995)   Animation|Children's|Comedy\n",
       "1         2                      Jumanji (1995)  Adventure|Children's|Fantasy\n",
       "2         3             Grumpier Old Men (1995)                Comedy|Romance\n",
       "3         4            Waiting to Exhale (1995)                  Comedy|Drama\n",
       "4         5  Father of the Bride Part II (1995)                        Comedy"
      ]
     },
     "execution_count": 7,
     "metadata": {},
     "output_type": "execute_result"
    }
   ],
   "source": [
    "movie_file_path=os.getenv('HOME') + '/aiffel/recommendata_iu/data/ml-1m/movies.dat'\n",
    "cols = ['movie_id', 'title', 'genre'] \n",
    "movies = pd.read_csv(movie_file_path, sep='::', names=cols, engine='python', encoding='ISO-8859-1')\n",
    "movies.head()"
   ]
  },
  {
   "cell_type": "markdown",
   "id": "6a7ed11f",
   "metadata": {},
   "source": [
    "* `ratings`데이터와 `movies`데이터를 합쳐보자.\n",
    "* [데이터프레임 합치기](https://yganalyst.github.io/data_handling/Pd_12/#3-%EB%8D%B0%EC%9D%B4%ED%84%B0%ED%94%84%EB%A0%88%EC%9E%84-%EA%B2%B0%ED%95%A9--join)"
   ]
  },
  {
   "cell_type": "code",
   "execution_count": 8,
   "id": "518b3018",
   "metadata": {
    "scrolled": false
   },
   "outputs": [
    {
     "data": {
      "text/html": [
       "<div>\n",
       "<style scoped>\n",
       "    .dataframe tbody tr th:only-of-type {\n",
       "        vertical-align: middle;\n",
       "    }\n",
       "\n",
       "    .dataframe tbody tr th {\n",
       "        vertical-align: top;\n",
       "    }\n",
       "\n",
       "    .dataframe thead th {\n",
       "        text-align: right;\n",
       "    }\n",
       "</style>\n",
       "<table border=\"1\" class=\"dataframe\">\n",
       "  <thead>\n",
       "    <tr style=\"text-align: right;\">\n",
       "      <th></th>\n",
       "      <th>user_id</th>\n",
       "      <th>movie_id</th>\n",
       "      <th>counts</th>\n",
       "      <th>timestamp</th>\n",
       "      <th>title</th>\n",
       "      <th>genre</th>\n",
       "    </tr>\n",
       "  </thead>\n",
       "  <tbody>\n",
       "    <tr>\n",
       "      <th>0</th>\n",
       "      <td>1</td>\n",
       "      <td>1193</td>\n",
       "      <td>5</td>\n",
       "      <td>978300760</td>\n",
       "      <td>One Flew Over the Cuckoo's Nest (1975)</td>\n",
       "      <td>Drama</td>\n",
       "    </tr>\n",
       "    <tr>\n",
       "      <th>1</th>\n",
       "      <td>1</td>\n",
       "      <td>661</td>\n",
       "      <td>3</td>\n",
       "      <td>978302109</td>\n",
       "      <td>James and the Giant Peach (1996)</td>\n",
       "      <td>Animation|Children's|Musical</td>\n",
       "    </tr>\n",
       "    <tr>\n",
       "      <th>2</th>\n",
       "      <td>1</td>\n",
       "      <td>914</td>\n",
       "      <td>3</td>\n",
       "      <td>978301968</td>\n",
       "      <td>My Fair Lady (1964)</td>\n",
       "      <td>Musical|Romance</td>\n",
       "    </tr>\n",
       "    <tr>\n",
       "      <th>3</th>\n",
       "      <td>1</td>\n",
       "      <td>3408</td>\n",
       "      <td>4</td>\n",
       "      <td>978300275</td>\n",
       "      <td>Erin Brockovich (2000)</td>\n",
       "      <td>Drama</td>\n",
       "    </tr>\n",
       "    <tr>\n",
       "      <th>4</th>\n",
       "      <td>1</td>\n",
       "      <td>2355</td>\n",
       "      <td>5</td>\n",
       "      <td>978824291</td>\n",
       "      <td>Bug's Life, A (1998)</td>\n",
       "      <td>Animation|Children's|Comedy</td>\n",
       "    </tr>\n",
       "    <tr>\n",
       "      <th>...</th>\n",
       "      <td>...</td>\n",
       "      <td>...</td>\n",
       "      <td>...</td>\n",
       "      <td>...</td>\n",
       "      <td>...</td>\n",
       "      <td>...</td>\n",
       "    </tr>\n",
       "    <tr>\n",
       "      <th>836473</th>\n",
       "      <td>6040</td>\n",
       "      <td>1090</td>\n",
       "      <td>3</td>\n",
       "      <td>956715518</td>\n",
       "      <td>Platoon (1986)</td>\n",
       "      <td>Drama|War</td>\n",
       "    </tr>\n",
       "    <tr>\n",
       "      <th>836474</th>\n",
       "      <td>6040</td>\n",
       "      <td>1094</td>\n",
       "      <td>5</td>\n",
       "      <td>956704887</td>\n",
       "      <td>Crying Game, The (1992)</td>\n",
       "      <td>Drama|Romance|War</td>\n",
       "    </tr>\n",
       "    <tr>\n",
       "      <th>836475</th>\n",
       "      <td>6040</td>\n",
       "      <td>562</td>\n",
       "      <td>5</td>\n",
       "      <td>956704746</td>\n",
       "      <td>Welcome to the Dollhouse (1995)</td>\n",
       "      <td>Comedy|Drama</td>\n",
       "    </tr>\n",
       "    <tr>\n",
       "      <th>836476</th>\n",
       "      <td>6040</td>\n",
       "      <td>1096</td>\n",
       "      <td>4</td>\n",
       "      <td>956715648</td>\n",
       "      <td>Sophie's Choice (1982)</td>\n",
       "      <td>Drama</td>\n",
       "    </tr>\n",
       "    <tr>\n",
       "      <th>836477</th>\n",
       "      <td>6040</td>\n",
       "      <td>1097</td>\n",
       "      <td>4</td>\n",
       "      <td>956715569</td>\n",
       "      <td>E.T. the Extra-Terrestrial (1982)</td>\n",
       "      <td>Children's|Drama|Fantasy|Sci-Fi</td>\n",
       "    </tr>\n",
       "  </tbody>\n",
       "</table>\n",
       "<p>836478 rows × 6 columns</p>\n",
       "</div>"
      ],
      "text/plain": [
       "        user_id  movie_id  counts  timestamp  \\\n",
       "0             1      1193       5  978300760   \n",
       "1             1       661       3  978302109   \n",
       "2             1       914       3  978301968   \n",
       "3             1      3408       4  978300275   \n",
       "4             1      2355       5  978824291   \n",
       "...         ...       ...     ...        ...   \n",
       "836473     6040      1090       3  956715518   \n",
       "836474     6040      1094       5  956704887   \n",
       "836475     6040       562       5  956704746   \n",
       "836476     6040      1096       4  956715648   \n",
       "836477     6040      1097       4  956715569   \n",
       "\n",
       "                                         title  \\\n",
       "0       One Flew Over the Cuckoo's Nest (1975)   \n",
       "1             James and the Giant Peach (1996)   \n",
       "2                          My Fair Lady (1964)   \n",
       "3                       Erin Brockovich (2000)   \n",
       "4                         Bug's Life, A (1998)   \n",
       "...                                        ...   \n",
       "836473                          Platoon (1986)   \n",
       "836474                 Crying Game, The (1992)   \n",
       "836475         Welcome to the Dollhouse (1995)   \n",
       "836476                  Sophie's Choice (1982)   \n",
       "836477       E.T. the Extra-Terrestrial (1982)   \n",
       "\n",
       "                                  genre  \n",
       "0                                 Drama  \n",
       "1          Animation|Children's|Musical  \n",
       "2                       Musical|Romance  \n",
       "3                                 Drama  \n",
       "4           Animation|Children's|Comedy  \n",
       "...                                 ...  \n",
       "836473                        Drama|War  \n",
       "836474                Drama|Romance|War  \n",
       "836475                     Comedy|Drama  \n",
       "836476                            Drama  \n",
       "836477  Children's|Drama|Fantasy|Sci-Fi  \n",
       "\n",
       "[836478 rows x 6 columns]"
      ]
     },
     "execution_count": 8,
     "metadata": {},
     "output_type": "execute_result"
    }
   ],
   "source": [
    "ratings = pd.merge(ratings, movies, how = 'left', on = 'movie_id')\n",
    "ratings"
   ]
  },
  {
   "cell_type": "markdown",
   "id": "3d27073f",
   "metadata": {},
   "source": [
    "* `timestamp` 컬럼과 `genre` 컬럼은 필요하지 않으므로 제거하자\n",
    "* [데이터프레임 열 삭제](https://blog.naver.com/rising_n_falling/221631637822)"
   ]
  },
  {
   "cell_type": "code",
   "execution_count": 9,
   "id": "b63af5e2",
   "metadata": {},
   "outputs": [
    {
     "data": {
      "text/html": [
       "<div>\n",
       "<style scoped>\n",
       "    .dataframe tbody tr th:only-of-type {\n",
       "        vertical-align: middle;\n",
       "    }\n",
       "\n",
       "    .dataframe tbody tr th {\n",
       "        vertical-align: top;\n",
       "    }\n",
       "\n",
       "    .dataframe thead th {\n",
       "        text-align: right;\n",
       "    }\n",
       "</style>\n",
       "<table border=\"1\" class=\"dataframe\">\n",
       "  <thead>\n",
       "    <tr style=\"text-align: right;\">\n",
       "      <th></th>\n",
       "      <th>user_id</th>\n",
       "      <th>counts</th>\n",
       "      <th>title</th>\n",
       "    </tr>\n",
       "  </thead>\n",
       "  <tbody>\n",
       "    <tr>\n",
       "      <th>0</th>\n",
       "      <td>1</td>\n",
       "      <td>5</td>\n",
       "      <td>One Flew Over the Cuckoo's Nest (1975)</td>\n",
       "    </tr>\n",
       "    <tr>\n",
       "      <th>1</th>\n",
       "      <td>1</td>\n",
       "      <td>3</td>\n",
       "      <td>James and the Giant Peach (1996)</td>\n",
       "    </tr>\n",
       "    <tr>\n",
       "      <th>2</th>\n",
       "      <td>1</td>\n",
       "      <td>3</td>\n",
       "      <td>My Fair Lady (1964)</td>\n",
       "    </tr>\n",
       "    <tr>\n",
       "      <th>3</th>\n",
       "      <td>1</td>\n",
       "      <td>4</td>\n",
       "      <td>Erin Brockovich (2000)</td>\n",
       "    </tr>\n",
       "    <tr>\n",
       "      <th>4</th>\n",
       "      <td>1</td>\n",
       "      <td>5</td>\n",
       "      <td>Bug's Life, A (1998)</td>\n",
       "    </tr>\n",
       "    <tr>\n",
       "      <th>...</th>\n",
       "      <td>...</td>\n",
       "      <td>...</td>\n",
       "      <td>...</td>\n",
       "    </tr>\n",
       "    <tr>\n",
       "      <th>836473</th>\n",
       "      <td>6040</td>\n",
       "      <td>3</td>\n",
       "      <td>Platoon (1986)</td>\n",
       "    </tr>\n",
       "    <tr>\n",
       "      <th>836474</th>\n",
       "      <td>6040</td>\n",
       "      <td>5</td>\n",
       "      <td>Crying Game, The (1992)</td>\n",
       "    </tr>\n",
       "    <tr>\n",
       "      <th>836475</th>\n",
       "      <td>6040</td>\n",
       "      <td>5</td>\n",
       "      <td>Welcome to the Dollhouse (1995)</td>\n",
       "    </tr>\n",
       "    <tr>\n",
       "      <th>836476</th>\n",
       "      <td>6040</td>\n",
       "      <td>4</td>\n",
       "      <td>Sophie's Choice (1982)</td>\n",
       "    </tr>\n",
       "    <tr>\n",
       "      <th>836477</th>\n",
       "      <td>6040</td>\n",
       "      <td>4</td>\n",
       "      <td>E.T. the Extra-Terrestrial (1982)</td>\n",
       "    </tr>\n",
       "  </tbody>\n",
       "</table>\n",
       "<p>836478 rows × 3 columns</p>\n",
       "</div>"
      ],
      "text/plain": [
       "        user_id  counts                                   title\n",
       "0             1       5  One Flew Over the Cuckoo's Nest (1975)\n",
       "1             1       3        James and the Giant Peach (1996)\n",
       "2             1       3                     My Fair Lady (1964)\n",
       "3             1       4                  Erin Brockovich (2000)\n",
       "4             1       5                    Bug's Life, A (1998)\n",
       "...         ...     ...                                     ...\n",
       "836473     6040       3                          Platoon (1986)\n",
       "836474     6040       5                 Crying Game, The (1992)\n",
       "836475     6040       5         Welcome to the Dollhouse (1995)\n",
       "836476     6040       4                  Sophie's Choice (1982)\n",
       "836477     6040       4       E.T. the Extra-Terrestrial (1982)\n",
       "\n",
       "[836478 rows x 3 columns]"
      ]
     },
     "execution_count": 9,
     "metadata": {},
     "output_type": "execute_result"
    }
   ],
   "source": [
    "ratings = ratings.drop(['timestamp', 'genre', 'movie_id'], axis = 1)\n",
    "ratings"
   ]
  },
  {
   "cell_type": "markdown",
   "id": "b5253114",
   "metadata": {},
   "source": [
    "---"
   ]
  },
  {
   "cell_type": "markdown",
   "id": "44e23076",
   "metadata": {},
   "source": [
    "# Step 2. 데이터 탐색\n",
    "* 데이터의 기본적인 정보를 살펴보자."
   ]
  },
  {
   "cell_type": "markdown",
   "id": "6bed6a1d",
   "metadata": {},
   "source": [
    "## 2.1 unique한 영화, 유저 수"
   ]
  },
  {
   "cell_type": "code",
   "execution_count": 10,
   "id": "f9fa2362",
   "metadata": {},
   "outputs": [
    {
     "name": "stdout",
     "output_type": "stream",
     "text": [
      "영화 종류 :  3628\n",
      "유저 수 :  6039\n"
     ]
    }
   ],
   "source": [
    "print('영화 종류 : ', ratings['title'].nunique())\n",
    "print('유저 수 : ', ratings['user_id'].nunique())"
   ]
  },
  {
   "cell_type": "markdown",
   "id": "a858aeaa",
   "metadata": {},
   "source": [
    "## 2.2 가장 인기 있는 영화"
   ]
  },
  {
   "cell_type": "code",
   "execution_count": 11,
   "id": "597315e3",
   "metadata": {},
   "outputs": [
    {
     "data": {
      "text/plain": [
       "title\n",
       "American Beauty (1999)                                   3211\n",
       "Star Wars: Episode IV - A New Hope (1977)                2910\n",
       "Star Wars: Episode V - The Empire Strikes Back (1980)    2885\n",
       "Star Wars: Episode VI - Return of the Jedi (1983)        2716\n",
       "Saving Private Ryan (1998)                               2561\n",
       "Terminator 2: Judgment Day (1991)                        2509\n",
       "Silence of the Lambs, The (1991)                         2498\n",
       "Raiders of the Lost Ark (1981)                           2473\n",
       "Back to the Future (1985)                                2460\n",
       "Matrix, The (1999)                                       2434\n",
       "Jurassic Park (1993)                                     2413\n",
       "Sixth Sense, The (1999)                                  2385\n",
       "Fargo (1996)                                             2371\n",
       "Braveheart (1995)                                        2314\n",
       "Men in Black (1997)                                      2297\n",
       "Schindler's List (1993)                                  2257\n",
       "Princess Bride, The (1987)                               2252\n",
       "Shakespeare in Love (1998)                               2213\n",
       "L.A. Confidential (1997)                                 2210\n",
       "Shawshank Redemption, The (1994)                         2194\n",
       "Godfather, The (1972)                                    2167\n",
       "Groundhog Day (1993)                                     2121\n",
       "E.T. the Extra-Terrestrial (1982)                        2102\n",
       "Being John Malkovich (1999)                              2066\n",
       "Ghostbusters (1984)                                      2051\n",
       "Pulp Fiction (1994)                                      2030\n",
       "Forrest Gump (1994)                                      2022\n",
       "Terminator, The (1984)                                   2019\n",
       "Toy Story (1995)                                         2000\n",
       "Fugitive, The (1993)                                     1941\n",
       "Name: user_id, dtype: int64"
      ]
     },
     "execution_count": 11,
     "metadata": {},
     "output_type": "execute_result"
    }
   ],
   "source": [
    "movie_count = ratings.groupby('title')['user_id'].count()\n",
    "movie_count.sort_values(ascending = False).head(30)"
   ]
  },
  {
   "cell_type": "markdown",
   "id": "0624abaf",
   "metadata": {},
   "source": [
    "## 2.3 유저 별 시청한 영화 통계\n",
    "* 영화를 1편만 시청한 유저가 있으며, 1968편의 영화를 시청한 유저가 있다.\n",
    "* 평균적으로 유저들은 138편의 영화를 시청하였다."
   ]
  },
  {
   "cell_type": "code",
   "execution_count": 12,
   "id": "9bf0ae2f",
   "metadata": {},
   "outputs": [
    {
     "data": {
      "text/plain": [
       "count    6039.000000\n",
       "mean      138.512668\n",
       "std       156.241599\n",
       "min         1.000000\n",
       "25%        38.000000\n",
       "50%        81.000000\n",
       "75%       177.000000\n",
       "max      1968.000000\n",
       "Name: title, dtype: float64"
      ]
     },
     "execution_count": 12,
     "metadata": {},
     "output_type": "execute_result"
    }
   ],
   "source": [
    "user_count = ratings.groupby('user_id')['title'].count()\n",
    "user_count.describe()"
   ]
  },
  {
   "cell_type": "markdown",
   "id": "2c7c7fd2",
   "metadata": {},
   "source": [
    "---"
   ]
  },
  {
   "cell_type": "markdown",
   "id": "3a013735",
   "metadata": {},
   "source": [
    "# Step 3. 선호하는 영화 5가지 고르기\n",
    "* 모델 검증을 위해 유저 초기 정보를 셋팅하는 작업이다.\n",
    "* 서비스에 처음 가입하는 사용자의 취향과 유사한 항목을 입력하도록 하는 과정이라고 생각하면 된다."
   ]
  },
  {
   "cell_type": "markdown",
   "id": "33cc6632",
   "metadata": {},
   "source": [
    "* 원하는 영화를 편하게 찾기 위해 title을 소문자로 변경하였다.\n",
    "* 이 아이디어는 [이전 기수 우수프로젝트](https://github.com/thk-lightman/Proj_AIFFEL-LMS/blob/master/%5BE-09%5D%20Recommend%20Movies.ipynb)에서 참고하였다."
   ]
  },
  {
   "cell_type": "code",
   "execution_count": 13,
   "id": "50136f4c",
   "metadata": {},
   "outputs": [],
   "source": [
    "low_title = ratings['title'].str.lower()"
   ]
  },
  {
   "cell_type": "markdown",
   "id": "fa244db4",
   "metadata": {},
   "source": [
    "* 원하는 영화 키워드를 입력해서 있는지 찾아보았다.\n",
    "* [데이터프레임에서 특정 문자열을 포함하는 행 추출하기](https://zephyrus1111.tistory.com/46)"
   ]
  },
  {
   "cell_type": "code",
   "execution_count": 14,
   "id": "05b3cd3f",
   "metadata": {
    "scrolled": false
   },
   "outputs": [
    {
     "data": {
      "text/html": [
       "<div>\n",
       "<style scoped>\n",
       "    .dataframe tbody tr th:only-of-type {\n",
       "        vertical-align: middle;\n",
       "    }\n",
       "\n",
       "    .dataframe tbody tr th {\n",
       "        vertical-align: top;\n",
       "    }\n",
       "\n",
       "    .dataframe thead th {\n",
       "        text-align: right;\n",
       "    }\n",
       "</style>\n",
       "<table border=\"1\" class=\"dataframe\">\n",
       "  <thead>\n",
       "    <tr style=\"text-align: right;\">\n",
       "      <th></th>\n",
       "      <th>user_id</th>\n",
       "      <th>counts</th>\n",
       "      <th>title</th>\n",
       "    </tr>\n",
       "  </thead>\n",
       "  <tbody>\n",
       "    <tr>\n",
       "      <th>27</th>\n",
       "      <td>1</td>\n",
       "      <td>4</td>\n",
       "      <td>Titanic (1997)</td>\n",
       "    </tr>\n",
       "    <tr>\n",
       "      <th>557</th>\n",
       "      <td>8</td>\n",
       "      <td>5</td>\n",
       "      <td>Titanic (1997)</td>\n",
       "    </tr>\n",
       "    <tr>\n",
       "      <th>672</th>\n",
       "      <td>9</td>\n",
       "      <td>5</td>\n",
       "      <td>Titanic (1997)</td>\n",
       "    </tr>\n",
       "    <tr>\n",
       "      <th>1027</th>\n",
       "      <td>10</td>\n",
       "      <td>3</td>\n",
       "      <td>Titanic (1997)</td>\n",
       "    </tr>\n",
       "    <tr>\n",
       "      <th>1934</th>\n",
       "      <td>18</td>\n",
       "      <td>4</td>\n",
       "      <td>Titanic (1997)</td>\n",
       "    </tr>\n",
       "    <tr>\n",
       "      <th>...</th>\n",
       "      <td>...</td>\n",
       "      <td>...</td>\n",
       "      <td>...</td>\n",
       "    </tr>\n",
       "    <tr>\n",
       "      <th>834500</th>\n",
       "      <td>6025</td>\n",
       "      <td>4</td>\n",
       "      <td>Titanic (1997)</td>\n",
       "    </tr>\n",
       "    <tr>\n",
       "      <th>834642</th>\n",
       "      <td>6027</td>\n",
       "      <td>4</td>\n",
       "      <td>Titanic (1997)</td>\n",
       "    </tr>\n",
       "    <tr>\n",
       "      <th>834958</th>\n",
       "      <td>6033</td>\n",
       "      <td>5</td>\n",
       "      <td>Titanic (1953)</td>\n",
       "    </tr>\n",
       "    <tr>\n",
       "      <th>835385</th>\n",
       "      <td>6036</td>\n",
       "      <td>3</td>\n",
       "      <td>Chambermaid on the Titanic, The (1998)</td>\n",
       "    </tr>\n",
       "    <tr>\n",
       "      <th>835757</th>\n",
       "      <td>6036</td>\n",
       "      <td>4</td>\n",
       "      <td>Titanic (1997)</td>\n",
       "    </tr>\n",
       "  </tbody>\n",
       "</table>\n",
       "<p>1484 rows × 3 columns</p>\n",
       "</div>"
      ],
      "text/plain": [
       "        user_id  counts                                   title\n",
       "27            1       4                          Titanic (1997)\n",
       "557           8       5                          Titanic (1997)\n",
       "672           9       5                          Titanic (1997)\n",
       "1027         10       3                          Titanic (1997)\n",
       "1934         18       4                          Titanic (1997)\n",
       "...         ...     ...                                     ...\n",
       "834500     6025       4                          Titanic (1997)\n",
       "834642     6027       4                          Titanic (1997)\n",
       "834958     6033       5                          Titanic (1953)\n",
       "835385     6036       3  Chambermaid on the Titanic, The (1998)\n",
       "835757     6036       4                          Titanic (1997)\n",
       "\n",
       "[1484 rows x 3 columns]"
      ]
     },
     "execution_count": 14,
     "metadata": {},
     "output_type": "execute_result"
    }
   ],
   "source": [
    "ratings[low_title.str.contains('titanic')]"
   ]
  },
  {
   "cell_type": "markdown",
   "id": "3f4c1419",
   "metadata": {},
   "source": [
    "* 내가 좋아하는 영화 5개를 입력해보자.\n",
    "* 2개는 디즈니 애니메이션, 3개는 드라마/로맨스 장르의 영화로 선택하였다."
   ]
  },
  {
   "cell_type": "code",
   "execution_count": 15,
   "id": "3360d325",
   "metadata": {},
   "outputs": [
    {
     "data": {
      "text/html": [
       "<div>\n",
       "<style scoped>\n",
       "    .dataframe tbody tr th:only-of-type {\n",
       "        vertical-align: middle;\n",
       "    }\n",
       "\n",
       "    .dataframe tbody tr th {\n",
       "        vertical-align: top;\n",
       "    }\n",
       "\n",
       "    .dataframe thead th {\n",
       "        text-align: right;\n",
       "    }\n",
       "</style>\n",
       "<table border=\"1\" class=\"dataframe\">\n",
       "  <thead>\n",
       "    <tr style=\"text-align: right;\">\n",
       "      <th></th>\n",
       "      <th>user_id</th>\n",
       "      <th>counts</th>\n",
       "      <th>title</th>\n",
       "    </tr>\n",
       "  </thead>\n",
       "  <tbody>\n",
       "    <tr>\n",
       "      <th>836473</th>\n",
       "      <td>6040</td>\n",
       "      <td>3</td>\n",
       "      <td>Platoon (1986)</td>\n",
       "    </tr>\n",
       "    <tr>\n",
       "      <th>836474</th>\n",
       "      <td>6040</td>\n",
       "      <td>5</td>\n",
       "      <td>Crying Game, The (1992)</td>\n",
       "    </tr>\n",
       "    <tr>\n",
       "      <th>836475</th>\n",
       "      <td>6040</td>\n",
       "      <td>5</td>\n",
       "      <td>Welcome to the Dollhouse (1995)</td>\n",
       "    </tr>\n",
       "    <tr>\n",
       "      <th>836476</th>\n",
       "      <td>6040</td>\n",
       "      <td>4</td>\n",
       "      <td>Sophie's Choice (1982)</td>\n",
       "    </tr>\n",
       "    <tr>\n",
       "      <th>836477</th>\n",
       "      <td>6040</td>\n",
       "      <td>4</td>\n",
       "      <td>E.T. the Extra-Terrestrial (1982)</td>\n",
       "    </tr>\n",
       "    <tr>\n",
       "      <th>0</th>\n",
       "      <td>6041</td>\n",
       "      <td>5</td>\n",
       "      <td>Lion King, The (1994)</td>\n",
       "    </tr>\n",
       "    <tr>\n",
       "      <th>1</th>\n",
       "      <td>6041</td>\n",
       "      <td>5</td>\n",
       "      <td>Toy Story (1995)</td>\n",
       "    </tr>\n",
       "    <tr>\n",
       "      <th>2</th>\n",
       "      <td>6041</td>\n",
       "      <td>5</td>\n",
       "      <td>Before Sunrise (1995)</td>\n",
       "    </tr>\n",
       "    <tr>\n",
       "      <th>3</th>\n",
       "      <td>6041</td>\n",
       "      <td>5</td>\n",
       "      <td>Notting Hill (1999)</td>\n",
       "    </tr>\n",
       "    <tr>\n",
       "      <th>4</th>\n",
       "      <td>6041</td>\n",
       "      <td>5</td>\n",
       "      <td>Forrest Gump (1994)</td>\n",
       "    </tr>\n",
       "  </tbody>\n",
       "</table>\n",
       "</div>"
      ],
      "text/plain": [
       "       user_id  counts                              title\n",
       "836473    6040       3                     Platoon (1986)\n",
       "836474    6040       5            Crying Game, The (1992)\n",
       "836475    6040       5    Welcome to the Dollhouse (1995)\n",
       "836476    6040       4             Sophie's Choice (1982)\n",
       "836477    6040       4  E.T. the Extra-Terrestrial (1982)\n",
       "0         6041       5              Lion King, The (1994)\n",
       "1         6041       5                   Toy Story (1995)\n",
       "2         6041       5              Before Sunrise (1995)\n",
       "3         6041       5                Notting Hill (1999)\n",
       "4         6041       5                Forrest Gump (1994)"
      ]
     },
     "execution_count": 15,
     "metadata": {},
     "output_type": "execute_result"
    }
   ],
   "source": [
    "my_favorite = ['Lion King, The (1994)', 'Toy Story (1995)', 'Before Sunrise (1995)', 'Notting Hill (1999)', 'Forrest Gump (1994)']\n",
    "\n",
    "my_movielist = pd.DataFrame({'user_id' : ['6041']*5, 'title': my_favorite, 'counts' : [5]*5})\n",
    "\n",
    "if not ratings.isin({'user_id' : ['6041']})['user_id'].any():\n",
    "    ratings = ratings.append(my_movielist)\n",
    "    \n",
    "ratings.tail(10)"
   ]
  },
  {
   "cell_type": "markdown",
   "id": "e5846b33",
   "metadata": {},
   "source": [
    "---"
   ]
  },
  {
   "cell_type": "markdown",
   "id": "2883afd7",
   "metadata": {},
   "source": [
    "# Step 4. indexing 작업\n",
    "* 고유한 `user`와 `movie` 각각에 번호를 붙이는 indexing 작업이다."
   ]
  },
  {
   "cell_type": "code",
   "execution_count": 16,
   "id": "0cde3f26",
   "metadata": {},
   "outputs": [],
   "source": [
    "user_unique = ratings['user_id'].unique()\n",
    "movie_unique = ratings['title'].unique()\n",
    "\n",
    "user_to_idx = {v:k for k,v in enumerate(user_unique)}\n",
    "movie_to_idx = {v:k for k,v in enumerate(movie_unique)}"
   ]
  },
  {
   "cell_type": "code",
   "execution_count": 17,
   "id": "0f5306d1",
   "metadata": {},
   "outputs": [
    {
     "name": "stdout",
     "output_type": "stream",
     "text": [
      "6039\n",
      "40\n"
     ]
    }
   ],
   "source": [
    "print(user_to_idx['6041'])      # 고유한 유저의 수인 6039명 중 마지막 추가 유저이므로 인덱스 6039임\n",
    "print(movie_to_idx['Toy Story (1995)'])"
   ]
  },
  {
   "cell_type": "markdown",
   "id": "83908925",
   "metadata": {},
   "source": [
    "* indexing을 통해 데이터 컬럼 내 값을 바꾼다.\n",
    "* 정상적으로 인덱싱이 되지 않은 row가 있을 수 있는데, 이 때 인덱스가 NaN이 될 것이니 `dropna()`로 제거한다."
   ]
  },
  {
   "cell_type": "code",
   "execution_count": 18,
   "id": "a890d191",
   "metadata": {
    "scrolled": false
   },
   "outputs": [
    {
     "name": "stdout",
     "output_type": "stream",
     "text": [
      "user_id column indexing OK!!\n",
      "movie column indexing OK!!\n"
     ]
    },
    {
     "data": {
      "text/html": [
       "<div>\n",
       "<style scoped>\n",
       "    .dataframe tbody tr th:only-of-type {\n",
       "        vertical-align: middle;\n",
       "    }\n",
       "\n",
       "    .dataframe tbody tr th {\n",
       "        vertical-align: top;\n",
       "    }\n",
       "\n",
       "    .dataframe thead th {\n",
       "        text-align: right;\n",
       "    }\n",
       "</style>\n",
       "<table border=\"1\" class=\"dataframe\">\n",
       "  <thead>\n",
       "    <tr style=\"text-align: right;\">\n",
       "      <th></th>\n",
       "      <th>user_id</th>\n",
       "      <th>counts</th>\n",
       "      <th>title</th>\n",
       "    </tr>\n",
       "  </thead>\n",
       "  <tbody>\n",
       "    <tr>\n",
       "      <th>0</th>\n",
       "      <td>0</td>\n",
       "      <td>5</td>\n",
       "      <td>0</td>\n",
       "    </tr>\n",
       "    <tr>\n",
       "      <th>1</th>\n",
       "      <td>0</td>\n",
       "      <td>3</td>\n",
       "      <td>1</td>\n",
       "    </tr>\n",
       "    <tr>\n",
       "      <th>2</th>\n",
       "      <td>0</td>\n",
       "      <td>3</td>\n",
       "      <td>2</td>\n",
       "    </tr>\n",
       "    <tr>\n",
       "      <th>3</th>\n",
       "      <td>0</td>\n",
       "      <td>4</td>\n",
       "      <td>3</td>\n",
       "    </tr>\n",
       "    <tr>\n",
       "      <th>4</th>\n",
       "      <td>0</td>\n",
       "      <td>5</td>\n",
       "      <td>4</td>\n",
       "    </tr>\n",
       "    <tr>\n",
       "      <th>...</th>\n",
       "      <td>...</td>\n",
       "      <td>...</td>\n",
       "      <td>...</td>\n",
       "    </tr>\n",
       "    <tr>\n",
       "      <th>0</th>\n",
       "      <td>6039</td>\n",
       "      <td>5</td>\n",
       "      <td>330</td>\n",
       "    </tr>\n",
       "    <tr>\n",
       "      <th>1</th>\n",
       "      <td>6039</td>\n",
       "      <td>5</td>\n",
       "      <td>40</td>\n",
       "    </tr>\n",
       "    <tr>\n",
       "      <th>2</th>\n",
       "      <td>6039</td>\n",
       "      <td>5</td>\n",
       "      <td>213</td>\n",
       "    </tr>\n",
       "    <tr>\n",
       "      <th>3</th>\n",
       "      <td>6039</td>\n",
       "      <td>5</td>\n",
       "      <td>1151</td>\n",
       "    </tr>\n",
       "    <tr>\n",
       "      <th>4</th>\n",
       "      <td>6039</td>\n",
       "      <td>5</td>\n",
       "      <td>160</td>\n",
       "    </tr>\n",
       "  </tbody>\n",
       "</table>\n",
       "<p>836483 rows × 3 columns</p>\n",
       "</div>"
      ],
      "text/plain": [
       "    user_id  counts  title\n",
       "0         0       5      0\n",
       "1         0       3      1\n",
       "2         0       3      2\n",
       "3         0       4      3\n",
       "4         0       5      4\n",
       "..      ...     ...    ...\n",
       "0      6039       5    330\n",
       "1      6039       5     40\n",
       "2      6039       5    213\n",
       "3      6039       5   1151\n",
       "4      6039       5    160\n",
       "\n",
       "[836483 rows x 3 columns]"
      ]
     },
     "execution_count": 18,
     "metadata": {},
     "output_type": "execute_result"
    }
   ],
   "source": [
    "temp_user_data = ratings['user_id'].map(user_to_idx.get).dropna()\n",
    "\n",
    "if len(temp_user_data) == len(ratings): \n",
    "    print('user_id column indexing OK!!')\n",
    "    ratings['user_id'] = temp_user_data\n",
    "else:\n",
    "    print('user_id column indexing Fail!!')\n",
    "\n",
    "temp_movie_data = ratings['title'].map(movie_to_idx.get).dropna()\n",
    "if len(temp_movie_data) == len(ratings):\n",
    "    print('movie column indexing OK!!')\n",
    "    ratings['title'] = temp_movie_data\n",
    "else:\n",
    "    print('movie column indexing Fail!!')\n",
    "\n",
    "ratings"
   ]
  },
  {
   "cell_type": "markdown",
   "id": "5d0ab7a8",
   "metadata": {},
   "source": [
    "---"
   ]
  },
  {
   "cell_type": "markdown",
   "id": "e8ea6289",
   "metadata": {},
   "source": [
    "# Step 5. CSR Matrix 만들기\n",
    "* CSR Matrix는 Sparse한 matrix에서 0이 아닌 유효한 데이터로 채워지는 데이터의 값과 좌표 정보만으로 구성하여 메모리 사용량을 최소화하면서도 Sparse한 matrix와 동일한 행렬을 표현할 수 있도록 하는 데이터 구조\n",
    "* data, indices, indptr로 행렬을 압축하여 표현"
   ]
  },
  {
   "attachments": {
    "image.png": {
     "image/png": "[encoded data removed]"
    }
   },
   "cell_type": "markdown",
   "id": "da92a174",
   "metadata": {},
   "source": [
    "![image.png](attachment:image.png)"
   ]
  },
  {
   "cell_type": "markdown",
   "id": "e179da81",
   "metadata": {},
   "source": [
    "* data : 0이 아닌 원소를 차례로 기입한 값이다.\n",
    "* indices : data의 각 요소가 어느 열(column)에 있는지를 표현한 index이다.\n",
    "* indptr : 각 행(row)에서 0이 아닌 첫 번째 원소가 data 리스트에서 몇 번째에 해당하는지와 마지막에 data 벡터의 길이를 추가한 값이다. 이를 통해 data의 요소들이 어느 행(row)에 있는지 알 수 있다. 0이 아닌 원소가 없는 경우, 그 다음 행의 값과 같은 값을 넣는다.\n",
    "\n",
    ">data = [1, 2, 3, 4, 5, 6]  \n",
    "indices = [0, 4, 1, 3, 0, 3]  \n",
    "indptr = [0, 2, 4, 4, 6]\n",
    "    \n",
    "* 이를 통해 data[0:2]는 첫 번째 행, data [2:4]는 두 번째 행, data[4:4]는 세번째 행, data[4:6]는 네 번째 행에 위치함을 나타낼 수 있게 된다."
   ]
  },
  {
   "attachments": {
    "image.png": {
     "image/png": "[encoded data removed]"
    }
   },
   "cell_type": "markdown",
   "id": "bf102bcc",
   "metadata": {},
   "source": [
    "* data를 `CSR Matrix`에 맞게 바꿔보자.\n",
    "![image.png](attachment:image.png)"
   ]
  },
  {
   "cell_type": "code",
   "execution_count": 19,
   "id": "d005cb3a",
   "metadata": {},
   "outputs": [
    {
     "data": {
      "text/plain": [
       "<6040x3628 sparse matrix of type '<class 'numpy.int64'>'\n",
       "\twith 836483 stored elements in Compressed Sparse Row format>"
      ]
     },
     "execution_count": 19,
     "metadata": {},
     "output_type": "execute_result"
    }
   ],
   "source": [
    "from scipy.sparse import csr_matrix\n",
    "\n",
    "num_user = ratings['user_id'].nunique()\n",
    "num_movie = ratings['title'].nunique()\n",
    "\n",
    "csr_ratings = csr_matrix((ratings.counts, (ratings.user_id, ratings.title)), shape= (num_user, num_movie))\n",
    "csr_ratings"
   ]
  },
  {
   "cell_type": "markdown",
   "id": "593c7e68",
   "metadata": {},
   "source": [
    "---"
   ]
  },
  {
   "cell_type": "markdown",
   "id": "ee46adb3",
   "metadata": {},
   "source": [
    "# Step 6. als 모델 구성 및 훈련\n",
    "* `Matrix Factorization 모델`을 `implicit 패키지`를 사용해서 학습해보자.\n",
    "* `implicit` 패키지는 이전 스텝에서 설명한 암묵적 dataset을 사용하는 다양한 모델을 굉장히 빠르게 학습할 수 있는 패키지다.\n",
    "* 이 패키지의 `als(AlternatingLeastSquares) 모델`을 사용한다. \n",
    "* `Matrix Factorization`에서 쪼개진 두 Featrue Matrix를 한꺼번에 훈련하는 것은 잘 수렴하지 않는다.\n",
    "* 그래서 한쪽을 고정시키고 다른 쪽을 학습하는 방식을 번갈아 수행하는 `AlternatingLeastSquares` 방식이 효과적인 것으로 알려져있다."
   ]
  },
  {
   "cell_type": "code",
   "execution_count": 20,
   "id": "b3160a08",
   "metadata": {},
   "outputs": [],
   "source": [
    "from implicit.als import AlternatingLeastSquares\n",
    "import os\n",
    "import numpy as np\n",
    "\n",
    "# implicit 라이브러리에서 권장하고 있는 부분입니다. 학습 내용과는 무관합니다.\n",
    "os.environ['OPENBLAS_NUM_THREADS']='1'\n",
    "os.environ['KMP_DUPLICATE_LIB_OK']='True'\n",
    "os.environ['MKL_NUM_THREADS']='1'"
   ]
  },
  {
   "cell_type": "markdown",
   "id": "6c87bba0",
   "metadata": {},
   "source": [
    "*  `AlternatingLeastSquares` 클래스의 __init__ 파라미터\n",
    "    * factors : 유저와 아이템의 벡터를 몇 차원으로 할 것인지\n",
    "    * regularization : 과적합을 방지하기 위해 정규화 값을 얼마나 사용할 것인지\n",
    "    * use_gpu : GPU를 사용할 것인지\n",
    "    * iterations : epochs와 같은 의미 (데이터를 몇 번 반복해서 학습할 것인지)"
   ]
  },
  {
   "cell_type": "code",
   "execution_count": 21,
   "id": "5dcaa9ab",
   "metadata": {},
   "outputs": [],
   "source": [
    "# Implicit AlternatingLeastSquares 모델의 선언\n",
    "als_model = AlternatingLeastSquares(factors=100, regularization=0.01, use_gpu=False, iterations=50, dtype=np.float32)"
   ]
  },
  {
   "cell_type": "code",
   "execution_count": 22,
   "id": "09ccb125",
   "metadata": {},
   "outputs": [
    {
     "data": {
      "text/plain": [
       "<3628x6040 sparse matrix of type '<class 'numpy.int64'>'\n",
       "\twith 836483 stored elements in Compressed Sparse Column format>"
      ]
     },
     "execution_count": 22,
     "metadata": {},
     "output_type": "execute_result"
    }
   ],
   "source": [
    "# als 모델은 input으로 (item X user 꼴의 matrix를 받기 때문에 Transpose해줍니다.)\n",
    "csr_ratings_transpose = csr_ratings.T\n",
    "csr_ratings_transpose"
   ]
  },
  {
   "cell_type": "code",
   "execution_count": 23,
   "id": "e4ef74a1",
   "metadata": {},
   "outputs": [
    {
     "data": {
      "application/vnd.jupyter.widget-view+json": {
       "model_id": "eab6835be314466ba08b5b5774f17385",
       "version_major": 2,
       "version_minor": 0
      },
      "text/plain": [
       "  0%|          | 0/50 [00:00<?, ?it/s]"
      ]
     },
     "metadata": {},
     "output_type": "display_data"
    }
   ],
   "source": [
    "# 모델 훈련\n",
    "als_model.fit(csr_ratings_transpose)"
   ]
  },
  {
   "cell_type": "markdown",
   "id": "8848f328",
   "metadata": {},
   "source": [
    "---"
   ]
  },
  {
   "cell_type": "markdown",
   "id": "3eee7a48",
   "metadata": {},
   "source": [
    "# Step 7. 모델이 예측한 나의 선호도 파악\n",
    "* 내가 선호하는 5가지 영화 중 하나와 그 외 영화 하나를 골라 훈련된 모델이 예측한 나의 선호도를 파악해보자."
   ]
  },
  {
   "cell_type": "code",
   "execution_count": 24,
   "id": "0e431dff",
   "metadata": {},
   "outputs": [],
   "source": [
    "ram = user_to_idx['6041']\n",
    "ram_vector = als_model.user_factors[ram]"
   ]
  },
  {
   "cell_type": "code",
   "execution_count": 25,
   "id": "079a14f1",
   "metadata": {},
   "outputs": [
    {
     "data": {
      "text/plain": [
       "array([ 2.23466784e-01, -5.24722219e-01,  2.43393153e-01, -2.68363088e-01,\n",
       "        6.67052984e-01,  5.71467221e-01,  3.39486569e-01,  2.01442301e-01,\n",
       "       -2.50274837e-01, -2.85649784e-02,  2.10988641e-01, -7.95118064e-02,\n",
       "        4.26127225e-01,  2.18086660e-01,  2.14625299e-01, -5.89419186e-01,\n",
       "        6.29487872e-01,  1.73880726e-01,  1.70581773e-01,  5.59604645e-01,\n",
       "       -1.28214687e-01,  1.96740441e-02, -6.80616917e-03,  1.68854132e-01,\n",
       "       -2.88751330e-02,  6.16470218e-01, -1.20033868e-01,  3.53649288e-01,\n",
       "        6.09018028e-01,  2.34986637e-02,  4.85929623e-02, -3.53705168e-01,\n",
       "        1.52940258e-01, -2.90512983e-02, -4.55225438e-01, -1.34981558e-01,\n",
       "       -2.52410501e-01, -1.53925911e-01, -4.28757221e-01, -4.31377679e-01,\n",
       "       -3.51973772e-01, -3.51306908e-02, -1.94842920e-01,  1.58254027e-01,\n",
       "        4.82885450e-01,  6.48343638e-02,  5.07110000e-01, -7.35496357e-03,\n",
       "       -1.07508592e-01, -8.23037401e-02,  4.81240511e-01, -3.16917419e-01,\n",
       "        2.06879270e-03,  6.14528775e-01, -6.22713566e-01,  3.87676328e-01,\n",
       "        1.13024265e-01,  3.50131541e-02,  3.89940679e-01,  7.10399449e-02,\n",
       "       -1.79734126e-01,  2.06235453e-01,  4.14134920e-01, -1.18201688e-01,\n",
       "       -1.04642464e-02, -8.27496171e-01,  2.98498631e-01, -2.85193473e-01,\n",
       "        2.33925745e-01,  1.30756408e-01, -3.58420773e-04, -5.55215418e-01,\n",
       "       -3.47291619e-01,  3.04995328e-01,  6.01007268e-02,  1.47095740e-01,\n",
       "       -2.44431481e-01,  2.96419740e-01, -7.85990804e-02, -3.46643239e-01,\n",
       "       -7.67642856e-02,  3.84525836e-01,  2.49828562e-01, -1.60018250e-01,\n",
       "        1.64663628e-01, -6.16034120e-02,  2.59306908e-01, -2.39637092e-01,\n",
       "        7.19606653e-02,  5.34128785e-01, -4.03538316e-01, -4.86318648e-01,\n",
       "        8.79704393e-03, -9.73551124e-02, -4.18034941e-01,  3.79805624e-01,\n",
       "       -4.71093446e-01, -7.24780142e-01, -8.92701969e-02, -2.47117743e-01],\n",
       "      dtype=float32)"
      ]
     },
     "execution_count": 25,
     "metadata": {},
     "output_type": "execute_result"
    }
   ],
   "source": [
    "ram_vector"
   ]
  },
  {
   "cell_type": "markdown",
   "id": "619fe42c",
   "metadata": {},
   "source": [
    "## 7.1 내가 선호하는 영화"
   ]
  },
  {
   "cell_type": "markdown",
   "id": "558e6d06",
   "metadata": {},
   "source": [
    "* `ram`과 `Toy_Story`를 내적하여 나오는 값을 확인해보자.\n",
    "* 1이 나오면 좋은데, `0.58` 정도 나왔다."
   ]
  },
  {
   "cell_type": "code",
   "execution_count": 26,
   "id": "1ff0d29c",
   "metadata": {},
   "outputs": [],
   "source": [
    "Toy_Story = movie_to_idx['Toy Story (1995)']\n",
    "Toy_Story_vector = als_model.item_factors[Toy_Story]"
   ]
  },
  {
   "cell_type": "code",
   "execution_count": 27,
   "id": "655d4948",
   "metadata": {},
   "outputs": [
    {
     "data": {
      "text/plain": [
       "array([ 0.0185046 , -0.00187103,  0.0083031 , -0.00938825,  0.03811704,\n",
       "        0.02358048,  0.0043061 ,  0.00528527, -0.04296726,  0.02020213,\n",
       "        0.01277742, -0.04255804, -0.0209618 ,  0.02739021,  0.00295607,\n",
       "        0.0005859 ,  0.02369058,  0.044634  , -0.00044994,  0.0245046 ,\n",
       "        0.03274077,  0.01504953,  0.04358787,  0.01315746,  0.01980648,\n",
       "        0.02827902,  0.03510115,  0.00039078,  0.05443075,  0.02561811,\n",
       "        0.00985536, -0.00432733, -0.0119912 ,  0.00555213, -0.03993578,\n",
       "        0.01111121, -0.02688155, -0.01775103, -0.00661083, -0.0151035 ,\n",
       "        0.00088102,  0.0356894 ,  0.0262164 ,  0.02307668,  0.03493999,\n",
       "        0.01708619,  0.03566303, -0.01298643, -0.00710373, -0.00757746,\n",
       "        0.06219287,  0.02222325,  0.03327018,  0.03287434, -0.01562995,\n",
       "        0.02155737,  0.02552623,  0.012061  ,  0.03330337,  0.00813104,\n",
       "       -0.01275639,  0.04383028,  0.03619858, -0.00168771, -0.02823349,\n",
       "       -0.0707413 ,  0.02350167, -0.04286195, -0.0267057 , -0.0382723 ,\n",
       "       -0.0073796 , -0.0430601 , -0.01277196,  0.02817867, -0.00312401,\n",
       "       -0.01012188,  0.02425771,  0.03589481,  0.00396082,  0.01384223,\n",
       "       -0.01793497,  0.0060374 ,  0.03880979,  0.00458595,  0.03630431,\n",
       "       -0.00900444, -0.01017233, -0.00044842,  0.01621759,  0.01753155,\n",
       "       -0.00618724, -0.04395747, -0.0247181 , -0.00918663, -0.04671713,\n",
       "        0.04600054, -0.0479925 , -0.05758261, -0.04401437, -0.00646924],\n",
       "      dtype=float32)"
      ]
     },
     "execution_count": 27,
     "metadata": {},
     "output_type": "execute_result"
    }
   ],
   "source": [
    "Toy_Story_vector"
   ]
  },
  {
   "cell_type": "code",
   "execution_count": 28,
   "id": "bff06ac1",
   "metadata": {},
   "outputs": [
    {
     "data": {
      "text/plain": [
       "0.5805769"
      ]
     },
     "execution_count": 28,
     "metadata": {},
     "output_type": "execute_result"
    }
   ],
   "source": [
    "np.dot(ram_vector, Toy_Story_vector)"
   ]
  },
  {
   "cell_type": "markdown",
   "id": "df579616",
   "metadata": {},
   "source": [
    "## 7.2 그 외 영화"
   ]
  },
  {
   "cell_type": "markdown",
   "id": "c0345d12",
   "metadata": {},
   "source": [
    "* `ram`과 `aladdin`을 내적하여 나오는 값을 확인해보자.\n",
    "* 애니메이션이기에 높은 값을 기대하였지만 `0.41`가 나왔다.\n",
    "* 내가 선호하는 영화와의 값도 `0.58`이니 이정도면 나름 높다고 생각된다."
   ]
  },
  {
   "cell_type": "code",
   "execution_count": 29,
   "id": "0dbfa100",
   "metadata": {},
   "outputs": [],
   "source": [
    "aladdin = movie_to_idx['Aladdin (1992)']\n",
    "aladdin_vector = als_model.item_factors[aladdin]"
   ]
  },
  {
   "cell_type": "code",
   "execution_count": 30,
   "id": "868e7fbd",
   "metadata": {},
   "outputs": [
    {
     "data": {
      "text/plain": [
       "array([ 0.03065427,  0.00420395,  0.02340122,  0.00372672,  0.03850527,\n",
       "        0.0156792 ,  0.02706291,  0.02057808,  0.00792943, -0.00728922,\n",
       "        0.02778969, -0.01816956,  0.0318582 , -0.03193275,  0.01447158,\n",
       "       -0.0027215 ,  0.02560313,  0.04072685,  0.02934708, -0.00235495,\n",
       "        0.02425532,  0.00926425,  0.02548427, -0.04191859, -0.00123286,\n",
       "        0.00937152,  0.04758232,  0.02450785,  0.04175754,  0.03100191,\n",
       "       -0.00654439,  0.02022353,  0.02444349,  0.00455056,  0.01474224,\n",
       "        0.00830066,  0.02254495, -0.02063201, -0.01291834, -0.04574667,\n",
       "       -0.0277376 ,  0.01481953, -0.01977614, -0.00942216,  0.01612579,\n",
       "        0.02243466,  0.01971026,  0.02022401,  0.02408077,  0.02065975,\n",
       "        0.04310347,  0.01143115,  0.03006342,  0.02152144, -0.05063366,\n",
       "        0.03335838,  0.01175241,  0.00066367, -0.00682765,  0.01283409,\n",
       "        0.00701976,  0.02728966,  0.00495614,  0.02218784, -0.00570771,\n",
       "       -0.0431054 ,  0.04089703,  0.01733581, -0.02011575, -0.0274201 ,\n",
       "        0.00417141, -0.03864266, -0.01770222, -0.00902572, -0.00372662,\n",
       "       -0.00621056,  0.02100952, -0.02254357, -0.01665748, -0.01421205,\n",
       "       -0.00216643,  0.008473  , -0.00184409,  0.02469924,  0.03790683,\n",
       "        0.0296354 ,  0.02473   ,  0.01621378,  0.00863376,  0.02519723,\n",
       "        0.00414958, -0.02437084, -0.0413649 ,  0.03328363, -0.0518701 ,\n",
       "        0.03656153, -0.06925282, -0.03514788, -0.00725399,  0.00977341],\n",
       "      dtype=float32)"
      ]
     },
     "execution_count": 30,
     "metadata": {},
     "output_type": "execute_result"
    }
   ],
   "source": [
    "aladdin_vector"
   ]
  },
  {
   "cell_type": "code",
   "execution_count": 31,
   "id": "ac61998d",
   "metadata": {},
   "outputs": [
    {
     "data": {
      "text/plain": [
       "0.4128797"
      ]
     },
     "execution_count": 31,
     "metadata": {},
     "output_type": "execute_result"
    }
   ],
   "source": [
    "np.dot(ram_vector, aladdin_vector)"
   ]
  },
  {
   "cell_type": "markdown",
   "id": "bb4b5e9d",
   "metadata": {},
   "source": [
    "* `ram`과 `titanic`를 내적하여 나오는 값을 확인해보자.\n",
    "* 위의 토이스토리보다 낮은 `0.15`가 나왔다.\n",
    "* 타이타닉의 장르가 로맨스라 나름 높은 값을 기대하였지만 낮은 값이 나왔다.\n",
    "* 단순 로맨스가 아닌 재난 상황도 강한 영화라 내적값이 높지 않은가 라는 생각이 든다."
   ]
  },
  {
   "cell_type": "code",
   "execution_count": 32,
   "id": "581eb824",
   "metadata": {},
   "outputs": [],
   "source": [
    "titanic = movie_to_idx['Titanic (1997)']\n",
    "titanic_vector = als_model.item_factors[titanic]"
   ]
  },
  {
   "cell_type": "code",
   "execution_count": 33,
   "id": "6ed0db49",
   "metadata": {},
   "outputs": [
    {
     "data": {
      "text/plain": [
       "array([ 0.01262249,  0.02635113, -0.01463295,  0.01865822,  0.03057803,\n",
       "       -0.03048273,  0.05167412,  0.03706375, -0.00522851, -0.06920327,\n",
       "        0.01330554,  0.03567954,  0.01481981, -0.00922108,  0.03209249,\n",
       "        0.01462034,  0.02425365,  0.03981758,  0.00257287,  0.00473317,\n",
       "        0.03329256, -0.002869  ,  0.02392112, -0.01778534,  0.00316554,\n",
       "        0.07219958,  0.02413605,  0.01065089,  0.03679508, -0.05352578,\n",
       "        0.04849267, -0.03489956,  0.03077054,  0.01053487,  0.02601359,\n",
       "       -0.06026086, -0.00173558, -0.05135541, -0.00953827, -0.01717626,\n",
       "       -0.00964524, -0.00927282,  0.03431297, -0.02796755,  0.01101159,\n",
       "        0.02299334, -0.01351449,  0.02300926, -0.03433976, -0.00063477,\n",
       "        0.02101755, -0.06064544,  0.0454337 ,  0.01784839, -0.01405846,\n",
       "        0.01837303, -0.05597216, -0.01069053,  0.02314264, -0.04038623,\n",
       "        0.01838217, -0.05330171,  0.00686064,  0.00032922, -0.0200268 ,\n",
       "        0.01102575, -0.00804239,  0.01063441, -0.0308102 ,  0.01563431,\n",
       "       -0.04699515,  0.05017773, -0.00322749,  0.03251155, -0.04238035,\n",
       "        0.02656925, -0.02581596, -0.02686655,  0.05426209,  0.01136526,\n",
       "        0.00228332,  0.08986219,  0.02257646,  0.00119854,  0.00179103,\n",
       "        0.05480642,  0.03353464,  0.02130532, -0.00050161, -0.00833633,\n",
       "       -0.01478175, -0.04016961,  0.02185677, -0.01282057,  0.0602454 ,\n",
       "        0.02989785, -0.02164106,  0.04749681, -0.02507006,  0.01778494],\n",
       "      dtype=float32)"
      ]
     },
     "execution_count": 33,
     "metadata": {},
     "output_type": "execute_result"
    }
   ],
   "source": [
    "titanic_vector"
   ]
  },
  {
   "cell_type": "code",
   "execution_count": 34,
   "id": "0cbea911",
   "metadata": {},
   "outputs": [
    {
     "data": {
      "text/plain": [
       "0.15183282"
      ]
     },
     "execution_count": 34,
     "metadata": {},
     "output_type": "execute_result"
    }
   ],
   "source": [
    "np.dot(ram_vector, titanic_vector)"
   ]
  },
  {
   "cell_type": "markdown",
   "id": "17ba4f63",
   "metadata": {},
   "source": [
    "* 그렇다면 내가 좋아하는 영화에는 없는 장르인 액션쪽 영화와 내적하면 어떻게 될까?\n",
    "* `Men in Black`과 내적해보았다.\n",
    "* 정~말로 관련이 없어서 그런지 `0.001`이 나왔다!"
   ]
  },
  {
   "cell_type": "code",
   "execution_count": 35,
   "id": "178b37ba",
   "metadata": {},
   "outputs": [],
   "source": [
    "Men_in_Black = movie_to_idx['Men in Black (1997)']\n",
    "Men_in_Black_vector = als_model.item_factors[Men_in_Black]"
   ]
  },
  {
   "cell_type": "code",
   "execution_count": 36,
   "id": "2350bbb7",
   "metadata": {},
   "outputs": [
    {
     "data": {
      "text/plain": [
       "array([-0.05316372,  0.01629357,  0.01033262,  0.02455988,  0.01665665,\n",
       "        0.04239988,  0.0620359 ,  0.01482365, -0.01345719, -0.03086383,\n",
       "       -0.01768903,  0.03576366,  0.02002624, -0.00492976, -0.01377403,\n",
       "       -0.00733833,  0.03252215, -0.00032779, -0.0143182 , -0.02622356,\n",
       "       -0.00416833, -0.03815929,  0.01865571,  0.0101347 ,  0.00110381,\n",
       "       -0.02404534,  0.01724004,  0.01266366, -0.0115632 , -0.02174779,\n",
       "        0.05941987,  0.05756495,  0.02686091,  0.08228409, -0.06002803,\n",
       "        0.06281395,  0.02360977,  0.01106532,  0.01626796, -0.00996608,\n",
       "       -0.02600618,  0.03539765,  0.00798876, -0.00595144, -0.01063761,\n",
       "       -0.00148757, -0.00968387, -0.03482684, -0.00351181,  0.01623873,\n",
       "        0.01639188,  0.00413215, -0.02133618, -0.0045015 , -0.01612937,\n",
       "       -0.01005569,  0.01043121, -0.00919695,  0.00850684, -0.05690653,\n",
       "        0.01909373,  0.00570301, -0.001199  ,  0.01942637,  0.02133137,\n",
       "       -0.00613779,  0.05220236, -0.0275406 ,  0.00597833, -0.00390505,\n",
       "        0.02340814, -0.02483599, -0.00789141,  0.01511565, -0.00150668,\n",
       "       -0.03254978,  0.01492629,  0.04729025,  0.04879781, -0.02415774,\n",
       "        0.02637826,  0.02151688,  0.0216341 ,  0.01513735,  0.00655509,\n",
       "       -0.0016712 , -0.02075066,  0.02343232,  0.00449414, -0.02109163,\n",
       "        0.00713045, -0.00108981, -0.03364536,  0.01324299,  0.00666712,\n",
       "       -0.00652482,  0.00734909,  0.03328441, -0.00455983,  0.05420833],\n",
       "      dtype=float32)"
      ]
     },
     "execution_count": 36,
     "metadata": {},
     "output_type": "execute_result"
    }
   ],
   "source": [
    "Men_in_Black_vector"
   ]
  },
  {
   "cell_type": "code",
   "execution_count": 37,
   "id": "8244deba",
   "metadata": {},
   "outputs": [
    {
     "data": {
      "text/plain": [
       "0.017409282"
      ]
     },
     "execution_count": 37,
     "metadata": {},
     "output_type": "execute_result"
    }
   ],
   "source": [
    "np.dot(ram_vector, Men_in_Black_vector)"
   ]
  },
  {
   "cell_type": "markdown",
   "id": "7c46c103",
   "metadata": {},
   "source": [
    "---"
   ]
  },
  {
   "cell_type": "markdown",
   "id": "149e05b7",
   "metadata": {},
   "source": [
    "# Step 8. 내가 좋아하는 영화와 비슷한 영화 추천\n",
    "* `AlternatingLeastSquares` 클래스에 구현되어 있는 `similar_items` 메서드를 통하여 비슷한 아티스트를 찾는다."
   ]
  },
  {
   "cell_type": "code",
   "execution_count": 38,
   "id": "89a1cce3",
   "metadata": {},
   "outputs": [
    {
     "data": {
      "text/plain": [
       "[(40, 1.0000001),\n",
       " (50, 0.80516374),\n",
       " (4, 0.5612211),\n",
       " (33, 0.5454601),\n",
       " (322, 0.52086264),\n",
       " (110, 0.49566928),\n",
       " (330, 0.41503686),\n",
       " (10, 0.38670567),\n",
       " (20, 0.3732846),\n",
       " (255, 0.34517106),\n",
       " (126, 0.33340186),\n",
       " (160, 0.33298698),\n",
       " (32, 0.30866796),\n",
       " (34, 0.30616853),\n",
       " (458, 0.29716805)]"
      ]
     },
     "execution_count": 38,
     "metadata": {},
     "output_type": "execute_result"
    }
   ],
   "source": [
    "favorite_movie = 'Toy Story (1995)'\n",
    "title = movie_to_idx[favorite_movie]\n",
    "similar_movie = als_model.similar_items(title, N=15)\n",
    "similar_movie"
   ]
  },
  {
   "cell_type": "markdown",
   "id": "e252b59f",
   "metadata": {},
   "source": [
    "* (영화의 id, 유사도) Tuple 로 반환하고 있다.\n",
    "* 영화의 id를 다시 영화의 이름으로 매핑시켜보자."
   ]
  },
  {
   "cell_type": "code",
   "execution_count": 39,
   "id": "b20ee5b6",
   "metadata": {},
   "outputs": [
    {
     "data": {
      "text/plain": [
       "['Toy Story (1995)',\n",
       " 'Toy Story 2 (1999)',\n",
       " \"Bug's Life, A (1998)\",\n",
       " 'Aladdin (1992)',\n",
       " 'Babe (1995)',\n",
       " 'Groundhog Day (1993)',\n",
       " 'Lion King, The (1994)',\n",
       " 'Beauty and the Beast (1991)',\n",
       " 'Pleasantville (1998)',\n",
       " \"There's Something About Mary (1998)\",\n",
       " 'Shakespeare in Love (1998)',\n",
       " 'Forrest Gump (1994)',\n",
       " 'Hercules (1997)',\n",
       " 'Mulan (1998)',\n",
       " 'Mask, The (1994)']"
      ]
     },
     "execution_count": 39,
     "metadata": {},
     "output_type": "execute_result"
    }
   ],
   "source": [
    "idx_to_movie = {v:k for k,v in movie_to_idx.items()}\n",
    "[idx_to_movie[i[0]] for i in similar_movie]"
   ]
  },
  {
   "cell_type": "markdown",
   "id": "a765973f",
   "metadata": {},
   "source": [
    "* 비슷한 영화를 찾는 위의 코드를 `get_similar_movie` 함수로 만들어보자."
   ]
  },
  {
   "cell_type": "code",
   "execution_count": 40,
   "id": "f45dbbd2",
   "metadata": {},
   "outputs": [
    {
     "name": "stdout",
     "output_type": "stream",
     "text": [
      "슝=3\n"
     ]
    }
   ],
   "source": [
    "def get_similar_movie(movie_title: str):\n",
    "    title = movie_to_idx[movie_title]\n",
    "    similar_movie = als_model.similar_items(title)\n",
    "    similar_movie = [idx_to_movie[i[0]] for i in similar_movie]\n",
    "    return similar_movie\n",
    "\n",
    "print(\"슝=3\")"
   ]
  },
  {
   "cell_type": "markdown",
   "id": "2c6dc72b",
   "metadata": {},
   "source": [
    "* 위에서 만든 함수를 활용하여 내가 좋아하는 영화와 비슷한 영화를 추천받아 보자."
   ]
  },
  {
   "cell_type": "code",
   "execution_count": 41,
   "id": "ebc73460",
   "metadata": {},
   "outputs": [
    {
     "data": {
      "text/plain": [
       "['Lion King, The (1994)',\n",
       " 'Beauty and the Beast (1991)',\n",
       " 'Aladdin (1992)',\n",
       " 'Hunchback of Notre Dame, The (1996)',\n",
       " 'Mulan (1998)',\n",
       " 'Hercules (1997)',\n",
       " 'Tarzan (1999)',\n",
       " 'Anastasia (1997)',\n",
       " 'Pocahontas (1995)',\n",
       " 'Little Mermaid, The (1989)']"
      ]
     },
     "execution_count": 41,
     "metadata": {},
     "output_type": "execute_result"
    }
   ],
   "source": [
    "get_similar_movie('Lion King, The (1994)')"
   ]
  },
  {
   "cell_type": "code",
   "execution_count": 42,
   "id": "8d435f1c",
   "metadata": {},
   "outputs": [
    {
     "data": {
      "text/plain": [
       "['Toy Story (1995)',\n",
       " 'Toy Story 2 (1999)',\n",
       " \"Bug's Life, A (1998)\",\n",
       " 'Aladdin (1992)',\n",
       " 'Babe (1995)',\n",
       " 'Groundhog Day (1993)',\n",
       " 'Lion King, The (1994)',\n",
       " 'Beauty and the Beast (1991)',\n",
       " 'Pleasantville (1998)',\n",
       " \"There's Something About Mary (1998)\"]"
      ]
     },
     "execution_count": 42,
     "metadata": {},
     "output_type": "execute_result"
    }
   ],
   "source": [
    "get_similar_movie('Toy Story (1995)')"
   ]
  },
  {
   "cell_type": "code",
   "execution_count": 43,
   "id": "32d34fdd",
   "metadata": {},
   "outputs": [
    {
     "data": {
      "text/plain": [
       "['Before Sunrise (1995)',\n",
       " 'Heavy (1995)',\n",
       " 'Kicking and Screaming (1995)',\n",
       " 'Walking and Talking (1996)',\n",
       " 'Barcelona (1994)',\n",
       " 'King of the Hill (1993)',\n",
       " 'Guinevere (1999)',\n",
       " 'Breaking the Waves (1996)',\n",
       " 'Amateur (1994)',\n",
       " 'Ridicule (1996)']"
      ]
     },
     "execution_count": 43,
     "metadata": {},
     "output_type": "execute_result"
    }
   ],
   "source": [
    "get_similar_movie('Before Sunrise (1995)')"
   ]
  },
  {
   "cell_type": "code",
   "execution_count": 44,
   "id": "3ba10a37",
   "metadata": {},
   "outputs": [
    {
     "data": {
      "text/plain": [
       "['Notting Hill (1999)',\n",
       " \"My Best Friend's Wedding (1997)\",\n",
       " 'Sleepless in Seattle (1993)',\n",
       " \"You've Got Mail (1998)\",\n",
       " 'Pretty Woman (1990)',\n",
       " 'While You Were Sleeping (1995)',\n",
       " 'Sabrina (1995)',\n",
       " 'Truth About Cats & Dogs, The (1996)',\n",
       " 'Four Weddings and a Funeral (1994)',\n",
       " 'American President, The (1995)']"
      ]
     },
     "execution_count": 44,
     "metadata": {},
     "output_type": "execute_result"
    }
   ],
   "source": [
    "get_similar_movie('Notting Hill (1999)')"
   ]
  },
  {
   "cell_type": "code",
   "execution_count": 45,
   "id": "8a24d760",
   "metadata": {},
   "outputs": [
    {
     "data": {
      "text/plain": [
       "['Forrest Gump (1994)',\n",
       " 'Groundhog Day (1993)',\n",
       " 'Pretty Woman (1990)',\n",
       " 'Sleepless in Seattle (1993)',\n",
       " 'As Good As It Gets (1997)',\n",
       " 'Four Weddings and a Funeral (1994)',\n",
       " 'Ghost (1990)',\n",
       " 'Clueless (1995)',\n",
       " 'Wedding Singer, The (1998)',\n",
       " \"My Best Friend's Wedding (1997)\"]"
      ]
     },
     "execution_count": 45,
     "metadata": {},
     "output_type": "execute_result"
    }
   ],
   "source": [
    "get_similar_movie('Forrest Gump (1994)')"
   ]
  },
  {
   "cell_type": "markdown",
   "id": "e218dfeb",
   "metadata": {},
   "source": [
    "---"
   ]
  },
  {
   "cell_type": "markdown",
   "id": "d77b5b2c",
   "metadata": {},
   "source": [
    "# Step 9. 내가 좋아할만한 영화 추천\n",
    "* `AlternatingLeastSquares` 클래스에 구현되어 있는 `recommend` 메서드를 통해 내가 좋아할만한 영화를 추천받는다.\n",
    "* `filter_already_liked_items`는 유저가 이미 평가한 아이템은 제외하는 Argument이다.\n",
    "* 추천받은 영화 중에서 `English Patient, The (1996)`영화는 유일하게 전쟁/로맨스 장르였다.\n",
    "* 애니메이션과 로맨스 장르 영화 사이에서 뜬금없이 전쟁/로맨스 장르의 영화를 추천해줘서 다소 의아했다. 로맨스가 포함되어 있기에 추천한건가 싶다.\n",
    "* 이전에 코드를 돌렸을 때는 `Last of the Mohicans, The (1992)`라는 전쟁/모험 장르의 영화가 추천되었다."
   ]
  },
  {
   "cell_type": "code",
   "execution_count": 46,
   "id": "93f8f2de",
   "metadata": {},
   "outputs": [
    {
     "data": {
      "text/plain": [
       "[(50, 0.5348426),\n",
       " (33, 0.41287968),\n",
       " (110, 0.35774827),\n",
       " (10, 0.32739925),\n",
       " (4, 0.3139757),\n",
       " (336, 0.2762211),\n",
       " (666, 0.2602042),\n",
       " (191, 0.23851651),\n",
       " (322, 0.23277985),\n",
       " (20, 0.229275),\n",
       " (626, 0.22632153),\n",
       " (204, 0.21271878),\n",
       " (384, 0.20885423),\n",
       " (613, 0.2071495),\n",
       " (340, 0.20700467),\n",
       " (508, 0.20699683),\n",
       " (1509, 0.19775742),\n",
       " (126, 0.18670593),\n",
       " (30, 0.1846832),\n",
       " (851, 0.18351117)]"
      ]
     },
     "execution_count": 46,
     "metadata": {},
     "output_type": "execute_result"
    }
   ],
   "source": [
    "user = user_to_idx['6041']\n",
    "\n",
    "# recommend에서는 user*item CSR Matrix를 받습니다.\n",
    "movie_recommended = als_model.recommend(user, csr_ratings, N=20, filter_already_liked_items=True)\n",
    "movie_recommended"
   ]
  },
  {
   "cell_type": "code",
   "execution_count": 47,
   "id": "9b058d9c",
   "metadata": {},
   "outputs": [
    {
     "data": {
      "text/plain": [
       "['Toy Story 2 (1999)',\n",
       " 'Aladdin (1992)',\n",
       " 'Groundhog Day (1993)',\n",
       " 'Beauty and the Beast (1991)',\n",
       " \"Bug's Life, A (1998)\",\n",
       " 'Pretty Woman (1990)',\n",
       " 'Sleepless in Seattle (1993)',\n",
       " 'Little Mermaid, The (1989)',\n",
       " 'Babe (1995)',\n",
       " 'Pleasantville (1998)',\n",
       " \"You've Got Mail (1998)\",\n",
       " 'Clueless (1995)',\n",
       " 'Jerry Maguire (1996)',\n",
       " 'Four Weddings and a Funeral (1994)',\n",
       " \"My Best Friend's Wedding (1997)\",\n",
       " 'Ghost (1990)',\n",
       " 'English Patient, The (1996)',\n",
       " 'Shakespeare in Love (1998)',\n",
       " 'Antz (1998)',\n",
       " 'Iron Giant, The (1999)']"
      ]
     },
     "execution_count": 47,
     "metadata": {},
     "output_type": "execute_result"
    }
   ],
   "source": [
    "[idx_to_movie[i[0]] for i in movie_recommended]"
   ]
  },
  {
   "cell_type": "markdown",
   "id": "8d8b70c3",
   "metadata": {},
   "source": [
    "* `AlternatindLeastSquares` 클래스에 구현된 `explain` 메서드를 사용하면 내가 기록을 남긴 데이터 중 이 추천에 기여한 정도를 확인할 수 있다.\n",
    "* 이 메서드는 추천한 콘텐츠의 점수에 기여한 다른 콘텐츠와 기여도(합이 콘텐츠의 점수가 됨)를 반환한다.\n",
    "* 확실히 애니메이션은 애니메이션의 영향을 많이 받고, 로맨스 장르는 로맨스 장르의 영향을 많이 받는 것을 확인할 수있다.\n",
    "* 위에서 `English Patient, The (1996)`, `Last of the Mohicans, The (1992)` 영화가 왜 추천되었는지 의아하다고 했다.\n",
    "* 그래서 어떠한 영화의 영향을 받았는지 확인해보았더니, `Forrest Gump (1994)` 영화의 영향을 가장 많이 받았다.\n",
    "* `Forrest Gump (1994)` 영화를 본지 오래되어 내용이 가물가물해 찾아보았더니 영화 중 한 배경이 '베트남 전쟁'이었다. 그래서 전쟁 영화를 추천해주지 않았을까라는 생각이다. ([포레스트 검프](https://ko.wikipedia.org/wiki/%ED%8F%AC%EB%A0%88%EC%8A%A4%ED%8A%B8_%EA%B2%80%ED%94%84))"
   ]
  },
  {
   "cell_type": "code",
   "execution_count": 48,
   "id": "1cb54e21",
   "metadata": {},
   "outputs": [],
   "source": [
    "aladdin = movie_to_idx['Aladdin (1992)']\n",
    "explain_1 = als_model.explain(user, csr_ratings, itemid = aladdin)"
   ]
  },
  {
   "cell_type": "code",
   "execution_count": 49,
   "id": "42ebf4a4",
   "metadata": {},
   "outputs": [
    {
     "data": {
      "text/plain": [
       "[('Lion King, The (1994)', 0.24921534196942974),\n",
       " ('Toy Story (1995)', 0.1628912424208092),\n",
       " ('Before Sunrise (1995)', 0.0020302217960317666),\n",
       " ('Forrest Gump (1994)', 0.0011891675871108004),\n",
       " ('Notting Hill (1999)', -0.004815848309155603)]"
      ]
     },
     "execution_count": 49,
     "metadata": {},
     "output_type": "execute_result"
    }
   ],
   "source": [
    "[(idx_to_movie[i[0]], i[1]) for i in explain_1[1]]"
   ]
  },
  {
   "cell_type": "code",
   "execution_count": 50,
   "id": "38ad5aba",
   "metadata": {},
   "outputs": [],
   "source": [
    "seattle = movie_to_idx['Sleepless in Seattle (1993)']\n",
    "explain_2 = als_model.explain(user, csr_ratings, itemid = seattle)"
   ]
  },
  {
   "cell_type": "code",
   "execution_count": 51,
   "id": "d1be0bf0",
   "metadata": {
    "scrolled": true
   },
   "outputs": [
    {
     "data": {
      "text/plain": [
       "[('Notting Hill (1999)', 0.1480357731254045),\n",
       " ('Forrest Gump (1994)', 0.08722288146914017),\n",
       " ('Toy Story (1995)', 0.02392943916446037),\n",
       " ('Before Sunrise (1995)', 0.002835146364638291),\n",
       " ('Lion King, The (1994)', -0.004007748295551835)]"
      ]
     },
     "execution_count": 51,
     "metadata": {},
     "output_type": "execute_result"
    }
   ],
   "source": [
    "[(idx_to_movie[i[0]], i[1]) for i in explain_2[1]]"
   ]
  },
  {
   "cell_type": "code",
   "execution_count": 52,
   "id": "516ea0b7",
   "metadata": {},
   "outputs": [],
   "source": [
    "Mohicans = movie_to_idx['Last of the Mohicans, The (1992)']\n",
    "explain_3 = als_model.explain(user, csr_ratings, itemid = Mohicans)"
   ]
  },
  {
   "cell_type": "code",
   "execution_count": 53,
   "id": "fa3a1cd6",
   "metadata": {},
   "outputs": [
    {
     "data": {
      "text/plain": [
       "[('Forrest Gump (1994)', 0.11566528464487977),\n",
       " ('Lion King, The (1994)', 0.024202405761592685),\n",
       " ('Before Sunrise (1995)', 0.013983933894851357),\n",
       " ('Toy Story (1995)', 0.01005824632327906),\n",
       " ('Notting Hill (1999)', 0.0017756858134093086)]"
      ]
     },
     "execution_count": 53,
     "metadata": {},
     "output_type": "execute_result"
    }
   ],
   "source": [
    "[(idx_to_movie[i[0]], i[1]) for i in explain_3[1]]"
   ]
  },
  {
   "cell_type": "markdown",
   "id": "bb04d709",
   "metadata": {},
   "source": [
    "---"
   ]
  },
  {
   "cell_type": "markdown",
   "id": "43eeb96b",
   "metadata": {},
   "source": [
    "# 🌞 회고"
   ]
  },
  {
   "cell_type": "markdown",
   "id": "f776021b",
   "metadata": {},
   "source": [
    "## 1) 데이터\n",
    "* 데이터 전처리의 경우, 노래 추천에서 진행하였던 코드로 그대로 진행을 하였는데, 이 프로젝트, 영화 추천에서는 데이터를 합치는 작업이 필요했다.\n",
    "* 데이터를 합치는 방법과 필요하지 않은 컬럼 제거하는 방법까지 직접 찾아서 실행해보았다. 별 거 아니지만 데이터프레임에 대해 하나씩 알아가서 좋았다.\n",
    "* 내가 선호하는 영화를 해당 데이터 내에서 찾는 방법을 고민하다 특정 문자열을 입력하여 추출하는 방법을 찾았다.\n",
    "* 하지만 대문자, 소문자 문제가 있으며 이것을 해결하는 것을 이전 기수의 프로젝트에서 참고하였다."
   ]
  },
  {
   "cell_type": "markdown",
   "id": "b04dcfac",
   "metadata": {},
   "source": [
    "## 2) 결과\n",
    "* 생각보다 내가 선호하는 영화와의 내적값이 높게 나오지 않아 아쉬웠다.\n",
    "* 하이퍼파라미터 중 epoch에 해당되는 iterations만 50으로 높여서 진행을 하였더니 이전보다는 좀 더 높은 값이 나왔다.\n",
    "* 액션영화를 선호하는 영화에 넣지 않았더니 확실히 액션영화와의 내적 값이 낮았고, 추천하는 영화에는 액션영화가 아예 없었다.\n",
    "* 추천하는 영화 중 전쟁 장르의 영화가 애니메이션, 로맨스 영화 사이에 있길래 의아했지만 기여도를 확인하니 납득이 되었다."
   ]
  },
  {
   "cell_type": "markdown",
   "id": "6dbada2a",
   "metadata": {},
   "source": [
    "## 3) 느낀점\n",
    "* 지금까지 해왔던 익스 중에 가장 흥미롭게 진행하였다.\n",
    "* 그래서인지 더욱 nlp와 cv 선택이 망설여졌다."
   ]
  }
 ],
 "metadata": {
  "kernelspec": {
   "display_name": "Python 3 (ipykernel)",
   "language": "python",
   "name": "python3"
  },
  "language_info": {
   "codemirror_mode": {
    "name": "ipython",
    "version": 3
   },
   "file_extension": ".py",
   "mimetype": "text/x-python",
   "name": "python",
   "nbconvert_exporter": "python",
   "pygments_lexer": "ipython3",
   "version": "3.9.7"
  }
 },
 "nbformat": 4,
 "nbformat_minor": 5
}
